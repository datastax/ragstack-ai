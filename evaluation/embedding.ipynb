{
 "cells": [
  {
   "cell_type": "code",
   "execution_count": null,
   "metadata": {},
   "outputs": [],
   "source": [
    "%pip install ragstack-ai pdfminer.six"
   ]
  },
  {
   "cell_type": "code",
   "execution_count": null,
   "metadata": {},
   "outputs": [],
   "source": [
    "import getpass\n",
    "\n",
    "astra_token = getpass.getpass(\"Astra token:\")\n",
    "astra_endpoint = input(\"Astra db endpoint:\")\n",
    "openai_api_key = getpass.getpass(\"OpenAI API Key:\")"
   ]
  },
  {
   "cell_type": "markdown",
   "metadata": {},
   "source": [
    "## Load all the documents into memory"
   ]
  },
  {
   "cell_type": "code",
   "execution_count": null,
   "metadata": {},
   "outputs": [],
   "source": [
    "from langchain.document_loaders import BSHTMLLoader, DirectoryLoader, TextLoader, PDFMinerLoader, UnstructuredMarkdownLoader\n",
    "\n",
    "data_loaders = {\n",
    "    \"html\": { \"loader\": BSHTMLLoader, \"kwargs\": {}},\n",
    "    \"md\": { \"loader\": UnstructuredMarkdownLoader, \"kwargs\": {}},\n",
    "    \"pdf\": { \"loader\": PDFMinerLoader, \"kwargs\": {\"concatenate_pages\": True}},\n",
    "    \"txt\": { \"loader\": TextLoader, \"kwargs\": {}},\n",
    "}\n",
    "\n",
    "docs = []\n",
    "\n",
    "for extension in data_loaders:\n",
    "    print(f\"Loading {extension} files...\")\n",
    "    loader_cls = data_loaders[extension][\"loader\"]\n",
    "    loader_kwargs = data_loaders[extension][\"kwargs\"]\n",
    "    loader = DirectoryLoader('data/', glob=f\"*/source_files/*.{extension}\", show_progress=True, loader_cls=loader_cls, loader_kwargs=loader_kwargs)\n",
    "    docs.extend(loader.load())\n",
    "\n",
    "print(f\"\\nProcessing done.\")\n",
    "len(docs)"
   ]
  },
  {
   "cell_type": "markdown",
   "metadata": {},
   "source": [
    "## chunk, embed, and store the docs into an AstraDB vector store\n",
    "\n",
    "Chunk data in 5 different sizes and compare RAG results"
   ]
  },
  {
   "cell_type": "code",
   "execution_count": null,
   "metadata": {},
   "outputs": [],
   "source": [
    "# setup the things\n",
    "from langchain.vectorstores.astradb import AstraDB\n",
    "from langchain.embeddings import OpenAIEmbeddings\n",
    "from langchain.text_splitter import TokenTextSplitter\n",
    "\n",
    "embedding = OpenAIEmbeddings(openai_api_key=openai_api_key, max_retries=20 )\n",
    "\n",
    "#chunk_sizes = [128, 256, 512, 1024, 2048] # chunk size of 1024 is too big for astraPy vector store currently. max of 5000 bytes per entry.\n",
    "chunk_sizes = [128, 256, 512, 768]\n",
    "\n",
    "names = []\n",
    "vstores = {}\n",
    "splitters = {}\n",
    "\n",
    "for size in chunk_sizes:\n",
    "    name = f\"open_ai_{size}\"\n",
    "    names.append(name)\n",
    "    vstores[name] = AstraDB(collection_name=name, embedding=embedding, token=astra_token, api_endpoint=astra_endpoint)\n",
    "    splitters[name] = TokenTextSplitter(chunk_size = size, chunk_overlap=0)"
   ]
  },
  {
   "cell_type": "code",
   "execution_count": null,
   "metadata": {},
   "outputs": [],
   "source": [
    "#vstores[\"open_ai_896\"].delete_collection()"
   ]
  },
  {
   "cell_type": "code",
   "execution_count": null,
   "metadata": {},
   "outputs": [],
   "source": [
    "# do the work\n",
    "for name in names:\n",
    "    print(f\"embedding docs for: {name}...\")\n",
    "    chunked_docs = splitters[name].split_documents(docs)\n",
    "    vstores[name].add_documents(chunked_docs)"
   ]
  }
 ],
 "metadata": {
  "kernelspec": {
   "display_name": "ragstack-ai-B4Qzu5Pn-py3.11",
   "language": "python",
   "name": "python3"
  },
  "language_info": {
   "codemirror_mode": {
    "name": "ipython",
    "version": 3
   },
   "file_extension": ".py",
   "mimetype": "text/x-python",
   "name": "python",
   "nbconvert_exporter": "python",
   "pygments_lexer": "ipython3",
   "version": "3.11.4"
  }
 },
 "nbformat": 4,
 "nbformat_minor": 2
}
