{
 "cells": [
  {
   "cell_type": "code",
   "execution_count": null,
   "metadata": {},
   "outputs": [],
   "source": [
    "%pip install ragstack-ai pdfminer.six"
   ]
  },
  {
   "cell_type": "code",
   "execution_count": null,
   "metadata": {},
   "outputs": [],
   "source": [
    "from dotenv import load_dotenv\n",
    "\n",
    "load_dotenv()\n",
    "\n",
    "# this notebook assumes the following env vars exist in a .env file:\n",
    "#\n",
    "# ASTRA_DB_ENDPOINT\n",
    "# ASTRA_DB_TOKEN\n",
    "# AZURE_OPENAI_ENDPOINT\n",
    "# AZURE_OPENAI_API_KEY\n",
    "# OPENAI_API_VERSION"
   ]
  },
  {
   "cell_type": "markdown",
   "metadata": {},
   "source": [
    "# LangChain"
   ]
  },
  {
   "cell_type": "markdown",
   "metadata": {},
   "source": [
    "## Load all the documents into memory"
   ]
  },
  {
   "cell_type": "code",
   "execution_count": null,
   "metadata": {},
   "outputs": [],
   "source": [
    "from langchain.document_loaders import BSHTMLLoader, DirectoryLoader, TextLoader, PDFMinerLoader, UnstructuredMarkdownLoader\n",
    "\n",
    "data_loaders = {\n",
    "    \"html\": { \"loader\": BSHTMLLoader, \"kwargs\": {}},\n",
    "    \"md\": { \"loader\": UnstructuredMarkdownLoader, \"kwargs\": {}},\n",
    "    \"pdf\": { \"loader\": PDFMinerLoader, \"kwargs\": {\"concatenate_pages\": True}},\n",
    "    \"txt\": { \"loader\": TextLoader, \"kwargs\": {}},\n",
    "}\n",
    "\n",
    "docs = []\n",
    "\n",
    "for extension in data_loaders:\n",
    "    print(f\"Loading {extension} files...\")\n",
    "    loader_cls = data_loaders[extension][\"loader\"]\n",
    "    loader_kwargs = data_loaders[extension][\"kwargs\"]\n",
    "    loader = DirectoryLoader('data/', glob=f\"*/source_files/*.{extension}\", show_progress=True, loader_cls=loader_cls, loader_kwargs=loader_kwargs)\n",
    "    docs.extend(loader.load())\n",
    "\n",
    "print(f\"\\nProcessing done.\")\n",
    "len(docs)"
   ]
  },
  {
   "cell_type": "markdown",
   "metadata": {},
   "source": [
    "## chunk, embed, and store the docs into an AstraDB vector store\n",
    "\n",
    "Chunk data in 5 different sizes and compare RAG results"
   ]
  },
  {
   "cell_type": "code",
   "execution_count": null,
   "metadata": {},
   "outputs": [],
   "source": [
    "# setup the things\n",
    "from langchain.vectorstores.astradb import AstraDB\n",
    "from langchain.embeddings import AzureOpenAIEmbeddings\n",
    "from langchain.text_splitter import TokenTextSplitter\n",
    "import os\n",
    "\n",
    "embedding = AzureOpenAIEmbeddings(\n",
    "    azure_deployment=\"text-embedding-ada-002\",\n",
    "    openai_api_version=\"2023-05-15\",\n",
    "    max_retries=20\n",
    ")\n",
    "\n",
    "#chunk_sizes = [128, 256, 512, 1024, 2048] # chunk size of 1024 is too big for astraPy vector store currently. max of 5000 bytes per entry.\n",
    "chunk_sizes = [128, 256, 512, 768]\n",
    "\n",
    "names = []\n",
    "vstores = {}\n",
    "splitters = {}\n",
    "\n",
    "for size in chunk_sizes:\n",
    "    name = f\"open_ai_{size}\"\n",
    "    names.append(name)\n",
    "    vstores[name] = AstraDB(collection_name=name, embedding=embedding, token=os.getenv(\"ASTRA_DB_TOKEN\"), api_endpoint=os.getenv(\"ASTRA_DB_ENDPOINT\"))\n",
    "    splitters[name] = TokenTextSplitter(chunk_size = size, chunk_overlap=0)"
   ]
  },
  {
   "cell_type": "code",
   "execution_count": null,
   "metadata": {},
   "outputs": [],
   "source": [
    "#vstores[\"open_ai_896\"].delete_collection()"
   ]
  },
  {
   "cell_type": "code",
   "execution_count": null,
   "metadata": {},
   "outputs": [],
   "source": [
    "# do the work\n",
    "for name in names:\n",
    "    print(f\"embedding docs for: {name}...\")\n",
    "    chunked_docs = splitters[name].split_documents(docs)\n",
    "    vstores[name].add_documents(chunked_docs)"
   ]
  },
  {
   "cell_type": "markdown",
   "metadata": {},
   "source": [
    "# LlamaIndex"
   ]
  },
  {
   "cell_type": "markdown",
   "metadata": {},
   "source": [
    "## Init the vector store and AzureLLMs"
   ]
  },
  {
   "cell_type": "code",
   "execution_count": null,
   "metadata": {},
   "outputs": [],
   "source": [
    "from llama_index.vector_stores import AstraDBVectorStore\n",
    "from llama_index.llms import AzureOpenAI as AzureChatOpenAI\n",
    "from llama_index.embeddings import AzureOpenAIEmbedding\n",
    "import os\n",
    "\n",
    "astra_db_vstore = AstraDBVectorStore(\n",
    "    collection_name=\"llama_512\",\n",
    "    api_endpoint=os.getenv(\"ASTRA_DB_ENDPOINT\"),\n",
    "    token=os.getenv(\"ASTRA_DB_TOKEN\"),\n",
    "    embedding_dimension=1536,\n",
    ")\n",
    "\n",
    "temperature = 0.0\n",
    "\n",
    "gpt_35_turbo = AzureChatOpenAI(\n",
    "    deployment_name=\"gpt-35-turbo\",\n",
    "    model=\"gpt-35-turbo\",\n",
    "    api_key=os.getenv(\"AZURE_OPENAI_API_KEY\"),\n",
    "    api_version=\"2023-05-15\",\n",
    "    model_version=\"0613\",\n",
    "    temperature=temperature,\n",
    ")\n",
    "\n",
    "embed_model = AzureOpenAIEmbedding(\n",
    "    deployment_name=\"text-embedding-ada-002\",\n",
    "    model=\"text-embedding-ada-002\",\n",
    "    api_key=os.getenv(\"AZURE_OPENAI_API_KEY\"),\n",
    "    api_version=\"2023-05-15\",\n",
    "    temperature=temperature,\n",
    ")"
   ]
  },
  {
   "cell_type": "markdown",
   "metadata": {},
   "source": [
    "## Load Docs into Memory\n",
    "\n",
    "TODO: This code splits PDFs by page. Update it to include whole PDFs as single documents, to make a better comparison to langChain"
   ]
  },
  {
   "cell_type": "code",
   "execution_count": null,
   "metadata": {},
   "outputs": [],
   "source": [
    "from llama_index import SimpleDirectoryReader\n",
    "\n",
    "reader = SimpleDirectoryReader(\n",
    "    input_dir=\"data\",\n",
    "    recursive=True,\n",
    "    required_exts=[\".pdf\", \".md\", \".html\", \".txt\"]\n",
    ")\n",
    "documents = reader.load_data()\n",
    "len(documents)"
   ]
  },
  {
   "cell_type": "markdown",
   "metadata": {},
   "source": [
    "## Split the docs into nodes and load into vector store"
   ]
  },
  {
   "cell_type": "code",
   "execution_count": null,
   "metadata": {},
   "outputs": [],
   "source": [
    "from llama_index.node_parser import TokenTextSplitter\n",
    "from llama_index.ingestion import IngestionPipeline\n",
    "\n",
    "splitter = TokenTextSplitter(chunk_size=512, chunk_overlap=0)\n",
    "pipeline = IngestionPipeline(transformations=[splitter])\n",
    "\n",
    "nodes = pipeline.run(documents=documents)\n",
    "len(nodes)"
   ]
  },
  {
   "cell_type": "code",
   "execution_count": null,
   "metadata": {},
   "outputs": [],
   "source": [
    "from llama_index import  VectorStoreIndex, StorageContext, ServiceContext\n",
    "\n",
    "service_context = ServiceContext.from_defaults(\n",
    "    llm=gpt_35_turbo,\n",
    "    embed_model=embed_model,\n",
    ")\n",
    "\n",
    "storage_context = StorageContext.from_defaults(\n",
    "    vector_store=astra_db_vstore,\n",
    ")\n",
    "\n",
    "index = VectorStoreIndex(\n",
    "    nodes=nodes,\n",
    "    storage_context=storage_context,\n",
    "    service_context=service_context,\n",
    ")"
   ]
  }
 ],
 "metadata": {
  "kernelspec": {
   "display_name": "ragstack-ai-B4Qzu5Pn-py3.11",
   "language": "python",
   "name": "python3"
  },
  "language_info": {
   "codemirror_mode": {
    "name": "ipython",
    "version": 3
   },
   "file_extension": ".py",
   "mimetype": "text/x-python",
   "name": "python",
   "nbconvert_exporter": "python",
   "pygments_lexer": "ipython3",
   "version": "3.11.4"
  }
 },
 "nbformat": 4,
 "nbformat_minor": 2
}
