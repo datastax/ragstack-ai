{
 "cells": [
  {
   "cell_type": "code",
   "execution_count": null,
   "metadata": {},
   "outputs": [],
   "source": [
    "%pip install psycopg2-binary"
   ]
  },
  {
   "cell_type": "code",
   "execution_count": null,
   "metadata": {},
   "outputs": [],
   "source": [
    "from dotenv import load_dotenv\n",
    "\n",
    "load_dotenv()"
   ]
  },
  {
   "cell_type": "markdown",
   "metadata": {},
   "source": [
    "## Thorough Data Analysis"
   ]
  },
  {
   "cell_type": "code",
   "execution_count": null,
   "metadata": {},
   "outputs": [],
   "source": [
    "apps = {}\n",
    "\n",
    "columns_to_keep = [\n",
    "    \"record_id\", \"input\", \"output\", \"tags\",\n",
    "    \"groundedness_measure_with_cot_reasons\",\n",
    "    \"relevance_with_cot_reasons\",\n",
    "    \"qs_relevance_with_cot_reasons\",\n",
    "    \"agreement_measure\",\n",
    "    \"latency\", \"total_tokens\", \"total_cost\"]\n",
    "\n",
    "for app in tru.get_apps():\n",
    "    app_id = app[\"app_id\"]\n",
    "    dfRecords, feedbackColumns = tru.get_records_and_feedback([app_id])\n",
    "    apps[app_id] = dfRecords[columns_to_keep]"
   ]
  },
  {
   "cell_type": "markdown",
   "metadata": {},
   "source": [
    "### Testing Normality"
   ]
  },
  {
   "cell_type": "markdown",
   "metadata": {},
   "source": [
    "The Shapiro-Wilk test for normality, when used in the context of comparing two methods on the same set of test cases (especially in a paired test scenario), implies that each data point in one dataset corresponds to a data point in the other dataset. In other words, the data points are paired.\n",
    "\n",
    "This is particularly relevant when you want to:\n",
    "\n",
    "1. **Perform a Paired Sample Test**: In a paired sample t-test or a Wilcoxon signed-rank test, the difference between each pair of observations is crucial. These tests are based on the differences within each pair (i.e., each data point in Method 1 is subtracted from the corresponding data point in Method 2). Therefore, it\"s important that the two datasets are aligned such that each data point in one dataset has a direct, corresponding data point in the other dataset.\n",
    "\n",
    "1. **Test for Normality in Paired Differences**: When using the Shapiro-Wilk test in this context, you\"re typically testing the normality of these differences, not the individual datasets. Therefore, the datasets must be paired correctly before calculating these differences.\n",
    "\n",
    "For example, if you have a list of test cases and you apply Method 1 and Method 2 to each test case, you should ensure that the results for each method are aligned such that the result of Method 1 for Test Case 1 is in the same position (same index) as the result of Method 2 for Test Case 1, and so on for all test cases.\n",
    "\n",
    "In summary, for paired analyses, the order and pairing of data points between datasets are crucial. The results for each test case from each method need to be correctly aligned for the paired analysis to be valid."
   ]
  },
  {
   "cell_type": "code",
   "execution_count": null,
   "metadata": {},
   "outputs": [],
   "source": [
    "apps.keys()"
   ]
  },
  {
   "cell_type": "code",
   "execution_count": null,
   "metadata": {},
   "outputs": [],
   "source": [
    "# re-arrange data, and sort all dataFrames by the `input` column\n",
    "\n",
    "dataFrames = {}\n",
    "\n",
    "for app_id in apps:\n",
    "    parts = app_id.split(\"_\")\n",
    "    tool = parts[0]\n",
    "    dataset = \"_\".join(parts[3:])\n",
    "\n",
    "    if dataset not in dataFrames:\n",
    "        dataFrames[dataset] = {}\n",
    "\n",
    "    dataFrames[dataset][tool] = apps[app_id].sort_values(by=\"input\")"
   ]
  },
  {
   "cell_type": "code",
   "execution_count": null,
   "metadata": {},
   "outputs": [],
   "source": [
    "import scipy.stats as stats\n",
    "\n",
    "columns_to_test = [\n",
    "    \"groundedness_measure_with_cot_reasons\",\n",
    "    \"relevance_with_cot_reasons\",\n",
    "    \"qs_relevance_with_cot_reasons\",\n",
    "    \"agreement_measure\",\n",
    "    \"latency\"]\n",
    "\n",
    "for dataset in dataFrames:\n",
    "    print(dataset)\n",
    "    lc_df = dataFrames[dataset][\"lc\"]\n",
    "    llama_df = dataFrames[dataset][\"llama\"]\n",
    "    if len(lc_df) != len(llama_df):\n",
    "        print(\"\\tDataFrames do not have equal row counts, skipping :(\")\n",
    "        continue\n",
    "    for test in columns_to_test:\n",
    "        print(f\"\\tTesting normality of {test}:\")\n",
    "        lc_values = lc_df[test].to_list()\n",
    "        llama_values = llama_df[test].to_list()\n",
    "\n",
    "        # Calculate the differences\n",
    "        differences = [x - y for x, y in zip(lc_values, llama_values)]\n",
    "\n",
    "        # Perform the Shapiro-Wilk Test\n",
    "        statistic, p_value = stats.shapiro(differences)\n",
    "\n",
    "        print(f\"\\t\\tShapiro-Wilk Test statistic: {statistic}\")\n",
    "        print(\"\\t\\tP-value:\", p_value)\n",
    "\n",
    "        # Interpretation\n",
    "        alpha = 0.05\n",
    "        if p_value > alpha:\n",
    "            print(\"\\t\\t\\tData follows a normal distribution (fail to reject H0)\")\n",
    "        else:\n",
    "            print(\"\\t\\t\\tData does NOT follow a normal distribution (reject H0)\")"
   ]
  },
  {
   "cell_type": "markdown",
   "metadata": {},
   "source": [
    "Conclusion: Most datasets comparisons do NOT follow a normal distribution"
   ]
  },
  {
   "cell_type": "markdown",
   "metadata": {},
   "source": [
    "### Testing Betterness\n",
    "\n",
    "**Wilcoxon Signed-Rank Test**: This is a non-parametric alternative to the paired sample t-test and is used to compare two related samples or repeated measurements on a single sample to assess whether their population mean ranks differ. It\"s appropriate for your scenario where you have paired data (the same cases tested with two different methods)."
   ]
  },
  {
   "cell_type": "code",
   "execution_count": null,
   "metadata": {},
   "outputs": [],
   "source": [
    "from scipy import stats\n",
    "import numpy as np\n",
    "\n",
    "columns_to_test = [\n",
    "    \"groundedness_measure_with_cot_reasons\",\n",
    "    \"relevance_with_cot_reasons\",\n",
    "    \"qs_relevance_with_cot_reasons\",\n",
    "    \"agreement_measure\",\n",
    "    \"latency\"]\n",
    "\n",
    "column_translation = {\n",
    "    \"groundedness_measure_with_cot_reasons\": \"groundedness\",\n",
    "    \"relevance_with_cot_reasons\" : \"answer_relevance\",\n",
    "    \"qs_relevance_with_cot_reasons\" : \"context_relevance\",\n",
    "    \"agreement_measure\" : \"answer_correctness\",\n",
    "    \"latency\" : \"latency\"\n",
    "}\n",
    "\n",
    "for dataset in dataFrames:\n",
    "    print(dataset)\n",
    "    # Assuming lc_df and llama_df are paired datasets\n",
    "    lc_df = dataFrames[dataset][\"lc\"]\n",
    "    llama_df = dataFrames[dataset][\"llama\"]\n",
    "    if len(lc_df) != len(llama_df):\n",
    "        print(\"\\tDataFrames do not have equal row counts, skipping :(\")\n",
    "        continue\n",
    "    for test in columns_to_test:\n",
    "        translated = column_translation[test]\n",
    "        print(f\"\\tTesting differences of {translated}:\")\n",
    "        lc_values = lc_df[test].to_list()\n",
    "        llama_values = llama_df[test].to_list()\n",
    "\n",
    "        # Perform the Wilcoxon Signed-Rank Test\n",
    "        stat, p = stats.wilcoxon(lc_values, llama_values)\n",
    "        print(\"\\t\\tStatistics=%.3f, p=%.3f\" % (stat, p))\n",
    "\n",
    "        # Calculate the median of the differences\n",
    "        differences = np.array(llama_values) - np.array(lc_values)\n",
    "        median_difference = np.median(differences)\n",
    "        print(\"\\t\\tMedian of Differences:\", median_difference)\n",
    "\n",
    "        # Interpretation\n",
    "        alpha = 0.05\n",
    "        if p > alpha:\n",
    "            print(\"\\t\\t\\tSame distribution (fail to reject H0)\")\n",
    "        else:\n",
    "            print(\"\\t\\t\\tDifferent distribution (reject H0)\")\n",
    "            if median_difference > 0:\n",
    "                print(\"\\t\\t\\t\\tLlama generally scores higher.\")\n",
    "            elif median_difference < 0:\n",
    "                print(\"\\t\\t\\t\\tLangchain generally scores higher.\")\n",
    "            else:\n",
    "                print(\"\\t\\t\\t\\tNo difference in the median scores.\")\n",
    "\n"
   ]
  }
 ],
 "metadata": {
  "kernelspec": {
   "display_name": "ragstack-ai-B4Qzu5Pn-py3.11",
   "language": "python",
   "name": "python3"
  },
  "language_info": {
   "codemirror_mode": {
    "name": "ipython",
    "version": 3
   },
   "file_extension": ".py",
   "mimetype": "text/x-python",
   "name": "python",
   "nbconvert_exporter": "python",
   "pygments_lexer": "ipython3",
   "version": "3.11.4"
  }
 },
 "nbformat": 4,
 "nbformat_minor": 2
}
