{
 "cells": [
  {
   "cell_type": "code",
   "execution_count": null,
   "metadata": {},
   "outputs": [],
   "source": [
    "from dotenv import load_dotenv\n",
    "\n",
    "load_dotenv()"
   ]
  },
  {
   "cell_type": "markdown",
   "metadata": {},
   "source": [
    "## LangSmith Analysis"
   ]
  },
  {
   "cell_type": "code",
   "execution_count": null,
   "metadata": {},
   "outputs": [],
   "source": [
    "## Setup LangSmith\n",
    "from langsmith import Client\n",
    "client = Client()"
   ]
  },
  {
   "cell_type": "code",
   "execution_count": null,
   "metadata": {},
   "outputs": [],
   "source": [
    "for dataset in client.list_datasets():\n",
    "    print(dataset.name)"
   ]
  },
  {
   "cell_type": "code",
   "execution_count": null,
   "metadata": {},
   "outputs": [],
   "source": [
    "for project in client.list_projects(reference_dataset_name=\"blockchain_solana\"):\n",
    "    print(project)"
   ]
  },
  {
   "cell_type": "code",
   "execution_count": null,
   "metadata": {},
   "outputs": [],
   "source": [
    "project.feedback_stats"
   ]
  },
  {
   "cell_type": "code",
   "execution_count": null,
   "metadata": {},
   "outputs": [],
   "source": [
    "project.id"
   ]
  },
  {
   "cell_type": "code",
   "execution_count": null,
   "metadata": {},
   "outputs": [],
   "source": [
    "results = {\n",
    "    \"id\": f\"{project.id}\",\n",
    "    \"name\": project.name,\n",
    "    \"url\": project.url,\n",
    "    \"dataset\" : project.extra[\"metadata\"][\"dataset\"],\n",
    "    \"collection\" : project.extra[\"metadata\"][\"collection\"],\n",
    "    \"eval-model\": project.extra[\"metadata\"][\"eval-model\"],\n",
    "    \"eval-run\": project.extra[\"metadata\"][\"run\"],\n",
    "    \"start_time\": project.start_time.isoformat(),\n",
    "    \"last_run_start_time\": project.last_run_start_time.isoformat(),\n",
    "    \"run_count\": project.run_count,\n",
    "    \"latency_p50\": project.latency_p50.total_seconds(),\n",
    "    \"latency_p99\": project.latency_p99.total_seconds(),\n",
    "    \"prompt_tokens\": project.prompt_tokens,\n",
    "    \"completion_tokens\": project.completion_tokens,\n",
    "    \"total_tokens\" : project.total_tokens,\n",
    "    \"answer_correctness_n\" : project.feedback_stats[\"answer_correctness_score\"][\"n\"],\n",
    "    \"answer_correctness_avg\" : project.feedback_stats[\"answer_correctness_score\"][\"avg\"],\n",
    "    \"answer_relevancy_n\" : project.feedback_stats[\"answer_relevancy_score\"][\"n\"],\n",
    "    \"answer_relevancy_avg\" : project.feedback_stats[\"answer_relevancy_score\"][\"avg\"],\n",
    "    \"context_recall_n\": project.feedback_stats[\"context_recall_score\"][\"n\"],\n",
    "    \"context_recall_avg\": project.feedback_stats[\"context_recall_score\"][\"avg\"],\n",
    "    \"context_relevancy_n\": project.feedback_stats[\"context_relevancy_score\"][\"n\"],\n",
    "    \"context_relevancy_avg\": project.feedback_stats[\"context_relevancy_score\"][\"avg\"],\n",
    "    \"faithfulness_n\": project.feedback_stats[\"faithfulness_score\"][\"n\"],\n",
    "    \"faithfulness_avg\": project.feedback_stats[\"faithfulness_score\"][\"avg\"],\n",
    "    }\n",
    "results"
   ]
  },
  {
   "cell_type": "code",
   "execution_count": null,
   "metadata": {},
   "outputs": [],
   "source": [
    "import json\n",
    "\n",
    "with open(\"results.jsonl\", \"w\") as out_file:\n",
    "    for dataset in client.list_datasets():\n",
    "        for project in client.list_projects(reference_dataset_id=dataset.id):\n",
    "            if project.total_tokens:\n",
    "                results = {\n",
    "                    \"id\": f\"{project.id}\",\n",
    "                    \"name\": project.name,\n",
    "                    \"url\": project.url,\n",
    "                    \"dataset\" : project.extra[\"metadata\"][\"dataset\"],\n",
    "                    \"collection\" : project.extra[\"metadata\"][\"collection\"],\n",
    "                    \"eval-model\": project.extra[\"metadata\"][\"eval-model\"],\n",
    "                    \"eval-run\": project.extra[\"metadata\"][\"run\"],\n",
    "                    \"start_time\": project.start_time.isoformat(),\n",
    "                    \"last_run_start_time\": project.last_run_start_time.isoformat(),\n",
    "                    \"run_count\": project.run_count,\n",
    "                    \"latency_p50\": project.latency_p50.total_seconds(),\n",
    "                    \"latency_p99\": project.latency_p99.total_seconds(),\n",
    "                    \"prompt_tokens\": project.prompt_tokens,\n",
    "                    \"completion_tokens\": project.completion_tokens,\n",
    "                    \"total_tokens\" : project.total_tokens,\n",
    "                    \"answer_correctness_n\" : project.feedback_stats[\"answer_correctness_score\"][\"n\"],\n",
    "                    \"answer_correctness_avg\" : project.feedback_stats[\"answer_correctness_score\"][\"avg\"],\n",
    "                    \"answer_relevancy_n\" : project.feedback_stats[\"answer_relevancy_score\"][\"n\"],\n",
    "                    \"answer_relevancy_avg\" : project.feedback_stats[\"answer_relevancy_score\"][\"avg\"],\n",
    "                    \"context_recall_n\": project.feedback_stats[\"context_recall_score\"][\"n\"],\n",
    "                    \"context_recall_avg\": project.feedback_stats[\"context_recall_score\"][\"avg\"],\n",
    "                    \"context_relevancy_n\": project.feedback_stats[\"context_relevancy_score\"][\"n\"],\n",
    "                    \"context_relevancy_avg\": project.feedback_stats[\"context_relevancy_score\"][\"avg\"],\n",
    "                    \"faithfulness_n\": project.feedback_stats[\"faithfulness_score\"][\"n\"],\n",
    "                    \"faithfulness_avg\": project.feedback_stats[\"faithfulness_score\"][\"avg\"],\n",
    "                }\n",
    "            else:\n",
    "                results = {\n",
    "                    \"id\": f\"{project.id}\",\n",
    "                    \"name\": project.name,\n",
    "                    \"url\": project.url,\n",
    "                    \"dataset\" : project.extra[\"metadata\"][\"dataset\"],\n",
    "                    \"collection\" : project.extra[\"metadata\"][\"collection\"],\n",
    "                    \"eval-model\": project.extra[\"metadata\"][\"eval-model\"],\n",
    "                    \"eval-run\": project.extra[\"metadata\"][\"run\"],\n",
    "                    \"start_time\": project.start_time.isoformat(),\n",
    "                    \"last_run_start_time\": None,\n",
    "                    \"run_count\": project.run_count,\n",
    "                    \"latency_p50\": None,\n",
    "                    \"latency_p99\": None,\n",
    "                    \"prompt_tokens\": project.prompt_tokens,\n",
    "                    \"completion_tokens\": project.completion_tokens,\n",
    "                    \"total_tokens\" : project.total_tokens,\n",
    "                    \"answer_correctness_n\" : None,\n",
    "                    \"answer_correctness_avg\" : None,\n",
    "                    \"answer_relevancy_n\" : None,\n",
    "                    \"answer_relevancy_avg\" : None,\n",
    "                    \"context_recall_n\": None,\n",
    "                    \"context_recall_avg\": None,\n",
    "                    \"context_relevancy_n\": None,\n",
    "                    \"context_relevancy_avg\": None,\n",
    "                    \"faithfulness_n\": None,\n",
    "                    \"faithfulness_avg\": None,\n",
    "                }\n",
    "\n",
    "            out_file.write(json.dumps(results) + \"\\n\")"
   ]
  },
  {
   "cell_type": "code",
   "execution_count": null,
   "metadata": {},
   "outputs": [],
   "source": [
    "import pandas\n",
    "\n",
    "df = pandas.read_json(\"results.jsonl\", orient=\"records\", lines=True)\n",
    "df.to_csv(\"results.csv\", header=True)"
   ]
  },
  {
   "cell_type": "markdown",
   "metadata": {},
   "source": [
    "## TruLens Analysis"
   ]
  },
  {
   "cell_type": "code",
   "execution_count": null,
   "metadata": {},
   "outputs": [],
   "source": [
    "%pip install psycopg2-binary\n"
   ]
  },
  {
   "cell_type": "code",
   "execution_count": null,
   "metadata": {},
   "outputs": [],
   "source": [
    "from trulens_eval import Tru\n",
    "import os\n",
    "\n",
    "tru = Tru(database_url=os.getenv(\"TRULENS_DB_CONN_STRING\"))"
   ]
  },
  {
   "cell_type": "code",
   "execution_count": null,
   "metadata": {},
   "outputs": [],
   "source": [
    "app_ids = []\n",
    "\n",
    "for app in tru.get_apps():\n",
    "    app_id = app[\"app_id\"]\n",
    "    if app_id.endswith(\"_512\"):\n",
    "        app_ids.append(app_id)\n"
   ]
  },
  {
   "cell_type": "code",
   "execution_count": null,
   "metadata": {},
   "outputs": [],
   "source": [
    "tru.get_leaderboard(app_ids=app_ids)"
   ]
  },
  {
   "cell_type": "code",
   "execution_count": null,
   "metadata": {},
   "outputs": [],
   "source": [
    "tru.reset_database()"
   ]
  },
  {
   "cell_type": "code",
   "execution_count": null,
   "metadata": {},
   "outputs": [],
   "source": []
  }
 ],
 "metadata": {
  "kernelspec": {
   "display_name": "ragstack-ai-B4Qzu5Pn-py3.11",
   "language": "python",
   "name": "python3"
  },
  "language_info": {
   "codemirror_mode": {
    "name": "ipython",
    "version": 3
   },
   "file_extension": ".py",
   "mimetype": "text/x-python",
   "name": "python",
   "nbconvert_exporter": "python",
   "pygments_lexer": "ipython3",
   "version": "3.11.4"
  }
 },
 "nbformat": 4,
 "nbformat_minor": 2
}
