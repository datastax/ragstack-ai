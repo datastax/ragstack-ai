{
 "cells": [
  {
   "cell_type": "code",
   "execution_count": null,
   "metadata": {},
   "outputs": [],
   "source": [
    "from langchain_community.document_loaders.pdf import PDFMinerLoader\n",
    "from langchain.document_loaders import DirectoryLoader\n",
    "from langchain.text_splitter import TokenTextSplitter, SentenceTransformersTokenTextSplitter\n",
    "\n",
    "splitter = TokenTextSplitter(chunk_size=512, chunk_overlap=192)\n",
    "\n",
    "loader = DirectoryLoader('../../data/', glob=f\"uber_10k/source_files/*.pdf\", loader_cls=PDFMinerLoader)\n",
    "\n",
    "docs = splitter.split_documents(loader.load())\n",
    "len(docs)"
   ]
  },
  {
   "cell_type": "code",
   "execution_count": null,
   "metadata": {},
   "outputs": [],
   "source": [
    "for doc in docs:\n",
    "    if \"Note 18\" in doc.page_content:\n",
    "        print(doc.page_content)\n",
    "        break"
   ]
  }
 ],
 "metadata": {
  "kernelspec": {
   "display_name": "ragstack-ai-B4Qzu5Pn-py3.11",
   "language": "python",
   "name": "python3"
  },
  "language_info": {
   "codemirror_mode": {
    "name": "ipython",
    "version": 3
   },
   "file_extension": ".py",
   "mimetype": "text/x-python",
   "name": "python",
   "nbconvert_exporter": "python",
   "pygments_lexer": "ipython3",
   "version": "3.11.4"
  }
 },
 "nbformat": 4,
 "nbformat_minor": 2
}
