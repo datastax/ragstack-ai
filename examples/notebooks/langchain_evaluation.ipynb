{
 "cells": [
  {
   "cell_type": "markdown",
   "metadata": {},
   "source": [
    "<a href=\"https://colab.research.google.com/github/datastax/ragstack-ai/blob/main/examples/notebooks/langchain_evaluation.ipynb\" target=\"_parent\"><img src=\"https://colab.research.google.com/assets/colab-badge.svg\" alt=\"Open In Colab\"/></a>"
   ]
  },
  {
   "cell_type": "markdown",
   "metadata": {},
   "source": [
    "# Evaluating RAG pipelines with LangChain\n",
    "\n",
    "This notebook demonstrates how to evaluate a RAG pipeline using LangChain's [QA Evaluator](https://docs.smith.langchain.com/evaluation/evaluator-implementations#correctness-qa-evaluation). This evaluator helps measure the correctness of a response given some context, which makes it ideally suited for evaluating a RAG pipeline. At the end of this notebook, you will have a measurable QA model using RAG.\n",
    "\n",
    "In this tutorial, you will use an Astra DB vector store, an OpenAI embedding model, an OpenAI LLM, LangChain, and LangSmith."
   ]
  },
  {
   "cell_type": "markdown",
   "metadata": {},
   "source": [
    "## Prerequisites\n",
    "\n",
    "You will need a vector-enabled Astra database and an OpenAI Account.\n",
    "\n",
    "* Create an [Astra vector database](https://docs.datastax.com/en/astra-serverless/docs/getting-started/create-db-choices.html).\n",
    "* Create an [OpenAI account](https://openai.com/)\n",
    "* Within your database, create an [Astra DB Access Token](https://docs.datastax.com/en/astra-serverless/docs/manage/org/manage-tokens.html) with Database Administrator permissions.\n",
    "* Get your Astra DB Endpoint: \n",
    "  * `https://<ASTRA_DB_ID>-<ASTRA_DB_REGION>.apps.astra.datastax.com`\n",
    "* A [LangSmith account](https://docs.smith.langchain.com/)\n",
    "\n",
    "See the [Prerequisites](https://docs.datastax.com/en/ragstack/docs/prerequisites.html) page for more details."
   ]
  },
  {
   "cell_type": "markdown",
   "metadata": {},
   "source": [
    "## Setup\n",
    "`ragstack-ai` includes all the packages you need to build a RAG pipeline. "
   ]
  },
  {
   "cell_type": "code",
   "execution_count": 3,
   "metadata": {
    "nbmake": {
     "post_cell_execute": [
      "from conftest import before_notebook",
      "before_notebook()"
     ]
    }
   },
   "outputs": [],
   "source": [
    "! pip install -q ragstack-ai"
   ]
  },
  {
   "cell_type": "code",
   "execution_count": 2,
   "metadata": {
    "editable": true,
    "nbmake": {
     "post_cell_execute": [
      "import string\n",
      "import random\n",
      "collection = ''.join(random.choice(string.ascii_lowercase) for _ in range(8))\n"
     ]
    },
    "slideshow": {
     "slide_type": ""
    },
    "tags": [
     "skip-execution"
    ]
   },
   "outputs": [],
   "source": [
    "import os\n",
    "from getpass import getpass\n",
    "\n",
    "# Enter your settings for Astra DB and OpenAI:\n",
    "os.environ[\"ASTRA_DB_API_ENDPOINT\"] = input(\"Enter your Astra DB API Endpoint: \")\n",
    "os.environ[\"ASTRA_DB_APPLICATION_TOKEN\"] = getpass(\"Enter your Astra DB Token: \")\n",
    "os.environ[\"OPENAI_API_KEY\"] = getpass(\"Enter your OpenAI API Key: \")"
   ]
  },
  {
   "cell_type": "markdown",
   "metadata": {
    "editable": true,
    "slideshow": {
     "slide_type": ""
    },
    "tags": []
   },
   "source": [
    "## Create RAG Pipeline"
   ]
  },
  {
   "cell_type": "markdown",
   "metadata": {},
   "source": [
    "### Embedding Model and Vector Store"
   ]
  },
  {
   "cell_type": "code",
   "execution_count": 5,
   "metadata": {
    "editable": true,
    "slideshow": {
     "slide_type": ""
    },
    "tags": []
   },
   "outputs": [
    {
     "name": "stdout",
     "output_type": "stream",
     "text": [
      "Astra vector store configured\n"
     ]
    }
   ],
   "source": [
    "from langchain.embeddings.openai import OpenAIEmbeddings\n",
    "from langchain_astradb import AstraDBVectorStore\n",
    "import os\n",
    "\n",
    "# Configure your embedding model and vector store\n",
    "embedding = OpenAIEmbeddings()\n",
    "vstore = AstraDBVectorStore(\n",
    "    collection_name=\"lc\",\n",
    "    embedding=embedding,\n",
    "    token=os.getenv(\"ASTRA_DB_APPLICATION_TOKEN\"),\n",
    "    api_endpoint=os.getenv(\"ASTRA_DB_API_ENDPOINT\"),\n",
    ")\n",
    "print(\"Astra vector store configured\")"
   ]
  },
  {
   "cell_type": "code",
   "execution_count": 6,
   "metadata": {},
   "outputs": [
    {
     "name": "stdout",
     "output_type": "stream",
     "text": [
      "  % Total    % Received % Xferd  Average Speed   Time    Time     Time  Current\n",
      "                                 Dload  Upload   Total   Spent    Left  Speed\n",
      "100 13022  100 13022    0     0  29120      0 --:--:-- --:--:-- --:--:-- 29395\n"
     ]
    }
   ],
   "source": [
    "# Retrieve the text of a short story that will be indexed in the vector store\n",
    "! curl https://raw.githubusercontent.com/CassioML/cassio-website/main/docs/frameworks/langchain/texts/amontillado.txt --output amontillado.txt\n",
    "SAMPLEDATA = [\"amontillado.txt\"]"
   ]
  },
  {
   "cell_type": "code",
   "execution_count": null,
   "metadata": {
    "tags": [
     "skip-execution"
    ]
   },
   "outputs": [],
   "source": [
    "# Alternatively, provide your own file. However, you will want to update your queries to match the content of your file.\n",
    "\n",
    "# Upload sample file (Note: this cell assumes you are on Google Colab)\n",
    "# Local Jupyter notebooks can provide the path to their files directly by uncommenting and running just the next line).\n",
    "# SAMPLEDATA = [\"<path_to_file>\"]\n",
    "\n",
    "from google.colab import files\n",
    "\n",
    "print(\"Please upload your own sample file:\")\n",
    "uploaded = files.upload()\n",
    "if uploaded:\n",
    "    SAMPLEDATA = uploaded\n",
    "else:\n",
    "    raise ValueError(\"Cannot proceed without Sample Data. Please re-run the cell.\")\n",
    "\n",
    "print(f\"Please make sure to change your queries to match the contents of your file!\")"
   ]
  },
  {
   "cell_type": "code",
   "execution_count": 7,
   "metadata": {},
   "outputs": [
    {
     "name": "stdout",
     "output_type": "stream",
     "text": [
      "Processed txt file: amontillado.txt\n",
      "\n",
      "Processing done.\n"
     ]
    }
   ],
   "source": [
    "import os\n",
    "from langchain.document_loaders import TextLoader\n",
    "from langchain.document_loaders import PyPDFLoader\n",
    "\n",
    "# Loop through each file and load it into our vector store\n",
    "documents = []\n",
    "for filename in SAMPLEDATA:\n",
    "    path = os.path.join(os.getcwd(), filename)\n",
    "\n",
    "    # Supported file types are pdf and txt\n",
    "    if filename.endswith(\".pdf\"):\n",
    "        loader = PyPDFLoader(path)\n",
    "        new_docs = loader.load_and_split()\n",
    "        print(f\"Processed pdf file: {filename}\")\n",
    "    elif filename.endswith(\".txt\"):\n",
    "        loader = TextLoader(path)\n",
    "        new_docs = loader.load_and_split()\n",
    "        print(f\"Processed txt file: {filename}\")\n",
    "    else:\n",
    "        print(f\"Unsupported file type: {filename}\")\n",
    "\n",
    "    if len(new_docs) > 0:\n",
    "        documents.extend(new_docs)\n",
    "\n",
    "# empty the list of file names in case this cell is run multiple times\n",
    "SAMPLEDATA = []\n",
    "\n",
    "print(f\"\\nProcessing done.\")"
   ]
  },
  {
   "cell_type": "code",
   "execution_count": 9,
   "metadata": {},
   "outputs": [
    {
     "name": "stdout",
     "output_type": "stream",
     "text": [
      "\n",
      "Inserted 4 documents.\n"
     ]
    }
   ],
   "source": [
    "# Create embeddings by inserting your documents into the vector store.\n",
    "inserted_ids = vstore.add_documents(documents)\n",
    "print(f\"\\nInserted {len(inserted_ids)} documents.\")"
   ]
  },
  {
   "cell_type": "code",
   "execution_count": null,
   "metadata": {
    "editable": true,
    "slideshow": {
     "slide_type": ""
    },
    "tags": []
   },
   "outputs": [],
   "source": [
    "# Checks your Collection to verify the Documents are embedded.\n",
    "print(vstore.astra_db.collection(\"lc\").find())"
   ]
  },
  {
   "cell_type": "markdown",
   "metadata": {},
   "source": [
    "### Basic Retrieval\n",
    "\n",
    "Retrieve context from your vector database, and pass it to the model with a prompt."
   ]
  },
  {
   "cell_type": "code",
   "execution_count": 11,
   "metadata": {},
   "outputs": [
    {
     "data": {
      "text/plain": [
       "'The narrator, Montresor, seeks revenge against Fortunato because Fortunato insulted him.'"
      ]
     },
     "execution_count": 11,
     "metadata": {},
     "output_type": "execute_result"
    }
   ],
   "source": [
    "from langchain.prompts import ChatPromptTemplate\n",
    "from langchain.chat_models import ChatOpenAI\n",
    "from langchain.schema.output_parser import StrOutputParser\n",
    "from langchain.schema.runnable import RunnablePassthrough\n",
    "\n",
    "retriever = vstore.as_retriever(search_kwargs={\"k\": 3})\n",
    "\n",
    "prompt_template = \"\"\"\n",
    "Answer the question based only on the supplied context. If you don't know the answer, say you don't know the answer.\n",
    "Context: {context}\n",
    "Question: {question}\n",
    "Your answer:\n",
    "\"\"\"\n",
    "prompt = ChatPromptTemplate.from_template(prompt_template)\n",
    "model = ChatOpenAI()\n",
    "\n",
    "chain = (\n",
    "    {\"context\": retriever, \"question\": RunnablePassthrough()}\n",
    "    | prompt\n",
    "    | model\n",
    "    | StrOutputParser()\n",
    ")\n",
    "\n",
    "chain.invoke(\n",
    "    \"In the given context, what motivates the narrator, Montresor, to seek revenge against Fortunato?\"\n",
    ")"
   ]
  },
  {
   "cell_type": "markdown",
   "metadata": {},
   "source": [
    "## Evaluation\n",
    "\n",
    "LangChain offers several [built-in evaluators](https://docs.smith.langchain.com/evaluation/evaluator-implementations) that you can use to test the efficacy of your RAG pipeline. Since you've created a RAG pipeline, the QA Evaluator is a good fit. \n",
    "\n",
    "Remember that LLMs are probablistic -- responses will not be the exact same for each invocation. Evaluation results will differ between invocations, and they may be imperfect. Using the metrics as part of a larger holistic testing strategy for your RAG application is recommended."
   ]
  },
  {
   "cell_type": "markdown",
   "metadata": {},
   "source": [
    "### Setup\n",
    "\n",
    "LangSmith is required to run evaluation using the built-in LangChain tools. "
   ]
  },
  {
   "cell_type": "code",
   "execution_count": 12,
   "metadata": {
    "nbmake": {
     "post_cell_execute": [
      "import os\n",
      "import random\n",
      "import string\n",
      "# This assumes that we don't have a limit on projects in LangSmith\n",
      "random = ''.join(random.choice(string.ascii_lowercase) for _ in range(8))\n",
      "os.environ[\"LANGCHAIN_PROJECT\"] = random\n"
     ]
    }
   },
   "outputs": [],
   "source": [
    "import os\n",
    "from getpass import getpass\n",
    "\n",
    "os.environ[\"LANGCHAIN_TRACING_V2\"] = \"true\"\n",
    "os.environ[\"LANGCHAIN_ENDPOINT\"] = \"https://api.smith.langchain.com\"\n",
    "\n",
    "langsmith_api_key = \"LANGCHAIN_API_KEY\"\n",
    "if langsmith_api_key not in os.environ:\n",
    "    os.environ[langsmith_api_key] = getpass(f\"Enter {langsmith_api_key}: \")"
   ]
  },
  {
   "cell_type": "code",
   "execution_count": 13,
   "metadata": {
    "tags": [
     "skip-execution"
    ]
   },
   "outputs": [],
   "source": [
    "os.environ[\"LANGCHAIN_PROJECT\"] = input(\n",
    "    \"Project: \"\n",
    ")  # if not specified, defaults to \"default\""
   ]
  },
  {
   "cell_type": "code",
   "execution_count": 14,
   "metadata": {},
   "outputs": [],
   "source": [
    "eval_questions = [\n",
    "    \"What motivates the narrator, Montresor, to seek revenge against Fortunato?\",\n",
    "    \"What are the major themes in this story?\",\n",
    "    \"What is the significance of the story taking place during the carnival season?\",\n",
    "    \"What literary techniques does Poe use to create suspense and tension in the story?\",\n",
    "]\n",
    "\n",
    "eval_answers = [\n",
    "    \"Montresor is insulted by Lenora and seeks revenge.\",  # Incorrect Answer\n",
    "    \"The major themes are happiness and trustworthiness.\",  # Incorrect Answer\n",
    "    \"The carnival season is a time of celebration and merriment, which contrasts with the sinister events of the story.\",\n",
    "    \"Poe uses foreshadowing, irony, and symbolism to create suspense and tension.\",\n",
    "]\n",
    "\n",
    "examples = zip(eval_questions, eval_answers)"
   ]
  },
  {
   "cell_type": "code",
   "execution_count": 15,
   "metadata": {},
   "outputs": [
    {
     "name": "stdout",
     "output_type": "stream",
     "text": [
      "using existing dataset:  test_eval_dataset\n"
     ]
    }
   ],
   "source": [
    "# Create your dataset in LangSmith\n",
    "from langsmith import Client\n",
    "from langsmith.utils import LangSmithError\n",
    "\n",
    "client = Client()\n",
    "dataset_name = \"test_eval_dataset\"\n",
    "\n",
    "try:\n",
    "    # Check if dataset exists\n",
    "    dataset = client.read_dataset(dataset_name=dataset_name)\n",
    "    print(\"using existing dataset: \", dataset.name)\n",
    "except LangSmithError:\n",
    "    # If not, create a new one with the eval questions\n",
    "    dataset = client.create_dataset(\n",
    "        dataset_name=dataset_name,\n",
    "        description=\"sample evaluation dataset\",\n",
    "    )\n",
    "    for question, answer in examples:\n",
    "        client.create_example(\n",
    "            inputs={\"input\": question},\n",
    "            outputs={\"answer\": answer},\n",
    "            dataset_id=dataset.id,\n",
    "        )\n",
    "\n",
    "    print(\"Created a new dataset: \", dataset.name)"
   ]
  },
  {
   "cell_type": "code",
   "execution_count": 16,
   "metadata": {},
   "outputs": [],
   "source": [
    "from langchain.chains import RetrievalQA\n",
    "\n",
    "# Since chains and agents can be stateful (they can have memory),\n",
    "# create a constructor to pass in to the run_on_dataset method.\n",
    "# This is so any state in the chain is not reused when evaluating individual examples.\n",
    "def create_qa_chain(llm, vstore, return_context=True):\n",
    "    qa_chain = RetrievalQA.from_chain_type(\n",
    "        llm,\n",
    "        retriever=vstore.as_retriever(),\n",
    "        return_source_documents=return_context,\n",
    "    )\n",
    "    return qa_chain"
   ]
  },
  {
   "cell_type": "markdown",
   "metadata": {},
   "source": [
    "### Run Evaluation\n",
    "\n",
    "Now that you have a dataset in LangSmith, you can run evaluation over it using LangChain's built-in evaluators."
   ]
  },
  {
   "cell_type": "code",
   "execution_count": 17,
   "metadata": {},
   "outputs": [
    {
     "name": "stdout",
     "output_type": "stream",
     "text": [
      "View the evaluation results for project 'puzzled-money-58' at:\n",
      "https://smith.langchain.com/o/c848b3f1-1464-5ef1-bd87-f03d2ce8baa7/datasets/1755e594-2ad8-42ab-9995-d8eac00b07c2/compare?selectedSessions=71b02351-d931-4539-b0e0-be2250d300a8\n",
      "\n",
      "View all tests for Dataset test_eval_dataset at:\n",
      "https://smith.langchain.com/o/c848b3f1-1464-5ef1-bd87-f03d2ce8baa7/datasets/1755e594-2ad8-42ab-9995-d8eac00b07c2\n",
      "[------------------------------------------------->] 4/4"
     ]
    },
    {
     "data": {
      "text/plain": [
       "{'project_name': 'puzzled-money-58',\n",
       " 'results': {'cb519748-8c64-4dad-a258-56cb5e6b08c5': {'input': {'input': 'What literary techniques does Poe use to create suspense and tension in the story?'},\n",
       "   'feedback': [EvaluationResult(key='correctness', score=1, value='CORRECT', comment='CORRECT', correction=None, evaluator_info={'__run': RunInfo(run_id=UUID('0e777c93-14d0-4e7f-9e53-4680c371eafd'))}, source_run_id=None, target_run_id=None),\n",
       "    EvaluationResult(key='Contextual Accuracy', score=1, value='CORRECT', comment='CORRECT', correction=None, evaluator_info={'__run': RunInfo(run_id=UUID('0ed63220-bcd4-45ac-8975-42510018bfcb'))}, source_run_id=None, target_run_id=None)],\n",
       "   'execution_time': 36.841969,\n",
       "   'run_id': 'd38cc7d0-c6d4-46f0-926f-257efb000a0f',\n",
       "   'output': {'query': 'What literary techniques does Poe use to create suspense and tension in the story?',\n",
       "    'result': 'Poe uses several literary techniques to create suspense and tension in the story. \\n\\n1. Foreshadowing: Poe hints at the fate of Fortunato from the very beginning, with phrases like \"my heart grew sick on account of the dampness of the catacombs\" and \"In pace requiescat!\" These hints build anticipation and unease in the reader.\\n\\n2. Dramatic Irony: The reader knows more than the characters, as they are aware of Montresor\\'s plan to wall up Fortunato. This creates tension as the reader wonders when and how Fortunato will discover the truth.\\n\\n3. Repetition: The repetition of certain phrases and sounds, such as Fortunato\\'s laughter and the word \"he,\" adds to the suspense and creates a sense of unease.\\n\\n4. Symbolism: The use of the catacombs, bones, and darkness as symbols of death and decay adds to the overall sense of dread and impending doom.\\n\\n5. Unreliable Narrator: Montresor, the narrator, is not a reliable source of information, leading the reader to question his motives and actions. This uncertainty adds to the tension and suspense.\\n\\n6. Setting: The story takes place in a dark and eerie catacomb, which creates a sense of claustrophobia and adds to the overall atmosphere of suspense.\\n\\n7. Descriptive Language: Poe\\'s use of vivid and detailed descriptions, particularly of the catacombs and the process of walling up Fortunato, heightens the tension and creates a vivid sense of horror.\\n\\nThese techniques work together to create a sense of unease, anticipation, and dread throughout the story, building suspense and keeping the reader engaged.',\n",
       "    'source_documents': [Document(page_content='It was now midnight, and my task was drawing to a close.  I had\\ncompleted the eighth, the ninth, and the tenth tier.  I had finished a\\nportion of the last and the eleventh; there remained but a single stone\\nto be fitted and plastered in.  I struggled with its weight; I placed\\nit partially in its destined position.  But now there came from out the\\nniche a low laugh that erected the hairs upon my head.  It was\\nsucceeded by a sad voice, which I had difficulty in recognizing as that\\nof the noble Fortunato.  The voice said--\\n\\n\"Ha! ha! ha!--he! he! he!--a very good joke indeed--an excellent jest.\\nWe shall have many a rich laugh about it at the palazzo--he! he!\\nhe!--over our wine--he! he! he!\"\\n\\n\"The Amontillado!\" I said.\\n\\n\"He! he! he!--he! he! he!--yes, the Amontillado.  But is it not getting\\nlate?  Will not they be awaiting us at the palazzo, the Lady Fortunato\\nand the rest?  Let us be gone.\"\\n\\n\"Yes,\" I said, \"let us be gone.\"\\n\\n\"_For the love of God, Montresor!_\"\\n\\n\"Yes,\" I said, \"for the love of God!\"\\n\\nBut to these words I hearkened in vain for a reply.  I grew impatient.\\nI called aloud--\\n\\n\"Fortunato!\"\\n\\nNo answer.  I called again--\\n\\n\"Fortunato--\"\\n\\nNo answer still.  I thrust a torch through the remaining aperture and\\nlet it fall within.  There came forth in reply only a jingling of the\\nbells.  My heart grew sick on account of the dampness of the catacombs.\\nI hastened to make an end of my labour.  I forced the last stone into\\nits position; I plastered it up.  Against the new masonry I re-erected\\nthe old rampart of bones.  For the half of a century no mortal has\\ndisturbed them.  _In pace requiescat!_', metadata={'source': '/Users/jordan.frazier/Documents/Datastax/ragstack-ai/examples/notebooks/amontillado.txt'}),\n",
       "     Document(page_content='It was now midnight, and my task was drawing to a close.  I had\\ncompleted the eighth, the ninth, and the tenth tier.  I had finished a\\nportion of the last and the eleventh; there remained but a single stone\\nto be fitted and plastered in.  I struggled with its weight; I placed\\nit partially in its destined position.  But now there came from out the\\nniche a low laugh that erected the hairs upon my head.  It was\\nsucceeded by a sad voice, which I had difficulty in recognizing as that\\nof the noble Fortunato.  The voice said--\\n\\n\"Ha! ha! ha!--he! he! he!--a very good joke indeed--an excellent jest.\\nWe shall have many a rich laugh about it at the palazzo--he! he!\\nhe!--over our wine--he! he! he!\"\\n\\n\"The Amontillado!\" I said.\\n\\n\"He! he! he!--he! he! he!--yes, the Amontillado.  But is it not getting\\nlate?  Will not they be awaiting us at the palazzo, the Lady Fortunato\\nand the rest?  Let us be gone.\"\\n\\n\"Yes,\" I said, \"let us be gone.\"\\n\\n\"_For the love of God, Montresor!_\"\\n\\n\"Yes,\" I said, \"for the love of God!\"\\n\\nBut to these words I hearkened in vain for a reply.  I grew impatient.\\nI called aloud--\\n\\n\"Fortunato!\"\\n\\nNo answer.  I called again--\\n\\n\"Fortunato--\"\\n\\nNo answer still.  I thrust a torch through the remaining aperture and\\nlet it fall within.  There came forth in reply only a jingling of the\\nbells.  My heart grew sick on account of the dampness of the catacombs.\\nI hastened to make an end of my labour.  I forced the last stone into\\nits position; I plastered it up.  Against the new masonry I re-erected\\nthe old rampart of bones.  For the half of a century no mortal has\\ndisturbed them.  _In pace requiescat!_', metadata={'source': '/Users/jordan.frazier/Documents/Datastax/ragstack-ai/examples/notebooks/amontillado.txt'}),\n",
       "     Document(page_content='At the most remote end of the crypt there appeared another less\\nspacious.  Its walls had been lined with human remains, piled to the\\nvault overhead, in the fashion of the great catacombs of Paris.  Three\\nsides of this interior crypt were still ornamented in this manner.\\nFrom the fourth side the bones had been thrown down, and lay\\npromiscuously upon the earth, forming at one point a mound of some\\nsize.  Within the wall thus exposed by the displacing of the bones, we\\nperceived a still interior recess, in depth about four feet in width\\nthree, in height six or seven.  It seemed to have been constructed for\\nno especial use within itself, but formed merely the interval between\\ntwo of the colossal supports of the roof of the catacombs, and was\\nbacked by one of their circumscribing walls of solid granite.\\n\\nIt was in vain that Fortunato, uplifting his dull torch, endeavoured to\\npry into the depth of the recess.  Its termination the feeble light did\\nnot enable us to see.\\n\\n\"Proceed,\" I said; \"herein is the Amontillado.  As for Luchesi--\"\\n\\n\"He is an ignoramus,\" interrupted my friend, as he stepped unsteadily\\nforward, while I followed immediately at his heels.  In an instant he\\nhad reached the extremity of the niche, and finding his progress\\narrested by the rock, stood stupidly bewildered.  A moment more and I\\nhad fettered him to the granite.  In its surface were two iron staples,\\ndistant from each other about two feet, horizontally.  From one of\\nthese depended a short chain, from the other a padlock.  Throwing the\\nlinks about his waist, it was but the work of a few seconds to secure\\nit.  He was too much astounded to resist.  Withdrawing the key I\\nstepped back from the recess.\\n\\n\"Pass your hand,\" I said, \"over the wall; you cannot help feeling the\\nnitre.  Indeed, it is _very_ damp.  Once more let me _implore_ you to\\nreturn.  No?  Then I must positively leave you.  But I must first\\nrender you all the little attentions in my power.\"\\n\\n\"The Amontillado!\" ejaculated my friend, not yet recovered from his\\nastonishment.\\n\\n\"True,\" I replied; \"the Amontillado.\"\\n\\nAs I said these words I busied myself among the pile of bones of which\\nI have before spoken.  Throwing them aside, I soon uncovered a quantity\\nof building stone and mortar.  With these materials and with the aid of\\nmy trowel, I began vigorously to wall up the entrance of the niche.\\n\\nI had scarcely laid the first tier of the masonry when I discovered\\nthat the intoxication of Fortunato had in a great measure worn off. The\\nearliest indication I had of this was a low moaning cry from the depth\\nof the recess.  It was _not_ the cry of a drunken man. There was then a\\nlong and obstinate silence.  I laid the second tier, and the third, and\\nthe fourth; and then I heard the furious vibrations of the chain.  The\\nnoise lasted for several minutes, during which, that I might hearken to\\nit with the more satisfaction, I ceased my labours and sat down upon\\nthe bones. When at last the clanking subsided, I resumed the trowel,\\nand finished without interruption the fifth, the sixth, and the seventh\\ntier.  The wall was now nearly upon a level with my breast.  I again\\npaused, and holding the flambeaux over the mason-work, threw a few\\nfeeble rays upon the figure within.\\n\\nA succession of loud and shrill screams, bursting suddenly from the\\nthroat of the chained form, seemed to thrust me violently back.  For a\\nbrief moment I hesitated--I trembled.  Unsheathing my rapier, I began\\nto grope with it about the recess; but the thought of an instant\\nreassured me.  I placed my hand upon the solid fabric of the catacombs,\\nand felt satisfied.  I reapproached the wall; I replied to the yells of\\nhim who clamoured.  I re-echoed--I aided--I surpassed them in volume\\nand in strength.  I did this, and the clamourer grew still.', metadata={'source': '/Users/jordan.frazier/Documents/Datastax/ragstack-ai/examples/notebooks/amontillado.txt'}),\n",
       "     Document(page_content='At the most remote end of the crypt there appeared another less\\nspacious.  Its walls had been lined with human remains, piled to the\\nvault overhead, in the fashion of the great catacombs of Paris.  Three\\nsides of this interior crypt were still ornamented in this manner.\\nFrom the fourth side the bones had been thrown down, and lay\\npromiscuously upon the earth, forming at one point a mound of some\\nsize.  Within the wall thus exposed by the displacing of the bones, we\\nperceived a still interior recess, in depth about four feet in width\\nthree, in height six or seven.  It seemed to have been constructed for\\nno especial use within itself, but formed merely the interval between\\ntwo of the colossal supports of the roof of the catacombs, and was\\nbacked by one of their circumscribing walls of solid granite.\\n\\nIt was in vain that Fortunato, uplifting his dull torch, endeavoured to\\npry into the depth of the recess.  Its termination the feeble light did\\nnot enable us to see.\\n\\n\"Proceed,\" I said; \"herein is the Amontillado.  As for Luchesi--\"\\n\\n\"He is an ignoramus,\" interrupted my friend, as he stepped unsteadily\\nforward, while I followed immediately at his heels.  In an instant he\\nhad reached the extremity of the niche, and finding his progress\\narrested by the rock, stood stupidly bewildered.  A moment more and I\\nhad fettered him to the granite.  In its surface were two iron staples,\\ndistant from each other about two feet, horizontally.  From one of\\nthese depended a short chain, from the other a padlock.  Throwing the\\nlinks about his waist, it was but the work of a few seconds to secure\\nit.  He was too much astounded to resist.  Withdrawing the key I\\nstepped back from the recess.\\n\\n\"Pass your hand,\" I said, \"over the wall; you cannot help feeling the\\nnitre.  Indeed, it is _very_ damp.  Once more let me _implore_ you to\\nreturn.  No?  Then I must positively leave you.  But I must first\\nrender you all the little attentions in my power.\"\\n\\n\"The Amontillado!\" ejaculated my friend, not yet recovered from his\\nastonishment.\\n\\n\"True,\" I replied; \"the Amontillado.\"\\n\\nAs I said these words I busied myself among the pile of bones of which\\nI have before spoken.  Throwing them aside, I soon uncovered a quantity\\nof building stone and mortar.  With these materials and with the aid of\\nmy trowel, I began vigorously to wall up the entrance of the niche.\\n\\nI had scarcely laid the first tier of the masonry when I discovered\\nthat the intoxication of Fortunato had in a great measure worn off. The\\nearliest indication I had of this was a low moaning cry from the depth\\nof the recess.  It was _not_ the cry of a drunken man. There was then a\\nlong and obstinate silence.  I laid the second tier, and the third, and\\nthe fourth; and then I heard the furious vibrations of the chain.  The\\nnoise lasted for several minutes, during which, that I might hearken to\\nit with the more satisfaction, I ceased my labours and sat down upon\\nthe bones. When at last the clanking subsided, I resumed the trowel,\\nand finished without interruption the fifth, the sixth, and the seventh\\ntier.  The wall was now nearly upon a level with my breast.  I again\\npaused, and holding the flambeaux over the mason-work, threw a few\\nfeeble rays upon the figure within.\\n\\nA succession of loud and shrill screams, bursting suddenly from the\\nthroat of the chained form, seemed to thrust me violently back.  For a\\nbrief moment I hesitated--I trembled.  Unsheathing my rapier, I began\\nto grope with it about the recess; but the thought of an instant\\nreassured me.  I placed my hand upon the solid fabric of the catacombs,\\nand felt satisfied.  I reapproached the wall; I replied to the yells of\\nhim who clamoured.  I re-echoed--I aided--I surpassed them in volume\\nand in strength.  I did this, and the clamourer grew still.', metadata={'source': '/Users/jordan.frazier/Documents/Datastax/ragstack-ai/examples/notebooks/amontillado.txt'})]},\n",
       "   'reference': {'answer': 'Poe uses foreshadowing, irony, and symbolism to create suspense and tension.'}},\n",
       "  'be20f0c2-186c-4747-9e24-aee76c4e64bd': {'input': {'input': 'What is the significance of the story taking place during the carnival season?'},\n",
       "   'feedback': [EvaluationResult(key='correctness', score=1, value='CORRECT', comment='CORRECT', correction=None, evaluator_info={'__run': RunInfo(run_id=UUID('f4204b00-15f7-4e7c-8a78-fb7207d8bf23'))}, source_run_id=None, target_run_id=None),\n",
       "    EvaluationResult(key='Contextual Accuracy', score=1, value='CORRECT', comment='CORRECT', correction=None, evaluator_info={'__run': RunInfo(run_id=UUID('9a1f3cad-4123-49c6-ab08-0d2a8396abd3'))}, source_run_id=None, target_run_id=None)],\n",
       "   'execution_time': 15.698682,\n",
       "   'run_id': '81577835-0754-4749-ab46-04bb69593fb0',\n",
       "   'output': {'query': 'What is the significance of the story taking place during the carnival season?',\n",
       "    'result': 'The significance of the story taking place during the carnival season is that it provides a backdrop of chaos, revelry, and disguises. This setting allows the narrator to carry out his plan of revenge against Fortunato without arousing suspicion. The carnival season is known for its atmosphere of indulgence and excess, which helps to create a sense of irony and contrast with the dark and sinister events unfolding in the story. Additionally, the carnival season represents a time when social norms and hierarchies are temporarily suspended, allowing the narrator to manipulate and deceive Fortunato more easily.',\n",
       "    'source_documents': [Document(page_content='It was now midnight, and my task was drawing to a close.  I had\\ncompleted the eighth, the ninth, and the tenth tier.  I had finished a\\nportion of the last and the eleventh; there remained but a single stone\\nto be fitted and plastered in.  I struggled with its weight; I placed\\nit partially in its destined position.  But now there came from out the\\nniche a low laugh that erected the hairs upon my head.  It was\\nsucceeded by a sad voice, which I had difficulty in recognizing as that\\nof the noble Fortunato.  The voice said--\\n\\n\"Ha! ha! ha!--he! he! he!--a very good joke indeed--an excellent jest.\\nWe shall have many a rich laugh about it at the palazzo--he! he!\\nhe!--over our wine--he! he! he!\"\\n\\n\"The Amontillado!\" I said.\\n\\n\"He! he! he!--he! he! he!--yes, the Amontillado.  But is it not getting\\nlate?  Will not they be awaiting us at the palazzo, the Lady Fortunato\\nand the rest?  Let us be gone.\"\\n\\n\"Yes,\" I said, \"let us be gone.\"\\n\\n\"_For the love of God, Montresor!_\"\\n\\n\"Yes,\" I said, \"for the love of God!\"\\n\\nBut to these words I hearkened in vain for a reply.  I grew impatient.\\nI called aloud--\\n\\n\"Fortunato!\"\\n\\nNo answer.  I called again--\\n\\n\"Fortunato--\"\\n\\nNo answer still.  I thrust a torch through the remaining aperture and\\nlet it fall within.  There came forth in reply only a jingling of the\\nbells.  My heart grew sick on account of the dampness of the catacombs.\\nI hastened to make an end of my labour.  I forced the last stone into\\nits position; I plastered it up.  Against the new masonry I re-erected\\nthe old rampart of bones.  For the half of a century no mortal has\\ndisturbed them.  _In pace requiescat!_', metadata={'source': '/Users/jordan.frazier/Documents/Datastax/ragstack-ai/examples/notebooks/amontillado.txt'}),\n",
       "     Document(page_content='It was now midnight, and my task was drawing to a close.  I had\\ncompleted the eighth, the ninth, and the tenth tier.  I had finished a\\nportion of the last and the eleventh; there remained but a single stone\\nto be fitted and plastered in.  I struggled with its weight; I placed\\nit partially in its destined position.  But now there came from out the\\nniche a low laugh that erected the hairs upon my head.  It was\\nsucceeded by a sad voice, which I had difficulty in recognizing as that\\nof the noble Fortunato.  The voice said--\\n\\n\"Ha! ha! ha!--he! he! he!--a very good joke indeed--an excellent jest.\\nWe shall have many a rich laugh about it at the palazzo--he! he!\\nhe!--over our wine--he! he! he!\"\\n\\n\"The Amontillado!\" I said.\\n\\n\"He! he! he!--he! he! he!--yes, the Amontillado.  But is it not getting\\nlate?  Will not they be awaiting us at the palazzo, the Lady Fortunato\\nand the rest?  Let us be gone.\"\\n\\n\"Yes,\" I said, \"let us be gone.\"\\n\\n\"_For the love of God, Montresor!_\"\\n\\n\"Yes,\" I said, \"for the love of God!\"\\n\\nBut to these words I hearkened in vain for a reply.  I grew impatient.\\nI called aloud--\\n\\n\"Fortunato!\"\\n\\nNo answer.  I called again--\\n\\n\"Fortunato--\"\\n\\nNo answer still.  I thrust a torch through the remaining aperture and\\nlet it fall within.  There came forth in reply only a jingling of the\\nbells.  My heart grew sick on account of the dampness of the catacombs.\\nI hastened to make an end of my labour.  I forced the last stone into\\nits position; I plastered it up.  Against the new masonry I re-erected\\nthe old rampart of bones.  For the half of a century no mortal has\\ndisturbed them.  _In pace requiescat!_', metadata={'source': '/Users/jordan.frazier/Documents/Datastax/ragstack-ai/examples/notebooks/amontillado.txt'}),\n",
       "     Document(page_content='The thousand injuries of Fortunato I had borne as I best could, but\\nwhen he ventured upon insult, I vowed revenge.  You, who so well know\\nthe nature of my soul, will not suppose, however, that I gave utterance\\nto a threat.  _At length_ I would be avenged; this was a point definitely\\nsettled--but the very definitiveness with which it was resolved,\\nprecluded the idea of risk.  I must not only punish, but punish with\\nimpunity.  A wrong is unredressed when retribution overtakes its\\nredresser.  It is equally unredressed when the avenger fails to make\\nhimself felt as such to him who has done the wrong.\\n\\nIt must be understood that neither by word nor deed had I given\\nFortunato cause to doubt my good will.  I continued, as was my wont, to\\nsmile in his face, and he did not perceive that my smile _now_ was at\\nthe thought of his immolation.\\n\\nHe had a weak point--this Fortunato--although in other regards he was a\\nman to be respected and even feared.  He prided himself on his\\nconnoisseurship in wine.  Few Italians have the true virtuoso spirit.\\nFor the most part their enthusiasm is adopted to suit the time and\\nopportunity--to practise imposture upon the British and Austrian\\n_millionaires_.  In painting and gemmary, Fortunato, like his countrymen,\\nwas a quack--but in the matter of old wines he was sincere.  In this\\nrespect I did not differ from him materially: I was skillful in the\\nItalian vintages myself, and bought largely whenever I could.\\n\\nIt was about dusk, one evening during the supreme madness of the\\ncarnival season, that I encountered my friend.  He accosted me with\\nexcessive warmth, for he had been drinking much.  The man wore motley.\\nHe had on a tight-fitting parti-striped dress, and his head was\\nsurmounted by the conical cap and bells.  I was so pleased to see him,\\nthat I thought I should never have done wringing his hand.\\n\\nI said to him--\"My dear Fortunato, you are luckily met.  How remarkably\\nwell you are looking to-day!  But I have received a pipe of what passes\\nfor Amontillado, and I have my doubts.\"\\n\\n\"How?\" said he.  \"Amontillado?  A pipe?  Impossible!  And in the middle\\nof the carnival!\"\\n\\n\"I have my doubts,\" I replied; \"and I was silly enough to pay the full\\nAmontillado price without consulting you in the matter. You were not to\\nbe found, and I was fearful of losing a bargain.\"\\n\\n\"Amontillado!\"\\n\\n\"I have my doubts.\"\\n\\n\"Amontillado!\"\\n\\n\"And I must satisfy them.\"\\n\\n\"Amontillado!\"\\n\\n\"As you are engaged, I am on my way to Luchesi.  If any one has a\\ncritical turn, it is he.  He will tell me--\"\\n\\n\"Luchesi cannot tell Amontillado from Sherry.\"\\n\\n\"And yet some fools will have it that his taste is a match for your\\nown.\"\\n\\n\"Come, let us go.\"\\n\\n\"Whither?\"\\n\\n\"To your vaults.\"\\n\\n\"My friend, no; I will not impose upon your good nature.  I perceive\\nyou have an engagement.  Luchesi--\"\\n\\n\"I have no engagement;--come.\"\\n\\n\"My friend, no.  It is not the engagement, but the severe cold with\\nwhich I perceive you are afflicted.  The vaults are insufferably damp.\\nThey are encrusted with nitre.\"\\n\\n\"Let us go, nevertheless.  The cold is merely nothing. Amontillado!\\nYou have been imposed upon.  And as for Luchesi, he cannot distinguish\\nSherry from Amontillado.\"\\n\\nThus speaking, Fortunato possessed himself of my arm. Putting on a mask\\nof black silk, and drawing a _roquelaire_ closely about my person, I\\nsuffered him to hurry me to my palazzo.\\n\\nThere were no attendants at home; they had absconded to make merry in\\nhonour of the time.  I had told them that I should not return until the\\nmorning, and had given them explicit orders not to stir from the house.\\nThese orders were sufficient, I well knew, to insure their immediate\\ndisappearance, one and all, as soon as my back was turned.', metadata={'source': '/Users/jordan.frazier/Documents/Datastax/ragstack-ai/examples/notebooks/amontillado.txt'}),\n",
       "     Document(page_content='The thousand injuries of Fortunato I had borne as I best could, but\\nwhen he ventured upon insult, I vowed revenge.  You, who so well know\\nthe nature of my soul, will not suppose, however, that I gave utterance\\nto a threat.  _At length_ I would be avenged; this was a point definitely\\nsettled--but the very definitiveness with which it was resolved,\\nprecluded the idea of risk.  I must not only punish, but punish with\\nimpunity.  A wrong is unredressed when retribution overtakes its\\nredresser.  It is equally unredressed when the avenger fails to make\\nhimself felt as such to him who has done the wrong.\\n\\nIt must be understood that neither by word nor deed had I given\\nFortunato cause to doubt my good will.  I continued, as was my wont, to\\nsmile in his face, and he did not perceive that my smile _now_ was at\\nthe thought of his immolation.\\n\\nHe had a weak point--this Fortunato--although in other regards he was a\\nman to be respected and even feared.  He prided himself on his\\nconnoisseurship in wine.  Few Italians have the true virtuoso spirit.\\nFor the most part their enthusiasm is adopted to suit the time and\\nopportunity--to practise imposture upon the British and Austrian\\n_millionaires_.  In painting and gemmary, Fortunato, like his countrymen,\\nwas a quack--but in the matter of old wines he was sincere.  In this\\nrespect I did not differ from him materially: I was skillful in the\\nItalian vintages myself, and bought largely whenever I could.\\n\\nIt was about dusk, one evening during the supreme madness of the\\ncarnival season, that I encountered my friend.  He accosted me with\\nexcessive warmth, for he had been drinking much.  The man wore motley.\\nHe had on a tight-fitting parti-striped dress, and his head was\\nsurmounted by the conical cap and bells.  I was so pleased to see him,\\nthat I thought I should never have done wringing his hand.\\n\\nI said to him--\"My dear Fortunato, you are luckily met.  How remarkably\\nwell you are looking to-day!  But I have received a pipe of what passes\\nfor Amontillado, and I have my doubts.\"\\n\\n\"How?\" said he.  \"Amontillado?  A pipe?  Impossible!  And in the middle\\nof the carnival!\"\\n\\n\"I have my doubts,\" I replied; \"and I was silly enough to pay the full\\nAmontillado price without consulting you in the matter. You were not to\\nbe found, and I was fearful of losing a bargain.\"\\n\\n\"Amontillado!\"\\n\\n\"I have my doubts.\"\\n\\n\"Amontillado!\"\\n\\n\"And I must satisfy them.\"\\n\\n\"Amontillado!\"\\n\\n\"As you are engaged, I am on my way to Luchesi.  If any one has a\\ncritical turn, it is he.  He will tell me--\"\\n\\n\"Luchesi cannot tell Amontillado from Sherry.\"\\n\\n\"And yet some fools will have it that his taste is a match for your\\nown.\"\\n\\n\"Come, let us go.\"\\n\\n\"Whither?\"\\n\\n\"To your vaults.\"\\n\\n\"My friend, no; I will not impose upon your good nature.  I perceive\\nyou have an engagement.  Luchesi--\"\\n\\n\"I have no engagement;--come.\"\\n\\n\"My friend, no.  It is not the engagement, but the severe cold with\\nwhich I perceive you are afflicted.  The vaults are insufferably damp.\\nThey are encrusted with nitre.\"\\n\\n\"Let us go, nevertheless.  The cold is merely nothing. Amontillado!\\nYou have been imposed upon.  And as for Luchesi, he cannot distinguish\\nSherry from Amontillado.\"\\n\\nThus speaking, Fortunato possessed himself of my arm. Putting on a mask\\nof black silk, and drawing a _roquelaire_ closely about my person, I\\nsuffered him to hurry me to my palazzo.\\n\\nThere were no attendants at home; they had absconded to make merry in\\nhonour of the time.  I had told them that I should not return until the\\nmorning, and had given them explicit orders not to stir from the house.\\nThese orders were sufficient, I well knew, to insure their immediate\\ndisappearance, one and all, as soon as my back was turned.', metadata={'source': '/Users/jordan.frazier/Documents/Datastax/ragstack-ai/examples/notebooks/amontillado.txt'})]},\n",
       "   'reference': {'answer': 'The carnival season is a time of celebration and merriment, which contrasts with the sinister events of the story.'}},\n",
       "  'c853776b-6302-43aa-929a-c5878013b9c8': {'input': {'input': 'What are the major themes in this story?'},\n",
       "   'feedback': [EvaluationResult(key='correctness', score=0, value='INCORRECT', comment='INCORRECT', correction=None, evaluator_info={'__run': RunInfo(run_id=UUID('167345cf-d8f3-41ab-8758-46440ef6b661'))}, source_run_id=None, target_run_id=None),\n",
       "    EvaluationResult(key='Contextual Accuracy', score=0, value='INCORRECT', comment='INCORRECT', correction=None, evaluator_info={'__run': RunInfo(run_id=UUID('7a15f878-d29a-4263-bf9c-46f09d2d72ee'))}, source_run_id=None, target_run_id=None)],\n",
       "   'execution_time': 5.350484,\n",
       "   'run_id': '9091ba06-1fc2-4127-9d43-731b7e45d50d',\n",
       "   'output': {'query': 'What are the major themes in this story?',\n",
       "    'result': 'The major themes in this story are revenge, deception, and the power of obsession.',\n",
       "    'source_documents': [Document(page_content='It was now midnight, and my task was drawing to a close.  I had\\ncompleted the eighth, the ninth, and the tenth tier.  I had finished a\\nportion of the last and the eleventh; there remained but a single stone\\nto be fitted and plastered in.  I struggled with its weight; I placed\\nit partially in its destined position.  But now there came from out the\\nniche a low laugh that erected the hairs upon my head.  It was\\nsucceeded by a sad voice, which I had difficulty in recognizing as that\\nof the noble Fortunato.  The voice said--\\n\\n\"Ha! ha! ha!--he! he! he!--a very good joke indeed--an excellent jest.\\nWe shall have many a rich laugh about it at the palazzo--he! he!\\nhe!--over our wine--he! he! he!\"\\n\\n\"The Amontillado!\" I said.\\n\\n\"He! he! he!--he! he! he!--yes, the Amontillado.  But is it not getting\\nlate?  Will not they be awaiting us at the palazzo, the Lady Fortunato\\nand the rest?  Let us be gone.\"\\n\\n\"Yes,\" I said, \"let us be gone.\"\\n\\n\"_For the love of God, Montresor!_\"\\n\\n\"Yes,\" I said, \"for the love of God!\"\\n\\nBut to these words I hearkened in vain for a reply.  I grew impatient.\\nI called aloud--\\n\\n\"Fortunato!\"\\n\\nNo answer.  I called again--\\n\\n\"Fortunato--\"\\n\\nNo answer still.  I thrust a torch through the remaining aperture and\\nlet it fall within.  There came forth in reply only a jingling of the\\nbells.  My heart grew sick on account of the dampness of the catacombs.\\nI hastened to make an end of my labour.  I forced the last stone into\\nits position; I plastered it up.  Against the new masonry I re-erected\\nthe old rampart of bones.  For the half of a century no mortal has\\ndisturbed them.  _In pace requiescat!_', metadata={'source': '/Users/jordan.frazier/Documents/Datastax/ragstack-ai/examples/notebooks/amontillado.txt'}),\n",
       "     Document(page_content='It was now midnight, and my task was drawing to a close.  I had\\ncompleted the eighth, the ninth, and the tenth tier.  I had finished a\\nportion of the last and the eleventh; there remained but a single stone\\nto be fitted and plastered in.  I struggled with its weight; I placed\\nit partially in its destined position.  But now there came from out the\\nniche a low laugh that erected the hairs upon my head.  It was\\nsucceeded by a sad voice, which I had difficulty in recognizing as that\\nof the noble Fortunato.  The voice said--\\n\\n\"Ha! ha! ha!--he! he! he!--a very good joke indeed--an excellent jest.\\nWe shall have many a rich laugh about it at the palazzo--he! he!\\nhe!--over our wine--he! he! he!\"\\n\\n\"The Amontillado!\" I said.\\n\\n\"He! he! he!--he! he! he!--yes, the Amontillado.  But is it not getting\\nlate?  Will not they be awaiting us at the palazzo, the Lady Fortunato\\nand the rest?  Let us be gone.\"\\n\\n\"Yes,\" I said, \"let us be gone.\"\\n\\n\"_For the love of God, Montresor!_\"\\n\\n\"Yes,\" I said, \"for the love of God!\"\\n\\nBut to these words I hearkened in vain for a reply.  I grew impatient.\\nI called aloud--\\n\\n\"Fortunato!\"\\n\\nNo answer.  I called again--\\n\\n\"Fortunato--\"\\n\\nNo answer still.  I thrust a torch through the remaining aperture and\\nlet it fall within.  There came forth in reply only a jingling of the\\nbells.  My heart grew sick on account of the dampness of the catacombs.\\nI hastened to make an end of my labour.  I forced the last stone into\\nits position; I plastered it up.  Against the new masonry I re-erected\\nthe old rampart of bones.  For the half of a century no mortal has\\ndisturbed them.  _In pace requiescat!_', metadata={'source': '/Users/jordan.frazier/Documents/Datastax/ragstack-ai/examples/notebooks/amontillado.txt'}),\n",
       "     Document(page_content='The thousand injuries of Fortunato I had borne as I best could, but\\nwhen he ventured upon insult, I vowed revenge.  You, who so well know\\nthe nature of my soul, will not suppose, however, that I gave utterance\\nto a threat.  _At length_ I would be avenged; this was a point definitely\\nsettled--but the very definitiveness with which it was resolved,\\nprecluded the idea of risk.  I must not only punish, but punish with\\nimpunity.  A wrong is unredressed when retribution overtakes its\\nredresser.  It is equally unredressed when the avenger fails to make\\nhimself felt as such to him who has done the wrong.\\n\\nIt must be understood that neither by word nor deed had I given\\nFortunato cause to doubt my good will.  I continued, as was my wont, to\\nsmile in his face, and he did not perceive that my smile _now_ was at\\nthe thought of his immolation.\\n\\nHe had a weak point--this Fortunato--although in other regards he was a\\nman to be respected and even feared.  He prided himself on his\\nconnoisseurship in wine.  Few Italians have the true virtuoso spirit.\\nFor the most part their enthusiasm is adopted to suit the time and\\nopportunity--to practise imposture upon the British and Austrian\\n_millionaires_.  In painting and gemmary, Fortunato, like his countrymen,\\nwas a quack--but in the matter of old wines he was sincere.  In this\\nrespect I did not differ from him materially: I was skillful in the\\nItalian vintages myself, and bought largely whenever I could.\\n\\nIt was about dusk, one evening during the supreme madness of the\\ncarnival season, that I encountered my friend.  He accosted me with\\nexcessive warmth, for he had been drinking much.  The man wore motley.\\nHe had on a tight-fitting parti-striped dress, and his head was\\nsurmounted by the conical cap and bells.  I was so pleased to see him,\\nthat I thought I should never have done wringing his hand.\\n\\nI said to him--\"My dear Fortunato, you are luckily met.  How remarkably\\nwell you are looking to-day!  But I have received a pipe of what passes\\nfor Amontillado, and I have my doubts.\"\\n\\n\"How?\" said he.  \"Amontillado?  A pipe?  Impossible!  And in the middle\\nof the carnival!\"\\n\\n\"I have my doubts,\" I replied; \"and I was silly enough to pay the full\\nAmontillado price without consulting you in the matter. You were not to\\nbe found, and I was fearful of losing a bargain.\"\\n\\n\"Amontillado!\"\\n\\n\"I have my doubts.\"\\n\\n\"Amontillado!\"\\n\\n\"And I must satisfy them.\"\\n\\n\"Amontillado!\"\\n\\n\"As you are engaged, I am on my way to Luchesi.  If any one has a\\ncritical turn, it is he.  He will tell me--\"\\n\\n\"Luchesi cannot tell Amontillado from Sherry.\"\\n\\n\"And yet some fools will have it that his taste is a match for your\\nown.\"\\n\\n\"Come, let us go.\"\\n\\n\"Whither?\"\\n\\n\"To your vaults.\"\\n\\n\"My friend, no; I will not impose upon your good nature.  I perceive\\nyou have an engagement.  Luchesi--\"\\n\\n\"I have no engagement;--come.\"\\n\\n\"My friend, no.  It is not the engagement, but the severe cold with\\nwhich I perceive you are afflicted.  The vaults are insufferably damp.\\nThey are encrusted with nitre.\"\\n\\n\"Let us go, nevertheless.  The cold is merely nothing. Amontillado!\\nYou have been imposed upon.  And as for Luchesi, he cannot distinguish\\nSherry from Amontillado.\"\\n\\nThus speaking, Fortunato possessed himself of my arm. Putting on a mask\\nof black silk, and drawing a _roquelaire_ closely about my person, I\\nsuffered him to hurry me to my palazzo.\\n\\nThere were no attendants at home; they had absconded to make merry in\\nhonour of the time.  I had told them that I should not return until the\\nmorning, and had given them explicit orders not to stir from the house.\\nThese orders were sufficient, I well knew, to insure their immediate\\ndisappearance, one and all, as soon as my back was turned.', metadata={'source': '/Users/jordan.frazier/Documents/Datastax/ragstack-ai/examples/notebooks/amontillado.txt'}),\n",
       "     Document(page_content='The thousand injuries of Fortunato I had borne as I best could, but\\nwhen he ventured upon insult, I vowed revenge.  You, who so well know\\nthe nature of my soul, will not suppose, however, that I gave utterance\\nto a threat.  _At length_ I would be avenged; this was a point definitely\\nsettled--but the very definitiveness with which it was resolved,\\nprecluded the idea of risk.  I must not only punish, but punish with\\nimpunity.  A wrong is unredressed when retribution overtakes its\\nredresser.  It is equally unredressed when the avenger fails to make\\nhimself felt as such to him who has done the wrong.\\n\\nIt must be understood that neither by word nor deed had I given\\nFortunato cause to doubt my good will.  I continued, as was my wont, to\\nsmile in his face, and he did not perceive that my smile _now_ was at\\nthe thought of his immolation.\\n\\nHe had a weak point--this Fortunato--although in other regards he was a\\nman to be respected and even feared.  He prided himself on his\\nconnoisseurship in wine.  Few Italians have the true virtuoso spirit.\\nFor the most part their enthusiasm is adopted to suit the time and\\nopportunity--to practise imposture upon the British and Austrian\\n_millionaires_.  In painting and gemmary, Fortunato, like his countrymen,\\nwas a quack--but in the matter of old wines he was sincere.  In this\\nrespect I did not differ from him materially: I was skillful in the\\nItalian vintages myself, and bought largely whenever I could.\\n\\nIt was about dusk, one evening during the supreme madness of the\\ncarnival season, that I encountered my friend.  He accosted me with\\nexcessive warmth, for he had been drinking much.  The man wore motley.\\nHe had on a tight-fitting parti-striped dress, and his head was\\nsurmounted by the conical cap and bells.  I was so pleased to see him,\\nthat I thought I should never have done wringing his hand.\\n\\nI said to him--\"My dear Fortunato, you are luckily met.  How remarkably\\nwell you are looking to-day!  But I have received a pipe of what passes\\nfor Amontillado, and I have my doubts.\"\\n\\n\"How?\" said he.  \"Amontillado?  A pipe?  Impossible!  And in the middle\\nof the carnival!\"\\n\\n\"I have my doubts,\" I replied; \"and I was silly enough to pay the full\\nAmontillado price without consulting you in the matter. You were not to\\nbe found, and I was fearful of losing a bargain.\"\\n\\n\"Amontillado!\"\\n\\n\"I have my doubts.\"\\n\\n\"Amontillado!\"\\n\\n\"And I must satisfy them.\"\\n\\n\"Amontillado!\"\\n\\n\"As you are engaged, I am on my way to Luchesi.  If any one has a\\ncritical turn, it is he.  He will tell me--\"\\n\\n\"Luchesi cannot tell Amontillado from Sherry.\"\\n\\n\"And yet some fools will have it that his taste is a match for your\\nown.\"\\n\\n\"Come, let us go.\"\\n\\n\"Whither?\"\\n\\n\"To your vaults.\"\\n\\n\"My friend, no; I will not impose upon your good nature.  I perceive\\nyou have an engagement.  Luchesi--\"\\n\\n\"I have no engagement;--come.\"\\n\\n\"My friend, no.  It is not the engagement, but the severe cold with\\nwhich I perceive you are afflicted.  The vaults are insufferably damp.\\nThey are encrusted with nitre.\"\\n\\n\"Let us go, nevertheless.  The cold is merely nothing. Amontillado!\\nYou have been imposed upon.  And as for Luchesi, he cannot distinguish\\nSherry from Amontillado.\"\\n\\nThus speaking, Fortunato possessed himself of my arm. Putting on a mask\\nof black silk, and drawing a _roquelaire_ closely about my person, I\\nsuffered him to hurry me to my palazzo.\\n\\nThere were no attendants at home; they had absconded to make merry in\\nhonour of the time.  I had told them that I should not return until the\\nmorning, and had given them explicit orders not to stir from the house.\\nThese orders were sufficient, I well knew, to insure their immediate\\ndisappearance, one and all, as soon as my back was turned.', metadata={'source': '/Users/jordan.frazier/Documents/Datastax/ragstack-ai/examples/notebooks/amontillado.txt'})]},\n",
       "   'reference': {'answer': 'The major themes are happiness and trustworthiness.'}},\n",
       "  '4bac2998-5a81-4f5f-8797-0f8cfcbaa647': {'input': {'input': 'What motivates the narrator, Montresor, to seek revenge against Fortunato?'},\n",
       "   'feedback': [EvaluationResult(key='correctness', score=0, value='INCORRECT', comment='INCORRECT', correction=None, evaluator_info={'__run': RunInfo(run_id=UUID('b01debd8-2b48-445b-9a8e-a02c19d91a85'))}, source_run_id=None, target_run_id=None),\n",
       "    EvaluationResult(key='Contextual Accuracy', score=1, value='CORRECT', comment='CORRECT', correction=None, evaluator_info={'__run': RunInfo(run_id=UUID('9f2f8c93-e8d5-411c-a3d1-655ec075ca0a'))}, source_run_id=None, target_run_id=None)],\n",
       "   'execution_time': 21.982495,\n",
       "   'run_id': '8e3b0b1f-5966-429d-8159-44ee7d1794c7',\n",
       "   'output': {'query': 'What motivates the narrator, Montresor, to seek revenge against Fortunato?',\n",
       "    'result': 'The narrator, Montresor, seeks revenge against Fortunato because of the \"thousand injuries\" he has endured from him. Fortunato has insulted Montresor, which leads him to vow revenge. However, Montresor does not explicitly reveal the nature of the insult or the injuries he has suffered.',\n",
       "    'source_documents': [Document(page_content='The thousand injuries of Fortunato I had borne as I best could, but\\nwhen he ventured upon insult, I vowed revenge.  You, who so well know\\nthe nature of my soul, will not suppose, however, that I gave utterance\\nto a threat.  _At length_ I would be avenged; this was a point definitely\\nsettled--but the very definitiveness with which it was resolved,\\nprecluded the idea of risk.  I must not only punish, but punish with\\nimpunity.  A wrong is unredressed when retribution overtakes its\\nredresser.  It is equally unredressed when the avenger fails to make\\nhimself felt as such to him who has done the wrong.\\n\\nIt must be understood that neither by word nor deed had I given\\nFortunato cause to doubt my good will.  I continued, as was my wont, to\\nsmile in his face, and he did not perceive that my smile _now_ was at\\nthe thought of his immolation.\\n\\nHe had a weak point--this Fortunato--although in other regards he was a\\nman to be respected and even feared.  He prided himself on his\\nconnoisseurship in wine.  Few Italians have the true virtuoso spirit.\\nFor the most part their enthusiasm is adopted to suit the time and\\nopportunity--to practise imposture upon the British and Austrian\\n_millionaires_.  In painting and gemmary, Fortunato, like his countrymen,\\nwas a quack--but in the matter of old wines he was sincere.  In this\\nrespect I did not differ from him materially: I was skillful in the\\nItalian vintages myself, and bought largely whenever I could.\\n\\nIt was about dusk, one evening during the supreme madness of the\\ncarnival season, that I encountered my friend.  He accosted me with\\nexcessive warmth, for he had been drinking much.  The man wore motley.\\nHe had on a tight-fitting parti-striped dress, and his head was\\nsurmounted by the conical cap and bells.  I was so pleased to see him,\\nthat I thought I should never have done wringing his hand.\\n\\nI said to him--\"My dear Fortunato, you are luckily met.  How remarkably\\nwell you are looking to-day!  But I have received a pipe of what passes\\nfor Amontillado, and I have my doubts.\"\\n\\n\"How?\" said he.  \"Amontillado?  A pipe?  Impossible!  And in the middle\\nof the carnival!\"\\n\\n\"I have my doubts,\" I replied; \"and I was silly enough to pay the full\\nAmontillado price without consulting you in the matter. You were not to\\nbe found, and I was fearful of losing a bargain.\"\\n\\n\"Amontillado!\"\\n\\n\"I have my doubts.\"\\n\\n\"Amontillado!\"\\n\\n\"And I must satisfy them.\"\\n\\n\"Amontillado!\"\\n\\n\"As you are engaged, I am on my way to Luchesi.  If any one has a\\ncritical turn, it is he.  He will tell me--\"\\n\\n\"Luchesi cannot tell Amontillado from Sherry.\"\\n\\n\"And yet some fools will have it that his taste is a match for your\\nown.\"\\n\\n\"Come, let us go.\"\\n\\n\"Whither?\"\\n\\n\"To your vaults.\"\\n\\n\"My friend, no; I will not impose upon your good nature.  I perceive\\nyou have an engagement.  Luchesi--\"\\n\\n\"I have no engagement;--come.\"\\n\\n\"My friend, no.  It is not the engagement, but the severe cold with\\nwhich I perceive you are afflicted.  The vaults are insufferably damp.\\nThey are encrusted with nitre.\"\\n\\n\"Let us go, nevertheless.  The cold is merely nothing. Amontillado!\\nYou have been imposed upon.  And as for Luchesi, he cannot distinguish\\nSherry from Amontillado.\"\\n\\nThus speaking, Fortunato possessed himself of my arm. Putting on a mask\\nof black silk, and drawing a _roquelaire_ closely about my person, I\\nsuffered him to hurry me to my palazzo.\\n\\nThere were no attendants at home; they had absconded to make merry in\\nhonour of the time.  I had told them that I should not return until the\\nmorning, and had given them explicit orders not to stir from the house.\\nThese orders were sufficient, I well knew, to insure their immediate\\ndisappearance, one and all, as soon as my back was turned.', metadata={'source': '/Users/jordan.frazier/Documents/Datastax/ragstack-ai/examples/notebooks/amontillado.txt'}),\n",
       "     Document(page_content='The thousand injuries of Fortunato I had borne as I best could, but\\nwhen he ventured upon insult, I vowed revenge.  You, who so well know\\nthe nature of my soul, will not suppose, however, that I gave utterance\\nto a threat.  _At length_ I would be avenged; this was a point definitely\\nsettled--but the very definitiveness with which it was resolved,\\nprecluded the idea of risk.  I must not only punish, but punish with\\nimpunity.  A wrong is unredressed when retribution overtakes its\\nredresser.  It is equally unredressed when the avenger fails to make\\nhimself felt as such to him who has done the wrong.\\n\\nIt must be understood that neither by word nor deed had I given\\nFortunato cause to doubt my good will.  I continued, as was my wont, to\\nsmile in his face, and he did not perceive that my smile _now_ was at\\nthe thought of his immolation.\\n\\nHe had a weak point--this Fortunato--although in other regards he was a\\nman to be respected and even feared.  He prided himself on his\\nconnoisseurship in wine.  Few Italians have the true virtuoso spirit.\\nFor the most part their enthusiasm is adopted to suit the time and\\nopportunity--to practise imposture upon the British and Austrian\\n_millionaires_.  In painting and gemmary, Fortunato, like his countrymen,\\nwas a quack--but in the matter of old wines he was sincere.  In this\\nrespect I did not differ from him materially: I was skillful in the\\nItalian vintages myself, and bought largely whenever I could.\\n\\nIt was about dusk, one evening during the supreme madness of the\\ncarnival season, that I encountered my friend.  He accosted me with\\nexcessive warmth, for he had been drinking much.  The man wore motley.\\nHe had on a tight-fitting parti-striped dress, and his head was\\nsurmounted by the conical cap and bells.  I was so pleased to see him,\\nthat I thought I should never have done wringing his hand.\\n\\nI said to him--\"My dear Fortunato, you are luckily met.  How remarkably\\nwell you are looking to-day!  But I have received a pipe of what passes\\nfor Amontillado, and I have my doubts.\"\\n\\n\"How?\" said he.  \"Amontillado?  A pipe?  Impossible!  And in the middle\\nof the carnival!\"\\n\\n\"I have my doubts,\" I replied; \"and I was silly enough to pay the full\\nAmontillado price without consulting you in the matter. You were not to\\nbe found, and I was fearful of losing a bargain.\"\\n\\n\"Amontillado!\"\\n\\n\"I have my doubts.\"\\n\\n\"Amontillado!\"\\n\\n\"And I must satisfy them.\"\\n\\n\"Amontillado!\"\\n\\n\"As you are engaged, I am on my way to Luchesi.  If any one has a\\ncritical turn, it is he.  He will tell me--\"\\n\\n\"Luchesi cannot tell Amontillado from Sherry.\"\\n\\n\"And yet some fools will have it that his taste is a match for your\\nown.\"\\n\\n\"Come, let us go.\"\\n\\n\"Whither?\"\\n\\n\"To your vaults.\"\\n\\n\"My friend, no; I will not impose upon your good nature.  I perceive\\nyou have an engagement.  Luchesi--\"\\n\\n\"I have no engagement;--come.\"\\n\\n\"My friend, no.  It is not the engagement, but the severe cold with\\nwhich I perceive you are afflicted.  The vaults are insufferably damp.\\nThey are encrusted with nitre.\"\\n\\n\"Let us go, nevertheless.  The cold is merely nothing. Amontillado!\\nYou have been imposed upon.  And as for Luchesi, he cannot distinguish\\nSherry from Amontillado.\"\\n\\nThus speaking, Fortunato possessed himself of my arm. Putting on a mask\\nof black silk, and drawing a _roquelaire_ closely about my person, I\\nsuffered him to hurry me to my palazzo.\\n\\nThere were no attendants at home; they had absconded to make merry in\\nhonour of the time.  I had told them that I should not return until the\\nmorning, and had given them explicit orders not to stir from the house.\\nThese orders were sufficient, I well knew, to insure their immediate\\ndisappearance, one and all, as soon as my back was turned.', metadata={'source': '/Users/jordan.frazier/Documents/Datastax/ragstack-ai/examples/notebooks/amontillado.txt'}),\n",
       "     Document(page_content='It was now midnight, and my task was drawing to a close.  I had\\ncompleted the eighth, the ninth, and the tenth tier.  I had finished a\\nportion of the last and the eleventh; there remained but a single stone\\nto be fitted and plastered in.  I struggled with its weight; I placed\\nit partially in its destined position.  But now there came from out the\\nniche a low laugh that erected the hairs upon my head.  It was\\nsucceeded by a sad voice, which I had difficulty in recognizing as that\\nof the noble Fortunato.  The voice said--\\n\\n\"Ha! ha! ha!--he! he! he!--a very good joke indeed--an excellent jest.\\nWe shall have many a rich laugh about it at the palazzo--he! he!\\nhe!--over our wine--he! he! he!\"\\n\\n\"The Amontillado!\" I said.\\n\\n\"He! he! he!--he! he! he!--yes, the Amontillado.  But is it not getting\\nlate?  Will not they be awaiting us at the palazzo, the Lady Fortunato\\nand the rest?  Let us be gone.\"\\n\\n\"Yes,\" I said, \"let us be gone.\"\\n\\n\"_For the love of God, Montresor!_\"\\n\\n\"Yes,\" I said, \"for the love of God!\"\\n\\nBut to these words I hearkened in vain for a reply.  I grew impatient.\\nI called aloud--\\n\\n\"Fortunato!\"\\n\\nNo answer.  I called again--\\n\\n\"Fortunato--\"\\n\\nNo answer still.  I thrust a torch through the remaining aperture and\\nlet it fall within.  There came forth in reply only a jingling of the\\nbells.  My heart grew sick on account of the dampness of the catacombs.\\nI hastened to make an end of my labour.  I forced the last stone into\\nits position; I plastered it up.  Against the new masonry I re-erected\\nthe old rampart of bones.  For the half of a century no mortal has\\ndisturbed them.  _In pace requiescat!_', metadata={'source': '/Users/jordan.frazier/Documents/Datastax/ragstack-ai/examples/notebooks/amontillado.txt'}),\n",
       "     Document(page_content='It was now midnight, and my task was drawing to a close.  I had\\ncompleted the eighth, the ninth, and the tenth tier.  I had finished a\\nportion of the last and the eleventh; there remained but a single stone\\nto be fitted and plastered in.  I struggled with its weight; I placed\\nit partially in its destined position.  But now there came from out the\\nniche a low laugh that erected the hairs upon my head.  It was\\nsucceeded by a sad voice, which I had difficulty in recognizing as that\\nof the noble Fortunato.  The voice said--\\n\\n\"Ha! ha! ha!--he! he! he!--a very good joke indeed--an excellent jest.\\nWe shall have many a rich laugh about it at the palazzo--he! he!\\nhe!--over our wine--he! he! he!\"\\n\\n\"The Amontillado!\" I said.\\n\\n\"He! he! he!--he! he! he!--yes, the Amontillado.  But is it not getting\\nlate?  Will not they be awaiting us at the palazzo, the Lady Fortunato\\nand the rest?  Let us be gone.\"\\n\\n\"Yes,\" I said, \"let us be gone.\"\\n\\n\"_For the love of God, Montresor!_\"\\n\\n\"Yes,\" I said, \"for the love of God!\"\\n\\nBut to these words I hearkened in vain for a reply.  I grew impatient.\\nI called aloud--\\n\\n\"Fortunato!\"\\n\\nNo answer.  I called again--\\n\\n\"Fortunato--\"\\n\\nNo answer still.  I thrust a torch through the remaining aperture and\\nlet it fall within.  There came forth in reply only a jingling of the\\nbells.  My heart grew sick on account of the dampness of the catacombs.\\nI hastened to make an end of my labour.  I forced the last stone into\\nits position; I plastered it up.  Against the new masonry I re-erected\\nthe old rampart of bones.  For the half of a century no mortal has\\ndisturbed them.  _In pace requiescat!_', metadata={'source': '/Users/jordan.frazier/Documents/Datastax/ragstack-ai/examples/notebooks/amontillado.txt'})]},\n",
       "   'reference': {'answer': 'Montresor is insulted by Lenora and seeks revenge.'}}}}"
      ]
     },
     "execution_count": 17,
     "metadata": {},
     "output_type": "execute_result"
    }
   ],
   "source": [
    "from langsmith import Client\n",
    "from langchain.evaluation import EvaluatorType\n",
    "from langchain.smith import RunEvalConfig, run_on_dataset\n",
    "\n",
    "evaluation_config = RunEvalConfig(\n",
    "    # LangChain offers several QA Evaluator types\n",
    "    evaluators=[\n",
    "        \"qa\", # grades a response as correct or incorrect based on reference answer\n",
    "        \"context_qa\", # uses reference context to to determine correctness \n",
    "        # \"cot_qa\", # similar to context_qa, but uses chain-of-thought\n",
    "    ],\n",
    "    prediction_key=\"result\",\n",
    ")\n",
    "\n",
    "client = Client()\n",
    "run_on_dataset(\n",
    "    dataset_name=dataset_name,\n",
    "    llm_or_chain_factory=create_qa_chain(llm=model, vstore=vstore),\n",
    "    client=client,\n",
    "    evaluation=evaluation_config,\n",
    "    verbose=False,\n",
    ")"
   ]
  },
  {
   "cell_type": "markdown",
   "metadata": {},
   "source": [
    "Open the link to view your evaluation results. Note that the first two queries should have \"incorrect\" results, as the dataset purposely contained incorrect answers for those. \n",
    "\n",
    "For more details, see [LangSmith Testing and Evaluation](https://docs.smith.langchain.com/category/testing--evaluation)."
   ]
  },
  {
   "cell_type": "markdown",
   "metadata": {},
   "source": [
    "### Cleanup"
   ]
  },
  {
   "cell_type": "code",
   "execution_count": null,
   "metadata": {
    "nbmake": {
     "post_cell_execute": [
      "# Deletes collection for test suite to allow each test to run with a fresh collection",
      "vstore.delete_collection()"
     ]
    }
   },
   "outputs": [],
   "source": [
    "# WARNING: This will delete the collection and all documents in the collection\n",
    "# vstore.delete_collection()"
   ]
  },
  {
   "cell_type": "markdown",
   "metadata": {},
   "source": [
    "## What's Next\n",
    "\n",
    "Now that you've set up a RAG pipeline and run evalation over it, you can try:\n",
    "* More advanced queries over your dataset\n",
    "* Using your internal documentation and evaluating responses over those\n",
    "* Implementing more advanced RAG techniques to compare evaluation scores\n",
    "* Evaluating with external evaluation tools "
   ]
  }
 ],
 "metadata": {
  "kernelspec": {
   "display_name": "Python 3 (ipykernel)",
   "language": "python",
   "name": "python3"
  },
  "language_info": {
   "codemirror_mode": {
    "name": "ipython",
    "version": 3
   },
   "file_extension": ".py",
   "mimetype": "text/x-python",
   "name": "python",
   "nbconvert_exporter": "python",
   "pygments_lexer": "ipython3",
   "version": "3.11.2"
  }
 },
 "nbformat": 4,
 "nbformat_minor": 4
}