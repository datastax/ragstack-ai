{
    "cells": [
        {
            "cell_type": "markdown",
            "metadata": {},
            "source": [
                "<a href=\"https://colab.research.google.com/github/datastax/ragstack-ai/blob/main/langchain_evaluation.ipynb\" target=\"_parent\"><img src=\"https://colab.research.google.com/assets/colab-badge.svg\" alt=\"Open In Colab\"/></a>"
            ]
        },
        {
            "cell_type": "markdown",
            "metadata": {},
            "source": [
                "# Evaluating RAG pipelines with LangChain\n",
                "\n",
                "This notebook demonstrates how to evaluate a RAG pipeline using LangChain's [QA Evaluator](https://docs.smith.langchain.com/evaluation/evaluator-implementations#correctness-qa-evaluation). This evaluator helps measure the correctness of a response given some context, which makes it ideally suited for evaluating a RAG pipeline. At the end of this notebook, you will have a measurable QA model using RAG.\n",
                "\n",
                "In this tutorial, you will use an Astra DB vector store, an OpenAI embedding model, an OpenAI LLM, LangChain, and LangSmith."
            ]
        },
        {
            "cell_type": "markdown",
            "metadata": {},
            "source": [
                "## Prerequisites\n",
                "\n",
                "You will need a vector-enabled Astra database and an OpenAI Account.\n",
                "\n",
                "* Create an [Astra vector database](https://docs.datastax.com/en/astra-serverless/docs/getting-started/create-db-choices.html).\n",
                "* Create an [OpenAI account](https://openai.com/)\n",
                "* Within your database, create an [Astra DB Access Token](https://docs.datastax.com/en/astra-serverless/docs/manage/org/manage-tokens.html) with Database Administrator permissions.\n",
                "* Get your Astra DB Endpoint: \n",
                "  * `https://<ASTRA_DB_ID>-<ASTRA_DB_REGION>.apps.astra.datastax.com`\n",
                "* A [LangSmith account](https://docs.smith.langchain.com/)\n",
                "\n",
                "See the [Prerequisites](https://docs.datastax.com/en/ragstack/docs/prerequisites.html) page for more details."
            ]
        },
        {
            "cell_type": "markdown",
            "metadata": {},
            "source": [
                "## Setup\n",
                "`ragstack-ai` includes all the packages you need to build a RAG pipeline. "
            ]
        },
        {
            "cell_type": "code",
            "execution_count": null,
            "metadata": {},
            "outputs": [],
            "source": [
                "! pip install ragstack-ai"
            ]
        },
        {
            "cell_type": "code",
            "execution_count": 8,
            "metadata": {
                "nbmake": {
                    "post_cell_execute": [
                        "import string\n",
                        "import random\n",
                        "collection = ''.join(random.choice(string.ascii_lowercase) for _ in range(8))\n"
                    ]
                }
            },
            "outputs": [],
            "source": [
                "import os\n",
                "from getpass import getpass\n",
                "\n",
                "# Enter your settings for Astra DB and OpenAI:\n",
                "keys = [\"ASTRA_DB_APPLICATION_TOKEN\", \"ASTRA_DB_API_ENDPOINT\", \"OPENAI_API_KEY\"]\n",
                "for key in keys:\n",
                "    if key not in os.environ:\n",
                "        os.environ[key] = getpass(f\"Enter {key}: \")"
            ]
        },
        {
            "cell_type": "code",
            "execution_count": null,
            "metadata": {
                "tags": [
                    "skip-execution"
                ]
            },
            "outputs": [],
            "source": [
                "# collections store documents in your vector store\n",
                "collection = input(\"Collection: \")"
            ]
        },
        {
            "cell_type": "markdown",
            "metadata": {},
            "source": [
                "## Create RAG Pipeline"
            ]
        },
        {
            "cell_type": "markdown",
            "metadata": {},
            "source": [
                "### Embedding Model and Vector Store"
            ]
        },
        {
            "cell_type": "code",
            "execution_count": 9,
            "metadata": {},
            "outputs": [
                {
                    "name": "stdout",
                    "output_type": "stream",
                    "text": [
                        "Astra vector store configured\n"
                    ]
                }
            ],
            "source": [
                "from langchain.embeddings.openai import OpenAIEmbeddings\n",
                "from langchain.vectorstores.astradb import AstraDB\n",
                "\n",
                "# Configure your embedding model and vector store\n",
                "embedding = OpenAIEmbeddings()\n",
                "vstore = AstraDB(\n",
                "    collection_name=collection,\n",
                "    embedding=embedding,\n",
                "    token=os.getenv(\"ASTRA_DB_APPLICATION_TOKEN\"),\n",
                "    api_endpoint=os.getenv(\"ASTRA_DB_API_ENDPOINT\"),\n",
                ")\n",
                "print(\"Astra vector store configured\")"
            ]
        },
        {
            "cell_type": "code",
            "execution_count": 10,
            "metadata": {},
            "outputs": [
                {
                    "name": "stdout",
                    "output_type": "stream",
                    "text": [
                        "  % Total    % Received % Xferd  Average Speed   Time    Time     Time  Current\n",
                        "                                 Dload  Upload   Total   Spent    Left  Speed\n",
                        "100 13022  100 13022    0     0  42703      0 --:--:-- --:--:-- --:--:-- 43406\n"
                    ]
                }
            ],
            "source": [
                "# Retrieve the text of a short story that will be indexed in the vector store\n",
                "! curl https://raw.githubusercontent.com/CassioML/cassio-website/main/docs/frameworks/langchain/texts/amontillado.txt --output amontillado.txt\n",
                "SAMPLEDATA = [\"amontillado.txt\"]"
            ]
        },
        {
            "cell_type": "code",
            "execution_count": null,
            "metadata": {
                "tags": [
                    "skip-execution"
                ]
            },
            "outputs": [],
            "source": [
                "# Alternatively, provide your own file. However, you will want to update your queries to match the content of your file.\n",
                "\n",
                "# Upload sample file (Note: this cell assumes you are on Google Colab)\n",
                "# Local Jupyter notebooks can provide the path to their files directly by uncommenting and running just the next line).\n",
                "# SAMPLEDATA = [\"<path_to_file>\"]\n",
                "\n",
                "from google.colab import files\n",
                "\n",
                "print(\"Please upload your own sample file:\")\n",
                "uploaded = files.upload()\n",
                "if uploaded:\n",
                "    SAMPLEDATA = uploaded\n",
                "else:\n",
                "    raise ValueError(\"Cannot proceed without Sample Data. Please re-run the cell.\")\n",
                "\n",
                "print(f\"Please make sure to change your queries to match the contents of your file!\")"
            ]
        },
        {
            "cell_type": "code",
            "execution_count": 12,
            "metadata": {},
            "outputs": [
                {
                    "name": "stdout",
                    "output_type": "stream",
                    "text": [
                        "Processed txt file: amontillado.txt\n",
                        "\n",
                        "Processing done.\n"
                    ]
                }
            ],
            "source": [
                "import os\n",
                "from langchain.document_loaders import TextLoader\n",
                "from langchain.document_loaders import PyPDFLoader\n",
                "\n",
                "# Loop through each file and load it into our vector store\n",
                "documents = []\n",
                "for filename in SAMPLEDATA:\n",
                "    path = os.path.join(os.getcwd(), filename)\n",
                "\n",
                "    # Supported file types are pdf and txt\n",
                "    if filename.endswith(\".pdf\"):\n",
                "        loader = PyPDFLoader(path)\n",
                "        new_docs = loader.load_and_split()\n",
                "        print(f\"Processed pdf file: {filename}\")\n",
                "    elif filename.endswith(\".txt\"):\n",
                "        loader = TextLoader(path)\n",
                "        new_docs = loader.load_and_split()\n",
                "        print(f\"Processed txt file: {filename}\")\n",
                "    else:\n",
                "        print(f\"Unsupported file type: {filename}\")\n",
                "\n",
                "    if len(new_docs) > 0:\n",
                "        documents.extend(new_docs)\n",
                "\n",
                "# empty the list of file names in case this cell is run multiple times\n",
                "SAMPLEDATA = []\n",
                "\n",
                "print(f\"\\nProcessing done.\")"
            ]
        },
        {
            "cell_type": "code",
            "execution_count": 13,
            "metadata": {},
            "outputs": [
                {
                    "name": "stdout",
                    "output_type": "stream",
                    "text": [
                        "\n",
                        "Inserted 4 documents.\n"
                    ]
                }
            ],
            "source": [
                "# Create embeddings by inserting your documents into the vector store.\n",
                "inserted_ids = vstore.add_documents(documents)\n",
                "print(f\"\\nInserted {len(inserted_ids)} documents.\")"
            ]
        },
        {
            "cell_type": "code",
            "execution_count": null,
            "metadata": {},
            "outputs": [],
            "source": [
                "# Checks your Collection to verify the Documents are embedded.\n",
                "print(vstore.astra_db.collection(collection).find())"
            ]
        },
        {
            "cell_type": "markdown",
            "metadata": {},
            "source": [
                "### Basic Retrieval\n",
                "\n",
                "Retrieve context from your vector database, and pass it to the model with a prompt."
            ]
        },
        {
            "cell_type": "code",
            "execution_count": 15,
            "metadata": {},
            "outputs": [
                {
                    "data": {
                        "text/plain": [
                            "'The narrator, Montresor, seeks revenge against Fortunato because Fortunato has insulted him.'"
                        ]
                    },
                    "execution_count": 15,
                    "metadata": {},
                    "output_type": "execute_result"
                }
            ],
            "source": [
                "from langchain.prompts import ChatPromptTemplate\n",
                "from langchain.chat_models import ChatOpenAI\n",
                "from langchain.schema.output_parser import StrOutputParser\n",
                "from langchain.schema.runnable import RunnablePassthrough\n",
                "\n",
                "retriever = vstore.as_retriever(search_kwargs={\"k\": 3})\n",
                "\n",
                "prompt_template = \"\"\"\n",
                "Answer the question based only on the supplied context. If you don't know the answer, say you don't know the answer.\n",
                "Context: {context}\n",
                "Question: {question}\n",
                "Your answer:\n",
                "\"\"\"\n",
                "prompt = ChatPromptTemplate.from_template(prompt_template)\n",
                "model = ChatOpenAI()\n",
                "\n",
                "chain = (\n",
                "    {\"context\": retriever, \"question\": RunnablePassthrough()}\n",
                "    | prompt\n",
                "    | model\n",
                "    | StrOutputParser()\n",
                ")\n",
                "\n",
                "chain.invoke(\n",
                "    \"In the given context, what motivates the narrator, Montresor, to seek revenge against Fortunato?\"\n",
                ")"
            ]
        },
        {
            "cell_type": "markdown",
            "metadata": {},
            "source": [
                "## Evaluation\n",
                "\n",
                "LangChain offers several [built-in evaluators](https://docs.smith.langchain.com/evaluation/evaluator-implementations) that you can use to test the efficacy of your RAG pipeline. Since you've created a RAG pipeline, the QA Evaluator is a good fit. \n",
                "\n",
                "Remember that LLMs are probablistic -- responses will not be the exact same for each invocation. Evaluation results will differ between invocations, and they may be imperfect. Using the metrics as part of a larger holistic testing strategy for your RAG application is recommended."
            ]
        },
        {
            "cell_type": "markdown",
            "metadata": {},
            "source": [
                "### Setup\n",
                "\n",
                "LangSmith is required to run evaluation using the built-in LangChain tools. "
            ]
        },
        {
            "cell_type": "code",
            "execution_count": 16,
            "metadata": {},
            "outputs": [],
            "source": [
                "import os\n",
                "from getpass import getpass\n",
                "\n",
                "os.environ[\"LANGCHAIN_TRACING_V2\"] = \"true\"\n",
                "os.environ[\"LANGCHAIN_ENDPOINT\"] = \"https://api.smith.langchain.com\"\n",
                "os.environ[\"LANGCHAIN_API_KEY\"] = getpass(\"LangChain API Key: \")\n",
                "os.environ[\"LANGCHAIN_PROJECT\"] = input(\n",
                "    \"Project: \"\n",
                ")  # if not specified, defaults to \"default\""
            ]
        },
        {
            "cell_type": "code",
            "execution_count": 54,
            "metadata": {},
            "outputs": [],
            "source": [
                "eval_questions = [\n",
                "    \"What motivates the narrator, Montresor, to seek revenge against Fortunato?\",\n",
                "    \"What are the major themes in this story?\",\n",
                "    \"What is the significance of the story taking place during the carnival season?\",\n",
                "    \"What literary techniques does Poe use to create suspense and tension in the story?\",\n",
                "]\n",
                "\n",
                "eval_answers = [\n",
                "    \"Montresor is insulted by Lenora and seeks revenge.\",  # Incorrect Answer\n",
                "    \"The major themes are happiness and trustworthiness.\",  # Incorrect Answer\n",
                "    \"The carnival season is a time of celebration and merriment, which contrasts with the sinister events of the story.\",\n",
                "    \"Poe uses foreshadowing, irony, and symbolism to create suspense and tension.\",\n",
                "]\n",
                "\n",
                "examples = zip(eval_questions, eval_answers)"
            ]
        },
        {
            "cell_type": "code",
            "execution_count": 56,
            "metadata": {},
            "outputs": [
                {
                    "name": "stdout",
                    "output_type": "stream",
                    "text": [
                        "Created a new dataset:  test_eval_dataset\n"
                    ]
                }
            ],
            "source": [
                "# Create your dataset in LangSmith\n",
                "from langsmith import Client\n",
                "from langsmith.utils import LangSmithError\n",
                "\n",
                "client = Client()\n",
                "dataset_name = \"test_eval_dataset\"\n",
                "\n",
                "try:\n",
                "    # Check if dataset exists\n",
                "    dataset = client.read_dataset(dataset_name=dataset_name)\n",
                "    print(\"using existing dataset: \", dataset.name)\n",
                "except LangSmithError:\n",
                "    # If not, create a new one with the eval questions\n",
                "    dataset = client.create_dataset(\n",
                "        dataset_name=dataset_name,\n",
                "        description=\"sample evaluation dataset\",\n",
                "    )\n",
                "    for question, answer in examples:\n",
                "        client.create_example(\n",
                "            inputs={\"input\": question},\n",
                "            outputs={\"answer\": answer},\n",
                "            dataset_id=dataset.id,\n",
                "        )\n",
                "\n",
                "    print(\"Created a new dataset: \", dataset.name)"
            ]
        },
        {
            "cell_type": "code",
            "execution_count": 57,
            "metadata": {},
            "outputs": [],
            "source": [
                "from langchain.chains import RetrievalQA\n",
                "\n",
                "\n",
                "# Since chains and agents can be stateful (they can have memory),\n",
                "# create a constructor to pass in to the run_on_dataset method.\n",
                "# This is so any state in the chain is not reused when evaluating individual examples.\n",
                "def create_qa_chain(llm, vstore, return_context=True):\n",
                "    qa_chain = RetrievalQA.from_chain_type(\n",
                "        llm,\n",
                "        retriever=vstore.as_retriever(),\n",
                "        return_source_documents=return_context,\n",
                "    )\n",
                "    return qa_chain"
            ]
        },
        {
            "cell_type": "markdown",
            "metadata": {},
            "source": [
                "### Run Evaluation\n",
                "\n",
                "Now that you have a dataset in LangSmith, you can run evaluation over it using LangChain's built-in evaluators."
            ]
        },
        {
            "cell_type": "code",
            "execution_count": 60,
            "metadata": {},
            "outputs": [
                {
                    "name": "stdout",
                    "output_type": "stream",
                    "text": [
                        "View the evaluation results for project 'glossy-star-81' at:\n",
                        "https://smith.langchain.com/o/c848b3f1-1464-5ef1-bd87-f03d2ce8baa7/projects/p/3113b7b3-1ee4-4d3d-a764-84532804c46f?eval=true\n",
                        "\n",
                        "View all tests for Dataset test_eval_dataset at:\n",
                        "https://smith.langchain.com/o/c848b3f1-1464-5ef1-bd87-f03d2ce8baa7/datasets/1755e594-2ad8-42ab-9995-d8eac00b07c2\n",
                        "[------------------------------------------------->] 4/4\n",
                        " Eval quantiles:\n",
                        "                                             inputs.input  \\\n",
                        "count                                                   4   \n",
                        "unique                                                  4   \n",
                        "top     What literary techniques does Poe use to creat...   \n",
                        "freq                                                    1   \n",
                        "mean                                                  NaN   \n",
                        "std                                                   NaN   \n",
                        "min                                                   NaN   \n",
                        "25%                                                   NaN   \n",
                        "50%                                                   NaN   \n",
                        "75%                                                   NaN   \n",
                        "max                                                   NaN   \n",
                        "\n",
                        "                                            outputs.query  \\\n",
                        "count                                                   4   \n",
                        "unique                                                  4   \n",
                        "top     What literary techniques does Poe use to creat...   \n",
                        "freq                                                    1   \n",
                        "mean                                                  NaN   \n",
                        "std                                                   NaN   \n",
                        "min                                                   NaN   \n",
                        "25%                                                   NaN   \n",
                        "50%                                                   NaN   \n",
                        "75%                                                   NaN   \n",
                        "max                                                   NaN   \n",
                        "\n",
                        "                                           outputs.result  \\\n",
                        "count                                                   4   \n",
                        "unique                                                  4   \n",
                        "top     In \"The Cask of Amontillado,\" Poe uses several...   \n",
                        "freq                                                    1   \n",
                        "mean                                                  NaN   \n",
                        "std                                                   NaN   \n",
                        "min                                                   NaN   \n",
                        "25%                                                   NaN   \n",
                        "50%                                                   NaN   \n",
                        "75%                                                   NaN   \n",
                        "max                                                   NaN   \n",
                        "\n",
                        "                                 outputs.source_documents  \\\n",
                        "count                                                   4   \n",
                        "unique                                                  4   \n",
                        "top     [page_content='It was now midnight, and my tas...   \n",
                        "freq                                                    1   \n",
                        "mean                                                  NaN   \n",
                        "std                                                   NaN   \n",
                        "min                                                   NaN   \n",
                        "25%                                                   NaN   \n",
                        "50%                                                   NaN   \n",
                        "75%                                                   NaN   \n",
                        "max                                                   NaN   \n",
                        "\n",
                        "        feedback.correctness  feedback.Contextual Accuracy  \\\n",
                        "count                4.00000                       4.00000   \n",
                        "unique                   NaN                           NaN   \n",
                        "top                      NaN                           NaN   \n",
                        "freq                     NaN                           NaN   \n",
                        "mean                 0.50000                       0.50000   \n",
                        "std                  0.57735                       0.57735   \n",
                        "min                  0.00000                       0.00000   \n",
                        "25%                  0.00000                       0.00000   \n",
                        "50%                  0.50000                       0.50000   \n",
                        "75%                  1.00000                       1.00000   \n",
                        "max                  1.00000                       1.00000   \n",
                        "\n",
                        "        feedback.COT Contextual Accuracy error  execution_time  \n",
                        "count                            4.00000     0        4.000000  \n",
                        "unique                               NaN     0             NaN  \n",
                        "top                                  NaN   NaN             NaN  \n",
                        "freq                                 NaN   NaN             NaN  \n",
                        "mean                             0.50000   NaN        7.474066  \n",
                        "std                              0.57735   NaN        3.718295  \n",
                        "min                              0.00000   NaN        4.085278  \n",
                        "25%                              0.00000   NaN        5.418905  \n",
                        "50%                              0.50000   NaN        6.553774  \n",
                        "75%                              1.00000   NaN        8.608935  \n",
                        "max                              1.00000   NaN       12.703435  \n"
                    ]
                },
                {
                    "data": {
                        "text/plain": [
                            "{'project_name': 'glossy-star-81',\n",
                            " 'results': {'cb519748-8c64-4dad-a258-56cb5e6b08c5': {'input': {'input': 'What literary techniques does Poe use to create suspense and tension in the story?'},\n",
                            "   'feedback': [EvaluationResult(key='correctness', score=1, value='CORRECT', comment='CORRECT', correction=None, evaluator_info={'__run': RunInfo(run_id=UUID('c3725d4f-7de5-4456-ad43-d55c4c9e968c'))}, source_run_id=None, target_run_id=None),\n",
                            "    EvaluationResult(key='Contextual Accuracy', score=1, value='CORRECT', comment='CORRECT', correction=None, evaluator_info={'__run': RunInfo(run_id=UUID('00618f23-d778-4509-b9b2-f3fb28c6a1cc'))}, source_run_id=None, target_run_id=None),\n",
                            "    EvaluationResult(key='COT Contextual Accuracy', score=1, value='CORRECT', comment=\"The student's answer correctly identifies foreshadowing, irony, and symbolism as techniques used by Poe to create suspense and tension, which aligns with the context provided. The student also provides additional techniques such as the use of an unreliable narrator, verbal irony, and repetition. These additional points do not contradict the context, but rather provide a more comprehensive analysis of the literary techniques used by Poe. Therefore, the student's answer is factually accurate.\\nGRADE: CORRECT\", correction=None, evaluator_info={'__run': RunInfo(run_id=UUID('a5992dad-56d7-4824-b70a-3a7a6ab1b996'))}, source_run_id=None, target_run_id=None)],\n",
                            "   'execution_time': 12.703435,\n",
                            "   'output': {'query': 'What literary techniques does Poe use to create suspense and tension in the story?',\n",
                            "    'result': 'In \"The Cask of Amontillado,\" Poe uses several literary techniques to create suspense and tension in the story:\\n\\n1. Foreshadowing: Poe hints at the impending doom throughout the story, such as when Montresor mentions his \"task\" nearing completion and mentions that no mortal has disturbed the bones for half a century.\\n\\n2. Dramatic Irony: The readers are aware of Montresor\\'s sinister intentions, while Fortunato remains oblivious to his impending fate. This creates tension as the readers anticipate the moment when Fortunato will discover the trap.\\n\\n3. Unreliable Narrator: Montresor\\'s narration and the way he justifies his actions add to the suspense. The readers are left questioning his motives and wondering if he is truly trustworthy.\\n\\n4. Symbolism: Poe uses symbolism, such as the catacombs, the bones, and the amontillado, to create a dark and eerie atmosphere. These symbols contribute to the overall sense of suspense and impending doom.\\n\\n5. Verbal Irony: Montresor\\'s casual and polite demeanor towards Fortunato, despite his dark intentions, adds to the tension. The contrast between Montresor\\'s words and his true intentions creates a sense of unease.\\n\\n6. Repetition: Poe repeats certain phrases, such as Fortunato\\'s cough, the jingling of the bells on his cap, and Montresor\\'s insistence on returning due to Fortunato\\'s health. This repetition builds suspense and heightens the tension.\\n\\nOverall, Poe\\'s use of foreshadowing, dramatic irony, an unreliable narrator, symbolism, verbal irony, and repetition all contribute to the creation of suspense and tension in \"The Cask of Amontillado.\"',\n",
                            "    'source_documents': [Document(page_content='It was now midnight, and my task was drawing to a close.  I had\\ncompleted the eighth, the ninth, and the tenth tier.  I had finished a\\nportion of the last and the eleventh; there remained but a single stone\\nto be fitted and plastered in.  I struggled with its weight; I placed\\nit partially in its destined position.  But now there came from out the\\nniche a low laugh that erected the hairs upon my head.  It was\\nsucceeded by a sad voice, which I had difficulty in recognizing as that\\nof the noble Fortunato.  The voice said--\\n\\n\"Ha! ha! ha!--he! he! he!--a very good joke indeed--an excellent jest.\\nWe shall have many a rich laugh about it at the palazzo--he! he!\\nhe!--over our wine--he! he! he!\"\\n\\n\"The Amontillado!\" I said.\\n\\n\"He! he! he!--he! he! he!--yes, the Amontillado.  But is it not getting\\nlate?  Will not they be awaiting us at the palazzo, the Lady Fortunato\\nand the rest?  Let us be gone.\"\\n\\n\"Yes,\" I said, \"let us be gone.\"\\n\\n\"_For the love of God, Montresor!_\"\\n\\n\"Yes,\" I said, \"for the love of God!\"\\n\\nBut to these words I hearkened in vain for a reply.  I grew impatient.\\nI called aloud--\\n\\n\"Fortunato!\"\\n\\nNo answer.  I called again--\\n\\n\"Fortunato--\"\\n\\nNo answer still.  I thrust a torch through the remaining aperture and\\nlet it fall within.  There came forth in reply only a jingling of the\\nbells.  My heart grew sick on account of the dampness of the catacombs.\\nI hastened to make an end of my labour.  I forced the last stone into\\nits position; I plastered it up.  Against the new masonry I re-erected\\nthe old rampart of bones.  For the half of a century no mortal has\\ndisturbed them.  _In pace requiescat!_', metadata={'source': '/Users/jordan.frazier/Documents/Datastax/ragstack-ai-examples/amontillado.txt'}),\n",
                            "     Document(page_content='At the most remote end of the crypt there appeared another less\\nspacious.  Its walls had been lined with human remains, piled to the\\nvault overhead, in the fashion of the great catacombs of Paris.  Three\\nsides of this interior crypt were still ornamented in this manner.\\nFrom the fourth side the bones had been thrown down, and lay\\npromiscuously upon the earth, forming at one point a mound of some\\nsize.  Within the wall thus exposed by the displacing of the bones, we\\nperceived a still interior recess, in depth about four feet in width\\nthree, in height six or seven.  It seemed to have been constructed for\\nno especial use within itself, but formed merely the interval between\\ntwo of the colossal supports of the roof of the catacombs, and was\\nbacked by one of their circumscribing walls of solid granite.\\n\\nIt was in vain that Fortunato, uplifting his dull torch, endeavoured to\\npry into the depth of the recess.  Its termination the feeble light did\\nnot enable us to see.\\n\\n\"Proceed,\" I said; \"herein is the Amontillado.  As for Luchesi--\"\\n\\n\"He is an ignoramus,\" interrupted my friend, as he stepped unsteadily\\nforward, while I followed immediately at his heels.  In an instant he\\nhad reached the extremity of the niche, and finding his progress\\narrested by the rock, stood stupidly bewildered.  A moment more and I\\nhad fettered him to the granite.  In its surface were two iron staples,\\ndistant from each other about two feet, horizontally.  From one of\\nthese depended a short chain, from the other a padlock.  Throwing the\\nlinks about his waist, it was but the work of a few seconds to secure\\nit.  He was too much astounded to resist.  Withdrawing the key I\\nstepped back from the recess.\\n\\n\"Pass your hand,\" I said, \"over the wall; you cannot help feeling the\\nnitre.  Indeed, it is _very_ damp.  Once more let me _implore_ you to\\nreturn.  No?  Then I must positively leave you.  But I must first\\nrender you all the little attentions in my power.\"\\n\\n\"The Amontillado!\" ejaculated my friend, not yet recovered from his\\nastonishment.\\n\\n\"True,\" I replied; \"the Amontillado.\"\\n\\nAs I said these words I busied myself among the pile of bones of which\\nI have before spoken.  Throwing them aside, I soon uncovered a quantity\\nof building stone and mortar.  With these materials and with the aid of\\nmy trowel, I began vigorously to wall up the entrance of the niche.\\n\\nI had scarcely laid the first tier of the masonry when I discovered\\nthat the intoxication of Fortunato had in a great measure worn off. The\\nearliest indication I had of this was a low moaning cry from the depth\\nof the recess.  It was _not_ the cry of a drunken man. There was then a\\nlong and obstinate silence.  I laid the second tier, and the third, and\\nthe fourth; and then I heard the furious vibrations of the chain.  The\\nnoise lasted for several minutes, during which, that I might hearken to\\nit with the more satisfaction, I ceased my labours and sat down upon\\nthe bones. When at last the clanking subsided, I resumed the trowel,\\nand finished without interruption the fifth, the sixth, and the seventh\\ntier.  The wall was now nearly upon a level with my breast.  I again\\npaused, and holding the flambeaux over the mason-work, threw a few\\nfeeble rays upon the figure within.\\n\\nA succession of loud and shrill screams, bursting suddenly from the\\nthroat of the chained form, seemed to thrust me violently back.  For a\\nbrief moment I hesitated--I trembled.  Unsheathing my rapier, I began\\nto grope with it about the recess; but the thought of an instant\\nreassured me.  I placed my hand upon the solid fabric of the catacombs,\\nand felt satisfied.  I reapproached the wall; I replied to the yells of\\nhim who clamoured.  I re-echoed--I aided--I surpassed them in volume\\nand in strength.  I did this, and the clamourer grew still.', metadata={'source': '/Users/jordan.frazier/Documents/Datastax/ragstack-ai-examples/amontillado.txt'}),\n",
                            "     Document(page_content='I took from their sconces two flambeaux, and giving one to Fortunato,\\nbowed him through several suites of rooms to the archway that led into\\nthe vaults.  I passed down a long and winding staircase, requesting him\\nto be cautious as he followed. We came at length to the foot of the\\ndescent, and stood together on the damp ground of the catacombs of the\\nMontresors.\\n\\nThe gait of my friend was unsteady, and the bells upon his cap jingled\\nas he strode.\\n\\n\"The pipe,\" said he.\\n\\n\"It is farther on,\" said I; \"but observe the white web-work which\\ngleams from these cavern walls.\"\\n\\nHe turned towards me, and looked into my eyes with two filmy orbs that\\ndistilled the rheum of intoxication.\\n\\n\"Nitre?\" he asked, at length.\\n\\n\"Nitre,\" I replied.  \"How long have you had that cough?\"\\n\\n\"Ugh! ugh! ugh!--ugh! ugh! ugh!--ugh! ugh! ugh!--ugh! ugh! ugh!--ugh!\\nugh! ugh!\"\\n\\nMy poor friend found it impossible to reply for many minutes.\\n\\n\"It is nothing,\" he said, at last.\\n\\n\"Come,\" I said, with decision, \"we will go back; your health is\\nprecious.  You are rich, respected, admired, beloved; you are happy, as\\nonce I was.  You are a man to be missed.  For me it is no matter.  We\\nwill go back; you will be ill, and I cannot be responsible.  Besides,\\nthere is Luchesi--\"\\n\\n\"Enough,\" he said; \"the cough is a mere nothing; it will not kill me.\\nI shall not die of a cough.\"\\n\\n\"True--true,\" I replied; \"and, indeed, I had no intention of alarming\\nyou unnecessarily--but you should use all proper caution. A draught of\\nthis Medoc will defend us from the damps.\"\\n\\nHere I knocked off the neck of a bottle which I drew from a long row of\\nits fellows that lay upon the mould.\\n\\n\"Drink,\" I said, presenting him the wine.\\n\\nHe raised it to his lips with a leer.  He paused and nodded to me\\nfamiliarly, while his bells jingled.\\n\\n\"I drink,\" he said, \"to the buried that repose around us.\"\\n\\n\"And I to your long life.\"\\n\\nHe again took my arm, and we proceeded.\\n\\n\"These vaults,\" he said, \"are extensive.\"\\n\\n\"The Montresors,\" I replied, \"were a great and numerous family.\"\\n\\n\"I forget your arms.\"\\n\\n\"A huge human foot d\\'or, in a field azure; the foot crushes a serpent\\nrampant whose fangs are imbedded in the heel.\"\\n\\n\"And the motto?\"\\n\\n\"_Nemo me impune lacessit_.\"\\n\\n\"Good!\" he said.\\n\\nThe wine sparkled in his eyes and the bells jingled.  My own fancy grew\\nwarm with the Medoc.  We had passed through walls of piled bones, with\\ncasks and puncheons intermingling, into the inmost recesses of\\ncatacombs.  I paused again, and this time I made bold to seize\\nFortunato by an arm above the elbow.\\n\\n\"The nitre!\" I said; \"see, it increases.  It hangs like moss upon the\\nvaults.  We are below the river\\'s bed.  The drops of moisture trickle\\namong the bones.  Come, we will go back ere it is too late.  Your\\ncough--\"\\n\\n\"It is nothing,\" he said; \"let us go on.  But first, another draught of\\nthe Medoc.\"\\n\\nI broke and reached him a flagon of De Grave.  He emptied it at a\\nbreath.  His eyes flashed with a fierce light.  He laughed and threw\\nthe bottle upwards with a gesticulation I did not understand.\\n\\nI looked at him in surprise.  He repeated the movement--a grotesque one.\\n\\n\"You do not comprehend?\" he said.\\n\\n\"Not I,\" I replied.\\n\\n\"Then you are not of the brotherhood.\"\\n\\n\"How?\"\\n\\n\"You are not of the masons.\"\\n\\n\"Yes, yes,\" I said; \"yes, yes.\"\\n\\n\"You?  Impossible!  A mason?\"\\n\\n\"A mason,\" I replied.\\n\\n\"A sign,\" he said, \"a sign.\"\\n\\n\"It is this,\" I answered, producing a trowel from beneath the folds of\\nmy _roquelaire_.\\n\\n\"You jest,\" he exclaimed, recoiling a few paces.  \"But let us proceed\\nto the Amontillado.\"\\n\\n\"Be it so,\" I said, replacing the tool beneath the cloak and again\\noffering him my arm.  He leaned upon it heavily.  We continued our\\nroute in search of the Amontillado.  We passed through a range of low\\narches, descended, passed on, and descending again, arrived at a deep\\ncrypt, in which the foulness of the air caused our flambeaux rather to\\nglow than flame.', metadata={'source': '/Users/jordan.frazier/Documents/Datastax/ragstack-ai-examples/amontillado.txt'}),\n",
                            "     Document(page_content='The thousand injuries of Fortunato I had borne as I best could, but\\nwhen he ventured upon insult, I vowed revenge.  You, who so well know\\nthe nature of my soul, will not suppose, however, that I gave utterance\\nto a threat.  _At length_ I would be avenged; this was a point definitely\\nsettled--but the very definitiveness with which it was resolved,\\nprecluded the idea of risk.  I must not only punish, but punish with\\nimpunity.  A wrong is unredressed when retribution overtakes its\\nredresser.  It is equally unredressed when the avenger fails to make\\nhimself felt as such to him who has done the wrong.\\n\\nIt must be understood that neither by word nor deed had I given\\nFortunato cause to doubt my good will.  I continued, as was my wont, to\\nsmile in his face, and he did not perceive that my smile _now_ was at\\nthe thought of his immolation.\\n\\nHe had a weak point--this Fortunato--although in other regards he was a\\nman to be respected and even feared.  He prided himself on his\\nconnoisseurship in wine.  Few Italians have the true virtuoso spirit.\\nFor the most part their enthusiasm is adopted to suit the time and\\nopportunity--to practise imposture upon the British and Austrian\\n_millionaires_.  In painting and gemmary, Fortunato, like his countrymen,\\nwas a quack--but in the matter of old wines he was sincere.  In this\\nrespect I did not differ from him materially: I was skillful in the\\nItalian vintages myself, and bought largely whenever I could.\\n\\nIt was about dusk, one evening during the supreme madness of the\\ncarnival season, that I encountered my friend.  He accosted me with\\nexcessive warmth, for he had been drinking much.  The man wore motley.\\nHe had on a tight-fitting parti-striped dress, and his head was\\nsurmounted by the conical cap and bells.  I was so pleased to see him,\\nthat I thought I should never have done wringing his hand.\\n\\nI said to him--\"My dear Fortunato, you are luckily met.  How remarkably\\nwell you are looking to-day!  But I have received a pipe of what passes\\nfor Amontillado, and I have my doubts.\"\\n\\n\"How?\" said he.  \"Amontillado?  A pipe?  Impossible!  And in the middle\\nof the carnival!\"\\n\\n\"I have my doubts,\" I replied; \"and I was silly enough to pay the full\\nAmontillado price without consulting you in the matter. You were not to\\nbe found, and I was fearful of losing a bargain.\"\\n\\n\"Amontillado!\"\\n\\n\"I have my doubts.\"\\n\\n\"Amontillado!\"\\n\\n\"And I must satisfy them.\"\\n\\n\"Amontillado!\"\\n\\n\"As you are engaged, I am on my way to Luchesi.  If any one has a\\ncritical turn, it is he.  He will tell me--\"\\n\\n\"Luchesi cannot tell Amontillado from Sherry.\"\\n\\n\"And yet some fools will have it that his taste is a match for your\\nown.\"\\n\\n\"Come, let us go.\"\\n\\n\"Whither?\"\\n\\n\"To your vaults.\"\\n\\n\"My friend, no; I will not impose upon your good nature.  I perceive\\nyou have an engagement.  Luchesi--\"\\n\\n\"I have no engagement;--come.\"\\n\\n\"My friend, no.  It is not the engagement, but the severe cold with\\nwhich I perceive you are afflicted.  The vaults are insufferably damp.\\nThey are encrusted with nitre.\"\\n\\n\"Let us go, nevertheless.  The cold is merely nothing. Amontillado!\\nYou have been imposed upon.  And as for Luchesi, he cannot distinguish\\nSherry from Amontillado.\"\\n\\nThus speaking, Fortunato possessed himself of my arm. Putting on a mask\\nof black silk, and drawing a _roquelaire_ closely about my person, I\\nsuffered him to hurry me to my palazzo.\\n\\nThere were no attendants at home; they had absconded to make merry in\\nhonour of the time.  I had told them that I should not return until the\\nmorning, and had given them explicit orders not to stir from the house.\\nThese orders were sufficient, I well knew, to insure their immediate\\ndisappearance, one and all, as soon as my back was turned.', metadata={'source': '/Users/jordan.frazier/Documents/Datastax/ragstack-ai-examples/amontillado.txt'})]},\n",
                            "   'reference': {'answer': 'Poe uses foreshadowing, irony, and symbolism to create suspense and tension.'}},\n",
                            "  'be20f0c2-186c-4747-9e24-aee76c4e64bd': {'input': {'input': 'What is the significance of the story taking place during the carnival season?'},\n",
                            "   'feedback': [EvaluationResult(key='correctness', score=1, value='CORRECT', comment='CORRECT', correction=None, evaluator_info={'__run': RunInfo(run_id=UUID('5b6f8cbf-6c1d-4cdf-95f1-1fb3e63d0092'))}, source_run_id=None, target_run_id=None),\n",
                            "    EvaluationResult(key='Contextual Accuracy', score=1, value='CORRECT', comment='CORRECT', correction=None, evaluator_info={'__run': RunInfo(run_id=UUID('34e6e54a-416e-406a-b12a-d8f909adf899'))}, source_run_id=None, target_run_id=None),\n",
                            "    EvaluationResult(key='COT Contextual Accuracy', score=1, value='CORRECT', comment=\"The student's answer correctly identifies the significance of the carnival season in the story. They correctly note that the festive and chaotic atmosphere provides a cover for the narrator's sinister actions. The student's answer aligns with the context provided, which states that the carnival season contrasts with the sinister events of the story. Therefore, the student's answer is factually accurate.\\nGRADE: CORRECT\", correction=None, evaluator_info={'__run': RunInfo(run_id=UUID('82bf704e-e18f-4234-b4cc-7e36b3da229d'))}, source_run_id=None, target_run_id=None)],\n",
                            "   'execution_time': 5.863447,\n",
                            "   'output': {'query': 'What is the significance of the story taking place during the carnival season?',\n",
                            "    'result': 'The carnival season is significant in the story because it creates a chaotic and festive atmosphere, where people are indulging in excessive drinking and merriment. This provides the perfect cover for the narrator to carry out his revenge on Fortunato without raising suspicion. The celebrations and the general atmosphere of revelry allow the narrator to lure Fortunato into the catacombs unnoticed and without arousing suspicion from others.',\n",
                            "    'source_documents': [Document(page_content='It was now midnight, and my task was drawing to a close.  I had\\ncompleted the eighth, the ninth, and the tenth tier.  I had finished a\\nportion of the last and the eleventh; there remained but a single stone\\nto be fitted and plastered in.  I struggled with its weight; I placed\\nit partially in its destined position.  But now there came from out the\\nniche a low laugh that erected the hairs upon my head.  It was\\nsucceeded by a sad voice, which I had difficulty in recognizing as that\\nof the noble Fortunato.  The voice said--\\n\\n\"Ha! ha! ha!--he! he! he!--a very good joke indeed--an excellent jest.\\nWe shall have many a rich laugh about it at the palazzo--he! he!\\nhe!--over our wine--he! he! he!\"\\n\\n\"The Amontillado!\" I said.\\n\\n\"He! he! he!--he! he! he!--yes, the Amontillado.  But is it not getting\\nlate?  Will not they be awaiting us at the palazzo, the Lady Fortunato\\nand the rest?  Let us be gone.\"\\n\\n\"Yes,\" I said, \"let us be gone.\"\\n\\n\"_For the love of God, Montresor!_\"\\n\\n\"Yes,\" I said, \"for the love of God!\"\\n\\nBut to these words I hearkened in vain for a reply.  I grew impatient.\\nI called aloud--\\n\\n\"Fortunato!\"\\n\\nNo answer.  I called again--\\n\\n\"Fortunato--\"\\n\\nNo answer still.  I thrust a torch through the remaining aperture and\\nlet it fall within.  There came forth in reply only a jingling of the\\nbells.  My heart grew sick on account of the dampness of the catacombs.\\nI hastened to make an end of my labour.  I forced the last stone into\\nits position; I plastered it up.  Against the new masonry I re-erected\\nthe old rampart of bones.  For the half of a century no mortal has\\ndisturbed them.  _In pace requiescat!_', metadata={'source': '/Users/jordan.frazier/Documents/Datastax/ragstack-ai-examples/amontillado.txt'}),\n",
                            "     Document(page_content='The thousand injuries of Fortunato I had borne as I best could, but\\nwhen he ventured upon insult, I vowed revenge.  You, who so well know\\nthe nature of my soul, will not suppose, however, that I gave utterance\\nto a threat.  _At length_ I would be avenged; this was a point definitely\\nsettled--but the very definitiveness with which it was resolved,\\nprecluded the idea of risk.  I must not only punish, but punish with\\nimpunity.  A wrong is unredressed when retribution overtakes its\\nredresser.  It is equally unredressed when the avenger fails to make\\nhimself felt as such to him who has done the wrong.\\n\\nIt must be understood that neither by word nor deed had I given\\nFortunato cause to doubt my good will.  I continued, as was my wont, to\\nsmile in his face, and he did not perceive that my smile _now_ was at\\nthe thought of his immolation.\\n\\nHe had a weak point--this Fortunato--although in other regards he was a\\nman to be respected and even feared.  He prided himself on his\\nconnoisseurship in wine.  Few Italians have the true virtuoso spirit.\\nFor the most part their enthusiasm is adopted to suit the time and\\nopportunity--to practise imposture upon the British and Austrian\\n_millionaires_.  In painting and gemmary, Fortunato, like his countrymen,\\nwas a quack--but in the matter of old wines he was sincere.  In this\\nrespect I did not differ from him materially: I was skillful in the\\nItalian vintages myself, and bought largely whenever I could.\\n\\nIt was about dusk, one evening during the supreme madness of the\\ncarnival season, that I encountered my friend.  He accosted me with\\nexcessive warmth, for he had been drinking much.  The man wore motley.\\nHe had on a tight-fitting parti-striped dress, and his head was\\nsurmounted by the conical cap and bells.  I was so pleased to see him,\\nthat I thought I should never have done wringing his hand.\\n\\nI said to him--\"My dear Fortunato, you are luckily met.  How remarkably\\nwell you are looking to-day!  But I have received a pipe of what passes\\nfor Amontillado, and I have my doubts.\"\\n\\n\"How?\" said he.  \"Amontillado?  A pipe?  Impossible!  And in the middle\\nof the carnival!\"\\n\\n\"I have my doubts,\" I replied; \"and I was silly enough to pay the full\\nAmontillado price without consulting you in the matter. You were not to\\nbe found, and I was fearful of losing a bargain.\"\\n\\n\"Amontillado!\"\\n\\n\"I have my doubts.\"\\n\\n\"Amontillado!\"\\n\\n\"And I must satisfy them.\"\\n\\n\"Amontillado!\"\\n\\n\"As you are engaged, I am on my way to Luchesi.  If any one has a\\ncritical turn, it is he.  He will tell me--\"\\n\\n\"Luchesi cannot tell Amontillado from Sherry.\"\\n\\n\"And yet some fools will have it that his taste is a match for your\\nown.\"\\n\\n\"Come, let us go.\"\\n\\n\"Whither?\"\\n\\n\"To your vaults.\"\\n\\n\"My friend, no; I will not impose upon your good nature.  I perceive\\nyou have an engagement.  Luchesi--\"\\n\\n\"I have no engagement;--come.\"\\n\\n\"My friend, no.  It is not the engagement, but the severe cold with\\nwhich I perceive you are afflicted.  The vaults are insufferably damp.\\nThey are encrusted with nitre.\"\\n\\n\"Let us go, nevertheless.  The cold is merely nothing. Amontillado!\\nYou have been imposed upon.  And as for Luchesi, he cannot distinguish\\nSherry from Amontillado.\"\\n\\nThus speaking, Fortunato possessed himself of my arm. Putting on a mask\\nof black silk, and drawing a _roquelaire_ closely about my person, I\\nsuffered him to hurry me to my palazzo.\\n\\nThere were no attendants at home; they had absconded to make merry in\\nhonour of the time.  I had told them that I should not return until the\\nmorning, and had given them explicit orders not to stir from the house.\\nThese orders were sufficient, I well knew, to insure their immediate\\ndisappearance, one and all, as soon as my back was turned.', metadata={'source': '/Users/jordan.frazier/Documents/Datastax/ragstack-ai-examples/amontillado.txt'}),\n",
                            "     Document(page_content='I took from their sconces two flambeaux, and giving one to Fortunato,\\nbowed him through several suites of rooms to the archway that led into\\nthe vaults.  I passed down a long and winding staircase, requesting him\\nto be cautious as he followed. We came at length to the foot of the\\ndescent, and stood together on the damp ground of the catacombs of the\\nMontresors.\\n\\nThe gait of my friend was unsteady, and the bells upon his cap jingled\\nas he strode.\\n\\n\"The pipe,\" said he.\\n\\n\"It is farther on,\" said I; \"but observe the white web-work which\\ngleams from these cavern walls.\"\\n\\nHe turned towards me, and looked into my eyes with two filmy orbs that\\ndistilled the rheum of intoxication.\\n\\n\"Nitre?\" he asked, at length.\\n\\n\"Nitre,\" I replied.  \"How long have you had that cough?\"\\n\\n\"Ugh! ugh! ugh!--ugh! ugh! ugh!--ugh! ugh! ugh!--ugh! ugh! ugh!--ugh!\\nugh! ugh!\"\\n\\nMy poor friend found it impossible to reply for many minutes.\\n\\n\"It is nothing,\" he said, at last.\\n\\n\"Come,\" I said, with decision, \"we will go back; your health is\\nprecious.  You are rich, respected, admired, beloved; you are happy, as\\nonce I was.  You are a man to be missed.  For me it is no matter.  We\\nwill go back; you will be ill, and I cannot be responsible.  Besides,\\nthere is Luchesi--\"\\n\\n\"Enough,\" he said; \"the cough is a mere nothing; it will not kill me.\\nI shall not die of a cough.\"\\n\\n\"True--true,\" I replied; \"and, indeed, I had no intention of alarming\\nyou unnecessarily--but you should use all proper caution. A draught of\\nthis Medoc will defend us from the damps.\"\\n\\nHere I knocked off the neck of a bottle which I drew from a long row of\\nits fellows that lay upon the mould.\\n\\n\"Drink,\" I said, presenting him the wine.\\n\\nHe raised it to his lips with a leer.  He paused and nodded to me\\nfamiliarly, while his bells jingled.\\n\\n\"I drink,\" he said, \"to the buried that repose around us.\"\\n\\n\"And I to your long life.\"\\n\\nHe again took my arm, and we proceeded.\\n\\n\"These vaults,\" he said, \"are extensive.\"\\n\\n\"The Montresors,\" I replied, \"were a great and numerous family.\"\\n\\n\"I forget your arms.\"\\n\\n\"A huge human foot d\\'or, in a field azure; the foot crushes a serpent\\nrampant whose fangs are imbedded in the heel.\"\\n\\n\"And the motto?\"\\n\\n\"_Nemo me impune lacessit_.\"\\n\\n\"Good!\" he said.\\n\\nThe wine sparkled in his eyes and the bells jingled.  My own fancy grew\\nwarm with the Medoc.  We had passed through walls of piled bones, with\\ncasks and puncheons intermingling, into the inmost recesses of\\ncatacombs.  I paused again, and this time I made bold to seize\\nFortunato by an arm above the elbow.\\n\\n\"The nitre!\" I said; \"see, it increases.  It hangs like moss upon the\\nvaults.  We are below the river\\'s bed.  The drops of moisture trickle\\namong the bones.  Come, we will go back ere it is too late.  Your\\ncough--\"\\n\\n\"It is nothing,\" he said; \"let us go on.  But first, another draught of\\nthe Medoc.\"\\n\\nI broke and reached him a flagon of De Grave.  He emptied it at a\\nbreath.  His eyes flashed with a fierce light.  He laughed and threw\\nthe bottle upwards with a gesticulation I did not understand.\\n\\nI looked at him in surprise.  He repeated the movement--a grotesque one.\\n\\n\"You do not comprehend?\" he said.\\n\\n\"Not I,\" I replied.\\n\\n\"Then you are not of the brotherhood.\"\\n\\n\"How?\"\\n\\n\"You are not of the masons.\"\\n\\n\"Yes, yes,\" I said; \"yes, yes.\"\\n\\n\"You?  Impossible!  A mason?\"\\n\\n\"A mason,\" I replied.\\n\\n\"A sign,\" he said, \"a sign.\"\\n\\n\"It is this,\" I answered, producing a trowel from beneath the folds of\\nmy _roquelaire_.\\n\\n\"You jest,\" he exclaimed, recoiling a few paces.  \"But let us proceed\\nto the Amontillado.\"\\n\\n\"Be it so,\" I said, replacing the tool beneath the cloak and again\\noffering him my arm.  He leaned upon it heavily.  We continued our\\nroute in search of the Amontillado.  We passed through a range of low\\narches, descended, passed on, and descending again, arrived at a deep\\ncrypt, in which the foulness of the air caused our flambeaux rather to\\nglow than flame.', metadata={'source': '/Users/jordan.frazier/Documents/Datastax/ragstack-ai-examples/amontillado.txt'}),\n",
                            "     Document(page_content='At the most remote end of the crypt there appeared another less\\nspacious.  Its walls had been lined with human remains, piled to the\\nvault overhead, in the fashion of the great catacombs of Paris.  Three\\nsides of this interior crypt were still ornamented in this manner.\\nFrom the fourth side the bones had been thrown down, and lay\\npromiscuously upon the earth, forming at one point a mound of some\\nsize.  Within the wall thus exposed by the displacing of the bones, we\\nperceived a still interior recess, in depth about four feet in width\\nthree, in height six or seven.  It seemed to have been constructed for\\nno especial use within itself, but formed merely the interval between\\ntwo of the colossal supports of the roof of the catacombs, and was\\nbacked by one of their circumscribing walls of solid granite.\\n\\nIt was in vain that Fortunato, uplifting his dull torch, endeavoured to\\npry into the depth of the recess.  Its termination the feeble light did\\nnot enable us to see.\\n\\n\"Proceed,\" I said; \"herein is the Amontillado.  As for Luchesi--\"\\n\\n\"He is an ignoramus,\" interrupted my friend, as he stepped unsteadily\\nforward, while I followed immediately at his heels.  In an instant he\\nhad reached the extremity of the niche, and finding his progress\\narrested by the rock, stood stupidly bewildered.  A moment more and I\\nhad fettered him to the granite.  In its surface were two iron staples,\\ndistant from each other about two feet, horizontally.  From one of\\nthese depended a short chain, from the other a padlock.  Throwing the\\nlinks about his waist, it was but the work of a few seconds to secure\\nit.  He was too much astounded to resist.  Withdrawing the key I\\nstepped back from the recess.\\n\\n\"Pass your hand,\" I said, \"over the wall; you cannot help feeling the\\nnitre.  Indeed, it is _very_ damp.  Once more let me _implore_ you to\\nreturn.  No?  Then I must positively leave you.  But I must first\\nrender you all the little attentions in my power.\"\\n\\n\"The Amontillado!\" ejaculated my friend, not yet recovered from his\\nastonishment.\\n\\n\"True,\" I replied; \"the Amontillado.\"\\n\\nAs I said these words I busied myself among the pile of bones of which\\nI have before spoken.  Throwing them aside, I soon uncovered a quantity\\nof building stone and mortar.  With these materials and with the aid of\\nmy trowel, I began vigorously to wall up the entrance of the niche.\\n\\nI had scarcely laid the first tier of the masonry when I discovered\\nthat the intoxication of Fortunato had in a great measure worn off. The\\nearliest indication I had of this was a low moaning cry from the depth\\nof the recess.  It was _not_ the cry of a drunken man. There was then a\\nlong and obstinate silence.  I laid the second tier, and the third, and\\nthe fourth; and then I heard the furious vibrations of the chain.  The\\nnoise lasted for several minutes, during which, that I might hearken to\\nit with the more satisfaction, I ceased my labours and sat down upon\\nthe bones. When at last the clanking subsided, I resumed the trowel,\\nand finished without interruption the fifth, the sixth, and the seventh\\ntier.  The wall was now nearly upon a level with my breast.  I again\\npaused, and holding the flambeaux over the mason-work, threw a few\\nfeeble rays upon the figure within.\\n\\nA succession of loud and shrill screams, bursting suddenly from the\\nthroat of the chained form, seemed to thrust me violently back.  For a\\nbrief moment I hesitated--I trembled.  Unsheathing my rapier, I began\\nto grope with it about the recess; but the thought of an instant\\nreassured me.  I placed my hand upon the solid fabric of the catacombs,\\nand felt satisfied.  I reapproached the wall; I replied to the yells of\\nhim who clamoured.  I re-echoed--I aided--I surpassed them in volume\\nand in strength.  I did this, and the clamourer grew still.', metadata={'source': '/Users/jordan.frazier/Documents/Datastax/ragstack-ai-examples/amontillado.txt'})]},\n",
                            "   'reference': {'answer': 'The carnival season is a time of celebration and merriment, which contrasts with the sinister events of the story.'}},\n",
                            "  'c853776b-6302-43aa-929a-c5878013b9c8': {'input': {'input': 'What are the major themes in this story?'},\n",
                            "   'feedback': [EvaluationResult(key='correctness', score=0, value='INCORRECT', comment='INCORRECT', correction=None, evaluator_info={'__run': RunInfo(run_id=UUID('b6f1755b-7dd1-4a5c-8f96-dec062426ca2'))}, source_run_id=None, target_run_id=None),\n",
                            "    EvaluationResult(key='Contextual Accuracy', score=0, value='INCORRECT', comment='INCORRECT', correction=None, evaluator_info={'__run': RunInfo(run_id=UUID('99b2867d-b8b9-4471-884b-789a6906e832'))}, source_run_id=None, target_run_id=None),\n",
                            "    EvaluationResult(key='COT Contextual Accuracy', score=0, value='INCORRECT', comment=\"The student's answer does not match the context provided. The context states that the major themes are happiness and trustworthiness, while the student lists revenge, deception, and madness as the major themes. Therefore, the student's answer is not factually accurate.\\nGRADE: INCORRECT\", correction=None, evaluator_info={'__run': RunInfo(run_id=UUID('a58647e0-a647-4603-b63b-167ef725be44'))}, source_run_id=None, target_run_id=None)],\n",
                            "   'execution_time': 4.085278,\n",
                            "   'output': {'query': 'What are the major themes in this story?',\n",
                            "    'result': 'The major themes in this story include revenge, deception, and madness.',\n",
                            "    'source_documents': [Document(page_content='It was now midnight, and my task was drawing to a close.  I had\\ncompleted the eighth, the ninth, and the tenth tier.  I had finished a\\nportion of the last and the eleventh; there remained but a single stone\\nto be fitted and plastered in.  I struggled with its weight; I placed\\nit partially in its destined position.  But now there came from out the\\nniche a low laugh that erected the hairs upon my head.  It was\\nsucceeded by a sad voice, which I had difficulty in recognizing as that\\nof the noble Fortunato.  The voice said--\\n\\n\"Ha! ha! ha!--he! he! he!--a very good joke indeed--an excellent jest.\\nWe shall have many a rich laugh about it at the palazzo--he! he!\\nhe!--over our wine--he! he! he!\"\\n\\n\"The Amontillado!\" I said.\\n\\n\"He! he! he!--he! he! he!--yes, the Amontillado.  But is it not getting\\nlate?  Will not they be awaiting us at the palazzo, the Lady Fortunato\\nand the rest?  Let us be gone.\"\\n\\n\"Yes,\" I said, \"let us be gone.\"\\n\\n\"_For the love of God, Montresor!_\"\\n\\n\"Yes,\" I said, \"for the love of God!\"\\n\\nBut to these words I hearkened in vain for a reply.  I grew impatient.\\nI called aloud--\\n\\n\"Fortunato!\"\\n\\nNo answer.  I called again--\\n\\n\"Fortunato--\"\\n\\nNo answer still.  I thrust a torch through the remaining aperture and\\nlet it fall within.  There came forth in reply only a jingling of the\\nbells.  My heart grew sick on account of the dampness of the catacombs.\\nI hastened to make an end of my labour.  I forced the last stone into\\nits position; I plastered it up.  Against the new masonry I re-erected\\nthe old rampart of bones.  For the half of a century no mortal has\\ndisturbed them.  _In pace requiescat!_', metadata={'source': '/Users/jordan.frazier/Documents/Datastax/ragstack-ai-examples/amontillado.txt'}),\n",
                            "     Document(page_content='The thousand injuries of Fortunato I had borne as I best could, but\\nwhen he ventured upon insult, I vowed revenge.  You, who so well know\\nthe nature of my soul, will not suppose, however, that I gave utterance\\nto a threat.  _At length_ I would be avenged; this was a point definitely\\nsettled--but the very definitiveness with which it was resolved,\\nprecluded the idea of risk.  I must not only punish, but punish with\\nimpunity.  A wrong is unredressed when retribution overtakes its\\nredresser.  It is equally unredressed when the avenger fails to make\\nhimself felt as such to him who has done the wrong.\\n\\nIt must be understood that neither by word nor deed had I given\\nFortunato cause to doubt my good will.  I continued, as was my wont, to\\nsmile in his face, and he did not perceive that my smile _now_ was at\\nthe thought of his immolation.\\n\\nHe had a weak point--this Fortunato--although in other regards he was a\\nman to be respected and even feared.  He prided himself on his\\nconnoisseurship in wine.  Few Italians have the true virtuoso spirit.\\nFor the most part their enthusiasm is adopted to suit the time and\\nopportunity--to practise imposture upon the British and Austrian\\n_millionaires_.  In painting and gemmary, Fortunato, like his countrymen,\\nwas a quack--but in the matter of old wines he was sincere.  In this\\nrespect I did not differ from him materially: I was skillful in the\\nItalian vintages myself, and bought largely whenever I could.\\n\\nIt was about dusk, one evening during the supreme madness of the\\ncarnival season, that I encountered my friend.  He accosted me with\\nexcessive warmth, for he had been drinking much.  The man wore motley.\\nHe had on a tight-fitting parti-striped dress, and his head was\\nsurmounted by the conical cap and bells.  I was so pleased to see him,\\nthat I thought I should never have done wringing his hand.\\n\\nI said to him--\"My dear Fortunato, you are luckily met.  How remarkably\\nwell you are looking to-day!  But I have received a pipe of what passes\\nfor Amontillado, and I have my doubts.\"\\n\\n\"How?\" said he.  \"Amontillado?  A pipe?  Impossible!  And in the middle\\nof the carnival!\"\\n\\n\"I have my doubts,\" I replied; \"and I was silly enough to pay the full\\nAmontillado price without consulting you in the matter. You were not to\\nbe found, and I was fearful of losing a bargain.\"\\n\\n\"Amontillado!\"\\n\\n\"I have my doubts.\"\\n\\n\"Amontillado!\"\\n\\n\"And I must satisfy them.\"\\n\\n\"Amontillado!\"\\n\\n\"As you are engaged, I am on my way to Luchesi.  If any one has a\\ncritical turn, it is he.  He will tell me--\"\\n\\n\"Luchesi cannot tell Amontillado from Sherry.\"\\n\\n\"And yet some fools will have it that his taste is a match for your\\nown.\"\\n\\n\"Come, let us go.\"\\n\\n\"Whither?\"\\n\\n\"To your vaults.\"\\n\\n\"My friend, no; I will not impose upon your good nature.  I perceive\\nyou have an engagement.  Luchesi--\"\\n\\n\"I have no engagement;--come.\"\\n\\n\"My friend, no.  It is not the engagement, but the severe cold with\\nwhich I perceive you are afflicted.  The vaults are insufferably damp.\\nThey are encrusted with nitre.\"\\n\\n\"Let us go, nevertheless.  The cold is merely nothing. Amontillado!\\nYou have been imposed upon.  And as for Luchesi, he cannot distinguish\\nSherry from Amontillado.\"\\n\\nThus speaking, Fortunato possessed himself of my arm. Putting on a mask\\nof black silk, and drawing a _roquelaire_ closely about my person, I\\nsuffered him to hurry me to my palazzo.\\n\\nThere were no attendants at home; they had absconded to make merry in\\nhonour of the time.  I had told them that I should not return until the\\nmorning, and had given them explicit orders not to stir from the house.\\nThese orders were sufficient, I well knew, to insure their immediate\\ndisappearance, one and all, as soon as my back was turned.', metadata={'source': '/Users/jordan.frazier/Documents/Datastax/ragstack-ai-examples/amontillado.txt'}),\n",
                            "     Document(page_content='At the most remote end of the crypt there appeared another less\\nspacious.  Its walls had been lined with human remains, piled to the\\nvault overhead, in the fashion of the great catacombs of Paris.  Three\\nsides of this interior crypt were still ornamented in this manner.\\nFrom the fourth side the bones had been thrown down, and lay\\npromiscuously upon the earth, forming at one point a mound of some\\nsize.  Within the wall thus exposed by the displacing of the bones, we\\nperceived a still interior recess, in depth about four feet in width\\nthree, in height six or seven.  It seemed to have been constructed for\\nno especial use within itself, but formed merely the interval between\\ntwo of the colossal supports of the roof of the catacombs, and was\\nbacked by one of their circumscribing walls of solid granite.\\n\\nIt was in vain that Fortunato, uplifting his dull torch, endeavoured to\\npry into the depth of the recess.  Its termination the feeble light did\\nnot enable us to see.\\n\\n\"Proceed,\" I said; \"herein is the Amontillado.  As for Luchesi--\"\\n\\n\"He is an ignoramus,\" interrupted my friend, as he stepped unsteadily\\nforward, while I followed immediately at his heels.  In an instant he\\nhad reached the extremity of the niche, and finding his progress\\narrested by the rock, stood stupidly bewildered.  A moment more and I\\nhad fettered him to the granite.  In its surface were two iron staples,\\ndistant from each other about two feet, horizontally.  From one of\\nthese depended a short chain, from the other a padlock.  Throwing the\\nlinks about his waist, it was but the work of a few seconds to secure\\nit.  He was too much astounded to resist.  Withdrawing the key I\\nstepped back from the recess.\\n\\n\"Pass your hand,\" I said, \"over the wall; you cannot help feeling the\\nnitre.  Indeed, it is _very_ damp.  Once more let me _implore_ you to\\nreturn.  No?  Then I must positively leave you.  But I must first\\nrender you all the little attentions in my power.\"\\n\\n\"The Amontillado!\" ejaculated my friend, not yet recovered from his\\nastonishment.\\n\\n\"True,\" I replied; \"the Amontillado.\"\\n\\nAs I said these words I busied myself among the pile of bones of which\\nI have before spoken.  Throwing them aside, I soon uncovered a quantity\\nof building stone and mortar.  With these materials and with the aid of\\nmy trowel, I began vigorously to wall up the entrance of the niche.\\n\\nI had scarcely laid the first tier of the masonry when I discovered\\nthat the intoxication of Fortunato had in a great measure worn off. The\\nearliest indication I had of this was a low moaning cry from the depth\\nof the recess.  It was _not_ the cry of a drunken man. There was then a\\nlong and obstinate silence.  I laid the second tier, and the third, and\\nthe fourth; and then I heard the furious vibrations of the chain.  The\\nnoise lasted for several minutes, during which, that I might hearken to\\nit with the more satisfaction, I ceased my labours and sat down upon\\nthe bones. When at last the clanking subsided, I resumed the trowel,\\nand finished without interruption the fifth, the sixth, and the seventh\\ntier.  The wall was now nearly upon a level with my breast.  I again\\npaused, and holding the flambeaux over the mason-work, threw a few\\nfeeble rays upon the figure within.\\n\\nA succession of loud and shrill screams, bursting suddenly from the\\nthroat of the chained form, seemed to thrust me violently back.  For a\\nbrief moment I hesitated--I trembled.  Unsheathing my rapier, I began\\nto grope with it about the recess; but the thought of an instant\\nreassured me.  I placed my hand upon the solid fabric of the catacombs,\\nand felt satisfied.  I reapproached the wall; I replied to the yells of\\nhim who clamoured.  I re-echoed--I aided--I surpassed them in volume\\nand in strength.  I did this, and the clamourer grew still.', metadata={'source': '/Users/jordan.frazier/Documents/Datastax/ragstack-ai-examples/amontillado.txt'}),\n",
                            "     Document(page_content='I took from their sconces two flambeaux, and giving one to Fortunato,\\nbowed him through several suites of rooms to the archway that led into\\nthe vaults.  I passed down a long and winding staircase, requesting him\\nto be cautious as he followed. We came at length to the foot of the\\ndescent, and stood together on the damp ground of the catacombs of the\\nMontresors.\\n\\nThe gait of my friend was unsteady, and the bells upon his cap jingled\\nas he strode.\\n\\n\"The pipe,\" said he.\\n\\n\"It is farther on,\" said I; \"but observe the white web-work which\\ngleams from these cavern walls.\"\\n\\nHe turned towards me, and looked into my eyes with two filmy orbs that\\ndistilled the rheum of intoxication.\\n\\n\"Nitre?\" he asked, at length.\\n\\n\"Nitre,\" I replied.  \"How long have you had that cough?\"\\n\\n\"Ugh! ugh! ugh!--ugh! ugh! ugh!--ugh! ugh! ugh!--ugh! ugh! ugh!--ugh!\\nugh! ugh!\"\\n\\nMy poor friend found it impossible to reply for many minutes.\\n\\n\"It is nothing,\" he said, at last.\\n\\n\"Come,\" I said, with decision, \"we will go back; your health is\\nprecious.  You are rich, respected, admired, beloved; you are happy, as\\nonce I was.  You are a man to be missed.  For me it is no matter.  We\\nwill go back; you will be ill, and I cannot be responsible.  Besides,\\nthere is Luchesi--\"\\n\\n\"Enough,\" he said; \"the cough is a mere nothing; it will not kill me.\\nI shall not die of a cough.\"\\n\\n\"True--true,\" I replied; \"and, indeed, I had no intention of alarming\\nyou unnecessarily--but you should use all proper caution. A draught of\\nthis Medoc will defend us from the damps.\"\\n\\nHere I knocked off the neck of a bottle which I drew from a long row of\\nits fellows that lay upon the mould.\\n\\n\"Drink,\" I said, presenting him the wine.\\n\\nHe raised it to his lips with a leer.  He paused and nodded to me\\nfamiliarly, while his bells jingled.\\n\\n\"I drink,\" he said, \"to the buried that repose around us.\"\\n\\n\"And I to your long life.\"\\n\\nHe again took my arm, and we proceeded.\\n\\n\"These vaults,\" he said, \"are extensive.\"\\n\\n\"The Montresors,\" I replied, \"were a great and numerous family.\"\\n\\n\"I forget your arms.\"\\n\\n\"A huge human foot d\\'or, in a field azure; the foot crushes a serpent\\nrampant whose fangs are imbedded in the heel.\"\\n\\n\"And the motto?\"\\n\\n\"_Nemo me impune lacessit_.\"\\n\\n\"Good!\" he said.\\n\\nThe wine sparkled in his eyes and the bells jingled.  My own fancy grew\\nwarm with the Medoc.  We had passed through walls of piled bones, with\\ncasks and puncheons intermingling, into the inmost recesses of\\ncatacombs.  I paused again, and this time I made bold to seize\\nFortunato by an arm above the elbow.\\n\\n\"The nitre!\" I said; \"see, it increases.  It hangs like moss upon the\\nvaults.  We are below the river\\'s bed.  The drops of moisture trickle\\namong the bones.  Come, we will go back ere it is too late.  Your\\ncough--\"\\n\\n\"It is nothing,\" he said; \"let us go on.  But first, another draught of\\nthe Medoc.\"\\n\\nI broke and reached him a flagon of De Grave.  He emptied it at a\\nbreath.  His eyes flashed with a fierce light.  He laughed and threw\\nthe bottle upwards with a gesticulation I did not understand.\\n\\nI looked at him in surprise.  He repeated the movement--a grotesque one.\\n\\n\"You do not comprehend?\" he said.\\n\\n\"Not I,\" I replied.\\n\\n\"Then you are not of the brotherhood.\"\\n\\n\"How?\"\\n\\n\"You are not of the masons.\"\\n\\n\"Yes, yes,\" I said; \"yes, yes.\"\\n\\n\"You?  Impossible!  A mason?\"\\n\\n\"A mason,\" I replied.\\n\\n\"A sign,\" he said, \"a sign.\"\\n\\n\"It is this,\" I answered, producing a trowel from beneath the folds of\\nmy _roquelaire_.\\n\\n\"You jest,\" he exclaimed, recoiling a few paces.  \"But let us proceed\\nto the Amontillado.\"\\n\\n\"Be it so,\" I said, replacing the tool beneath the cloak and again\\noffering him my arm.  He leaned upon it heavily.  We continued our\\nroute in search of the Amontillado.  We passed through a range of low\\narches, descended, passed on, and descending again, arrived at a deep\\ncrypt, in which the foulness of the air caused our flambeaux rather to\\nglow than flame.', metadata={'source': '/Users/jordan.frazier/Documents/Datastax/ragstack-ai-examples/amontillado.txt'})]},\n",
                            "   'reference': {'answer': 'The major themes are happiness and trustworthiness.'}},\n",
                            "  '4bac2998-5a81-4f5f-8797-0f8cfcbaa647': {'input': {'input': 'What motivates the narrator, Montresor, to seek revenge against Fortunato?'},\n",
                            "   'feedback': [EvaluationResult(key='correctness', score=0, value='INCORRECT', comment='INCORRECT', correction=None, evaluator_info={'__run': RunInfo(run_id=UUID('67ab9c49-a48d-4eff-a924-c8041765036d'))}, source_run_id=None, target_run_id=None),\n",
                            "    EvaluationResult(key='Contextual Accuracy', score=0, value='INCORRECT', comment='INCORRECT', correction=None, evaluator_info={'__run': RunInfo(run_id=UUID('3276dd20-574a-473d-a55f-b7b8270f8a32'))}, source_run_id=None, target_run_id=None),\n",
                            "    EvaluationResult(key='COT Contextual Accuracy', score=0, value='INCORRECT', comment=\"The student's answer is incorrect. The context states that Montresor is insulted by Lenora, not Fortunato. The student's answer contradicts the context by stating that Montresor seeks revenge against Fortunato due to an insult. Therefore, the student's answer is incorrect.\\nGRADE: INCORRECT\", correction=None, evaluator_info={'__run': RunInfo(run_id=UUID('04194a3e-c2d7-453f-ac1f-163de86ba774'))}, source_run_id=None, target_run_id=None)],\n",
                            "   'execution_time': 7.244102,\n",
                            "   'output': {'query': 'What motivates the narrator, Montresor, to seek revenge against Fortunato?',\n",
                            "    'result': 'The narrator, Montresor, seeks revenge against Fortunato because Fortunato has insulted him. Montresor has endured many injuries from Fortunato, but when Fortunato insults him, Montresor vows to take revenge. Montresor wants to punish Fortunato with impunity, making him feel the same wrong that he has felt.',\n",
                            "    'source_documents': [Document(page_content='The thousand injuries of Fortunato I had borne as I best could, but\\nwhen he ventured upon insult, I vowed revenge.  You, who so well know\\nthe nature of my soul, will not suppose, however, that I gave utterance\\nto a threat.  _At length_ I would be avenged; this was a point definitely\\nsettled--but the very definitiveness with which it was resolved,\\nprecluded the idea of risk.  I must not only punish, but punish with\\nimpunity.  A wrong is unredressed when retribution overtakes its\\nredresser.  It is equally unredressed when the avenger fails to make\\nhimself felt as such to him who has done the wrong.\\n\\nIt must be understood that neither by word nor deed had I given\\nFortunato cause to doubt my good will.  I continued, as was my wont, to\\nsmile in his face, and he did not perceive that my smile _now_ was at\\nthe thought of his immolation.\\n\\nHe had a weak point--this Fortunato--although in other regards he was a\\nman to be respected and even feared.  He prided himself on his\\nconnoisseurship in wine.  Few Italians have the true virtuoso spirit.\\nFor the most part their enthusiasm is adopted to suit the time and\\nopportunity--to practise imposture upon the British and Austrian\\n_millionaires_.  In painting and gemmary, Fortunato, like his countrymen,\\nwas a quack--but in the matter of old wines he was sincere.  In this\\nrespect I did not differ from him materially: I was skillful in the\\nItalian vintages myself, and bought largely whenever I could.\\n\\nIt was about dusk, one evening during the supreme madness of the\\ncarnival season, that I encountered my friend.  He accosted me with\\nexcessive warmth, for he had been drinking much.  The man wore motley.\\nHe had on a tight-fitting parti-striped dress, and his head was\\nsurmounted by the conical cap and bells.  I was so pleased to see him,\\nthat I thought I should never have done wringing his hand.\\n\\nI said to him--\"My dear Fortunato, you are luckily met.  How remarkably\\nwell you are looking to-day!  But I have received a pipe of what passes\\nfor Amontillado, and I have my doubts.\"\\n\\n\"How?\" said he.  \"Amontillado?  A pipe?  Impossible!  And in the middle\\nof the carnival!\"\\n\\n\"I have my doubts,\" I replied; \"and I was silly enough to pay the full\\nAmontillado price without consulting you in the matter. You were not to\\nbe found, and I was fearful of losing a bargain.\"\\n\\n\"Amontillado!\"\\n\\n\"I have my doubts.\"\\n\\n\"Amontillado!\"\\n\\n\"And I must satisfy them.\"\\n\\n\"Amontillado!\"\\n\\n\"As you are engaged, I am on my way to Luchesi.  If any one has a\\ncritical turn, it is he.  He will tell me--\"\\n\\n\"Luchesi cannot tell Amontillado from Sherry.\"\\n\\n\"And yet some fools will have it that his taste is a match for your\\nown.\"\\n\\n\"Come, let us go.\"\\n\\n\"Whither?\"\\n\\n\"To your vaults.\"\\n\\n\"My friend, no; I will not impose upon your good nature.  I perceive\\nyou have an engagement.  Luchesi--\"\\n\\n\"I have no engagement;--come.\"\\n\\n\"My friend, no.  It is not the engagement, but the severe cold with\\nwhich I perceive you are afflicted.  The vaults are insufferably damp.\\nThey are encrusted with nitre.\"\\n\\n\"Let us go, nevertheless.  The cold is merely nothing. Amontillado!\\nYou have been imposed upon.  And as for Luchesi, he cannot distinguish\\nSherry from Amontillado.\"\\n\\nThus speaking, Fortunato possessed himself of my arm. Putting on a mask\\nof black silk, and drawing a _roquelaire_ closely about my person, I\\nsuffered him to hurry me to my palazzo.\\n\\nThere were no attendants at home; they had absconded to make merry in\\nhonour of the time.  I had told them that I should not return until the\\nmorning, and had given them explicit orders not to stir from the house.\\nThese orders were sufficient, I well knew, to insure their immediate\\ndisappearance, one and all, as soon as my back was turned.', metadata={'source': '/Users/jordan.frazier/Documents/Datastax/ragstack-ai-examples/amontillado.txt'}),\n",
                            "     Document(page_content='It was now midnight, and my task was drawing to a close.  I had\\ncompleted the eighth, the ninth, and the tenth tier.  I had finished a\\nportion of the last and the eleventh; there remained but a single stone\\nto be fitted and plastered in.  I struggled with its weight; I placed\\nit partially in its destined position.  But now there came from out the\\nniche a low laugh that erected the hairs upon my head.  It was\\nsucceeded by a sad voice, which I had difficulty in recognizing as that\\nof the noble Fortunato.  The voice said--\\n\\n\"Ha! ha! ha!--he! he! he!--a very good joke indeed--an excellent jest.\\nWe shall have many a rich laugh about it at the palazzo--he! he!\\nhe!--over our wine--he! he! he!\"\\n\\n\"The Amontillado!\" I said.\\n\\n\"He! he! he!--he! he! he!--yes, the Amontillado.  But is it not getting\\nlate?  Will not they be awaiting us at the palazzo, the Lady Fortunato\\nand the rest?  Let us be gone.\"\\n\\n\"Yes,\" I said, \"let us be gone.\"\\n\\n\"_For the love of God, Montresor!_\"\\n\\n\"Yes,\" I said, \"for the love of God!\"\\n\\nBut to these words I hearkened in vain for a reply.  I grew impatient.\\nI called aloud--\\n\\n\"Fortunato!\"\\n\\nNo answer.  I called again--\\n\\n\"Fortunato--\"\\n\\nNo answer still.  I thrust a torch through the remaining aperture and\\nlet it fall within.  There came forth in reply only a jingling of the\\nbells.  My heart grew sick on account of the dampness of the catacombs.\\nI hastened to make an end of my labour.  I forced the last stone into\\nits position; I plastered it up.  Against the new masonry I re-erected\\nthe old rampart of bones.  For the half of a century no mortal has\\ndisturbed them.  _In pace requiescat!_', metadata={'source': '/Users/jordan.frazier/Documents/Datastax/ragstack-ai-examples/amontillado.txt'}),\n",
                            "     Document(page_content='I took from their sconces two flambeaux, and giving one to Fortunato,\\nbowed him through several suites of rooms to the archway that led into\\nthe vaults.  I passed down a long and winding staircase, requesting him\\nto be cautious as he followed. We came at length to the foot of the\\ndescent, and stood together on the damp ground of the catacombs of the\\nMontresors.\\n\\nThe gait of my friend was unsteady, and the bells upon his cap jingled\\nas he strode.\\n\\n\"The pipe,\" said he.\\n\\n\"It is farther on,\" said I; \"but observe the white web-work which\\ngleams from these cavern walls.\"\\n\\nHe turned towards me, and looked into my eyes with two filmy orbs that\\ndistilled the rheum of intoxication.\\n\\n\"Nitre?\" he asked, at length.\\n\\n\"Nitre,\" I replied.  \"How long have you had that cough?\"\\n\\n\"Ugh! ugh! ugh!--ugh! ugh! ugh!--ugh! ugh! ugh!--ugh! ugh! ugh!--ugh!\\nugh! ugh!\"\\n\\nMy poor friend found it impossible to reply for many minutes.\\n\\n\"It is nothing,\" he said, at last.\\n\\n\"Come,\" I said, with decision, \"we will go back; your health is\\nprecious.  You are rich, respected, admired, beloved; you are happy, as\\nonce I was.  You are a man to be missed.  For me it is no matter.  We\\nwill go back; you will be ill, and I cannot be responsible.  Besides,\\nthere is Luchesi--\"\\n\\n\"Enough,\" he said; \"the cough is a mere nothing; it will not kill me.\\nI shall not die of a cough.\"\\n\\n\"True--true,\" I replied; \"and, indeed, I had no intention of alarming\\nyou unnecessarily--but you should use all proper caution. A draught of\\nthis Medoc will defend us from the damps.\"\\n\\nHere I knocked off the neck of a bottle which I drew from a long row of\\nits fellows that lay upon the mould.\\n\\n\"Drink,\" I said, presenting him the wine.\\n\\nHe raised it to his lips with a leer.  He paused and nodded to me\\nfamiliarly, while his bells jingled.\\n\\n\"I drink,\" he said, \"to the buried that repose around us.\"\\n\\n\"And I to your long life.\"\\n\\nHe again took my arm, and we proceeded.\\n\\n\"These vaults,\" he said, \"are extensive.\"\\n\\n\"The Montresors,\" I replied, \"were a great and numerous family.\"\\n\\n\"I forget your arms.\"\\n\\n\"A huge human foot d\\'or, in a field azure; the foot crushes a serpent\\nrampant whose fangs are imbedded in the heel.\"\\n\\n\"And the motto?\"\\n\\n\"_Nemo me impune lacessit_.\"\\n\\n\"Good!\" he said.\\n\\nThe wine sparkled in his eyes and the bells jingled.  My own fancy grew\\nwarm with the Medoc.  We had passed through walls of piled bones, with\\ncasks and puncheons intermingling, into the inmost recesses of\\ncatacombs.  I paused again, and this time I made bold to seize\\nFortunato by an arm above the elbow.\\n\\n\"The nitre!\" I said; \"see, it increases.  It hangs like moss upon the\\nvaults.  We are below the river\\'s bed.  The drops of moisture trickle\\namong the bones.  Come, we will go back ere it is too late.  Your\\ncough--\"\\n\\n\"It is nothing,\" he said; \"let us go on.  But first, another draught of\\nthe Medoc.\"\\n\\nI broke and reached him a flagon of De Grave.  He emptied it at a\\nbreath.  His eyes flashed with a fierce light.  He laughed and threw\\nthe bottle upwards with a gesticulation I did not understand.\\n\\nI looked at him in surprise.  He repeated the movement--a grotesque one.\\n\\n\"You do not comprehend?\" he said.\\n\\n\"Not I,\" I replied.\\n\\n\"Then you are not of the brotherhood.\"\\n\\n\"How?\"\\n\\n\"You are not of the masons.\"\\n\\n\"Yes, yes,\" I said; \"yes, yes.\"\\n\\n\"You?  Impossible!  A mason?\"\\n\\n\"A mason,\" I replied.\\n\\n\"A sign,\" he said, \"a sign.\"\\n\\n\"It is this,\" I answered, producing a trowel from beneath the folds of\\nmy _roquelaire_.\\n\\n\"You jest,\" he exclaimed, recoiling a few paces.  \"But let us proceed\\nto the Amontillado.\"\\n\\n\"Be it so,\" I said, replacing the tool beneath the cloak and again\\noffering him my arm.  He leaned upon it heavily.  We continued our\\nroute in search of the Amontillado.  We passed through a range of low\\narches, descended, passed on, and descending again, arrived at a deep\\ncrypt, in which the foulness of the air caused our flambeaux rather to\\nglow than flame.', metadata={'source': '/Users/jordan.frazier/Documents/Datastax/ragstack-ai-examples/amontillado.txt'}),\n",
                            "     Document(page_content='At the most remote end of the crypt there appeared another less\\nspacious.  Its walls had been lined with human remains, piled to the\\nvault overhead, in the fashion of the great catacombs of Paris.  Three\\nsides of this interior crypt were still ornamented in this manner.\\nFrom the fourth side the bones had been thrown down, and lay\\npromiscuously upon the earth, forming at one point a mound of some\\nsize.  Within the wall thus exposed by the displacing of the bones, we\\nperceived a still interior recess, in depth about four feet in width\\nthree, in height six or seven.  It seemed to have been constructed for\\nno especial use within itself, but formed merely the interval between\\ntwo of the colossal supports of the roof of the catacombs, and was\\nbacked by one of their circumscribing walls of solid granite.\\n\\nIt was in vain that Fortunato, uplifting his dull torch, endeavoured to\\npry into the depth of the recess.  Its termination the feeble light did\\nnot enable us to see.\\n\\n\"Proceed,\" I said; \"herein is the Amontillado.  As for Luchesi--\"\\n\\n\"He is an ignoramus,\" interrupted my friend, as he stepped unsteadily\\nforward, while I followed immediately at his heels.  In an instant he\\nhad reached the extremity of the niche, and finding his progress\\narrested by the rock, stood stupidly bewildered.  A moment more and I\\nhad fettered him to the granite.  In its surface were two iron staples,\\ndistant from each other about two feet, horizontally.  From one of\\nthese depended a short chain, from the other a padlock.  Throwing the\\nlinks about his waist, it was but the work of a few seconds to secure\\nit.  He was too much astounded to resist.  Withdrawing the key I\\nstepped back from the recess.\\n\\n\"Pass your hand,\" I said, \"over the wall; you cannot help feeling the\\nnitre.  Indeed, it is _very_ damp.  Once more let me _implore_ you to\\nreturn.  No?  Then I must positively leave you.  But I must first\\nrender you all the little attentions in my power.\"\\n\\n\"The Amontillado!\" ejaculated my friend, not yet recovered from his\\nastonishment.\\n\\n\"True,\" I replied; \"the Amontillado.\"\\n\\nAs I said these words I busied myself among the pile of bones of which\\nI have before spoken.  Throwing them aside, I soon uncovered a quantity\\nof building stone and mortar.  With these materials and with the aid of\\nmy trowel, I began vigorously to wall up the entrance of the niche.\\n\\nI had scarcely laid the first tier of the masonry when I discovered\\nthat the intoxication of Fortunato had in a great measure worn off. The\\nearliest indication I had of this was a low moaning cry from the depth\\nof the recess.  It was _not_ the cry of a drunken man. There was then a\\nlong and obstinate silence.  I laid the second tier, and the third, and\\nthe fourth; and then I heard the furious vibrations of the chain.  The\\nnoise lasted for several minutes, during which, that I might hearken to\\nit with the more satisfaction, I ceased my labours and sat down upon\\nthe bones. When at last the clanking subsided, I resumed the trowel,\\nand finished without interruption the fifth, the sixth, and the seventh\\ntier.  The wall was now nearly upon a level with my breast.  I again\\npaused, and holding the flambeaux over the mason-work, threw a few\\nfeeble rays upon the figure within.\\n\\nA succession of loud and shrill screams, bursting suddenly from the\\nthroat of the chained form, seemed to thrust me violently back.  For a\\nbrief moment I hesitated--I trembled.  Unsheathing my rapier, I began\\nto grope with it about the recess; but the thought of an instant\\nreassured me.  I placed my hand upon the solid fabric of the catacombs,\\nand felt satisfied.  I reapproached the wall; I replied to the yells of\\nhim who clamoured.  I re-echoed--I aided--I surpassed them in volume\\nand in strength.  I did this, and the clamourer grew still.', metadata={'source': '/Users/jordan.frazier/Documents/Datastax/ragstack-ai-examples/amontillado.txt'})]},\n",
                            "   'reference': {'answer': 'Montresor is insulted by Lenora and seeks revenge.'}}}}"
                        ]
                    },
                    "execution_count": 60,
                    "metadata": {},
                    "output_type": "execute_result"
                }
            ],
            "source": [
                "from langsmith import Client\n",
                "from langchain.evaluation import EvaluatorType\n",
                "from langchain.smith import RunEvalConfig, run_on_dataset\n",
                "\n",
                "evaluation_config = RunEvalConfig(\n",
                "    # LangChain offers several QA Evaluator types\n",
                "    evaluators=[\n",
                "        \"qa\",\n",
                "        \"context_qa\",\n",
                "        \"cot_qa\",\n",
                "    ],\n",
                "    prediction_key=\"result\",\n",
                ")\n",
                "\n",
                "client = Client()\n",
                "run_on_dataset(\n",
                "    dataset_name=dataset_name,\n",
                "    llm_or_chain_factory=create_qa_chain(llm=model, vstore=vstore),\n",
                "    client=client,\n",
                "    evaluation=evaluation_config,\n",
                "    verbose=True,\n",
                ")"
            ]
        },
        {
            "cell_type": "markdown",
            "metadata": {},
            "source": [
                "Open the link to view your evaluation results. Note that the first two queries should have \"incorrect\" results, as the dataset purposely contained incorrect answers for those. \n",
                "\n",
                "For more details, see [LangSmith Testing and Evaluation](https://docs.smith.langchain.com/category/testing--evaluation)."
            ]
        },
        {
            "cell_type": "markdown",
            "metadata": {
                "nbmake": {
                    "post_cell_execute": [
                        "# Delete collection after test so other tests don't re-use or hit limit\n",
                        "vstore.delete_collection()\n"
                    ]
                }
            },
            "source": [
                "## What's Next\n",
                "\n",
                "Now that you've set up a RAG pipeline and run evalation over it, you can try:\n",
                "* More advanced queries over your dataset\n",
                "* Using your internal documentation and evaluating responses over those\n",
                "* Implementing more advanced RAG techniques to compare evaluation scores\n",
                "* Evaluating with external evaluation tools "
            ]
        }
    ],
    "metadata": {
        "kernelspec": {
            "display_name": "Python 3",
            "language": "python",
            "name": "python3"
        },
        "language_info": {
            "codemirror_mode": {
                "name": "ipython",
                "version": 3
            },
            "file_extension": ".py",
            "mimetype": "text/x-python",
            "name": "python",
            "nbconvert_exporter": "python",
            "pygments_lexer": "ipython3",
            "version": "3.11.4"
        }
    },
    "nbformat": 4,
    "nbformat_minor": 2
}
