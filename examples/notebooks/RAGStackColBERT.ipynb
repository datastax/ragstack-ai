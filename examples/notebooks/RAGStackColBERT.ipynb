{
 "cells": [
  {
   "cell_type": "markdown",
   "metadata": {
    "id": "3ittPJ0FzZSH"
   },
   "source": [
    "# ColBERT in RAGStack with Astra\n",
    "\n",
    "This notebook illustrates steps using RAGStack to\n",
    "\n",
    "1.   Create ColBERT embedding\n",
    "2.   Index embeddings on Astra\n",
    "3.   Retrieve with RAGStack and Astra\n",
    "4.   Use the LangChain ColBERT plugin\n",
    "\n",
    "ColBERT paper: https://arxiv.org/abs/2004.12832"
   ]
  },
  {
   "cell_type": "markdown",
   "metadata": {
    "id": "CAx-fwjgz3OT"
   },
   "source": [
    "## set up\n",
    "Let's import RAGStack-ColBERT"
   ]
  },
  {
   "cell_type": "code",
   "execution_count": null,
   "metadata": {
    "colab": {
     "base_uri": "https://localhost:8080/"
    },
    "id": "c6MlTtsiz6t_",
    "nbmake": {
     "post_cell_execute": [
      "from conftest import before_notebook",
      "before_notebook()"
     ]
    },
    "outputId": "cc03b362-062a-457b-c138-7e8af96f67b5"
   },
   "outputs": [],
   "source": [
    "!pip install ragstack-ai-colbert"
   ]
  },
  {
   "cell_type": "markdown",
   "metadata": {
    "id": "cYgW9yvN8kAc"
   },
   "source": [
    "Prepare documents including chunking"
   ]
  },
  {
   "cell_type": "code",
   "execution_count": null,
   "metadata": {
    "id": "hMX9A-ba8om6"
   },
   "outputs": [],
   "source": [
    "arctic_botany_dict = {\n",
    "    \"Introduction to Arctic Botany\": \"Arctic botany is the study of plant life in the Arctic, a region characterized by extreme cold, permafrost, and minimal sunlight for much of the year. Despite these harsh conditions, a diverse range of flora thrives here, adapted to survive with minimal water, low temperatures, and high light levels during the summer. This introduction aims to shed light on the resilience and adaptation of Arctic plants, setting the stage for a deeper dive into the unique botanical ecosystem of the Arctic.\",  # noqa: E501\n",
    "    \"Arctic Plant Adaptations\": \"Plants in the Arctic have developed unique adaptations to endure the extreme climate. Perennial growth, antifreeze proteins, and a short growth cycle are among the evolutionary solutions. These adaptations not only allow the plants to survive but also to reproduce in short summer months. Arctic plants often have small, dark leaves to absorb maximum sunlight, and some species grow in cushion or mat forms to resist cold winds. Understanding these adaptations provides insights into the resilience of Arctic flora.\",  # noqa: E501\n",
    "    \"The Tundra Biome\": \"The Arctic tundra is a vast, treeless biome where the subsoil is permanently frozen. Here, the vegetation is predominantly composed of dwarf shrubs, grasses, mosses, and lichens. The tundra supports a surprisingly rich biodiversity, adapted to its cold, dry, and windy conditions. The biome plays a crucial role in the Earth's climate system, acting as a carbon sink. However, it's sensitive to climate change, with thawing permafrost and shifting vegetation patterns.\",  # noqa: E501\n",
    "    \"Arctic Plant Biodiversity\": \"Despite the challenging environment, the Arctic boasts a significant variety of plant species, each adapted to its niche. From the colorful blooms of Arctic poppies to the hardy dwarf willows, these plants form a complex ecosystem. The biodiversity of Arctic flora is vital for local wildlife, providing food and habitat. This diversity also has implications for Arctic peoples, who depend on certain plant species for food, medicine, and materials.\",  # noqa: E501\n",
    "    \"Climate Change and Arctic Flora\": \"Climate change poses a significant threat to Arctic botany, with rising temperatures, melting permafrost, and changing precipitation patterns. These changes can lead to shifts in plant distribution, phenology, and the composition of the Arctic flora. Some species may thrive, while others could face extinction. This dynamic is critical to understanding future Arctic ecosystems and their global impact, including feedback loops that may exacerbate global warming.\",  # noqa: E501\n",
    "    \"Research and Conservation in the Arctic\": \"Research in Arctic botany is crucial for understanding the intricate balance of this ecosystem and the impacts of climate change. Scientists conduct studies on plant physiology, genetics, and ecosystem dynamics. Conservation efforts are focused on protecting the Arctic's unique biodiversity through protected areas, sustainable management practices, and international cooperation. These efforts aim to preserve the Arctic flora for future generations and maintain its role in the global climate system.\",  # noqa: E501\n",
    "    \"Traditional Knowledge and Arctic Botany\": \"Indigenous peoples of the Arctic have a deep connection with the land and its plant life. Traditional knowledge, passed down through generations, includes the uses of plants for nutrition, healing, and materials. This body of knowledge is invaluable for both conservation and understanding the ecological relationships in Arctic ecosystems. Integrating traditional knowledge with scientific research enriches our comprehension of Arctic botany and enhances conservation strategies.\",  # noqa: E501\n",
    "    \"Future Directions in Arctic Botanical Studies\": \"The future of Arctic botany lies in interdisciplinary research, combining traditional knowledge with modern scientific techniques. As the Arctic undergoes rapid changes, understanding the ecological, cultural, and climatic dimensions of Arctic flora becomes increasingly important. Future research will need to address the challenges of climate change, explore the potential for Arctic plants in biotechnology, and continue to conserve this unique biome. The resilience of Arctic flora offers lessons in adaptation and survival relevant to global challenges.\",  # noqa: E501\n",
    "}\n",
    "arctic_botany_texts = list(arctic_botany_dict.values())"
   ]
  },
  {
   "cell_type": "markdown",
   "metadata": {
    "id": "DGW4qu_f88cT"
   },
   "source": [
    "## Step 1. Setup ColBERT Astra Configuration"
   ]
  },
  {
   "cell_type": "code",
   "execution_count": null,
   "metadata": {
    "tags": [
     "skip-execution"
    ]
   },
   "outputs": [],
   "source": [
    "import os\n",
    "from getpass import getpass\n",
    "\n",
    "os.environ[\"ASTRA_DB_ID\"] = input(\"Enter your Astra DB ID: \")\n",
    "os.environ[\"ASTRA_DB_APPLICATION_TOKEN\"] = getpass(\"Enter your Astra DB Token: \")"
   ]
  },
  {
   "cell_type": "code",
   "execution_count": null,
   "metadata": {
    "colab": {
     "base_uri": "https://localhost:8080/"
    },
    "id": "YIHiBztg1IC-",
    "outputId": "cc9c60b1-25af-469e-d1ef-0e8c14cf76f0"
   },
   "outputs": [],
   "source": [
    "import os\n",
    "\n",
    "from ragstack_colbert import (\n",
    "    CassandraDatabase,\n",
    "    ColbertEmbeddingModel,\n",
    "    ColbertVectorStore,\n",
    ")\n",
    "\n",
    "database = CassandraDatabase.from_astra(\n",
    "    astra_token=os.environ[\"ASTRA_DB_APPLICATION_TOKEN\"],\n",
    "    database_id=os.environ[\"ASTRA_DB_ID\"],\n",
    ")\n",
    "\n",
    "embedding_model = ColbertEmbeddingModel()\n",
    "\n",
    "vector_store = ColbertVectorStore(\n",
    "    database=database,\n",
    "    embedding_model=embedding_model,\n",
    ")"
   ]
  },
  {
   "cell_type": "markdown",
   "metadata": {
    "id": "i0K8JU5x96qt"
   },
   "source": [
    "## Step 2. Create embeddings and ingest into Astra in a single line\n",
    "\n",
    "Connect to Astra including table and index creation"
   ]
  },
  {
   "cell_type": "code",
   "execution_count": null,
   "metadata": {
    "colab": {
     "base_uri": "https://localhost:8080/"
    },
    "id": "Xei2pGEh-APM",
    "outputId": "bb6321b3-6063-4706-c20f-b3561b9a4b7f"
   },
   "outputs": [],
   "source": [
    "results = vector_store.add_texts(texts=arctic_botany_texts, doc_id=\"artic_botany\")"
   ]
  },
  {
   "cell_type": "markdown",
   "metadata": {
    "id": "eVnQ1wVmFp2_"
   },
   "source": [
    "## Step 3. Retrieval\n",
    "\n",
    "Create a RAGStack retriever and start asking questions on the indexed embeddings. The library provides\n",
    "* Embed query tokens\n",
    "* Generate candidate documents using Astra ANN search\n",
    "* max similarity scoring\n",
    "* Ranking"
   ]
  },
  {
   "cell_type": "code",
   "execution_count": null,
   "metadata": {
    "colab": {
     "base_uri": "https://localhost:8080/"
    },
    "id": "yWFF3cB29VOb",
    "outputId": "4674438f-8c6d-47cd-bd0c-bc7c06d1e66b"
   },
   "outputs": [],
   "source": [
    "import logging\n",
    "\n",
    "import nest_asyncio\n",
    "\n",
    "nest_asyncio.apply()\n",
    "\n",
    "logging.getLogger(\"cassandra\").setLevel(logging.ERROR)  # workaround to suppress logs\n",
    "retriever = vector_store.as_retriever()\n",
    "\n",
    "answers = retriever.text_search(\"What's artic botany\", k=2)\n",
    "for rank, (answer, score) in enumerate(answers):\n",
    "    print(f\"Rank: {rank} Score: {score} Text: {answer.text}\\n\")"
   ]
  },
  {
   "cell_type": "markdown",
   "metadata": {
    "id": "-3cO-D_lEBVq"
   },
   "source": [
    "## 4. LangChain retriever"
   ]
  },
  {
   "cell_type": "code",
   "execution_count": null,
   "metadata": {
    "colab": {
     "base_uri": "https://localhost:8080/"
    },
    "id": "tyOOld20F0R7",
    "outputId": "6bfc52fe-9921-47dc-b834-f220d7384807"
   },
   "outputs": [],
   "source": [
    "!pip install \"ragstack-ai-langchain[colbert]\""
   ]
  },
  {
   "cell_type": "code",
   "execution_count": null,
   "metadata": {
    "colab": {
     "base_uri": "https://localhost:8080/"
    },
    "id": "XLV_kBM2EGGv",
    "outputId": "dc6fcb13-82cf-41bc-90c6-cf554f16163e"
   },
   "outputs": [],
   "source": [
    "from ragstack_langchain.colbert import ColbertVectorStore as LangchainColbertVectorStore\n",
    "\n",
    "lc_vector_store = LangchainColbertVectorStore(\n",
    "    database=database,\n",
    "    embedding_model=embedding_model,\n",
    ")\n",
    "\n",
    "docs = lc_vector_store.similarity_search(\n",
    "    \"what kind fish lives shallow coral reefs atlantic, india ocean, \"\n",
    "    \"red sea, gulf of mexico, pacific, and arctic ocean\"\n",
    ")\n",
    "print(f\"first answer: {docs[0].page_content}\")"
   ]
  }
 ],
 "metadata": {
  "colab": {
   "provenance": []
  },
  "kernelspec": {
   "display_name": "Python 3",
   "name": "python3"
  },
  "language_info": {
   "codemirror_mode": {
    "name": "ipython",
    "version": 3
   },
   "file_extension": ".py",
   "mimetype": "text/x-python",
   "name": "python",
   "nbconvert_exporter": "python",
   "pygments_lexer": "ipython3",
   "version": "3.11.9"
  }
 },
 "nbformat": 4,
 "nbformat_minor": 0
}