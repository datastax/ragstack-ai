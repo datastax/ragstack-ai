{
 "cells": [
  {
   "cell_type": "markdown",
   "metadata": {
    "id": "iN1zyV4MCRNa"
   },
   "source": [
    "# Dynamic Few-Shot Prompting for SQL\n",
    "\n",
    "Few-Shot Prompting is a technique to add relevant examples to the prompt.\n",
    "Dynamic Few-Shot Prompting uses a vector store such as Astra DB to get the relevant examples from a similarity search between the prompt and known prompts associated to validated examples.\n",
    "This notebook shows how to use RAGStack and LangChain to do Dynamic Few-Shot Prompting to improve the accuracy of Text-to-SQL prompts.\n",
    "\n",
    "Let's start by installing RAGStack and required libraries :"
   ]
  },
  {
   "cell_type": "code",
   "execution_count": null,
   "metadata": {
    "id": "1sO4bb7KNZFh",
    "nbmake": {
     "post_cell_execute": [
      "from conftest import before_notebook",
      "before_notebook()"
     ]
    }
   },
   "outputs": [],
   "source": [
    "!pip install --quiet ragstack-ai datasets"
   ]
  },
  {
   "cell_type": "markdown",
   "metadata": {
    "id": "QZdi9gTKF0lo"
   },
   "source": [
    "Configure your OpenAI API key ([link](https://platform.openai.com/docs/quickstart/account-setup)):"
   ]
  },
  {
   "cell_type": "code",
   "execution_count": null,
   "metadata": {
    "id": "InwITLEqNgFh"
   },
   "outputs": [],
   "source": [
    "import os\n",
    "from getpass import getpass\n",
    "\n",
    "from langchain_openai import OpenAIEmbeddings\n",
    "\n",
    "if \"OPENAI_API_KEY\" not in os.environ:\n",
    "    os.environ[\"OPENAI_API_KEY\"] = getpass(\"OpenAI API Key: \")\n",
    "\n",
    "emb = OpenAIEmbeddings()"
   ]
  },
  {
   "cell_type": "markdown",
   "metadata": {
    "id": "wTrO7B1QGEG1"
   },
   "source": [
    "Configure your Astra DB token and API endpoint ([link](https://docs.datastax.com/en/astra/astra-db-vector/get-started/quickstart.html#create-a-serverless-vector-database)):\n",
    "\n",
    "\n",
    "\n"
   ]
  },
  {
   "cell_type": "code",
   "execution_count": null,
   "metadata": {
    "id": "M3WzwB9cpgCI"
   },
   "outputs": [],
   "source": [
    "# Grab the Astra token and api endpoint from the environment or user input\n",
    "ASTRA_DB_TOKEN = (\n",
    "    os.environ[\"ASTRA_DB_APPLICATION_TOKEN\"]\n",
    "    if \"ASTRA_DB_APPLICATION_TOKEN\" in os.environ\n",
    "    else getpass(\"Astra DB Token: \")\n",
    ")\n",
    "ASTRA_DB_ENDPOINT = (\n",
    "    os.environ[\"ASTRA_DB_API_ENDPOINT\"]\n",
    "    if \"ASTRA_DB_API_ENDPOINT\" in os.environ\n",
    "    else input(\"Astra DB Endpoint: \")\n",
    ")"
   ]
  },
  {
   "cell_type": "markdown",
   "metadata": {
    "id": "bjSKB61OGOZX"
   },
   "source": [
    "For this demo, we will use the [Spider](https://yale-lily.github.io/spider) dataset, which has been a standard to evaluate generated SQL performance for a few years now. This dataset consists of `question`, `query` pairs to indicate the ideal query to be generated from a given natural language question.\n",
    "We'll use the LangChain SQL agent to run those queries against a SQL database that has the Spider `Pets` schema.\n",
    "For this we create a local sqlite database for convenience but the principle would be the same for any SQL database.\n"
   ]
  },
  {
   "cell_type": "code",
   "execution_count": 4,
   "metadata": {
    "id": "ua6yQ6XT1WgO"
   },
   "outputs": [],
   "source": [
    "from langchain_community.utilities import SQLDatabase\n",
    "\n",
    "db = SQLDatabase.from_uri(\"sqlite:///spider.db\")\n",
    "\n",
    "PETS_SQL = \"\"\"\n",
    "PRAGMA foreign_keys=OFF;\n",
    "BEGIN TRANSACTION;\n",
    "CREATE TABLE Student (\n",
    "       StuID    \tINTEGER PRIMARY KEY,\n",
    "       LName\t\tVARCHAR(12),\n",
    "       Fname\t\tVARCHAR(12),\n",
    "       Age\t\tINTEGER,\n",
    "       Sex\t\tVARCHAR(1),\n",
    "       Major\t\tINTEGER,\n",
    "       Advisor\t\tINTEGER,\n",
    "       city_code\tVARCHAR(3)\n",
    ");\n",
    "INSERT INTO Student VALUES(1001,'Smith','Linda',18,'F',600,1121,'BAL');\n",
    "INSERT INTO Student VALUES(1002,'Kim','Tracy',19,'F',600,7712,'HKG');\n",
    "INSERT INTO Student VALUES(1003,'Jones','Shiela',21,'F',600,7792,'WAS');\n",
    "INSERT INTO Student VALUES(1004,'Kumar','Dinesh',20,'M',600,8423,'CHI');\n",
    "INSERT INTO Student VALUES(1005,'Gompers','Paul',26,'M',600,1121,'YYZ');\n",
    "INSERT INTO Student VALUES(1006,'Schultz','Andy',18,'M',600,1148,'BAL');\n",
    "INSERT INTO Student VALUES(1007,'Apap','Lisa',18,'F',600,8918,'PIT');\n",
    "INSERT INTO Student VALUES(1008,'Nelson','Jandy',20,'F',600,9172,'BAL');\n",
    "INSERT INTO Student VALUES(1009,'Tai','Eric',19,'M',600,2192,'YYZ');\n",
    "INSERT INTO Student VALUES(1010,'Lee','Derek',17,'M',600,2192,'HOU');\n",
    "INSERT INTO Student VALUES(1011,'Adams','David',22,'M',600,1148,'PHL');\n",
    "INSERT INTO Student VALUES(1012,'Davis','Steven',20,'M',600,7723,'PIT');\n",
    "INSERT INTO Student VALUES(1014,'Norris','Charles',18,'M',600,8741,'DAL');\n",
    "INSERT INTO Student VALUES(1015,'Lee','Susan',16,'F',600,8721,'HKG');\n",
    "INSERT INTO Student VALUES(1016,'Schwartz','Mark',17,'M',600,2192,'DET');\n",
    "INSERT INTO Student VALUES(1017,'Wilson','Bruce',27,'M',600,1148,'LON');\n",
    "INSERT INTO Student VALUES(1018,'Leighton','Michael',20,'M',600,1121,'PIT');\n",
    "INSERT INTO Student VALUES(1019,'Pang','Arthur',18,'M',600,2192,'WAS');\n",
    "INSERT INTO Student VALUES(1020,'Thornton','Ian',22,'M',520,7271,'NYC');\n",
    "INSERT INTO Student VALUES(1021,'Andreou','George',19,'M',520,8722,'NYC');\n",
    "INSERT INTO Student VALUES(1022,'Woods','Michael',17,'M',540,8722,'PHL');\n",
    "INSERT INTO Student VALUES(1023,'Shieber','David',20,'M',520,8722,'NYC');\n",
    "INSERT INTO Student VALUES(1024,'Prater','Stacy',18,'F',540,7271,'BAL');\n",
    "INSERT INTO Student VALUES(1025,'Goldman','Mark',18,'M',520,7134,'PIT');\n",
    "INSERT INTO Student VALUES(1026,'Pang','Eric',19,'M',520,7134,'HKG');\n",
    "INSERT INTO Student VALUES(1027,'Brody','Paul',18,'M',520,8723,'LOS');\n",
    "INSERT INTO Student VALUES(1028,'Rugh','Eric',20,'M',550,2311,'ROC');\n",
    "INSERT INTO Student VALUES(1029,'Han','Jun',17,'M',100,2311,'PEK');\n",
    "INSERT INTO Student VALUES(1030,'Cheng','Lisa',21,'F',550,2311,'SFO');\n",
    "INSERT INTO Student VALUES(1031,'Smith','Sarah',20,'F',550,8772,'PHL');\n",
    "INSERT INTO Student VALUES(1032,'Brown','Eric',20,'M',550,8772,'ATL');\n",
    "INSERT INTO Student VALUES(1033,'Simms','William',18,'M',550,8772,'NAR');\n",
    "INSERT INTO Student VALUES(1034,'Epp','Eric',18,'M',50,5718,'BOS');\n",
    "INSERT INTO Student VALUES(1035,'Schmidt','Sarah',26,'F',50,5718,'WAS');\n",
    "CREATE TABLE Has_Pet (\n",
    "       StuID\t\tINTEGER,\n",
    "       PetID\t\tINTEGER,\n",
    "       FOREIGN KEY(PetID) REFERENCES Pets(PetID),\n",
    "       FOREIGN KEY(StuID) REFERENCES Student(StuID)\n",
    ");\n",
    "INSERT INTO Has_Pet VALUES(1001,2001);\n",
    "INSERT INTO Has_Pet VALUES(1002,2002);\n",
    "INSERT INTO Has_Pet VALUES(1002,2003);\n",
    "INSERT INTO Has_Pet VALUES(1003,2001);\n",
    "INSERT INTO Has_Pet VALUES(1003,2002);\n",
    "INSERT INTO Has_Pet VALUES(1003,2003);\n",
    "INSERT INTO Has_Pet VALUES(1034,2001);\n",
    "INSERT INTO Has_Pet VALUES(1034,2002);\n",
    "INSERT INTO Has_Pet VALUES(1034,2003);\n",
    "CREATE TABLE Pets (\n",
    "       PetID\t\tINTEGER PRIMARY KEY,\n",
    "       PetType\t\tVARCHAR(20),\n",
    "       pet_age INTEGER,\n",
    "       weight REAL\n",
    ");\n",
    "INSERT INTO Pets VALUES(2001,'cat',3,12.0);\n",
    "INSERT INTO Pets VALUES(2002,'dog',2,13.400000000000000799);\n",
    "INSERT INTO Pets VALUES(2003,'dog',1,9.3000000000000007105);\n",
    "COMMIT;\n",
    "\"\"\"\n",
    "\n",
    "with db._engine.begin() as conn:  # noqa: SLF001\n",
    "    conn.connection.executescript(PETS_SQL)"
   ]
  },
  {
   "cell_type": "markdown",
   "metadata": {
    "id": "i4ghXwJ6ZbdX"
   },
   "source": [
    "We download the Spider dataset:"
   ]
  },
  {
   "cell_type": "code",
   "execution_count": null,
   "metadata": {
    "id": "hbZVte-WO_pQ"
   },
   "outputs": [],
   "source": [
    "from datasets import load_dataset\n",
    "\n",
    "spider = load_dataset(\"spider\", split=\"validation\")\n",
    "spider_df = spider.to_pandas()\n",
    "spider_schema = load_dataset(\"richardr1126/spider-schema\", split=\"train\")\n",
    "spider_schema_df = spider_schema.to_pandas()"
   ]
  },
  {
   "cell_type": "markdown",
   "metadata": {
    "id": "T14vscvXZidi"
   },
   "source": [
    "First, let's create a LangChain `SemanticSimilarityExampleSelector`. This component wraps a VectorStore to get examples similar to a given input. Our examples are the question/SQL query pairs of the Spider dataset.\n"
   ]
  },
  {
   "cell_type": "code",
   "execution_count": 6,
   "metadata": {
    "id": "CcpyFr8DNYHm"
   },
   "outputs": [],
   "source": [
    "from langchain_astradb import AstraDBVectorStore\n",
    "from langchain_core.example_selectors import SemanticSimilarityExampleSelector\n",
    "\n",
    "examples = [\n",
    "    {\"input\": row[\"question\"], \"query\": row[\"query\"]}\n",
    "    for _, row in spider_df[[\"question\", \"query\"]].iterrows()\n",
    "]\n",
    "example_selector = SemanticSimilarityExampleSelector.from_examples(\n",
    "    examples,\n",
    "    emb,\n",
    "    AstraDBVectorStore,\n",
    "    k=5,\n",
    "    input_keys=[\"input\"],\n",
    "    collection_name=\"lc_few_shots\",\n",
    "    token=ASTRA_DB_TOKEN,\n",
    "    api_endpoint=ASTRA_DB_ENDPOINT,\n",
    ")"
   ]
  },
  {
   "cell_type": "markdown",
   "metadata": {
    "id": "zh-bZwGzal-A"
   },
   "source": [
    "We can get a few SQL query examples for a given prompt:"
   ]
  },
  {
   "cell_type": "code",
   "execution_count": 7,
   "metadata": {
    "colab": {
     "base_uri": "https://localhost:8080/"
    },
    "id": "M0JHhQ_-mRZw",
    "nbmake": {
     "post_cell_execute": [
      "assert len(some_examples) == 5"
     ]
    },
    "outputId": "2affad57-7102-4bfb-f4ad-7b40f27a8d08"
   },
   "outputs": [
    {
     "name": "stdout",
     "output_type": "stream",
     "text": [
      "{'input': \"What are the students' first names who have both cats and dogs as pets?\", 'query': \"SELECT T1.Fname FROM student AS T1 JOIN has_pet AS T2 ON T1.stuid  =  T2.stuid JOIN pets AS T3 ON T3.petid  =  T2.petid WHERE T3.pettype  =  'cat' INTERSECT SELECT T1.Fname FROM student AS T1 JOIN has_pet AS T2 ON T1.stuid  =  T2.stuid JOIN pets AS T3 ON T3.petid  =  T2.petid WHERE T3.pettype  =  'dog'\"}\n",
      "{'input': 'Find the first name of students who have both cat and dog pets .', 'query': \"select t1.fname from student as t1 join has_pet as t2 on t1.stuid  =  t2.stuid join pets as t3 on t3.petid  =  t2.petid where t3.pettype  =  'cat' intersect select t1.fname from student as t1 join has_pet as t2 on t1.stuid  =  t2.stuid join pets as t3 on t3.petid  =  t2.petid where t3.pettype  =  'dog'\"}\n",
      "{'input': 'What are the first names of every student who has a cat or dog as a pet?', 'query': \"SELECT DISTINCT T1.Fname FROM student AS T1 JOIN has_pet AS T2 ON T1.stuid  =  T2.stuid JOIN pets AS T3 ON T3.petid  =  T2.petid WHERE T3.pettype  =  'cat' OR T3.pettype  =  'dog'\"}\n",
      "{'input': 'What is the first name and gender of the all the students who have more than one pet?', 'query': 'SELECT T1.fname ,  T1.sex FROM student AS T1 JOIN has_pet AS T2 ON T1.stuid  =  T2.stuid GROUP BY T1.stuid HAVING count(*)  >  1'}\n",
      "{'input': 'What are the different first names and ages of the students who do have pets?', 'query': 'SELECT DISTINCT T1.fname ,  T1.age FROM student AS T1 JOIN has_pet AS T2 ON T1.stuid  =  T2.stuid'}\n"
     ]
    }
   ],
   "source": [
    "some_examples = example_selector.select_examples(\n",
    "    {\"input\": \"Who are the students who have both cat and dog pets.\"}\n",
    ")\n",
    "for example in some_examples:\n",
    "    print(example)"
   ]
  },
  {
   "cell_type": "markdown",
   "metadata": {
    "id": "SjZTrQIVay8O"
   },
   "source": [
    "We can now instanciate a `FewShotPromptTemplate` passing it our example selector. We reuse prompt template LangChain uses for SQL and add it a line to indicate that what follows will be a list of examples."
   ]
  },
  {
   "cell_type": "code",
   "execution_count": 8,
   "metadata": {
    "id": "v9utigDMjZxR"
   },
   "outputs": [],
   "source": [
    "from langchain.agents.agent_toolkits.sql.prompt import SQL_PREFIX\n",
    "from langchain_core.prompts import FewShotPromptTemplate, PromptTemplate\n",
    "\n",
    "few_shot_prompt = FewShotPromptTemplate(\n",
    "    example_selector=example_selector,\n",
    "    example_prompt=PromptTemplate.from_template(\n",
    "        \"User input: {input}\\nSQL query: {query}\"\n",
    "    ),\n",
    "    prefix=SQL_PREFIX\n",
    "    + \"\\n\\nHere are some examples of user inputs and their corresponding SQL queries:\",\n",
    "    suffix=\"\",\n",
    "    input_variables=[\"input\", \"dialect\", \"top_k\"],\n",
    ")"
   ]
  },
  {
   "cell_type": "markdown",
   "metadata": {
    "id": "-x38SjptbbLs"
   },
   "source": [
    "We can check what the final prompt looks like for a given input."
   ]
  },
  {
   "cell_type": "code",
   "execution_count": 9,
   "metadata": {
    "colab": {
     "base_uri": "https://localhost:8080/"
    },
    "id": "AbxL6IPbjUR6",
    "outputId": "f60d1c0d-a2ea-4aec-9ff6-d5520b802d0b"
   },
   "outputs": [
    {
     "name": "stdout",
     "output_type": "stream",
     "text": [
      "You are an agent designed to interact with a SQL database.\n",
      "Given an input question, create a syntactically correct SQLite query to run, then look at the results of the query and return the answer.\n",
      "Unless the user specifies a specific number of examples they wish to obtain, always limit your query to at most 3 results.\n",
      "You can order the results by a relevant column to return the most interesting examples in the database.\n",
      "Never query for all the columns from a specific table, only ask for the relevant columns given the question.\n",
      "You have access to tools for interacting with the database.\n",
      "Only use the below tools. Only use the information returned by the below tools to construct your final answer.\n",
      "You MUST double check your query before executing it. If you get an error while executing a query, rewrite the query and try again.\n",
      "\n",
      "DO NOT make any DML statements (INSERT, UPDATE, DELETE, DROP etc.) to the database.\n",
      "\n",
      "If the question does not seem related to the database, just return \"I don't know\" as the answer.\n",
      "\n",
      "\n",
      "Here are some examples of user inputs and their corresponding SQL queries:\n",
      "\n",
      "User input: What are the students' first names who have both cats and dogs as pets?\n",
      "SQL query: SELECT T1.Fname FROM student AS T1 JOIN has_pet AS T2 ON T1.stuid  =  T2.stuid JOIN pets AS T3 ON T3.petid  =  T2.petid WHERE T3.pettype  =  'cat' INTERSECT SELECT T1.Fname FROM student AS T1 JOIN has_pet AS T2 ON T1.stuid  =  T2.stuid JOIN pets AS T3 ON T3.petid  =  T2.petid WHERE T3.pettype  =  'dog'\n",
      "\n",
      "User input: Find the first name of students who have both cat and dog pets .\n",
      "SQL query: select t1.fname from student as t1 join has_pet as t2 on t1.stuid  =  t2.stuid join pets as t3 on t3.petid  =  t2.petid where t3.pettype  =  'cat' intersect select t1.fname from student as t1 join has_pet as t2 on t1.stuid  =  t2.stuid join pets as t3 on t3.petid  =  t2.petid where t3.pettype  =  'dog'\n",
      "\n",
      "User input: What are the first names of every student who has a cat or dog as a pet?\n",
      "SQL query: SELECT DISTINCT T1.Fname FROM student AS T1 JOIN has_pet AS T2 ON T1.stuid  =  T2.stuid JOIN pets AS T3 ON T3.petid  =  T2.petid WHERE T3.pettype  =  'cat' OR T3.pettype  =  'dog'\n",
      "\n",
      "User input: What is the first name of every student who has a dog but does not have a cat?\n",
      "SQL query: SELECT T1.fname ,  T1.age FROM student AS T1 JOIN has_pet AS T2 ON T1.stuid  =  T2.stuid JOIN pets AS T3 ON T3.petid  =  T2.petid WHERE T3.pettype  =  'dog' AND T1.stuid NOT IN (SELECT T1.stuid FROM student AS T1 JOIN has_pet AS T2 ON T1.stuid  =  T2.stuid JOIN pets AS T3 ON T3.petid  =  T2.petid WHERE T3.pettype  =  'cat')\n",
      "\n",
      "User input: What is the first name and gender of the all the students who have more than one pet?\n",
      "SQL query: SELECT T1.fname ,  T1.sex FROM student AS T1 JOIN has_pet AS T2 ON T1.stuid  =  T2.stuid GROUP BY T1.stuid HAVING count(*)  >  1\n"
     ]
    }
   ],
   "source": [
    "print(\n",
    "    few_shot_prompt.format(\n",
    "        input=\"Who are the students who have both cat and dog.\",\n",
    "        top_k=3,\n",
    "        dialect=\"SQLite\",\n",
    "    )\n",
    ")"
   ]
  },
  {
   "cell_type": "markdown",
   "metadata": {
    "id": "cfIYFB5cb8yf"
   },
   "source": [
    "Eventually, we use our Dynamic Few-Shot prompt as system message for a SQL agent (we override the default SQL agent prompt) and we can use the agent to autonomously answer our questions on the SQL database.\n",
    "\n",
    "The agent will:\n",
    "* Connect to the Sqlite database\n",
    "* List the available tables\n",
    "* Get the table schemas\n",
    "* Generate a prompt with examples similar to the input question\n",
    "* Send the prompt to OpenAI API and get the corresponding SQL query\n",
    "* Execute the SQL query an the Sqlite database and get the results\n",
    "* Generate a prompt with the results to get a text answer for the input question\n",
    "* Send the prompt to OpenAI API and get the final answer to the question"
   ]
  },
  {
   "cell_type": "code",
   "execution_count": 11,
   "metadata": {
    "colab": {
     "base_uri": "https://localhost:8080/"
    },
    "id": "BUHtd5hlHQ7Q",
    "nbmake": {
     "post_cell_execute": [
      "assert len(result) > 0"
     ]
    },
    "outputId": "108d7441-adb7-4a19-a6cd-055e52377971"
   },
   "outputs": [
    {
     "name": "stdout",
     "output_type": "stream",
     "text": [
      "The students who have a cat or dog as pets are Linda, Tracy, Shiela, and Eric.\n"
     ]
    }
   ],
   "source": [
    "from langchain.agents.agent_toolkits.sql.prompt import SQL_FUNCTIONS_SUFFIX, SQL_PREFIX\n",
    "from langchain_community.agent_toolkits import create_sql_agent\n",
    "from langchain_core.messages import AIMessage\n",
    "from langchain_core.prompts import SystemMessagePromptTemplate\n",
    "from langchain_core.prompts.chat import (\n",
    "    ChatPromptTemplate,\n",
    "    HumanMessagePromptTemplate,\n",
    "    MessagesPlaceholder,\n",
    ")\n",
    "from langchain_openai import ChatOpenAI\n",
    "\n",
    "# from langchain.globals import set_debug\n",
    "# set_debug(True)\n",
    "\n",
    "db = SQLDatabase.from_uri(\"sqlite:///spider.db\")\n",
    "\n",
    "messages = [\n",
    "    SystemMessagePromptTemplate(prompt=few_shot_prompt),\n",
    "    HumanMessagePromptTemplate.from_template(\"{input}\"),\n",
    "    AIMessage(content=SQL_FUNCTIONS_SUFFIX),\n",
    "    MessagesPlaceholder(variable_name=\"agent_scratchpad\"),\n",
    "]\n",
    "prompt = ChatPromptTemplate.from_messages(messages)\n",
    "\n",
    "llm = ChatOpenAI(model=\"gpt-3.5-turbo\", temperature=0)\n",
    "agent = create_sql_agent(llm, db=db, prompt=prompt, agent_type=\"openai-tools\")\n",
    "\n",
    "result = agent.run({\"input\": \"Who are the students who have a cat or a dog?\"})\n",
    "\n",
    "print(result)"
   ]
  },
  {
   "cell_type": "markdown",
   "metadata": {
    "collapsed": false,
    "id": "aXJC7QhiuiJx"
   },
   "source": [
    "Cleanup Astra DB"
   ]
  },
  {
   "cell_type": "code",
   "execution_count": 12,
   "metadata": {
    "id": "Q9dfb0Rsvr2p"
   },
   "outputs": [],
   "source": [
    "example_selector.vectorstore.delete_collection()"
   ]
  }
 ],
 "metadata": {
  "colab": {
   "provenance": []
  },
  "kernelspec": {
   "display_name": "Python 3",
   "name": "python3"
  },
  "language_info": {
   "name": "python"
  }
 },
 "nbformat": 4,
 "nbformat_minor": 0
}