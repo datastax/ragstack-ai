{
 "cells": [
  {
   "cell_type": "markdown",
   "id": "005e19ad",
   "metadata": {},
   "source": [
    "# VectorStore/QA, MMR support"
   ]
  },
  {
   "cell_type": "markdown",
   "id": "0778d5f6",
   "metadata": {},
   "source": [
    "_**NOTE:** this uses Cassandra's \"Vector Search\" capability.\n",
    "Make sure you are connecting to a vector-enabled database for this demo._"
   ]
  },
  {
   "cell_type": "markdown",
   "id": "102fec23",
   "metadata": {},
   "source": [
    "Cassandra's `VectorStore` allows for Vector Search with the **Maximal Marginal Relevance (MMR)** algorithm.\n",
    "\n",
    "This is a search criterion that instead of just selecting the _k_ stored documents most relevant to the provided query, first identifies a larger pool of relevant results, and then singles out _k_ of them so that they carry as diverse information between them as possible.\n",
    "\n",
    "In this way, when the stored text fragments are likely to be redundant, you can optimize token usage and help the models give more comprehensive answers.\n",
    "\n",
    "_This is very useful, for instance, if you are building a QA chatbot on past Support chat recorded interactions._"
   ]
  },
  {
   "cell_type": "markdown",
   "id": "47170e52",
   "metadata": {},
   "source": [
    "First prepare a connection to a vector-search-capable Cassandra and initialize the required LLM and embeddings:"
   ]
  },
  {
   "cell_type": "code",
   "execution_count": 1,
   "id": "7672da56",
   "metadata": {},
   "outputs": [],
   "source": [
    "from langchain.indexes.vectorstore import VectorStoreIndexWrapper\n",
    "from langchain.vectorstores import Cassandra"
   ]
  },
  {
   "cell_type": "markdown",
   "id": "4578a87b",
   "metadata": {},
   "source": [
    "A database connection is needed. _(If on a Colab, the only supported option is the cloud service Astra DB.)_"
   ]
  },
  {
   "cell_type": "code",
   "execution_count": 2,
   "id": "9515d4af-9fc2-4c29-b9f2-5c90cd48cc1b",
   "metadata": {},
   "outputs": [],
   "source": [
    "# Ensure loading of database credentials into environment variables:\n",
    "import os\n",
    "from dotenv import load_dotenv\n",
    "load_dotenv(\"../../../.env\")\n",
    "\n",
    "import cassio"
   ]
  },
  {
   "cell_type": "markdown",
   "id": "25ee44a4-8d6a-4b41-8a8f-7c93eed35034",
   "metadata": {},
   "source": [
    "Select your choice of database by editing this cell, if needed:"
   ]
  },
  {
   "cell_type": "code",
   "execution_count": 3,
   "id": "bfe78b92-7194-4ee9-ba7f-cd308409212c",
   "metadata": {},
   "outputs": [],
   "source": [
    "database_mode = \"cassandra\"  # \"cassandra\" / \"astra_db\""
   ]
  },
  {
   "cell_type": "code",
   "execution_count": 4,
   "id": "fb5597b3-a028-4d8f-ad6d-8eaf0c941dcc",
   "metadata": {},
   "outputs": [],
   "source": [
    "if database_mode == \"astra_db\":\n",
    "    cassio.init(\n",
    "        database_id=os.environ[\"ASTRA_DB_ID\"],\n",
    "        token=os.environ[\"ASTRA_DB_APPLICATION_TOKEN\"],\n",
    "        keyspace=os.environ.get(\"ASTRA_DB_KEYSPACE\"),  # this is optional\n",
    "    )"
   ]
  },
  {
   "cell_type": "code",
   "execution_count": 5,
   "id": "329d969b-6532-4dc4-a315-1a5438a59919",
   "metadata": {},
   "outputs": [],
   "source": [
    "if database_mode == \"cassandra\":\n",
    "    from cqlsession import getCassandraCQLSession, getCassandraCQLKeyspace\n",
    "    cassio.init(\n",
    "        session=getCassandraCQLSession(),\n",
    "        keyspace=getCassandraCQLKeyspace(),\n",
    "    )"
   ]
  },
  {
   "cell_type": "markdown",
   "id": "50df3f86",
   "metadata": {},
   "source": [
    "Below is the logic to instantiate the LLM and embeddings of choice. We chose to leave it in the notebooks for clarity."
   ]
  },
  {
   "cell_type": "code",
   "execution_count": 6,
   "id": "e63d3c2e",
   "metadata": {},
   "outputs": [
    {
     "name": "stdout",
     "output_type": "stream",
     "text": [
      "LLM+embeddings from OpenAI\n"
     ]
    }
   ],
   "source": [
    "import os\n",
    "from llm_choice import suggestLLMProvider\n",
    "\n",
    "llmProvider = suggestLLMProvider()\n",
    "# (Alternatively set llmProvider to 'GCP_VertexAI', 'OpenAI', 'Azure_OpenAI' ... manually if you have credentials)\n",
    "\n",
    "if llmProvider == 'GCP_VertexAI':\n",
    "    from langchain.llms import VertexAI\n",
    "    from langchain.embeddings import VertexAIEmbeddings\n",
    "    llm = VertexAI()\n",
    "    myEmbedding = VertexAIEmbeddings()\n",
    "    print('LLM+embeddings from Vertex AI')\n",
    "elif llmProvider == 'OpenAI':\n",
    "    os.environ['OPENAI_API_TYPE'] = 'open_ai'\n",
    "    from langchain.llms import OpenAI\n",
    "    from langchain.embeddings import OpenAIEmbeddings\n",
    "    llm = OpenAI(temperature=0)\n",
    "    myEmbedding = OpenAIEmbeddings()\n",
    "    print('LLM+embeddings from OpenAI')\n",
    "elif llmProvider == 'Azure_OpenAI':\n",
    "    os.environ['OPENAI_API_TYPE'] = 'azure'\n",
    "    os.environ['OPENAI_API_VERSION'] = os.environ['AZURE_OPENAI_API_VERSION']\n",
    "    os.environ['OPENAI_API_BASE'] = os.environ['AZURE_OPENAI_API_BASE']\n",
    "    os.environ['OPENAI_API_KEY'] = os.environ['AZURE_OPENAI_API_KEY']\n",
    "    from langchain.llms import AzureOpenAI\n",
    "    from langchain.embeddings import OpenAIEmbeddings\n",
    "    llm = AzureOpenAI(temperature=0, model_name=os.environ['AZURE_OPENAI_LLM_MODEL'],\n",
    "                      engine=os.environ['AZURE_OPENAI_LLM_DEPLOYMENT'])\n",
    "    myEmbedding = OpenAIEmbeddings(model=os.environ['AZURE_OPENAI_EMBEDDINGS_MODEL'],\n",
    "                                   deployment=os.environ['AZURE_OPENAI_EMBEDDINGS_DEPLOYMENT'])\n",
    "    print('LLM+embeddings from Azure OpenAI')\n",
    "else:\n",
    "    raise ValueError('Unknown LLM provider.')"
   ]
  },
  {
   "cell_type": "markdown",
   "id": "a8a0110b",
   "metadata": {},
   "source": [
    "## Create the store\n",
    "\n",
    "Create a (Cassandra-backed) `VectorStore` and the corresponding LangChain `VectorStoreIndexWrapper`"
   ]
  },
  {
   "cell_type": "code",
   "execution_count": 7,
   "id": "a1e0fca7",
   "metadata": {},
   "outputs": [],
   "source": [
    "myCassandraVStore = Cassandra(\n",
    "    embedding=myEmbedding,\n",
    "    session=None,\n",
    "    keyspace=None,\n",
    "    table_name='vs_test2_' + llmProvider,\n",
    ")\n",
    "index = VectorStoreIndexWrapper(vectorstore=myCassandraVStore)"
   ]
  },
  {
   "cell_type": "markdown",
   "id": "a0141b35",
   "metadata": {},
   "source": [
    "This command simply resets the store in case you want to run this demo repeatedly:"
   ]
  },
  {
   "cell_type": "code",
   "execution_count": 8,
   "id": "8d88fb0b",
   "metadata": {},
   "outputs": [],
   "source": [
    "myCassandraVStore.clear()"
   ]
  },
  {
   "cell_type": "markdown",
   "id": "168f19c2",
   "metadata": {},
   "source": [
    "## Populate the index\n",
    "\n",
    "\n",
    "Notice that the first four sentences express the same concept, while the **fifth** adds a new detail:"
   ]
  },
  {
   "cell_type": "code",
   "execution_count": 9,
   "id": "b53c343b",
   "metadata": {},
   "outputs": [],
   "source": [
    "BASE_SENTENCE_0 =     ('The frogs and the toads were meeting in the night '\n",
    "                       'for a party under the moon.')\n",
    "\n",
    "BASE_SENTENCE_1 =     ('There was a party under the moon, that all toads, '\n",
    "                       'with the frogs, decided to throw that night.')\n",
    "\n",
    "BASE_SENTENCE_2 =     ('And the frogs and the toads said: \"Let us have a party '\n",
    "                       'tonight, as the moon is shining\".')\n",
    "\n",
    "BASE_SENTENCE_3 =     ('I remember that night... toads, along with frogs, '\n",
    "                       'were all busy planning a moonlit celebration.')\n",
    "\n",
    "DIFFERENT_SENTENCE =  ('For the party, frogs and toads set a rule: '\n",
    "                       'everyone was to wear a purple hat.')"
   ]
  },
  {
   "cell_type": "markdown",
   "id": "d40ae400",
   "metadata": {},
   "source": [
    "Insert the three into the index, specifying \"sources\" while you're at it (it will be useful later):"
   ]
  },
  {
   "cell_type": "code",
   "execution_count": 10,
   "id": "d7a3935c",
   "metadata": {},
   "outputs": [
    {
     "name": "stdout",
     "output_type": "stream",
     "text": [
      "46c33fe2a3634ad79856006fc54176d5\n",
      "12a2f838099642fe8bf365e228fb369c\n",
      "2ed56f27a33e41fa94748769c8bc05c3\n",
      "04b17c6b685a4e3c9bd2758ee7d40f9b\n",
      "b825da62352b4e93867ace8d87b90db8\n"
     ]
    }
   ],
   "source": [
    "texts = [\n",
    "    BASE_SENTENCE_0,\n",
    "    BASE_SENTENCE_1,\n",
    "    BASE_SENTENCE_2,\n",
    "    BASE_SENTENCE_3,\n",
    "    DIFFERENT_SENTENCE,\n",
    "]\n",
    "metadatas = [\n",
    "    {'source': 'Barney\\'s story at the pub'},\n",
    "    {'source': 'Barney\\'s story at the pub'},\n",
    "    {'source': 'Barney\\'s story at the pub'},\n",
    "    {'source': 'Barney\\'s story at the pub'},\n",
    "    {'source': 'The chronicles at the village library'},\n",
    "]\n",
    "\n",
    "if llmProvider != 'Azure_OpenAI':\n",
    "    ids = myCassandraVStore.add_texts(\n",
    "        texts,\n",
    "        metadatas=metadatas,\n",
    "    )\n",
    "    print('\\n'.join(ids))\n",
    "else:\n",
    "    # Note: this is a temporary mitigation of an Azure OpenAI error with asking for\n",
    "    #       multiple embedding in a single request, which would error with:\n",
    "    #           \"InvalidRequestError: Too many inputs. The max number of inputs is 1\"\n",
    "    for text, metadata in zip(texts, metadatas):\n",
    "        thisId = myCassandraVStore.add_texts(\n",
    "            [text],\n",
    "            metadatas=[metadata],\n",
    "        )[0]\n",
    "        print(thisId)"
   ]
  },
  {
   "cell_type": "markdown",
   "id": "c1a0657f",
   "metadata": {},
   "source": [
    "## Query the store"
   ]
  },
  {
   "cell_type": "markdown",
   "id": "a1f36c77",
   "metadata": {},
   "source": [
    "Here is the question you'll use to query the index:"
   ]
  },
  {
   "cell_type": "code",
   "execution_count": 11,
   "id": "8a522924",
   "metadata": {},
   "outputs": [],
   "source": [
    "QUESTION = 'Tell me about the party that night.'"
   ]
  },
  {
   "cell_type": "markdown",
   "id": "19929621",
   "metadata": {},
   "source": [
    "### Query with \"similarity\" search type\n",
    "\n",
    "If you ask for two matches, you will get the two documents most related to the question. But in this case this is something of a waste of tokens:"
   ]
  },
  {
   "cell_type": "code",
   "execution_count": 12,
   "id": "050b7808",
   "metadata": {},
   "outputs": [
    {
     "name": "stdout",
     "output_type": "stream",
     "text": [
      "[ 0]: \"There was a party under the moon, that all toads, with the frogs, decided to throw that night.\"\n",
      "[ 1]: \"I remember that night... toads, along with frogs, were all busy planning a moonlit celebration.\"\n"
     ]
    }
   ],
   "source": [
    "matchesSim = myCassandraVStore.search(QUESTION, search_type='similarity', k=2)\n",
    "for i, doc in enumerate(matchesSim):\n",
    "    print(f'[{i:2}]: \"{doc.page_content}\"')"
   ]
  },
  {
   "cell_type": "markdown",
   "id": "979451c6",
   "metadata": {},
   "source": [
    "### Query with MMR\n",
    "\n",
    "Now, here's what happens with the MMR search type.\n",
    "\n",
    "_(Not shown here: you can tune the size of the results pool for the first step of the algorithm.)_"
   ]
  },
  {
   "cell_type": "code",
   "execution_count": 13,
   "id": "8d3fa9e7",
   "metadata": {},
   "outputs": [
    {
     "name": "stdout",
     "output_type": "stream",
     "text": [
      "[ 0]: \"There was a party under the moon, that all toads, with the frogs, decided to throw that night.\"\n",
      "[ 1]: \"For the party, frogs and toads set a rule: everyone was to wear a purple hat.\"\n"
     ]
    }
   ],
   "source": [
    "matchesMMR = myCassandraVStore.search(QUESTION, search_type='mmr', k=2)\n",
    "for i, doc in enumerate(matchesMMR):\n",
    "    print(f'[{i:2}]: \"{doc.page_content}\"')"
   ]
  },
  {
   "cell_type": "markdown",
   "id": "2614d119",
   "metadata": {},
   "source": [
    "## Query the index\n",
    "\n",
    "Currently, LangChain's higher \"index\" abstraction does not allow to specify the search type, nor the number of matches subsequently used in creating the answer. So, by running this command you get an answer, all right."
   ]
  },
  {
   "cell_type": "code",
   "execution_count": 14,
   "id": "5b0fad86",
   "metadata": {},
   "outputs": [
    {
     "name": "stdout",
     "output_type": "stream",
     "text": [
      " The frogs and toads were having a party under the moon that night. They were busy planning and celebrating together.\n"
     ]
    }
   ],
   "source": [
    "# (implicitly) by similarity\n",
    "print(index.query(QUESTION, llm=llm))"
   ]
  },
  {
   "cell_type": "markdown",
   "id": "5c65e207",
   "metadata": {},
   "source": [
    "You can request the question-answering process to provide references (as long as you annotated all input documents with a `source` metadata field):"
   ]
  },
  {
   "cell_type": "code",
   "execution_count": 15,
   "id": "bb031f88",
   "metadata": {},
   "outputs": [
    {
     "name": "stdout",
     "output_type": "stream",
     "text": [
      "Automatic chain (implicitly by similarity):\n",
      "  ANSWER : The frogs and toads were planning a party under the moon that night.\n",
      "  SOURCES: Barney's story at the pub\n"
     ]
    }
   ],
   "source": [
    "responseSrc = index.query_with_sources(QUESTION, llm=llm)\n",
    "print('Automatic chain (implicitly by similarity):')\n",
    "print(f'  ANSWER : {responseSrc[\"answer\"].strip()}')\n",
    "print(f'  SOURCES: {responseSrc[\"sources\"].strip()}')"
   ]
  },
  {
   "cell_type": "markdown",
   "id": "ebd2149c",
   "metadata": {},
   "source": [
    "Here the default is to fetch _four_ documents ... so that the only other text actually carrying additional information is left out!"
   ]
  },
  {
   "cell_type": "markdown",
   "id": "a4d51f2c",
   "metadata": {},
   "source": [
    "### The QA Process behind the scenes"
   ]
  },
  {
   "cell_type": "markdown",
   "id": "02bd6fa3",
   "metadata": {},
   "source": [
    "In order to exploit the MMR search in end-to-end question-answering pipelines, you need to recreate and manually tweak the steps behind the `query` or `query_with_sources` methods. This takes just a few lines.\n",
    "\n",
    "First you need a few additional modules:"
   ]
  },
  {
   "cell_type": "code",
   "execution_count": 16,
   "id": "42e6822c",
   "metadata": {},
   "outputs": [],
   "source": [
    "from langchain.chains.retrieval_qa.base import RetrievalQA\n",
    "from langchain.chains.qa_with_sources.retrieval import RetrievalQAWithSourcesChain"
   ]
  },
  {
   "cell_type": "markdown",
   "id": "bed211a1",
   "metadata": {},
   "source": [
    "You are ready to run two QA chains, identical in all respects (especially in the number of results to fetch, two), except the `search_type`:"
   ]
  },
  {
   "cell_type": "markdown",
   "id": "bf216b10",
   "metadata": {},
   "source": [
    "#### Similarity-based QA"
   ]
  },
  {
   "cell_type": "code",
   "execution_count": 17,
   "id": "d7b4cb23",
   "metadata": {},
   "outputs": [
    {
     "name": "stdout",
     "output_type": "stream",
     "text": [
      " The party was held under the moon and was planned by both toads and frogs.\n"
     ]
    }
   ],
   "source": [
    "# manual creation of the \"retriever\" with the 'similarity' search type\n",
    "retrieverSim = myCassandraVStore.as_retriever(\n",
    "    search_type='similarity',\n",
    "    search_kwargs={\n",
    "        'k': 2,\n",
    "        # ...\n",
    "    },\n",
    ")\n",
    "# Create a \"RetrievalQA\" chain\n",
    "chainSim = RetrievalQA.from_chain_type(\n",
    "    llm=llm,\n",
    "    retriever=retrieverSim,\n",
    ")\n",
    "# Run it and print results\n",
    "responseSim = chainSim.run(QUESTION)\n",
    "print(responseSim)"
   ]
  },
  {
   "cell_type": "markdown",
   "id": "4f9886b9",
   "metadata": {},
   "source": [
    "#### MMR-based QA"
   ]
  },
  {
   "cell_type": "code",
   "execution_count": 18,
   "id": "91f0365d",
   "metadata": {},
   "outputs": [
    {
     "name": "stdout",
     "output_type": "stream",
     "text": [
      " The party was held under the moon and was attended by both frogs and toads. Everyone was required to wear a purple hat.\n"
     ]
    }
   ],
   "source": [
    "# manual creation of the \"retriever\" with the 'MMR' search type\n",
    "retrieverMMR = myCassandraVStore.as_retriever(\n",
    "    search_type='mmr',\n",
    "    search_kwargs={\n",
    "        'k': 2,\n",
    "        # ...\n",
    "    },\n",
    ")\n",
    "# Create a \"RetrievalQA\" chain\n",
    "chainMMR = RetrievalQA.from_chain_type(\n",
    "    llm=llm,\n",
    "    retriever=retrieverMMR\n",
    ")\n",
    "# Run it and print results\n",
    "responseMMR = chainMMR.run(QUESTION)\n",
    "print(responseMMR)"
   ]
  },
  {
   "cell_type": "markdown",
   "id": "eb21da6c",
   "metadata": {},
   "source": [
    "#### Answers with sources"
   ]
  },
  {
   "cell_type": "markdown",
   "id": "7d44e660",
   "metadata": {},
   "source": [
    "You can run the variant of these chains that also returns the source for the documents used in preparing the answer, which makes it even more obvious:"
   ]
  },
  {
   "cell_type": "code",
   "execution_count": 19,
   "id": "c8df6698",
   "metadata": {},
   "outputs": [
    {
     "name": "stdout",
     "output_type": "stream",
     "text": [
      "Similarity-based chain:\n",
      "  ANSWER : The toads and frogs were planning a moonlit celebration.\n",
      "  SOURCES: Barney's story at the pub\n"
     ]
    }
   ],
   "source": [
    "chainSimSrc = RetrievalQAWithSourcesChain.from_chain_type(\n",
    "    llm,\n",
    "    retriever=retrieverSim,\n",
    ")\n",
    "#\n",
    "responseSimSrc = chainSimSrc({chainSimSrc.question_key: QUESTION})\n",
    "print('Similarity-based chain:')\n",
    "print(f'  ANSWER : {responseSimSrc[\"answer\"].strip()}')\n",
    "print(f'  SOURCES: {responseSimSrc[\"sources\"].strip()}')"
   ]
  },
  {
   "cell_type": "code",
   "execution_count": 20,
   "id": "7b6bbf3d",
   "metadata": {},
   "outputs": [
    {
     "name": "stdout",
     "output_type": "stream",
     "text": [
      "MMR-based chain:\n",
      "  ANSWER : The party that night was thrown by frogs and toads, and everyone was required to wear a purple hat.\n",
      "  SOURCES: Barney's story at the pub, The chronicles at the village library\n"
     ]
    }
   ],
   "source": [
    "chainMMRSrc = RetrievalQAWithSourcesChain.from_chain_type(\n",
    "    llm,\n",
    "    retriever=retrieverMMR,\n",
    ")\n",
    "#\n",
    "responseMMRSrc = chainMMRSrc({chainMMRSrc.question_key: QUESTION})\n",
    "print('MMR-based chain:')\n",
    "print(f'  ANSWER : {responseMMRSrc[\"answer\"].strip()}')\n",
    "print(f'  SOURCES: {responseMMRSrc[\"sources\"].strip()}')"
   ]
  }
 ],
 "metadata": {
  "kernelspec": {
   "display_name": "Python 3 (ipykernel)",
   "language": "python",
   "name": "python3"
  },
  "language_info": {
   "codemirror_mode": {
    "name": "ipython",
    "version": 3
   },
   "file_extension": ".py",
   "mimetype": "text/x-python",
   "name": "python",
   "nbconvert_exporter": "python",
   "pygments_lexer": "ipython3"
  }
 },
 "nbformat": 4,
 "nbformat_minor": 5
}