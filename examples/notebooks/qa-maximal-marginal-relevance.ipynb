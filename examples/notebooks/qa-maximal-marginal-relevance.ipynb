{
 "cells": [
  {
   "cell_type": "markdown",
   "id": "5db8370e",
   "metadata": {},
   "source": [
    "<a href=\"https://colab.research.google.com/github/CassioML/cassio-website/blob/main/docs/frameworks/langchain/.colab/colab_qa-maximal-marginal-relevance.ipynb\" target=\"_parent\"><img src=\"https://colab.research.google.com/assets/colab-badge.svg\" alt=\"Open In Colab\"/></a>"
   ]
  },
  {
   "cell_type": "markdown",
   "id": "005e19ad",
   "metadata": {},
   "source": [
    "\n",
    "# VectorStore/QA, MMR support"
   ]
  },
  {
   "cell_type": "markdown",
   "id": "0778d5f6",
   "metadata": {},
   "source": [
    "_**NOTE:** this uses Cassandra's \"Vector Search\" capability.\n",
    "Make sure you are connecting to a vector-enabled database for this demo._"
   ]
  },
  {
   "cell_type": "markdown",
   "id": "102fec23",
   "metadata": {},
   "source": [
    "Cassandra's `VectorStore` allows for Vector Search with the **Maximal Marginal Relevance (MMR)** algorithm.\n",
    "\n",
    "This is a search criterion that instead of just selecting the _k_ stored documents most relevant to the provided query, first identifies a larger pool of relevant results, and then singles out _k_ of them so that they carry as diverse information between them as possible.\n",
    "\n",
    "In this way, when the stored text fragments are likely to be redundant, you can optimize token usage and help the models give more comprehensive answers.\n",
    "\n",
    "_This is very useful, for instance, if you are building a QA chatbot on past Support chat recorded interactions._"
   ]
  },
  {
   "cell_type": "markdown",
   "id": "47170e52",
   "metadata": {},
   "source": [
    "First prepare a connection to a vector-search-capable Cassandra and initialize the required LLM and embeddings:"
   ]
  },
  {
   "cell_type": "code",
   "execution_count": 1,
   "id": "7672da56",
   "metadata": {
    "nbmake": {
     "post_cell_execute": [
      "from conftest import before_notebook",
      "before_notebook()"
     ]
    }
   },
   "outputs": [],
   "source": [
    "from langchain.indexes.vectorstore import VectorStoreIndexWrapper\n",
    "from langchain.vectorstores import Cassandra"
   ]
  },
  {
   "cell_type": "markdown",
   "id": "4578a87b",
   "metadata": {},
   "source": [
    "A database connection is needed. Let's insert the AstraDB credentials:"
   ]
  },
  {
   "cell_type": "code",
   "execution_count": 4,
   "id": "fb5597b3-a028-4d8f-ad6d-8eaf0c941dcc",
   "metadata": {
    "editable": true,
    "slideshow": {
     "slide_type": ""
    },
    "tags": [
     "skip-execution"
    ]
   },
   "outputs": [],
   "source": [
    "import os\n",
    "from getpass import getpass\n",
    "\n",
    "# Enter your settings for Astra DB and OpenAI:\n",
    "os.environ[\"ASTRA_DB_ID\"] = input(\"Enter your Astra DB ID: \")\n",
    "os.environ[\"ASTRA_DB_APPLICATION_TOKEN\"] = getpass(\"Enter your Astra DB Token: \")\n",
    "os.environ[\"OPENAI_API_KEY\"] = getpass(\"Enter your OpenAI API Key: \")"
   ]
  },
  {
   "cell_type": "markdown",
   "id": "50df3f86",
   "metadata": {},
   "source": [
    "Now instantiate the LLM and the embeddings service."
   ]
  },
  {
   "cell_type": "code",
   "execution_count": null,
   "id": "e63d3c2e",
   "metadata": {
    "editable": true,
    "slideshow": {
     "slide_type": ""
    },
    "tags": []
   },
   "outputs": [],
   "source": [
    "import os\n",
    "\n",
    "from langchain.embeddings import OpenAIEmbeddings\n",
    "from langchain.llms import OpenAI\n",
    "\n",
    "llm = OpenAI(temperature=0)\n",
    "embeddings = OpenAIEmbeddings()"
   ]
  },
  {
   "cell_type": "markdown",
   "id": "a8a0110b",
   "metadata": {},
   "source": [
    "## Create the store\n",
    "\n",
    "Create a (Cassandra-backed) `VectorStore` and the corresponding LangChain `VectorStoreIndexWrapper`"
   ]
  },
  {
   "cell_type": "code",
   "execution_count": 7,
   "id": "a1e0fca7",
   "metadata": {
    "editable": true,
    "slideshow": {
     "slide_type": ""
    },
    "tags": []
   },
   "outputs": [],
   "source": [
    "import os\n",
    "\n",
    "import cassio\n",
    "\n",
    "cassio.init(\n",
    "    database_id=os.environ[\"ASTRA_DB_ID\"],\n",
    "    token=os.environ[\"ASTRA_DB_APPLICATION_TOKEN\"],\n",
    ")\n",
    "\n",
    "cassandra_vstore = Cassandra(\n",
    "    embedding=embeddings, table_name=\"mmr\", session=None, keyspace=\"default_keyspace\"\n",
    ")\n",
    "index = VectorStoreIndexWrapper(vectorstore=cassandra_vstore)"
   ]
  },
  {
   "cell_type": "markdown",
   "id": "a0141b35",
   "metadata": {
    "editable": true,
    "slideshow": {
     "slide_type": ""
    },
    "tags": []
   },
   "source": [
    "This command simply resets the store in case you want to run this demo repeatedly:"
   ]
  },
  {
   "cell_type": "code",
   "execution_count": 8,
   "id": "8d88fb0b",
   "metadata": {
    "editable": true,
    "slideshow": {
     "slide_type": ""
    },
    "tags": []
   },
   "outputs": [],
   "source": [
    "cassandra_vstore.clear()"
   ]
  },
  {
   "cell_type": "markdown",
   "id": "168f19c2",
   "metadata": {},
   "source": [
    "## Populate the index\n",
    "\n",
    "\n",
    "Notice that the first four sentences express the same concept, while the **fifth** adds a new detail:"
   ]
  },
  {
   "cell_type": "code",
   "execution_count": 9,
   "id": "b53c343b",
   "metadata": {},
   "outputs": [],
   "source": [
    "BASE_SENTENCE_0 = (\n",
    "    \"The frogs and the toads were meeting in the night for a party under the moon.\"\n",
    ")\n",
    "\n",
    "BASE_SENTENCE_1 = (\n",
    "    \"There was a party under the moon, that all toads, \"\n",
    "    \"with the frogs, decided to throw that night.\"\n",
    ")\n",
    "\n",
    "BASE_SENTENCE_2 = (\n",
    "    'And the frogs and the toads said: \"Let us have a party '\n",
    "    'tonight, as the moon is shining\".'\n",
    ")\n",
    "\n",
    "BASE_SENTENCE_3 = (\n",
    "    \"I remember that night... toads, along with frogs, \"\n",
    "    \"were all busy planning a moonlit celebration.\"\n",
    ")\n",
    "\n",
    "DIFFERENT_SENTENCE = (\n",
    "    \"For the party, frogs and toads set a rule: everyone was to wear a purple hat.\"\n",
    ")"
   ]
  },
  {
   "cell_type": "markdown",
   "id": "d40ae400",
   "metadata": {},
   "source": [
    "Insert the three into the index, specifying \"sources\" while you're at it (it will be useful later):"
   ]
  },
  {
   "cell_type": "code",
   "execution_count": 10,
   "id": "d7a3935c",
   "metadata": {
    "editable": true,
    "slideshow": {
     "slide_type": ""
    },
    "tags": []
   },
   "outputs": [
    {
     "name": "stdout",
     "output_type": "stream",
     "text": [
      "46c33fe2a3634ad79856006fc54176d5\n",
      "12a2f838099642fe8bf365e228fb369c\n",
      "2ed56f27a33e41fa94748769c8bc05c3\n",
      "04b17c6b685a4e3c9bd2758ee7d40f9b\n",
      "b825da62352b4e93867ace8d87b90db8\n"
     ]
    }
   ],
   "source": [
    "texts = [\n",
    "    BASE_SENTENCE_0,\n",
    "    BASE_SENTENCE_1,\n",
    "    BASE_SENTENCE_2,\n",
    "    BASE_SENTENCE_3,\n",
    "    DIFFERENT_SENTENCE,\n",
    "]\n",
    "metadatas = [\n",
    "    {\"source\": \"Barney's story at the pub\"},\n",
    "    {\"source\": \"Barney's story at the pub\"},\n",
    "    {\"source\": \"Barney's story at the pub\"},\n",
    "    {\"source\": \"Barney's story at the pub\"},\n",
    "    {\"source\": \"The chronicles at the village library\"},\n",
    "]\n",
    "\n",
    "\n",
    "ids = cassandra_vstore.add_texts(\n",
    "    texts,\n",
    "    metadatas=metadatas,\n",
    ")\n",
    "print(\"\\n\".join(ids))"
   ]
  },
  {
   "cell_type": "markdown",
   "id": "c1a0657f",
   "metadata": {},
   "source": [
    "## Query the store"
   ]
  },
  {
   "cell_type": "markdown",
   "id": "a1f36c77",
   "metadata": {},
   "source": [
    "Here is the question you'll use to query the index:"
   ]
  },
  {
   "cell_type": "code",
   "execution_count": 11,
   "id": "8a522924",
   "metadata": {},
   "outputs": [],
   "source": [
    "QUESTION = \"Tell me about the party that night.\""
   ]
  },
  {
   "cell_type": "markdown",
   "id": "19929621",
   "metadata": {},
   "source": [
    "### Query with \"similarity\" search type\n",
    "\n",
    "If you ask for two matches, you will get the two documents most related to the question. But in this case this is something of a waste of tokens:"
   ]
  },
  {
   "cell_type": "code",
   "execution_count": 12,
   "id": "050b7808",
   "metadata": {
    "editable": true,
    "slideshow": {
     "slide_type": ""
    },
    "tags": []
   },
   "outputs": [
    {
     "name": "stdout",
     "output_type": "stream",
     "text": [
      "[ 0]: \"There was a party under the moon, that all toads, with the frogs, decided to throw that night.\"\n",
      "[ 1]: \"I remember that night... toads, along with frogs, were all busy planning a moonlit celebration.\"\n"
     ]
    }
   ],
   "source": [
    "matches_sim = cassandra_vstore.search(QUESTION, search_type=\"similarity\", k=2)\n",
    "for i, doc in enumerate(matches_sim):\n",
    "    print(f'[{i:2}]: \"{doc.page_content}\"')"
   ]
  },
  {
   "cell_type": "markdown",
   "id": "979451c6",
   "metadata": {},
   "source": [
    "### Query with MMR\n",
    "\n",
    "Now, here's what happens with the MMR search type.\n",
    "\n",
    "_(Not shown here: you can tune the size of the results pool for the first step of the algorithm.)_"
   ]
  },
  {
   "cell_type": "code",
   "execution_count": 13,
   "id": "8d3fa9e7",
   "metadata": {
    "editable": true,
    "slideshow": {
     "slide_type": ""
    },
    "tags": []
   },
   "outputs": [
    {
     "name": "stdout",
     "output_type": "stream",
     "text": [
      "[ 0]: \"There was a party under the moon, that all toads, with the frogs, decided to throw that night.\"\n",
      "[ 1]: \"For the party, frogs and toads set a rule: everyone was to wear a purple hat.\"\n"
     ]
    }
   ],
   "source": [
    "matches_mmr = cassandra_vstore.search(QUESTION, search_type=\"mmr\", k=2)\n",
    "for i, doc in enumerate(matches_mmr):\n",
    "    print(f'[{i:2}]: \"{doc.page_content}\"')"
   ]
  },
  {
   "cell_type": "markdown",
   "id": "2614d119",
   "metadata": {},
   "source": [
    "## Query the index\n",
    "\n",
    "Currently, LangChain's higher \"index\" abstraction does not allow to specify the search type, nor the number of matches subsequently used in creating the answer. So, by running this command you get an answer, all right."
   ]
  },
  {
   "cell_type": "code",
   "execution_count": 14,
   "id": "5b0fad86",
   "metadata": {},
   "outputs": [
    {
     "name": "stdout",
     "output_type": "stream",
     "text": [
      " The frogs and toads were having a party under the moon that night. They were busy planning and celebrating together.\n"
     ]
    }
   ],
   "source": [
    "# (implicitly) by similarity\n",
    "print(index.query(QUESTION, llm=llm))"
   ]
  },
  {
   "cell_type": "markdown",
   "id": "5c65e207",
   "metadata": {},
   "source": [
    "You can request the question-answering process to provide references (as long as you annotated all input documents with a `source` metadata field):"
   ]
  },
  {
   "cell_type": "code",
   "execution_count": 15,
   "id": "bb031f88",
   "metadata": {
    "editable": true,
    "slideshow": {
     "slide_type": ""
    },
    "tags": []
   },
   "outputs": [
    {
     "name": "stdout",
     "output_type": "stream",
     "text": [
      "Automatic chain (implicitly by similarity):\n",
      "  ANSWER : The frogs and toads were planning a party under the moon that night.\n",
      "  SOURCES: Barney's story at the pub\n"
     ]
    }
   ],
   "source": [
    "response_sources = index.query_with_sources(QUESTION, llm=llm)\n",
    "print(\"Automatic chain (implicitly by similarity):\")\n",
    "print(f'  ANSWER : {response_sources[\"answer\"].strip()}')\n",
    "print(f'  SOURCES: {response_sources[\"sources\"].strip()}')"
   ]
  },
  {
   "cell_type": "markdown",
   "id": "ebd2149c",
   "metadata": {},
   "source": [
    "Here the default is to fetch _four_ documents ... so that the only other text actually carrying additional information is left out!"
   ]
  },
  {
   "cell_type": "markdown",
   "id": "a4d51f2c",
   "metadata": {},
   "source": [
    "### The QA Process behind the scenes"
   ]
  },
  {
   "cell_type": "markdown",
   "id": "02bd6fa3",
   "metadata": {},
   "source": [
    "In order to exploit the MMR search in end-to-end question-answering pipelines, you need to recreate and manually tweak the steps behind the `query` or `query_with_sources` methods. This takes just a few lines.\n",
    "\n",
    "First you need a few additional modules:"
   ]
  },
  {
   "cell_type": "code",
   "execution_count": 16,
   "id": "42e6822c",
   "metadata": {},
   "outputs": [],
   "source": [
    "from langchain.chains.qa_with_sources.retrieval import RetrievalQAWithSourcesChain\n",
    "from langchain.chains.retrieval_qa.base import RetrievalQA"
   ]
  },
  {
   "cell_type": "markdown",
   "id": "bed211a1",
   "metadata": {},
   "source": [
    "You are ready to run two QA chains, identical in all respects (especially in the number of results to fetch, two), except the `search_type`:"
   ]
  },
  {
   "cell_type": "markdown",
   "id": "bf216b10",
   "metadata": {},
   "source": [
    "#### Similarity-based QA"
   ]
  },
  {
   "cell_type": "code",
   "execution_count": 17,
   "id": "d7b4cb23",
   "metadata": {
    "editable": true,
    "slideshow": {
     "slide_type": ""
    },
    "tags": []
   },
   "outputs": [
    {
     "name": "stdout",
     "output_type": "stream",
     "text": [
      " The party was held under the moon and was planned by both toads and frogs.\n"
     ]
    }
   ],
   "source": [
    "# manual creation of the \"retriever\" with the 'similarity' search type\n",
    "retriever = cassandra_vstore.as_retriever(\n",
    "    search_type=\"similarity\",\n",
    "    search_kwargs={\n",
    "        \"k\": 2,\n",
    "        # ...\n",
    "    },\n",
    ")\n",
    "# Create a \"RetrievalQA\" chain\n",
    "chain = RetrievalQA.from_chain_type(\n",
    "    llm=llm,\n",
    "    retriever=retriever,\n",
    ")\n",
    "# Run it and print results\n",
    "response = chain.run(QUESTION)\n",
    "print(response)"
   ]
  },
  {
   "cell_type": "markdown",
   "id": "4f9886b9",
   "metadata": {},
   "source": [
    "#### MMR-based QA"
   ]
  },
  {
   "cell_type": "code",
   "execution_count": 18,
   "id": "91f0365d",
   "metadata": {
    "editable": true,
    "slideshow": {
     "slide_type": ""
    },
    "tags": []
   },
   "outputs": [
    {
     "name": "stdout",
     "output_type": "stream",
     "text": [
      " The party was held under the moon and was attended by both frogs and toads. Everyone was required to wear a purple hat.\n"
     ]
    }
   ],
   "source": [
    "# manual creation of the \"retriever\" with the 'MMR' search type\n",
    "retriever = cassandra_vstore.as_retriever(\n",
    "    search_type=\"mmr\",\n",
    "    search_kwargs={\n",
    "        \"k\": 2,\n",
    "        # ...\n",
    "    },\n",
    ")\n",
    "# Create a \"RetrievalQA\" chain\n",
    "chain = RetrievalQA.from_chain_type(llm=llm, retriever=retriever)\n",
    "# Run it and print results\n",
    "response = chain.run(QUESTION)\n",
    "print(response)"
   ]
  },
  {
   "cell_type": "markdown",
   "id": "eb21da6c",
   "metadata": {},
   "source": [
    "#### Answers with sources"
   ]
  },
  {
   "cell_type": "markdown",
   "id": "7d44e660",
   "metadata": {},
   "source": [
    "You can run the variant of these chains that also returns the source for the documents used in preparing the answer, which makes it even more obvious:"
   ]
  },
  {
   "cell_type": "code",
   "execution_count": 19,
   "id": "c8df6698",
   "metadata": {
    "editable": true,
    "slideshow": {
     "slide_type": ""
    },
    "tags": []
   },
   "outputs": [
    {
     "name": "stdout",
     "output_type": "stream",
     "text": [
      "Similarity-based chain:\n",
      "  ANSWER : The toads and frogs were planning a moonlit celebration.\n",
      "  SOURCES: Barney's story at the pub\n"
     ]
    }
   ],
   "source": [
    "retriever = cassandra_vstore.as_retriever(\n",
    "    search_type=\"similarity\",\n",
    "    search_kwargs={\n",
    "        \"k\": 2,\n",
    "        # ...\n",
    "    },\n",
    ")\n",
    "chain = RetrievalQAWithSourcesChain.from_chain_type(\n",
    "    llm,\n",
    "    retriever=retriever,\n",
    ")\n",
    "response = chain({chain.question_key: QUESTION})\n",
    "print(\"Similarity-based chain:\")\n",
    "print(f'  ANSWER : {response[\"answer\"].strip()}')\n",
    "print(f'  SOURCES: {response[\"sources\"].strip()}')"
   ]
  },
  {
   "cell_type": "code",
   "execution_count": 20,
   "id": "7b6bbf3d",
   "metadata": {
    "editable": true,
    "slideshow": {
     "slide_type": ""
    },
    "tags": []
   },
   "outputs": [
    {
     "name": "stdout",
     "output_type": "stream",
     "text": [
      "MMR-based chain:\n",
      "  ANSWER : The party that night was thrown by frogs and toads, and everyone was required to wear a purple hat.\n",
      "  SOURCES: Barney's story at the pub, The chronicles at the village library\n"
     ]
    }
   ],
   "source": [
    "retriever = cassandra_vstore.as_retriever(\n",
    "    search_type=\"mmr\",\n",
    "    search_kwargs={\n",
    "        \"k\": 2,\n",
    "        # ...\n",
    "    },\n",
    ")\n",
    "\n",
    "chain = RetrievalQAWithSourcesChain.from_chain_type(\n",
    "    llm,\n",
    "    retriever=retriever,\n",
    ")\n",
    "response = chain({chain.question_key: QUESTION})\n",
    "print(\"MMR-based chain:\")\n",
    "print(f'  ANSWER : {response[\"answer\"].strip()}')\n",
    "print(f'  SOURCES: {response[\"sources\"].strip()}')"
   ]
  }
 ],
 "metadata": {
  "kernelspec": {
   "display_name": "Python 3 (ipykernel)",
   "language": "python",
   "name": "python3"
  },
  "language_info": {
   "codemirror_mode": {
    "name": "ipython",
    "version": 3
   },
   "file_extension": ".py",
   "mimetype": "text/x-python",
   "name": "python",
   "nbconvert_exporter": "python",
   "pygments_lexer": "ipython3",
   "version": "3.11.7"
  }
 },
 "nbformat": 4,
 "nbformat_minor": 5
}