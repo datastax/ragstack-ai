{
 "cells": [
  {
   "cell_type": "markdown",
   "metadata": {
    "id": "EffERhPCILSv"
   },
   "source": [
    "# Using Unstructured with LangChain & AstraDB"
   ]
  },
  {
   "cell_type": "markdown",
   "metadata": {
    "id": "D38eoHoHILSx"
   },
   "source": [
    "In this notebook, we show a basic RAG-style example that uses the Unstructured API to parse a PDF document, store the corresponding document into a vector store (`AstraDB`) and finally, perform some basic queries against that store. The notebook is modeled after the quick start notebooks and hence is meant as a way of getting started with Unstructured, backed by a vector database.\n",
    "\n",
    "To use Unstructured, you need an API key. Sign-up for one here: https://unstructured.io/api-key-hosted. A key will be emailed to you."
   ]
  },
  {
   "cell_type": "markdown",
   "metadata": {
    "id": "zOO3cnUnILSx"
   },
   "source": [
    "### Requirements"
   ]
  },
  {
   "cell_type": "code",
   "execution_count": null,
   "metadata": {
    "ExecuteTime": {
     "end_time": "2024-02-13T11:48:33.967092Z",
     "start_time": "2024-02-13T11:47:41.568768Z"
    },
    "colab": {
     "base_uri": "https://localhost:8080/"
    },
    "editable": true,
    "id": "90bUJGzmILSy",
    "nbmake": {
     "post_cell_execute": [
      "from conftest import before_notebook",
      "before_notebook()"
     ]
    },
    "outputId": "bda47364-9ad9-4cb5-ea63-43adae02c4f2",
    "tags": []
   },
   "outputs": [],
   "source": [
    "# First, install the required dependencies\n",
    "! pip install --quiet ragstack-ai"
   ]
  },
  {
   "cell_type": "code",
   "execution_count": null,
   "metadata": {
    "id": "AsoWpFEtXmGz"
   },
   "outputs": [],
   "source": [
    "# Next, download the test pdf\n",
    "import requests\n",
    "\n",
    "url = 'https://raw.githubusercontent.com/datastax/ragstack-ai/main/examples/notebooks/resources/attention_pages_9_10.pdf'\n",
    "response = requests.get(url)\n",
    "with open('attention_pages_9_10.pdf', 'wb') as file:\n",
    "    file.write(response.content)\n"
   ]
  },
  {
   "cell_type": "markdown",
   "metadata": {
    "id": "qTMiKs2XILSy"
   },
   "source": [
    "### Configuration"
   ]
  },
  {
   "cell_type": "code",
   "execution_count": null,
   "metadata": {
    "ExecuteTime": {
     "end_time": "2024-02-13T11:59:43.987486Z",
     "start_time": "2024-02-13T11:56:57.909870Z"
    },
    "colab": {
     "base_uri": "https://localhost:8080/"
    },
    "editable": true,
    "id": "MRlehKElILSy",
    "outputId": "28e1d7bf-cf41-4f41-e852-54c61adfd04d",
    "tags": [
     "skip-execution"
    ]
   },
   "outputs": [],
   "source": [
    "import os\n",
    "from getpass import getpass\n",
    "\n",
    "os.environ[\"UNSTRUCTURED_API_KEY\"] = getpass(\"Enter your Unstructured API Key:\")\n",
    "os.environ[\"UNSTRUCTURED_API_URL\"] = getpass(\"Enter your Unstructured API URL:\")\n",
    "os.environ[\"ASTRA_DB_API_ENDPOINT\"] = input(\"Enter your Astra DB API Endpoint: \")\n",
    "os.environ[\"ASTRA_DB_APPLICATION_TOKEN\"] = getpass(\"Enter your Astra DB Token: \")\n",
    "os.environ[\"OPENAI_API_KEY\"] = getpass(\"Enter your OpenAI API Key: \")"
   ]
  },
  {
   "cell_type": "markdown",
   "metadata": {
    "id": "f6aVZIIyILSz"
   },
   "source": [
    "### Using the Unstructured API to parse a PDF\n",
    "\n",
    "In this example notebook, we'll focus our analysis on pages 9 and 10 of the referenced paper, available at https://arxiv.org/pdf/1706.03762.pdf, to limit API usage."
   ]
  },
  {
   "cell_type": "markdown",
   "metadata": {
    "id": "LmUJ5gr2ILSz"
   },
   "source": [
    "#### Simple Parsing\n",
    "\n",
    "First we will start with the most basic parsing mode. This works well if your document doesn't contain any complex formatting or tables."
   ]
  },
  {
   "cell_type": "code",
   "execution_count": null,
   "metadata": {
    "ExecuteTime": {
     "end_time": "2024-02-13T12:05:20.215552Z",
     "start_time": "2024-02-13T12:05:15.721697Z"
    },
    "colab": {
     "base_uri": "https://localhost:8080/"
    },
    "id": "g27TdLUoILSz",
    "outputId": "161fb0a2-7813-46cd-b9dc-a20463920059"
   },
   "outputs": [],
   "source": [
    "from langchain_community.document_loaders import UnstructuredAPIFileLoader\n",
    "import os\n",
    "\n",
    "loader = UnstructuredAPIFileLoader(\n",
    "    file_path=\"attention_pages_9_10.pdf\",\n",
    "    api_key=os.getenv(\"UNSTRUCTURED_API_KEY\"),\n",
    "    url = os.getenv(\"UNSTRUCTURED_API_URL\"),\n",
    ")\n",
    "simple_docs = loader.load()\n",
    "len(simple_docs)"
   ]
  },
  {
   "cell_type": "markdown",
   "metadata": {
    "id": "SeqMG124ILSz"
   },
   "source": [
    "By default, the parser returns 1 document per pdf file.  Lets examine some the contents of the document:"
   ]
  },
  {
   "cell_type": "code",
   "execution_count": null,
   "metadata": {
    "colab": {
     "base_uri": "https://localhost:8080/"
    },
    "id": "XPKF_8vwILSz",
    "outputId": "30adffb8-0a50-4fe3-d2a4-997818602f5c"
   },
   "outputs": [],
   "source": [
    "print(simple_docs[0].page_content[0:400])"
   ]
  },
  {
   "cell_type": "markdown",
   "metadata": {
    "id": "ZwoemOS-ILS0"
   },
   "source": [
    "This sample of the document contents shows the first table's description, and the start of a very poorly formatted table."
   ]
  },
  {
   "cell_type": "markdown",
   "metadata": {
    "id": "aubuinRbILS0"
   },
   "source": [
    "#### Advanced Parsing\n",
    "\n",
    "By changing the processing strategy and response mode, we can get more detailed document structure. Unstructured can break the document into elements of different types, which can be helpful for improving your RAG system.\n",
    "\n",
    "For example, the `Table` element type includes the table formatted as simple html, which can help the LLM answer questions from the table data, and we could exclude elements of type `Footer` from our vector store.\n",
    "\n",
    "A list of all the different element types can be found here: https://unstructured-io.github.io/unstructured/introduction/overview.html#id1\n",
    "\n",
    "Returned metadata can also be helpful. For example, the `page_number` of the pdf input, and a `parent_id` property which helps define nesting of text sections."
   ]
  },
  {
   "cell_type": "code",
   "execution_count": null,
   "metadata": {
    "colab": {
     "base_uri": "https://localhost:8080/"
    },
    "id": "Hzv4_q7eILS0",
    "outputId": "57bff257-f985-45f2-ff08-94fc015334b8"
   },
   "outputs": [],
   "source": [
    "from langchain_community.document_loaders import unstructured\n",
    "\n",
    "elements = unstructured.get_elements_from_api(\n",
    "    file_path=\"attention_pages_9_10.pdf\",\n",
    "    api_key=os.getenv(\"UNSTRUCTURED_API_KEY\"),\n",
    "    api_url = os.getenv(\"UNSTRUCTURED_API_URL\"),\n",
    "    strategy=\"hi_res\", # default \"auto\"\n",
    "    pdf_infer_table_structure=True,\n",
    ")\n",
    "\n",
    "len(elements)"
   ]
  },
  {
   "cell_type": "markdown",
   "metadata": {
    "id": "7VzxL1bUILS0"
   },
   "source": [
    "Instead of a single document returned from the pdf, we now have 27 elements. Below, we use element type and `parent_id` to show a clearer representation of the document structure."
   ]
  },
  {
   "cell_type": "code",
   "execution_count": null,
   "metadata": {
    "colab": {
     "base_uri": "https://localhost:8080/",
     "height": 1000
    },
    "id": "uQiNq50vILS0",
    "outputId": "980249a7-69ae-47b4-d3b0-4a20927d9b34"
   },
   "outputs": [],
   "source": [
    "from IPython.display import display, HTML\n",
    "\n",
    "parents = {}\n",
    "\n",
    "for el in elements:\n",
    "    parents[el.id] = el.text\n",
    "\n",
    "for el in elements:\n",
    "    if el.category == \"Table\":\n",
    "        display(HTML(el.metadata.text_as_html))\n",
    "    elif el.metadata.parent_id:\n",
    "        print(f\"parent: '{parents[el.metadata.parent_id]}' content: {el.text}\")\n",
    "    else:\n",
    "        print(el)"
   ]
  },
  {
   "cell_type": "markdown",
   "metadata": {
    "id": "RXuz0-IUILS0"
   },
   "source": [
    "Here we clearly see that Unstructured is parsing both table and document structure."
   ]
  },
  {
   "cell_type": "markdown",
   "metadata": {
    "id": "SlPJrGlvILS0"
   },
   "source": [
    "### Storing into Astra DB\n",
    "\n",
    "Now we will continue with the RAG process, by creating embeddings for the pdf, and storing them in Astra."
   ]
  },
  {
   "cell_type": "code",
   "execution_count": null,
   "metadata": {
    "editable": true,
    "id": "PiutCpJMILS0",
    "tags": []
   },
   "outputs": [],
   "source": [
    "from langchain_astradb import AstraDBVectorStore\n",
    "from langchain_openai import OpenAIEmbeddings\n",
    "\n",
    "astra_db_store = AstraDBVectorStore(\n",
    "    collection_name=\"langchain_unstructured\",\n",
    "    embedding=OpenAIEmbeddings(),\n",
    "    token=os.getenv(\"ASTRA_DB_APPLICATION_TOKEN\"),\n",
    "    api_endpoint=os.getenv(\"ASTRA_DB_API_ENDPOINT\")\n",
    ")"
   ]
  },
  {
   "cell_type": "markdown",
   "metadata": {
    "id": "d5ZZWtAfILS0"
   },
   "source": [
    "We will create LangChain Documents by splitting the text after `Table` elements and before `Title` elements. Additionally, we use the html output format for table data."
   ]
  },
  {
   "cell_type": "code",
   "execution_count": null,
   "metadata": {
    "colab": {
     "base_uri": "https://localhost:8080/"
    },
    "id": "KmFrAQ_KILS0",
    "outputId": "44d9474e-5a0c-404f-a86a-b80baac9a0a2"
   },
   "outputs": [],
   "source": [
    "from langchain_core.documents import Document\n",
    "\n",
    "documents = []\n",
    "current_doc = None\n",
    "\n",
    "for el in elements:\n",
    "    if el.category in [\"Header\", \"Footer\"]:\n",
    "        continue # skip these\n",
    "    if el.category == \"Title\":\n",
    "        documents.append(current_doc)\n",
    "        current_doc = None\n",
    "    if not current_doc:\n",
    "        current_doc = Document(page_content=\"\", metadata=el.metadata.to_dict())\n",
    "    current_doc.page_content += el.metadata.text_as_html if el.category == \"Table\" else el.text\n",
    "    if el.category == \"Table\":\n",
    "        documents.append(current_doc)\n",
    "        current_doc = None\n",
    "\n",
    "astra_db_store.add_documents(documents)"
   ]
  },
  {
   "cell_type": "markdown",
   "metadata": {
    "id": "UGM9iX69ILS0"
   },
   "source": [
    "### Querying\n",
    "\n",
    "Now that we have populated our vector store, we will build a RAG pipeline and execute some queries."
   ]
  },
  {
   "cell_type": "code",
   "execution_count": null,
   "metadata": {
    "id": "IOzN_HAOILS0"
   },
   "outputs": [],
   "source": [
    "from langchain_openai import ChatOpenAI\n",
    "from langchain_core.output_parsers import StrOutputParser\n",
    "from langchain_core.prompts import PromptTemplate\n",
    "from langchain_core.runnables import RunnablePassthrough\n",
    "\n",
    "prompt = \"\"\"\n",
    "Answer the question based only on the supplied context. If you don't know the answer, say \"I don't know\".\n",
    "Context: {context}\n",
    "Question: {question}\n",
    "Your answer:\n",
    "\"\"\"\n",
    "\n",
    "llm = ChatOpenAI(model=\"gpt-3.5-turbo\", streaming=False, temperature=0)\n",
    "\n",
    "chain = (\n",
    "    {\"context\": astra_db_store.as_retriever(), \"question\": RunnablePassthrough()}\n",
    "    | PromptTemplate.from_template(prompt)\n",
    "    | llm\n",
    "    | StrOutputParser()\n",
    ")"
   ]
  },
  {
   "cell_type": "markdown",
   "metadata": {
    "id": "zOPRWwdQILS1"
   },
   "source": [
    "First we can ask a question about some text in the document:"
   ]
  },
  {
   "cell_type": "code",
   "execution_count": null,
   "metadata": {
    "colab": {
     "base_uri": "https://localhost:8080/",
     "height": 35
    },
    "id": "IN8UvWXqILS1",
    "outputId": "48bd552b-39c0-4623-dcb7-47a511bbf801"
   },
   "outputs": [],
   "source": [
    "chain.invoke(\"What does reducing the attention key size do?\")"
   ]
  },
  {
   "cell_type": "markdown",
   "metadata": {
    "id": "bxY90GHbILS1"
   },
   "source": [
    "Next we can try to get a value from the 2nd table:"
   ]
  },
  {
   "cell_type": "code",
   "execution_count": null,
   "metadata": {
    "colab": {
     "base_uri": "https://localhost:8080/",
     "height": 35
    },
    "id": "Dzy7YyXrILS1",
    "outputId": "db036ba8-212f-4f01-dd4e-519770f10c96"
   },
   "outputs": [],
   "source": [
    "chain.invoke(\"For the transformer to English constituency results, what was the 'WSJ 23 F1' value for 'Dyer et al. (2016) (5]'?\")"
   ]
  },
  {
   "cell_type": "markdown",
   "metadata": {
    "id": "h9kGSQNdILS1"
   },
   "source": [
    "And finally we can ask a question that doesn't exist in our content to confirm that the LLM rejection is working correctly."
   ]
  },
  {
   "cell_type": "code",
   "execution_count": null,
   "metadata": {
    "colab": {
     "base_uri": "https://localhost:8080/",
     "height": 35
    },
    "id": "5cCmqAKFILS1",
    "outputId": "6b70cc3f-7c00-43c7-c9ad-c58c4bea3ae8"
   },
   "outputs": [],
   "source": [
    "# Query fails to be answered due to lack of context in Astra DB\n",
    "chain.invoke(\"When was George Washington born?\")"
   ]
  }
 ],
 "metadata": {
  "colab": {
   "provenance": []
  },
  "kernelspec": {
   "display_name": "Python 3 (ipykernel)",
   "language": "python",
   "name": "python3"
  },
  "language_info": {
   "codemirror_mode": {
    "name": "ipython",
    "version": 3
   },
   "file_extension": ".py",
   "mimetype": "text/x-python",
   "name": "python",
   "nbconvert_exporter": "python",
   "pygments_lexer": "ipython3",
   "version": "3.11.9"
  }
 },
 "nbformat": 4,
 "nbformat_minor": 0
}