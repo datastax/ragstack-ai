{
 "cells": [
  {
   "cell_type": "markdown",
   "metadata": {},
   "source": [
    "<a href=\"https://colab.research.google.com/github/datastax/ragstack-ai/blob/main/examples/notebooks/advancedRAG.ipynb\" target=\"_parent\"><img src=\"https://colab.research.google.com/assets/colab-badge.svg\" alt=\"Open In Colab\"/></a>"
   ]
  },
  {
   "cell_type": "markdown",
   "metadata": {},
   "source": [
    "# Advanced RAG\n",
    "\n",
    "This notebook describes two different Advanced RAG techniques: MultiQueryRAG and ParentDocumentRAG.\n",
    "\n",
    "In **MultiQueryRAG**, an LLM is used to automate the process of prompt tuning, to generate multiple queries from \n",
    "different perspectives for a given user input question.\n",
    "\n",
    "In **ParentDocumentRAG**, documents are split first into larger \"parent\" chunks, and then into smaller \"child\"\n",
    "chunks so that their embeddings can more accurately reflect their meaning. Then between retrieval and inference, \n",
    "each smaller \"child\" chunk is replaced with its larger \"parent\" chunk. This provides more context to the \n",
    "model to answer the question.\n",
    "\n",
    "While both of these techniques can increase the response accuracy, they also can have some drawbacks. Often they\n",
    "take longer to execute, and they can cost more due to increased LLM invocations and/or increased token usage."
   ]
  },
  {
   "cell_type": "markdown",
   "metadata": {},
   "source": [
    "## Prerequisites\n",
    "\n",
    "You need a vector-enabled Astra database and an OpenAI Account.\n",
    "\n",
    "* Create an [Astra vector database](https://docs.datastax.com/en/astra-serverless/docs/getting-started/create-db-choices.html).\n",
    "* Create an [OpenAI account](https://openai.com/)\n",
    "* Within your database, create an [Astra DB Access Token](https://docs.datastax.com/en/astra-serverless/docs/manage/org/manage-tokens.html) with Database Administrator permissions.\n",
    "* Get your Astra DB Endpoint:\n",
    "    * `https://<ASTRA_DB_ID>-<ASTRA_DB_REGION>.apps.astra.datastax.com`\n",
    "* See the [Prerequisites](https://docs.datastax.com/en/ragstack/docs/prerequisites.html) page for more details."
   ]
  },
  {
   "cell_type": "markdown",
   "metadata": {},
   "source": [
    "## Setup\n",
    "\n",
    "Install RAGStack, configure your secrets, and create some helper methods."
   ]
  },
  {
   "cell_type": "code",
   "execution_count": null,
   "metadata": {
    "nbmake": {
     "post_cell_execute": [
      "from conftest import before_notebook",
      "before_notebook()"
     ]
    }
   },
   "outputs": [],
   "source": [
    "%pip install ragstack-ai"
   ]
  },
  {
   "cell_type": "code",
   "execution_count": null,
   "metadata": {
    "editable": true,
    "slideshow": {
     "slide_type": ""
    },
    "tags": [
     "skip-execution"
    ]
   },
   "outputs": [],
   "source": [
    "# Configure your secrets\n",
    "import getpass\n",
    "import os\n",
    "\n",
    "os.environ[\"ASTRA_DB_API_ENDPOINT\"] = input(\"Enter your Astra DB API Endpoint: \")\n",
    "os.environ[\"ASTRA_DB_APPLICATION_TOKEN\"] = getpass(\"Enter your Astra DB Token: \")\n",
    "os.environ[\"OPENAI_API_KEY\"] = getpass(\"Enter your OpenAI API Key: \")"
   ]
  },
  {
   "cell_type": "code",
   "execution_count": null,
   "metadata": {},
   "outputs": [],
   "source": [
    "# Create helper functions for printing docs and results\n",
    "import textwrap\n",
    "\n",
    "\n",
    "def pprint_docs(docs) -> None:\n",
    "    print(\n",
    "        f\"\\n{'-' * 70}\\n\".join(\n",
    "            [\n",
    "                f\"Document {i+1}:\\n\\n\" + \"\\n\".join(textwrap.wrap(d.page_content))\n",
    "                for i, d in enumerate(docs)\n",
    "            ]\n",
    "        )\n",
    "    )\n",
    "\n",
    "\n",
    "def pprint_result(result) -> None:\n",
    "    print(\"Answer: \" + \"\\n\".join(textwrap.wrap(result)))"
   ]
  },
  {
   "cell_type": "markdown",
   "metadata": {},
   "source": [
    "## Sample Data\n",
    "\n",
    "Download and prep the sample data. Setup the prompts and the questions you will ask."
   ]
  },
  {
   "cell_type": "code",
   "execution_count": null,
   "metadata": {},
   "outputs": [],
   "source": [
    "# Retrieve the text of a short story that will be indexed in the vector store\n",
    "# ruff: noqa: E501\n",
    "! curl https://raw.githubusercontent.com/CassioML/cassio-website/main/docs/frameworks/langchain/texts/amontillado.txt --output amontillado.txt\n",
    "SAMPLEDATA = [\"amontillado.txt\"]"
   ]
  },
  {
   "cell_type": "code",
   "execution_count": null,
   "metadata": {
    "tags": [
     "skip-execution"
    ]
   },
   "outputs": [],
   "source": [
    "# Alternatively, provide your own file.\n",
    "# However, you will want to update your queries to match the content of your file.\n",
    "\n",
    "# Upload sample file (Note: this cell assumes you are on Google Colab)\n",
    "# Local Jupyter notebooks can provide the path to their files directly\n",
    "# by uncommenting and running just the next line).\n",
    "# SAMPLEDATA = [\"<path_to_file>\"]\n",
    "\n",
    "from google.colab import files\n",
    "\n",
    "print(\"Please upload your own sample file:\")\n",
    "uploaded = files.upload()\n",
    "if uploaded:\n",
    "    SAMPLEDATA = uploaded\n",
    "else:\n",
    "    raise ValueError(\"Cannot proceed without Sample Data. Please re-run the cell.\")\n",
    "\n",
    "print(\"Please make sure to change your queries to match the contents of your file!\")"
   ]
  },
  {
   "cell_type": "code",
   "execution_count": null,
   "metadata": {},
   "outputs": [],
   "source": [
    "import os\n",
    "\n",
    "from langchain.document_loaders import PyPDFLoader, TextLoader\n",
    "\n",
    "# Loop through each file and load it into your vector store\n",
    "docs = []\n",
    "for filename in SAMPLEDATA:\n",
    "    path = os.path.join(os.getcwd(), filename)\n",
    "\n",
    "    # Supported file types are pdf and txt\n",
    "    if filename.endswith(\".pdf\"):\n",
    "        loader = PyPDFLoader(path)\n",
    "        new_docs = loader.load()\n",
    "        print(f\"Processed pdf file: {filename}\")\n",
    "    elif filename.endswith(\".txt\"):\n",
    "        loader = TextLoader(\n",
    "            path,\n",
    "        )\n",
    "        new_docs = loader.load()\n",
    "        print(f\"Processed txt file: {filename}\")\n",
    "    else:\n",
    "        print(f\"Unsupported file type: {filename}\")\n",
    "\n",
    "    if len(new_docs) > 0:\n",
    "        docs.extend(new_docs)\n",
    "\n",
    "# Empty the list of file names in case this cell is run multiple times\n",
    "SAMPLEDATA = []\n",
    "\n",
    "print(\"\\nProcessing done.\")\n",
    "len(docs)"
   ]
  },
  {
   "cell_type": "code",
   "execution_count": null,
   "metadata": {},
   "outputs": [],
   "source": [
    "# Build a simple prompt and a set of questions to ask\n",
    "from langchain.prompts import ChatPromptTemplate\n",
    "from langchain.schema.output_parser import StrOutputParser\n",
    "from langchain.schema.runnable import RunnablePassthrough\n",
    "\n",
    "prompt_template = \"\"\"\n",
    "Answer the question based only on the supplied context. If you don't know the answer, say you don't know the answer.\n",
    "Context: {context}\n",
    "Question: {question}\n",
    "Your answer:\n",
    "\"\"\"\n",
    "prompt = ChatPromptTemplate.from_template(prompt_template)\n",
    "\n",
    "questions = [\n",
    "    \"What motivates the narrator, Montresor, to seek revenge against Fortunato?\",\n",
    "    \"What are the major themes in this story?\",\n",
    "    \"What is the significance of the story taking place during the carnival season?\",\n",
    "    \"How is vivid and descriptive language used in the story?\",\n",
    "    \"Is there any foreshadowing in the story? If yes, how is it used in the story?\",\n",
    "]"
   ]
  },
  {
   "cell_type": "code",
   "execution_count": null,
   "metadata": {},
   "outputs": [],
   "source": [
    "# Create a helper to iterate over the questions\n",
    "from langchain.callbacks import get_openai_callback\n",
    "\n",
    "\n",
    "def do_retrieval(chain) -> None:\n",
    "    for i in range(len(questions)):\n",
    "        print(\"-\" * 40)\n",
    "        print(f\"Question: {questions[i]}\\n\")\n",
    "        with get_openai_callback() as cb:\n",
    "            pprint_result(chain.invoke(questions[i]))\n",
    "            print(f\"\\nTotal Tokens: {cb.total_tokens}\\n\")"
   ]
  },
  {
   "cell_type": "markdown",
   "metadata": {},
   "source": [
    "## Document embedding and loading\n",
    "\n",
    "Next create embeddings for the documents and insert them into the Astra DB vector store.\n",
    "\n",
    "For the purpose of this example, you will use a method that is compatible with \n",
    "ParentDocumentRAG. If you aren't going to use this technique, you can review the \n",
    "`astradb.ipynb` example for a simpler document insertion method.\n",
    "\n",
    "You will create 2 splitters: A parent splitter and a child splitter. The parent splitter \n",
    "will split your documents into 512 token documents. The child splitter will split the parent \n",
    "documents into 128 token documents. \n",
    "\n",
    "Embeddings for the child documents are generated and stored in the vector store. \n",
    "\n",
    "For the demo, the parent documents will only be stored in-memory. In a production system, the\n",
    "parent documents should be stored in a database."
   ]
  },
  {
   "cell_type": "code",
   "execution_count": null,
   "metadata": {
    "editable": true,
    "slideshow": {
     "slide_type": ""
    },
    "tags": []
   },
   "outputs": [],
   "source": [
    "import os\n",
    "\n",
    "from langchain.chat_models import ChatOpenAI\n",
    "from langchain.embeddings import OpenAIEmbeddings\n",
    "from langchain.retrievers import ParentDocumentRetriever\n",
    "from langchain.storage import InMemoryStore\n",
    "from langchain.text_splitter import TokenTextSplitter\n",
    "from langchain_astradb import AstraDBVectorStore\n",
    "\n",
    "# Initialize the models\n",
    "model = ChatOpenAI(model_name=\"gpt-3.5-turbo\", temperature=0.1)\n",
    "embedding = OpenAIEmbeddings()\n",
    "\n",
    "# Initialize a vector store for storing the child chunks\n",
    "vstore = AstraDBVectorStore(\n",
    "    collection_name=\"advancedRAG\",\n",
    "    embedding=embedding,\n",
    "    token=os.environ[\"ASTRA_DB_APPLICATION_TOKEN\"],\n",
    "    api_endpoint=os.environ[\"ASTRA_DB_API_ENDPOINT\"],\n",
    ")\n",
    "\n",
    "# Initialize in-memory storage for the parent chunks\n",
    "parent_store = InMemoryStore()\n",
    "\n",
    "# Create a splitter for the parent documents\n",
    "parent_splitter = TokenTextSplitter(chunk_size=512, chunk_overlap=0)\n",
    "\n",
    "# Create a splitter for the child documents\n",
    "# Note: child documents should be smaller than parent documents\n",
    "child_splitter = TokenTextSplitter(chunk_size=128, chunk_overlap=0)\n",
    "\n",
    "# Create a parent document retriever\n",
    "parent_retriever = ParentDocumentRetriever(\n",
    "    vectorstore=vstore,\n",
    "    docstore=parent_store,\n",
    "    child_splitter=child_splitter,\n",
    "    parent_splitter=parent_splitter,\n",
    ")"
   ]
  },
  {
   "cell_type": "code",
   "execution_count": null,
   "metadata": {},
   "outputs": [],
   "source": [
    "# Split and load the documents into the vector and parent stores\n",
    "parent_retriever.add_documents(docs)"
   ]
  },
  {
   "cell_type": "markdown",
   "metadata": {},
   "source": [
    "## Base Retriever\n",
    "\n",
    "As a control, first make a standard RAG pipeline."
   ]
  },
  {
   "cell_type": "code",
   "execution_count": null,
   "metadata": {},
   "outputs": [],
   "source": [
    "# Standard RAG, nothing fancy\n",
    "base_retriever = vstore.as_retriever()\n",
    "\n",
    "base_chain = (\n",
    "    {\"context\": base_retriever, \"question\": RunnablePassthrough()}\n",
    "    | prompt\n",
    "    | model\n",
    "    | StrOutputParser()\n",
    ")"
   ]
  },
  {
   "cell_type": "code",
   "execution_count": null,
   "metadata": {},
   "outputs": [
    {
     "name": "stdout",
     "output_type": "stream",
     "text": [
      "----------------------------------------\n",
      "Question: What motivates the narrator, Montresor, to seek revenge against Fortunato?\n",
      "\n",
      "Answer: The narrator, Montresor, seeks revenge against Fortunato because of\n",
      "the insults and injuries he has endured from him.\n",
      "\n",
      "Total Tokens: 852\n",
      "\n",
      "----------------------------------------\n",
      "Question: What are the major themes in this story?\n",
      "\n",
      "Answer: I don't know the answer.\n",
      "\n",
      "Total Tokens: 818\n",
      "\n",
      "----------------------------------------\n",
      "Question: What is the significance of the story taking place during the carnival season?\n",
      "\n",
      "Answer: The significance of the story taking place during the carnival season\n",
      "is not clear from the given context.\n",
      "\n",
      "Total Tokens: 832\n",
      "\n",
      "----------------------------------------\n",
      "Question: How is vivid and descriptive language used in the story?\n",
      "\n",
      "Answer: Vivid and descriptive language is used in the story to create a sense\n",
      "of atmosphere and to convey the intense emotions and actions of the\n",
      "characters.\n",
      "\n",
      "Total Tokens: 842\n",
      "\n",
      "----------------------------------------\n",
      "Question: Is there any foreshadowing in the story? If yes, how is it used in the story?\n",
      "\n",
      "Answer: Yes, there is foreshadowing in the story. The foreshadowing is used to\n",
      "hint at the fate of Fortunato and the revenge that the narrator plans\n",
      "to take. The mention of the \"low moaning cry\" from the depth of the\n",
      "recess and the \"furious vibrations of the chain\" suggest that\n",
      "something ominous and dangerous is happening to Fortunato. This\n",
      "foreshadows his eventual entrapment and demise in the catacombs.\n",
      "Additionally, the narrator's mention of wanting to \"punish with\n",
      "impunity\" and the idea of a wrong being unredressed when retribution\n",
      "overtakes its redresser foreshadow the narrator's plan to seek revenge\n",
      "on Fortunato without facing any consequences.\n",
      "\n",
      "Total Tokens: 974\n"
     ]
    }
   ],
   "source": [
    "# Run the queries on the base_chain\n",
    "do_retrieval(base_chain)"
   ]
  },
  {
   "cell_type": "markdown",
   "metadata": {},
   "source": [
    "### Analysis\n",
    "\n",
    "Some of the questions were answered well, and others were not. Note that \n",
    "`I don't know the answer.` should be considered a positive result. It is better than a\n",
    "hallucination.\n",
    "\n",
    "One nice thing with standard RAG is that the number of tokens used is quite low. This\n",
    "keeps costs down. \n",
    "\n",
    "To dig deeper, you can examine the context used to answer the third question:"
   ]
  },
  {
   "cell_type": "code",
   "execution_count": null,
   "metadata": {},
   "outputs": [
    {
     "name": "stdout",
     "output_type": "stream",
     "text": [
      "Document 1:\n",
      "\n",
      " during the supreme madness of the carnival season, that I encountered\n",
      "my friend.  He accosted me with excessive warmth, for he had been\n",
      "drinking much.  The man wore motley. He had on a tight-fitting parti-\n",
      "striped dress, and his head was surmounted by the conical cap and\n",
      "bells.  I was so pleased to see him, that I thought I should never\n",
      "have done wringing his hand.  I said to him--\"My dear Fortunato, you\n",
      "are luckily met.  How remarkably well you are looking to-day!\n",
      "----------------------------------------------------------------------\n",
      "Document 2:\n",
      "\n",
      "ado.\"  Thus speaking, Fortunato possessed himself of my arm. Putting\n",
      "on a mask of black silk, and drawing a _roquelaire_ closely about my\n",
      "person, I suffered him to hurry me to my palazzo.  There were no\n",
      "attendants at home; they had absconded to make merry in honour of the\n",
      "time.  I had told them that I should not return until the morning, and\n",
      "had given them explicit orders not to stir from the house. These\n",
      "orders were sufficient, I well knew, to insure their immediate\n",
      "disappearance, one and all\n",
      "----------------------------------------------------------------------\n",
      "Document 3:\n",
      "\n",
      "connoisseurship in wine.  Few Italians have the true virtuoso spirit.\n",
      "For the most part their enthusiasm is adopted to suit the time and\n",
      "opportunity--to practise imposture upon the British and Austrian\n",
      "_millionaires_.  In painting and gemmary, Fortunato, like his\n",
      "countrymen, was a quack--but in the matter of old wines he was\n",
      "sincere.  In this respect I did not differ from him materially: I was\n",
      "skillful in the Italian vintages myself, and bought largely whenever I\n",
      "could.  It was about dusk, one evening\n",
      "----------------------------------------------------------------------\n",
      "Document 4:\n",
      "\n",
      ", as soon as my back was turned.  I took from their sconces two\n",
      "flambeaux, and giving one to Fortunato, bowed him through several\n",
      "suites of rooms to the archway that led into the vaults.  I passed\n",
      "down a long and winding staircase, requesting him to be cautious as he\n",
      "followed. We came at length to the foot of the descent, and stood\n",
      "together on the damp ground of the catacombs of the Montresors.  The\n",
      "gait of my friend was unsteady, and the bells upon his cap jingled\n"
     ]
    }
   ],
   "source": [
    "pprint_docs(base_retriever.get_relevant_documents(questions[2]))"
   ]
  },
  {
   "cell_type": "markdown",
   "metadata": {},
   "source": [
    "There are 4 documents of size 128 tokens."
   ]
  },
  {
   "cell_type": "markdown",
   "metadata": {},
   "source": [
    "## MultiQueryRAG\n",
    "\n",
    "Now try the first advanced technique. When the `MultiQueryRetriever` module is used, an additional\n",
    "LLM call is made before retrieval. This call is to generates multiple versions of the initial question \n",
    "from different perspectives. Then retrieval is performed on this set of questions."
   ]
  },
  {
   "cell_type": "code",
   "execution_count": null,
   "metadata": {},
   "outputs": [],
   "source": [
    "# Build the MultiQueryRAG chain\n",
    "from langchain.retrievers.multi_query import MultiQueryRetriever\n",
    "\n",
    "# Note that this retriever depends on the base_retriever\n",
    "multi_retriever = MultiQueryRetriever.from_llm(retriever=base_retriever, llm=model)\n",
    "\n",
    "multi_chain = (\n",
    "    {\"context\": multi_retriever, \"question\": RunnablePassthrough()}\n",
    "    | prompt\n",
    "    | model\n",
    "    | StrOutputParser()\n",
    ")"
   ]
  },
  {
   "cell_type": "code",
   "execution_count": null,
   "metadata": {},
   "outputs": [
    {
     "name": "stdout",
     "output_type": "stream",
     "text": [
      "----------------------------------------\n",
      "Question: What motivates the narrator, Montresor, to seek revenge against Fortunato?\n",
      "\n",
      "Answer: The narrator, Montresor, seeks revenge against Fortunato because of\n",
      "the insults and injuries he has endured from him.\n",
      "\n",
      "Total Tokens: 1209\n",
      "\n",
      "----------------------------------------\n",
      "Question: What are the major themes in this story?\n",
      "\n",
      "Answer: I don't know the answer.\n",
      "\n",
      "Total Tokens: 1531\n",
      "\n",
      "----------------------------------------\n",
      "Question: What is the significance of the story taking place during the carnival season?\n",
      "\n",
      "Answer: The significance of the story taking place during the carnival season\n",
      "is not clear from the given context.\n",
      "\n",
      "Total Tokens: 1176\n",
      "\n",
      "----------------------------------------\n",
      "Question: How is vivid and descriptive language used in the story?\n",
      "\n",
      "Answer: Vivid and descriptive language is used in the story to create a\n",
      "detailed and immersive atmosphere. It helps to paint a clear picture\n",
      "of the setting, such as the crypt and the catacombs, and to convey the\n",
      "emotions and actions of the characters.\n",
      "\n",
      "Total Tokens: 1195\n",
      "\n",
      "----------------------------------------\n",
      "Question: Is there any foreshadowing in the story? If yes, how is it used in the story?\n",
      "\n",
      "Answer: Yes, there is foreshadowing in the story. The narrator's mention of\n",
      "seeking revenge and punishing with impunity foreshadows the events\n",
      "that unfold later in the story, where the narrator walls up Fortunato\n",
      "in the catacombs. Additionally, the mention of the \"furious vibrations\n",
      "of the chain\" hints at the impending danger and violence that\n",
      "Fortunato will face.\n",
      "\n",
      "Total Tokens: 1472\n"
     ]
    }
   ],
   "source": [
    "# Run the questions on the multi_chain\n",
    "do_retrieval(multi_chain)"
   ]
  },
  {
   "cell_type": "markdown",
   "metadata": {},
   "source": [
    "### Analysis\n",
    "\n",
    "The results using MultiQueryRAG are different. It is unclear if they are better or not. \n",
    "\n",
    "The number of tokens used has increased. Also the responsiveness has gone down due to the\n",
    "extra LLM call.\n",
    "\n",
    "To dig deeper, you can examine the context used to answer the 3rd question:"
   ]
  },
  {
   "cell_type": "code",
   "execution_count": null,
   "metadata": {},
   "outputs": [
    {
     "name": "stdout",
     "output_type": "stream",
     "text": [
      "Document 1:\n",
      "\n",
      " during the supreme madness of the carnival season, that I encountered\n",
      "my friend.  He accosted me with excessive warmth, for he had been\n",
      "drinking much.  The man wore motley. He had on a tight-fitting parti-\n",
      "striped dress, and his head was surmounted by the conical cap and\n",
      "bells.  I was so pleased to see him, that I thought I should never\n",
      "have done wringing his hand.  I said to him--\"My dear Fortunato, you\n",
      "are luckily met.  How remarkably well you are looking to-day!\n",
      "----------------------------------------------------------------------\n",
      "Document 2:\n",
      "\n",
      "ado.\"  Thus speaking, Fortunato possessed himself of my arm. Putting\n",
      "on a mask of black silk, and drawing a _roquelaire_ closely about my\n",
      "person, I suffered him to hurry me to my palazzo.  There were no\n",
      "attendants at home; they had absconded to make merry in honour of the\n",
      "time.  I had told them that I should not return until the morning, and\n",
      "had given them explicit orders not to stir from the house. These\n",
      "orders were sufficient, I well knew, to insure their immediate\n",
      "disappearance, one and all\n",
      "----------------------------------------------------------------------\n",
      "Document 3:\n",
      "\n",
      " and with the aid of my trowel, I began vigorously to wall up the\n",
      "entrance of the niche.  I had scarcely laid the first tier of the\n",
      "masonry when I discovered that the intoxication of Fortunato had in a\n",
      "great measure worn off. The earliest indication I had of this was a\n",
      "low moaning cry from the depth of the recess.  It was _not_ the cry of\n",
      "a drunken man. There was then a long and obstinate silence.  I laid\n",
      "the second tier, and the third, and the fourth; and then I heard the\n",
      "furious vibrations of the chain.\n",
      "----------------------------------------------------------------------\n",
      "Document 4:\n",
      "\n",
      "connoisseurship in wine.  Few Italians have the true virtuoso spirit.\n",
      "For the most part their enthusiasm is adopted to suit the time and\n",
      "opportunity--to practise imposture upon the British and Austrian\n",
      "_millionaires_.  In painting and gemmary, Fortunato, like his\n",
      "countrymen, was a quack--but in the matter of old wines he was\n",
      "sincere.  In this respect I did not differ from him materially: I was\n",
      "skillful in the Italian vintages myself, and bought largely whenever I\n",
      "could.  It was about dusk, one evening\n",
      "----------------------------------------------------------------------\n",
      "Document 5:\n",
      "\n",
      ", as soon as my back was turned.  I took from their sconces two\n",
      "flambeaux, and giving one to Fortunato, bowed him through several\n",
      "suites of rooms to the archway that led into the vaults.  I passed\n",
      "down a long and winding staircase, requesting him to be cautious as he\n",
      "followed. We came at length to the foot of the descent, and stood\n",
      "together on the damp ground of the catacombs of the Montresors.  The\n",
      "gait of my friend was unsteady, and the bells upon his cap jingled\n"
     ]
    }
   ],
   "source": [
    "pprint_docs(multi_retriever.get_relevant_documents(questions[2]))"
   ]
  },
  {
   "cell_type": "markdown",
   "metadata": {},
   "source": [
    "There are 5 documents of size 128 tokens. The model might benefit from the extra context provided when answering the question."
   ]
  },
  {
   "cell_type": "markdown",
   "metadata": {},
   "source": [
    "## ParentDocumentRAG\n",
    "\n",
    "The second advanced technique uses the `ParentDocumentRetriever` defined above. Remember\n",
    "that this will perform a post-processing step between retrieval and inference to replace the\n",
    "child documents with their parents. After this is done, any duplicate documents are removed."
   ]
  },
  {
   "cell_type": "code",
   "execution_count": null,
   "metadata": {},
   "outputs": [],
   "source": [
    "# Build the ParentDocumentRAG chain\n",
    "parent_chain = (\n",
    "    {\"context\": parent_retriever, \"question\": RunnablePassthrough()}\n",
    "    | prompt\n",
    "    | model\n",
    "    | StrOutputParser()\n",
    ")"
   ]
  },
  {
   "cell_type": "code",
   "execution_count": null,
   "metadata": {},
   "outputs": [
    {
     "name": "stdout",
     "output_type": "stream",
     "text": [
      "----------------------------------------\n",
      "Question: What motivates the narrator, Montresor, to seek revenge against Fortunato?\n",
      "\n",
      "Answer: The narrator, Montresor, seeks revenge against Fortunato because\n",
      "Fortunato insulted him.\n",
      "\n",
      "Total Tokens: 1708\n",
      "\n",
      "----------------------------------------\n",
      "Question: What are the major themes in this story?\n",
      "\n",
      "Answer: The major themes in this story are revenge, deception, and the power\n",
      "of manipulation.\n",
      "\n",
      "Total Tokens: 1695\n",
      "\n",
      "----------------------------------------\n",
      "Question: What is the significance of the story taking place during the carnival season?\n",
      "\n",
      "Answer: The significance of the story taking place during the carnival season\n",
      "is that it provides a chaotic and festive atmosphere, which allows the\n",
      "narrator to carry out his revenge plot without arousing suspicion.\n",
      "\n",
      "Total Tokens: 1719\n",
      "\n",
      "----------------------------------------\n",
      "Question: How is vivid and descriptive language used in the story?\n",
      "\n",
      "Answer: Vivid and descriptive language is used in the story to create a sense\n",
      "of atmosphere and to paint a detailed picture of the setting and\n",
      "events. The language is used to describe the dank and damp catacombs,\n",
      "the chains and padlock that bind the protagonist, and the construction\n",
      "of the wall that seals the niche. It also describes the sounds and\n",
      "actions of the characters, such as the moaning cry from the recess and\n",
      "the low laugh that comes from the niche. Overall, the vivid and\n",
      "descriptive language helps to immerse the reader in the story and\n",
      "enhance the suspense and horror elements.\n",
      "\n",
      "Total Tokens: 1803\n",
      "\n",
      "----------------------------------------\n",
      "Question: Is there any foreshadowing in the story? If yes, how is it used in the story?\n",
      "\n",
      "Answer: Yes, there is foreshadowing in the story. The foreshadowing is used to\n",
      "hint at the fate of Fortunato and the narrator's plan for revenge. The\n",
      "mention of the chains, padlock, and walling up the entrance of the\n",
      "niche all foreshadow the narrator's intention to trap and bury\n",
      "Fortunato alive. Additionally, the mention of the Amontillado wine and\n",
      "the narrator's comment about Fortunato's cough hint at the means by\n",
      "which the narrator will carry out his revenge.\n",
      "\n",
      "Total Tokens: 2342\n"
     ]
    }
   ],
   "source": [
    "# Run it over the questions\n",
    "do_retrieval(parent_chain)"
   ]
  },
  {
   "cell_type": "markdown",
   "metadata": {},
   "source": [
    "### Analysis\n",
    "\n",
    "With ParentDocumentRAG, you get decent answers for all 5 questions.\n",
    "\n",
    "The number of tokens used has gone up significantly, but the response time is similar to standard RAG.\n",
    "The extra cost might be worth the improvement in results.\n",
    "\n",
    "Again, you can dig deeper by looking at the context used to answer the 3rd question:"
   ]
  },
  {
   "cell_type": "code",
   "execution_count": null,
   "metadata": {},
   "outputs": [
    {
     "name": "stdout",
     "output_type": "stream",
     "text": [
      "Document 1:\n",
      "\n",
      "The thousand injuries of Fortunato I had borne as I best could, but\n",
      "when he ventured upon insult, I vowed revenge.  You, who so well know\n",
      "the nature of my soul, will not suppose, however, that I gave\n",
      "utterance to a threat.  _At length_ I would be avenged; this was a\n",
      "point definitely settled--but the very definitiveness with which it\n",
      "was resolved, precluded the idea of risk.  I must not only punish, but\n",
      "punish with impunity.  A wrong is unredressed when retribution\n",
      "overtakes its redresser.  It is equally unredressed when the avenger\n",
      "fails to make himself felt as such to him who has done the wrong.  It\n",
      "must be understood that neither by word nor deed had I given Fortunato\n",
      "cause to doubt my good will.  I continued, as was my wont, to smile in\n",
      "his face, and he did not perceive that my smile _now_ was at the\n",
      "thought of his immolation.  He had a weak point--this Fortunato--\n",
      "although in other regards he was a man to be respected and even\n",
      "feared.  He prided himself on his connoisseurship in wine.  Few\n",
      "Italians have the true virtuoso spirit. For the most part their\n",
      "enthusiasm is adopted to suit the time and opportunity--to practise\n",
      "imposture upon the British and Austrian _millionaires_.  In painting\n",
      "and gemmary, Fortunato, like his countrymen, was a quack--but in the\n",
      "matter of old wines he was sincere.  In this respect I did not differ\n",
      "from him materially: I was skillful in the Italian vintages myself,\n",
      "and bought largely whenever I could.  It was about dusk, one evening\n",
      "during the supreme madness of the carnival season, that I encountered\n",
      "my friend.  He accosted me with excessive warmth, for he had been\n",
      "drinking much.  The man wore motley. He had on a tight-fitting parti-\n",
      "striped dress, and his head was surmounted by the conical cap and\n",
      "bells.  I was so pleased to see him, that I thought I should never\n",
      "have done wringing his hand.  I said to him--\"My dear Fortunato, you\n",
      "are luckily met.  How remarkably well you are looking to-day!\n",
      "----------------------------------------------------------------------\n",
      "Document 2:\n",
      "\n",
      "  But I have received a pipe of what passes for Amontillado, and I\n",
      "have my doubts.\"  \"How?\" said he.  \"Amontillado?  A pipe?  Impossible!\n",
      "And in the middle of the carnival!\"  \"I have my doubts,\" I replied;\n",
      "\"and I was silly enough to pay the full Amontillado price without\n",
      "consulting you in the matter. You were not to be found, and I was\n",
      "fearful of losing a bargain.\"  \"Amontillado!\"  \"I have my doubts.\"\n",
      "\"Amontillado!\"  \"And I must satisfy them.\"  \"Amontillado!\"  \"As you\n",
      "are engaged, I am on my way to Luchesi.  If any one has a critical\n",
      "turn, it is he.  He will tell me--\"  \"Luchesi cannot tell Amontillado\n",
      "from Sherry.\"  \"And yet some fools will have it that his taste is a\n",
      "match for your own.\"  \"Come, let us go.\"  \"Whither?\"  \"To your\n",
      "vaults.\"  \"My friend, no; I will not impose upon your good nature.  I\n",
      "perceive you have an engagement.  Luchesi--\"  \"I have no\n",
      "engagement;--come.\"  \"My friend, no.  It is not the engagement, but\n",
      "the severe cold with which I perceive you are afflicted.  The vaults\n",
      "are insufferably damp. They are encrusted with nitre.\"  \"Let us go,\n",
      "nevertheless.  The cold is merely nothing. Amontillado! You have been\n",
      "imposed upon.  And as for Luchesi, he cannot distinguish Sherry from\n",
      "Amontillado.\"  Thus speaking, Fortunato possessed himself of my arm.\n",
      "Putting on a mask of black silk, and drawing a _roquelaire_ closely\n",
      "about my person, I suffered him to hurry me to my palazzo.  There were\n",
      "no attendants at home; they had absconded to make merry in honour of\n",
      "the time.  I had told them that I should not return until the morning,\n",
      "and had given them explicit orders not to stir from the house. These\n",
      "orders were sufficient, I well knew, to insure their immediate\n",
      "disappearance, one and all\n",
      "----------------------------------------------------------------------\n",
      "Document 3:\n",
      "\n",
      ", as soon as my back was turned.  I took from their sconces two\n",
      "flambeaux, and giving one to Fortunato, bowed him through several\n",
      "suites of rooms to the archway that led into the vaults.  I passed\n",
      "down a long and winding staircase, requesting him to be cautious as he\n",
      "followed. We came at length to the foot of the descent, and stood\n",
      "together on the damp ground of the catacombs of the Montresors.  The\n",
      "gait of my friend was unsteady, and the bells upon his cap jingled as\n",
      "he strode.  \"The pipe,\" said he.  \"It is farther on,\" said I; \"but\n",
      "observe the white web-work which gleams from these cavern walls.\"  He\n",
      "turned towards me, and looked into my eyes with two filmy orbs that\n",
      "distilled the rheum of intoxication.  \"Nitre?\" he asked, at length.\n",
      "\"Nitre,\" I replied.  \"How long have you had that cough?\"  \"Ugh! ugh!\n",
      "ugh!--ugh! ugh! ugh!--ugh! ugh! ugh!--ugh! ugh! ugh!--ugh! ugh! ugh!\"\n",
      "My poor friend found it impossible to reply for many minutes.  \"It is\n",
      "nothing,\" he said, at last.  \"Come,\" I said, with decision, \"we will\n",
      "go back; your health is precious.  You are rich, respected, admired,\n",
      "beloved; you are happy, as once I was.  You are a man to be missed.\n",
      "For me it is no matter.  We will go back; you will be ill, and I\n",
      "cannot be responsible.  Besides, there is Luchesi--\"  \"Enough,\" he\n",
      "said; \"the cough is a mere nothing; it will not kill me. I shall not\n",
      "die of a cough.\"  \"True--true,\" I replied; \"and, indeed, I had no\n",
      "intention of alarming you unnecessarily--but you should use all proper\n",
      "caution. A draught of this Medoc will defend us from the damps.\"  Here\n",
      "I knocked off the neck of a bottle which I drew from a long row of its\n",
      "fellows that lay upon the mould.  \"Drink,\" I said, presenting him the\n"
     ]
    }
   ],
   "source": [
    "pprint_docs(parent_retriever.get_relevant_documents(questions[2]))"
   ]
  },
  {
   "cell_type": "markdown",
   "metadata": {},
   "source": [
    "There are 3 documents that are 512 tokens in size. The additional context helps the LLM generate a good answer for the question."
   ]
  },
  {
   "cell_type": "markdown",
   "metadata": {},
   "source": [
    "## Combined techniques\n",
    "\n",
    "Finally you can combine both the MultiQuery and ParentDocument techniques, as shown below."
   ]
  },
  {
   "cell_type": "code",
   "execution_count": null,
   "metadata": {},
   "outputs": [],
   "source": [
    "multi_parent_retriever = MultiQueryRetriever.from_llm(\n",
    "    retriever=parent_retriever, llm=model\n",
    ")\n",
    "\n",
    "multi_parent_chain = (\n",
    "    {\"context\": multi_parent_retriever, \"question\": RunnablePassthrough()}\n",
    "    | prompt\n",
    "    | model\n",
    "    | StrOutputParser()\n",
    ")"
   ]
  },
  {
   "cell_type": "code",
   "execution_count": null,
   "metadata": {},
   "outputs": [
    {
     "name": "stdout",
     "output_type": "stream",
     "text": [
      "----------------------------------------\n",
      "Question: What motivates the narrator, Montresor, to seek revenge against Fortunato?\n",
      "\n",
      "Answer: The narrator, Montresor, seeks revenge against Fortunato because\n",
      "Fortunato insulted him.\n",
      "\n",
      "Total Tokens: 1880\n",
      "\n",
      "----------------------------------------\n",
      "Question: What are the major themes in this story?\n",
      "\n",
      "Answer: The major themes in this story are revenge, deception, and the power\n",
      "of manipulation.\n",
      "\n",
      "Total Tokens: 2373\n",
      "\n",
      "----------------------------------------\n",
      "Question: What is the significance of the story taking place during the carnival season?\n",
      "\n",
      "Answer: The significance of the story taking place during the carnival season\n",
      "is that it provides a chaotic and festive atmosphere, which allows the\n",
      "narrator to carry out his revenge plot without arousing suspicion.\n",
      "\n",
      "Total Tokens: 2417\n",
      "\n",
      "----------------------------------------\n",
      "Question: How is vivid and descriptive language used in the story?\n",
      "\n",
      "Answer: Vivid and descriptive language is used in the story to create a\n",
      "detailed and immersive atmosphere. It helps to paint a clear picture\n",
      "of the setting, such as the granite walls, iron staples, and chains.\n",
      "The language also conveys the emotions and actions of the characters,\n",
      "such as the protagonist's astounded and implored tone, and the\n",
      "friend's moaning cry and furious vibrations. Additionally, the\n",
      "language describes the construction of the wall and the appearance of\n",
      "the interior recess, adding to the suspense and tension of the story.\n",
      "\n",
      "Total Tokens: 1394\n",
      "\n",
      "----------------------------------------\n",
      "Question: Is there any foreshadowing in the story? If yes, how is it used in the story?\n",
      "\n",
      "Answer: Yes, there is foreshadowing in the story. The foreshadowing is used to\n",
      "hint at the fate of Fortunato and the narrator's plan for revenge. The\n",
      "mention of the chains, padlock, and walling up the entrance of the\n",
      "niche all foreshadow the narrator's intention to trap and bury\n",
      "Fortunato alive. Additionally, the mention of the Amontillado wine and\n",
      "the narrator's comment about Fortunato's cough hint at the method of\n",
      "Fortunato's demise.\n",
      "\n",
      "Total Tokens: 2546\n"
     ]
    }
   ],
   "source": [
    "do_retrieval(multi_parent_chain)"
   ]
  },
  {
   "cell_type": "markdown",
   "metadata": {},
   "source": [
    "### Analysis\n",
    "\n",
    "This is by far the most expensive technique, but perhaps returns the best results."
   ]
  },
  {
   "cell_type": "markdown",
   "metadata": {},
   "source": [
    "## Cleanup\n",
    "\n",
    "Astra has a maximum number of collections per DB. Delete the collection after you are done exploring this example."
   ]
  },
  {
   "cell_type": "code",
   "execution_count": null,
   "metadata": {},
   "outputs": [],
   "source": [
    "# Sometimes this call returns a timeout. Usually it works on the second try.\n",
    "vstore.delete_collection()"
   ]
  }
 ],
 "metadata": {
  "kernelspec": {
   "display_name": "Python 3 (ipykernel)",
   "language": "python",
   "name": "python3"
  },
  "language_info": {
   "codemirror_mode": {
    "name": "ipython",
    "version": 3
   },
   "file_extension": ".py",
   "mimetype": "text/x-python",
   "name": "python",
   "nbconvert_exporter": "python",
   "pygments_lexer": "ipython3",
   "version": "3.11.7"
  }
 },
 "nbformat": 4,
 "nbformat_minor": 4
}