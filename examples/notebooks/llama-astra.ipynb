{
 "cells": [
  {
   "cell_type": "markdown",
   "metadata": {},
   "source": [
    "<a href=\"https://colab.research.google.com/github/datastax/ragstack-ai/blob/main/examples/notebooks/llama-astra.ipynb\" target=\"_parent\"><img src=\"https://colab.research.google.com/assets/colab-badge.svg\" alt=\"Open In Colab\"/></a>"
   ]
  },
  {
   "cell_type": "markdown",
   "metadata": {},
   "source": [
    "# RAG with LlamaIndex and AstraDB\n",
    "\n",
    "Build a RAG pipeline with RAGStack, AstraDB, and LlamaIndex."
   ]
  },
  {
   "cell_type": "markdown",
   "metadata": {},
   "source": [
    "## Prerequisites\n",
    "You will need a vector-enabled Astra database.\n",
    "\n",
    "Create an [Astra vector database](https://docs.datastax.com/en/astra-serverless/docs/getting-started/create-db-choices.html).\n",
    "Within your database, create an [Astra DB Access Token](https://docs.datastax.com/en/astra-serverless/docs/manage/org/manage-tokens.html) with Database Administrator permissions.\n",
    "Get your Astra DB Endpoint:\n",
    "https://<ASTRA_DB_ID>-<ASTRA_DB_REGION>.apps.astra.datastax.com\n",
    "\n",
    "See the [Prerequisites](https://docs.datastax.com/en/ragstack/docs/prerequisites.html) page for more details.\n",
    "\n",
    "## Setup"
   ]
  },
  {
   "cell_type": "code",
   "execution_count": 23,
   "metadata": {},
   "outputs": [
    {
     "name": "stdout",
     "output_type": "stream",
     "text": [
      "4745.00s - pydevd: Sending message related to process being replaced timed-out after 5 seconds\n",
      "Requirement already satisfied: ragstack-ai in /Users/mendon.kissling/Documents/GitHub/ragstack-ai/.venv/lib/python3.11/site-packages (0.6.0.post0)\n",
      "Requirement already satisfied: astrapy<0.8.0,>=0.7.0 in /Users/mendon.kissling/Documents/GitHub/ragstack-ai/.venv/lib/python3.11/site-packages (from ragstack-ai) (0.7.1)\n",
      "Requirement already satisfied: cassio<0.2.0,>=0.1.3 in /Users/mendon.kissling/Documents/GitHub/ragstack-ai/.venv/lib/python3.11/site-packages (from ragstack-ai) (0.1.4)\n",
      "Requirement already satisfied: langchain==0.1.4 in /Users/mendon.kissling/Documents/GitHub/ragstack-ai/.venv/lib/python3.11/site-packages (from ragstack-ai) (0.1.4)\n",
      "Requirement already satisfied: langchain-community==0.0.16 in /Users/mendon.kissling/Documents/GitHub/ragstack-ai/.venv/lib/python3.11/site-packages (from ragstack-ai) (0.0.16)\n",
      "Requirement already satisfied: langchain-core==0.1.16 in /Users/mendon.kissling/Documents/GitHub/ragstack-ai/.venv/lib/python3.11/site-packages (from ragstack-ai) (0.1.16)\n",
      "Requirement already satisfied: langchain-openai==0.0.3 in /Users/mendon.kissling/Documents/GitHub/ragstack-ai/.venv/lib/python3.11/site-packages (from ragstack-ai) (0.0.3)\n",
      "Requirement already satisfied: llama-index==0.9.34 in /Users/mendon.kissling/Documents/GitHub/ragstack-ai/.venv/lib/python3.11/site-packages (from llama-index[langchain]==0.9.34->ragstack-ai) (0.9.34)\n",
      "Requirement already satisfied: unstructured<0.11,>=0.10 in /Users/mendon.kissling/Documents/GitHub/ragstack-ai/.venv/lib/python3.11/site-packages (from ragstack-ai) (0.10.30)\n",
      "Requirement already satisfied: PyYAML>=5.3 in /Users/mendon.kissling/Documents/GitHub/ragstack-ai/.venv/lib/python3.11/site-packages (from langchain==0.1.4->ragstack-ai) (6.0.1)\n",
      "Requirement already satisfied: SQLAlchemy<3,>=1.4 in /Users/mendon.kissling/Documents/GitHub/ragstack-ai/.venv/lib/python3.11/site-packages (from langchain==0.1.4->ragstack-ai) (2.0.25)\n",
      "Requirement already satisfied: aiohttp<4.0.0,>=3.8.3 in /Users/mendon.kissling/Documents/GitHub/ragstack-ai/.venv/lib/python3.11/site-packages (from langchain==0.1.4->ragstack-ai) (3.9.3)\n",
      "Requirement already satisfied: dataclasses-json<0.7,>=0.5.7 in /Users/mendon.kissling/Documents/GitHub/ragstack-ai/.venv/lib/python3.11/site-packages (from langchain==0.1.4->ragstack-ai) (0.6.3)\n",
      "Requirement already satisfied: jsonpatch<2.0,>=1.33 in /Users/mendon.kissling/Documents/GitHub/ragstack-ai/.venv/lib/python3.11/site-packages (from langchain==0.1.4->ragstack-ai) (1.33)\n",
      "Requirement already satisfied: langsmith<0.1,>=0.0.83 in /Users/mendon.kissling/Documents/GitHub/ragstack-ai/.venv/lib/python3.11/site-packages (from langchain==0.1.4->ragstack-ai) (0.0.84)\n",
      "Requirement already satisfied: numpy<2,>=1 in /Users/mendon.kissling/Documents/GitHub/ragstack-ai/.venv/lib/python3.11/site-packages (from langchain==0.1.4->ragstack-ai) (1.26.3)\n",
      "Requirement already satisfied: pydantic<3,>=1 in /Users/mendon.kissling/Documents/GitHub/ragstack-ai/.venv/lib/python3.11/site-packages (from langchain==0.1.4->ragstack-ai) (2.6.0)\n",
      "Requirement already satisfied: requests<3,>=2 in /Users/mendon.kissling/Documents/GitHub/ragstack-ai/.venv/lib/python3.11/site-packages (from langchain==0.1.4->ragstack-ai) (2.31.0)\n",
      "Requirement already satisfied: tenacity<9.0.0,>=8.1.0 in /Users/mendon.kissling/Documents/GitHub/ragstack-ai/.venv/lib/python3.11/site-packages (from langchain==0.1.4->ragstack-ai) (8.2.3)\n",
      "Requirement already satisfied: anyio<5,>=3 in /Users/mendon.kissling/Documents/GitHub/ragstack-ai/.venv/lib/python3.11/site-packages (from langchain-core==0.1.16->ragstack-ai) (4.2.0)\n",
      "Requirement already satisfied: packaging<24.0,>=23.2 in /Users/mendon.kissling/Documents/GitHub/ragstack-ai/.venv/lib/python3.11/site-packages (from langchain-core==0.1.16->ragstack-ai) (23.2)\n",
      "Requirement already satisfied: openai<2.0.0,>=1.6.1 in /Users/mendon.kissling/Documents/GitHub/ragstack-ai/.venv/lib/python3.11/site-packages (from langchain-openai==0.0.3->ragstack-ai) (1.10.0)\n",
      "Requirement already satisfied: tiktoken<0.6.0,>=0.5.2 in /Users/mendon.kissling/Documents/GitHub/ragstack-ai/.venv/lib/python3.11/site-packages (from langchain-openai==0.0.3->ragstack-ai) (0.5.2)\n",
      "Requirement already satisfied: beautifulsoup4<5.0.0,>=4.12.2 in /Users/mendon.kissling/Documents/GitHub/ragstack-ai/.venv/lib/python3.11/site-packages (from llama-index==0.9.34->llama-index[langchain]==0.9.34->ragstack-ai) (4.12.3)\n",
      "Requirement already satisfied: deprecated>=1.2.9.3 in /Users/mendon.kissling/Documents/GitHub/ragstack-ai/.venv/lib/python3.11/site-packages (from llama-index==0.9.34->llama-index[langchain]==0.9.34->ragstack-ai) (1.2.14)\n",
      "Requirement already satisfied: fsspec>=2023.5.0 in /Users/mendon.kissling/Documents/GitHub/ragstack-ai/.venv/lib/python3.11/site-packages (from llama-index==0.9.34->llama-index[langchain]==0.9.34->ragstack-ai) (2023.10.0)\n",
      "Requirement already satisfied: httpx in /Users/mendon.kissling/Documents/GitHub/ragstack-ai/.venv/lib/python3.11/site-packages (from llama-index==0.9.34->llama-index[langchain]==0.9.34->ragstack-ai) (0.25.2)\n",
      "Requirement already satisfied: nest-asyncio<2.0.0,>=1.5.8 in /Users/mendon.kissling/Documents/GitHub/ragstack-ai/.venv/lib/python3.11/site-packages (from llama-index==0.9.34->llama-index[langchain]==0.9.34->ragstack-ai) (1.6.0)\n",
      "Requirement already satisfied: networkx>=3.0 in /Users/mendon.kissling/Documents/GitHub/ragstack-ai/.venv/lib/python3.11/site-packages (from llama-index==0.9.34->llama-index[langchain]==0.9.34->ragstack-ai) (3.2.1)\n",
      "Requirement already satisfied: nltk<4.0.0,>=3.8.1 in /Users/mendon.kissling/Documents/GitHub/ragstack-ai/.venv/lib/python3.11/site-packages (from llama-index==0.9.34->llama-index[langchain]==0.9.34->ragstack-ai) (3.8.1)\n",
      "Requirement already satisfied: pandas in /Users/mendon.kissling/Documents/GitHub/ragstack-ai/.venv/lib/python3.11/site-packages (from llama-index==0.9.34->llama-index[langchain]==0.9.34->ragstack-ai) (2.2.0)\n",
      "Requirement already satisfied: typing-extensions>=4.5.0 in /Users/mendon.kissling/Documents/GitHub/ragstack-ai/.venv/lib/python3.11/site-packages (from llama-index==0.9.34->llama-index[langchain]==0.9.34->ragstack-ai) (4.9.0)\n",
      "Requirement already satisfied: typing-inspect>=0.8.0 in /Users/mendon.kissling/Documents/GitHub/ragstack-ai/.venv/lib/python3.11/site-packages (from llama-index==0.9.34->llama-index[langchain]==0.9.34->ragstack-ai) (0.9.0)\n",
      "Requirement already satisfied: toml<0.11.0,>=0.10.2 in /Users/mendon.kissling/Documents/GitHub/ragstack-ai/.venv/lib/python3.11/site-packages (from astrapy<0.8.0,>=0.7.0->ragstack-ai) (0.10.2)\n",
      "Requirement already satisfied: cassandra-driver>=3.28.0 in /Users/mendon.kissling/Documents/GitHub/ragstack-ai/.venv/lib/python3.11/site-packages (from cassio<0.2.0,>=0.1.3->ragstack-ai) (3.29.0)\n",
      "Requirement already satisfied: chardet in /Users/mendon.kissling/Documents/GitHub/ragstack-ai/.venv/lib/python3.11/site-packages (from unstructured<0.11,>=0.10->ragstack-ai) (5.2.0)\n",
      "Requirement already satisfied: filetype in /Users/mendon.kissling/Documents/GitHub/ragstack-ai/.venv/lib/python3.11/site-packages (from unstructured<0.11,>=0.10->ragstack-ai) (1.2.0)\n",
      "Requirement already satisfied: python-magic in /Users/mendon.kissling/Documents/GitHub/ragstack-ai/.venv/lib/python3.11/site-packages (from unstructured<0.11,>=0.10->ragstack-ai) (0.4.27)\n",
      "Requirement already satisfied: lxml in /Users/mendon.kissling/Documents/GitHub/ragstack-ai/.venv/lib/python3.11/site-packages (from unstructured<0.11,>=0.10->ragstack-ai) (5.1.0)\n",
      "Requirement already satisfied: tabulate in /Users/mendon.kissling/Documents/GitHub/ragstack-ai/.venv/lib/python3.11/site-packages (from unstructured<0.11,>=0.10->ragstack-ai) (0.9.0)\n",
      "Requirement already satisfied: emoji in /Users/mendon.kissling/Documents/GitHub/ragstack-ai/.venv/lib/python3.11/site-packages (from unstructured<0.11,>=0.10->ragstack-ai) (2.10.0)\n",
      "Requirement already satisfied: python-iso639 in /Users/mendon.kissling/Documents/GitHub/ragstack-ai/.venv/lib/python3.11/site-packages (from unstructured<0.11,>=0.10->ragstack-ai) (2024.1.2)\n",
      "Requirement already satisfied: langdetect in /Users/mendon.kissling/Documents/GitHub/ragstack-ai/.venv/lib/python3.11/site-packages (from unstructured<0.11,>=0.10->ragstack-ai) (1.0.9)\n",
      "Requirement already satisfied: rapidfuzz in /Users/mendon.kissling/Documents/GitHub/ragstack-ai/.venv/lib/python3.11/site-packages (from unstructured<0.11,>=0.10->ragstack-ai) (3.6.1)\n",
      "Requirement already satisfied: backoff in /Users/mendon.kissling/Documents/GitHub/ragstack-ai/.venv/lib/python3.11/site-packages (from unstructured<0.11,>=0.10->ragstack-ai) (2.2.1)\n",
      "Requirement already satisfied: aiosignal>=1.1.2 in /Users/mendon.kissling/Documents/GitHub/ragstack-ai/.venv/lib/python3.11/site-packages (from aiohttp<4.0.0,>=3.8.3->langchain==0.1.4->ragstack-ai) (1.3.1)\n",
      "Requirement already satisfied: attrs>=17.3.0 in /Users/mendon.kissling/Documents/GitHub/ragstack-ai/.venv/lib/python3.11/site-packages (from aiohttp<4.0.0,>=3.8.3->langchain==0.1.4->ragstack-ai) (23.2.0)\n",
      "Requirement already satisfied: frozenlist>=1.1.1 in /Users/mendon.kissling/Documents/GitHub/ragstack-ai/.venv/lib/python3.11/site-packages (from aiohttp<4.0.0,>=3.8.3->langchain==0.1.4->ragstack-ai) (1.4.1)\n",
      "Requirement already satisfied: multidict<7.0,>=4.5 in /Users/mendon.kissling/Documents/GitHub/ragstack-ai/.venv/lib/python3.11/site-packages (from aiohttp<4.0.0,>=3.8.3->langchain==0.1.4->ragstack-ai) (6.0.4)\n",
      "Requirement already satisfied: yarl<2.0,>=1.0 in /Users/mendon.kissling/Documents/GitHub/ragstack-ai/.venv/lib/python3.11/site-packages (from aiohttp<4.0.0,>=3.8.3->langchain==0.1.4->ragstack-ai) (1.9.4)\n",
      "Requirement already satisfied: idna>=2.8 in /Users/mendon.kissling/Documents/GitHub/ragstack-ai/.venv/lib/python3.11/site-packages (from anyio<5,>=3->langchain-core==0.1.16->ragstack-ai) (3.6)\n",
      "Requirement already satisfied: sniffio>=1.1 in /Users/mendon.kissling/Documents/GitHub/ragstack-ai/.venv/lib/python3.11/site-packages (from anyio<5,>=3->langchain-core==0.1.16->ragstack-ai) (1.3.0)\n",
      "Requirement already satisfied: soupsieve>1.2 in /Users/mendon.kissling/Documents/GitHub/ragstack-ai/.venv/lib/python3.11/site-packages (from beautifulsoup4<5.0.0,>=4.12.2->llama-index==0.9.34->llama-index[langchain]==0.9.34->ragstack-ai) (2.5)\n",
      "Requirement already satisfied: geomet<0.3,>=0.1 in /Users/mendon.kissling/Documents/GitHub/ragstack-ai/.venv/lib/python3.11/site-packages (from cassandra-driver>=3.28.0->cassio<0.2.0,>=0.1.3->ragstack-ai) (0.2.1.post1)\n",
      "Requirement already satisfied: marshmallow<4.0.0,>=3.18.0 in /Users/mendon.kissling/Documents/GitHub/ragstack-ai/.venv/lib/python3.11/site-packages (from dataclasses-json<0.7,>=0.5.7->langchain==0.1.4->ragstack-ai) (3.20.2)\n",
      "Requirement already satisfied: wrapt<2,>=1.10 in /Users/mendon.kissling/Documents/GitHub/ragstack-ai/.venv/lib/python3.11/site-packages (from deprecated>=1.2.9.3->llama-index==0.9.34->llama-index[langchain]==0.9.34->ragstack-ai) (1.16.0)\n",
      "Requirement already satisfied: certifi in /Users/mendon.kissling/Documents/GitHub/ragstack-ai/.venv/lib/python3.11/site-packages (from httpx->llama-index==0.9.34->llama-index[langchain]==0.9.34->ragstack-ai) (2023.11.17)\n",
      "Requirement already satisfied: httpcore==1.* in /Users/mendon.kissling/Documents/GitHub/ragstack-ai/.venv/lib/python3.11/site-packages (from httpx->llama-index==0.9.34->llama-index[langchain]==0.9.34->ragstack-ai) (1.0.2)\n",
      "Requirement already satisfied: h11<0.15,>=0.13 in /Users/mendon.kissling/Documents/GitHub/ragstack-ai/.venv/lib/python3.11/site-packages (from httpcore==1.*->httpx->llama-index==0.9.34->llama-index[langchain]==0.9.34->ragstack-ai) (0.14.0)\n",
      "Requirement already satisfied: h2<5,>=3 in /Users/mendon.kissling/Documents/GitHub/ragstack-ai/.venv/lib/python3.11/site-packages (from httpx[http2]<0.26.0,>=0.25.1->astrapy<0.8.0,>=0.7.0->ragstack-ai) (4.1.0)\n",
      "Requirement already satisfied: jsonpointer>=1.9 in /Users/mendon.kissling/Documents/GitHub/ragstack-ai/.venv/lib/python3.11/site-packages (from jsonpatch<2.0,>=1.33->langchain==0.1.4->ragstack-ai) (2.4)\n",
      "Requirement already satisfied: click in /Users/mendon.kissling/Documents/GitHub/ragstack-ai/.venv/lib/python3.11/site-packages (from nltk<4.0.0,>=3.8.1->llama-index==0.9.34->llama-index[langchain]==0.9.34->ragstack-ai) (8.1.7)\n",
      "Requirement already satisfied: joblib in /Users/mendon.kissling/Documents/GitHub/ragstack-ai/.venv/lib/python3.11/site-packages (from nltk<4.0.0,>=3.8.1->llama-index==0.9.34->llama-index[langchain]==0.9.34->ragstack-ai) (1.3.2)\n",
      "Requirement already satisfied: regex>=2021.8.3 in /Users/mendon.kissling/Documents/GitHub/ragstack-ai/.venv/lib/python3.11/site-packages (from nltk<4.0.0,>=3.8.1->llama-index==0.9.34->llama-index[langchain]==0.9.34->ragstack-ai) (2023.12.25)\n",
      "Requirement already satisfied: tqdm in /Users/mendon.kissling/Documents/GitHub/ragstack-ai/.venv/lib/python3.11/site-packages (from nltk<4.0.0,>=3.8.1->llama-index==0.9.34->llama-index[langchain]==0.9.34->ragstack-ai) (4.66.1)\n",
      "Requirement already satisfied: distro<2,>=1.7.0 in /Users/mendon.kissling/Documents/GitHub/ragstack-ai/.venv/lib/python3.11/site-packages (from openai<2.0.0,>=1.6.1->langchain-openai==0.0.3->ragstack-ai) (1.9.0)\n",
      "Requirement already satisfied: annotated-types>=0.4.0 in /Users/mendon.kissling/Documents/GitHub/ragstack-ai/.venv/lib/python3.11/site-packages (from pydantic<3,>=1->langchain==0.1.4->ragstack-ai) (0.6.0)\n",
      "Requirement already satisfied: pydantic-core==2.16.1 in /Users/mendon.kissling/Documents/GitHub/ragstack-ai/.venv/lib/python3.11/site-packages (from pydantic<3,>=1->langchain==0.1.4->ragstack-ai) (2.16.1)\n",
      "Requirement already satisfied: charset-normalizer<4,>=2 in /Users/mendon.kissling/Documents/GitHub/ragstack-ai/.venv/lib/python3.11/site-packages (from requests<3,>=2->langchain==0.1.4->ragstack-ai) (3.3.2)\n",
      "Requirement already satisfied: urllib3<3,>=1.21.1 in /Users/mendon.kissling/Documents/GitHub/ragstack-ai/.venv/lib/python3.11/site-packages (from requests<3,>=2->langchain==0.1.4->ragstack-ai) (2.1.0)\n",
      "Requirement already satisfied: greenlet!=0.4.17 in /Users/mendon.kissling/Documents/GitHub/ragstack-ai/.venv/lib/python3.11/site-packages (from SQLAlchemy[asyncio]>=1.4.49->llama-index==0.9.34->llama-index[langchain]==0.9.34->ragstack-ai) (3.0.3)\n",
      "Requirement already satisfied: mypy-extensions>=0.3.0 in /Users/mendon.kissling/Documents/GitHub/ragstack-ai/.venv/lib/python3.11/site-packages (from typing-inspect>=0.8.0->llama-index==0.9.34->llama-index[langchain]==0.9.34->ragstack-ai) (1.0.0)\n",
      "Requirement already satisfied: six in /Users/mendon.kissling/Documents/GitHub/ragstack-ai/.venv/lib/python3.11/site-packages (from langdetect->unstructured<0.11,>=0.10->ragstack-ai) (1.16.0)\n",
      "Requirement already satisfied: python-dateutil>=2.8.2 in /Users/mendon.kissling/Documents/GitHub/ragstack-ai/.venv/lib/python3.11/site-packages (from pandas->llama-index==0.9.34->llama-index[langchain]==0.9.34->ragstack-ai) (2.8.2)\n",
      "Requirement already satisfied: pytz>=2020.1 in /Users/mendon.kissling/Documents/GitHub/ragstack-ai/.venv/lib/python3.11/site-packages (from pandas->llama-index==0.9.34->llama-index[langchain]==0.9.34->ragstack-ai) (2023.4)\n",
      "Requirement already satisfied: tzdata>=2022.7 in /Users/mendon.kissling/Documents/GitHub/ragstack-ai/.venv/lib/python3.11/site-packages (from pandas->llama-index==0.9.34->llama-index[langchain]==0.9.34->ragstack-ai) (2023.4)\n",
      "Requirement already satisfied: hyperframe<7,>=6.0 in /Users/mendon.kissling/Documents/GitHub/ragstack-ai/.venv/lib/python3.11/site-packages (from h2<5,>=3->httpx[http2]<0.26.0,>=0.25.1->astrapy<0.8.0,>=0.7.0->ragstack-ai) (6.0.1)\n",
      "Requirement already satisfied: hpack<5,>=4.0 in /Users/mendon.kissling/Documents/GitHub/ragstack-ai/.venv/lib/python3.11/site-packages (from h2<5,>=3->httpx[http2]<0.26.0,>=0.25.1->astrapy<0.8.0,>=0.7.0->ragstack-ai) (4.0.0)\n"
     ]
    }
   ],
   "source": [
    "! pip install ragstack-ai"
   ]
  },
  {
    "cell_type": "code",
    "execution_count": 4,
    "metadata": {
        "nbmake": {
            "post_cell_execute": [
                "import string\n",
                "import random\n",
                "collection = ''.join(random.choice(string.ascii_lowercase) for _ in range(8))\n"
            ]
        }
    },
    "outputs": [],
    "source": [
        "import os\n",
        "from getpass import getpass\n",
        "\n",
        "# Enter your settings for Astra DB and OpenAI:\n",
        "keys = [\"ASTRA_DB_APPLICATION_TOKEN\", \"ASTRA_DB_API_ENDPOINT\", \"OPENAI_API_KEY\"]\n",
        "for key in keys:\n",
        "    if key not in os.environ:\n",
        "        os.environ[key] = getpass(f\"Enter {key}: \")"
    ]
},
{
    "cell_type": "code",
    "execution_count": 5,
    "metadata": {
        "tags": [
            "skip-execution"
        ]
    },
    "outputs": [],
    "source": [
        "# Collections are where documents are stored. ex: test\n",
        "collection = input(\"Collection: \")"
    ]
},
  {
   "cell_type": "markdown",
   "metadata": {},
   "source": [
    "## Create RAG pipeline"
   ]
  },
  {
   "cell_type": "markdown",
   "metadata": {},
   "source": [
    "### Embedding model and vector store"
   ]
  },
  {
   "cell_type": "markdown",
   "metadata": {},
   "source": [
    "Load a sample dataset from Llama Hub into your Astra vector store."
   ]
  },
  {
   "cell_type": "code",
   "execution_count": 26,
   "metadata": {},
   "outputs": [
    {
     "name": "stdout",
     "output_type": "stream",
     "text": [
      "4756.14s - pydevd: Sending message related to process being replaced timed-out after 5 seconds\n"
     ]
    }
   ],
   "source": [
    "from llama_index.llama_dataset import download_llama_dataset\n",
    "\n",
    "!mkdir -p 'data'\n",
    "\n",
    "dataset = download_llama_dataset(\n",
    "  \"PaulGrahamEssayDataset\", \"./data\"\n",
    ")"
   ]
  },
  {
   "cell_type": "markdown",
   "metadata": {},
   "source": [
    "Load the documents from the dataset into memory."
   ]
  },
  {
    "cell_type": "code",
    "execution_count": 10,
    "metadata": {
        "nbmake": {
            "post_cell_execute": [
                "assert len(inserted_ids) > 0"
            ]
        }
    },
    "outputs": [
        {
            "name": "stdout",
            "output_type": "stream",
            "text": [
                "\n",
                "\n"
            ]
        }
    ],
   "source": [
    "from llama_index.vector_stores import AstraDBVectorStore\n",
    "from llama_index import (\n",
    "    VectorStoreIndex,\n",
    "    SimpleDirectoryReader,\n",
    "    StorageContext,\n",
    ")\n",
    "\n",
    "documents = SimpleDirectoryReader(\"./data/source_files\").load_data()\n",
    "print(f\"Total documents: {len(documents)}\")\n",
    "print(f\"First document, id: {documents[0].doc_id}\")\n",
    "print(f\"First document, hash: {documents[0].hash}\")\n",
    "print(\n",
    "    \"First document, text\"\n",
    "    f\" ({len(documents[0].text)} characters):\\n\"\n",
    "    f\"{'=' * 20}\\n\"\n",
    "    f\"{documents[0].text[:360]} ...\"\n",
    ")"
   ]
  },
  {
   "cell_type": "markdown",
   "metadata": {},
   "source": [
    "Create a vector store instance."
   ]
  },
  {
   "cell_type": "code",
   "execution_count": 28,
   "metadata": {},
   "outputs": [
    {
     "ename": "HTTPStatusError",
     "evalue": "Server error '504 Gateway Timeout' for url 'https://2d6b7600-886e-4852-8f9a-1b59508df039-us-east-2.apps.astra.datastax.com/api/json/v1/default_keyspace/test'\nFor more information check: https://developer.mozilla.org/en-US/docs/Web/HTTP/Status/504",
     "output_type": "error",
     "traceback": [
      "\u001b[0;31m---------------------------------------------------------------------------\u001b[0m",
      "\u001b[0;31mHTTPStatusError\u001b[0m                           Traceback (most recent call last)",
      "Cell \u001b[0;32mIn[28], line 10\u001b[0m\n\u001b[1;32m      1\u001b[0m astra_db_store \u001b[38;5;241m=\u001b[39m AstraDBVectorStore(\n\u001b[1;32m      2\u001b[0m     token\u001b[38;5;241m=\u001b[39mos\u001b[38;5;241m.\u001b[39mgetenv(\u001b[38;5;124m\"\u001b[39m\u001b[38;5;124mASTRA_DB_APPLICATION_TOKEN\u001b[39m\u001b[38;5;124m\"\u001b[39m),\n\u001b[1;32m      3\u001b[0m     api_endpoint\u001b[38;5;241m=\u001b[39mos\u001b[38;5;241m.\u001b[39mgetenv(\u001b[38;5;124m\"\u001b[39m\u001b[38;5;124mASTRA_DB_API_ENDPOINT\u001b[39m\u001b[38;5;124m\"\u001b[39m),\n\u001b[1;32m      4\u001b[0m     collection_name\u001b[38;5;241m=\u001b[39m\u001b[38;5;124m\"\u001b[39m\u001b[38;5;124mtest\u001b[39m\u001b[38;5;124m\"\u001b[39m,\n\u001b[1;32m      5\u001b[0m     embedding_dimension\u001b[38;5;241m=\u001b[39m\u001b[38;5;241m1536\u001b[39m,\n\u001b[1;32m      6\u001b[0m )\n\u001b[1;32m      8\u001b[0m storage_context \u001b[38;5;241m=\u001b[39m StorageContext\u001b[38;5;241m.\u001b[39mfrom_defaults(vector_store\u001b[38;5;241m=\u001b[39mastra_db_store)\n\u001b[0;32m---> 10\u001b[0m index \u001b[38;5;241m=\u001b[39m \u001b[43mVectorStoreIndex\u001b[49m\u001b[38;5;241;43m.\u001b[39;49m\u001b[43mfrom_documents\u001b[49m\u001b[43m(\u001b[49m\n\u001b[1;32m     11\u001b[0m \u001b[43m    \u001b[49m\u001b[43mdocuments\u001b[49m\u001b[43m,\u001b[49m\u001b[43m \u001b[49m\u001b[43mstorage_context\u001b[49m\u001b[38;5;241;43m=\u001b[39;49m\u001b[43mstorage_context\u001b[49m\n\u001b[1;32m     12\u001b[0m \u001b[43m)\u001b[49m\n",
      "File \u001b[0;32m~/Documents/GitHub/ragstack-ai/.venv/lib/python3.11/site-packages/llama_index/indices/base.py:112\u001b[0m, in \u001b[0;36mBaseIndex.from_documents\u001b[0;34m(cls, documents, storage_context, service_context, show_progress, **kwargs)\u001b[0m\n\u001b[1;32m    103\u001b[0m     docstore\u001b[38;5;241m.\u001b[39mset_document_hash(doc\u001b[38;5;241m.\u001b[39mget_doc_id(), doc\u001b[38;5;241m.\u001b[39mhash)\n\u001b[1;32m    105\u001b[0m nodes \u001b[38;5;241m=\u001b[39m run_transformations(\n\u001b[1;32m    106\u001b[0m     documents,  \u001b[38;5;66;03m# type: ignore\u001b[39;00m\n\u001b[1;32m    107\u001b[0m     service_context\u001b[38;5;241m.\u001b[39mtransformations,\n\u001b[1;32m    108\u001b[0m     show_progress\u001b[38;5;241m=\u001b[39mshow_progress,\n\u001b[1;32m    109\u001b[0m     \u001b[38;5;241m*\u001b[39m\u001b[38;5;241m*\u001b[39mkwargs,\n\u001b[1;32m    110\u001b[0m )\n\u001b[0;32m--> 112\u001b[0m \u001b[38;5;28;01mreturn\u001b[39;00m \u001b[38;5;28;43mcls\u001b[39;49m\u001b[43m(\u001b[49m\n\u001b[1;32m    113\u001b[0m \u001b[43m    \u001b[49m\u001b[43mnodes\u001b[49m\u001b[38;5;241;43m=\u001b[39;49m\u001b[43mnodes\u001b[49m\u001b[43m,\u001b[49m\n\u001b[1;32m    114\u001b[0m \u001b[43m    \u001b[49m\u001b[43mstorage_context\u001b[49m\u001b[38;5;241;43m=\u001b[39;49m\u001b[43mstorage_context\u001b[49m\u001b[43m,\u001b[49m\n\u001b[1;32m    115\u001b[0m \u001b[43m    \u001b[49m\u001b[43mservice_context\u001b[49m\u001b[38;5;241;43m=\u001b[39;49m\u001b[43mservice_context\u001b[49m\u001b[43m,\u001b[49m\n\u001b[1;32m    116\u001b[0m \u001b[43m    \u001b[49m\u001b[43mshow_progress\u001b[49m\u001b[38;5;241;43m=\u001b[39;49m\u001b[43mshow_progress\u001b[49m\u001b[43m,\u001b[49m\n\u001b[1;32m    117\u001b[0m \u001b[43m    \u001b[49m\u001b[38;5;241;43m*\u001b[39;49m\u001b[38;5;241;43m*\u001b[39;49m\u001b[43mkwargs\u001b[49m\u001b[43m,\u001b[49m\n\u001b[1;32m    118\u001b[0m \u001b[43m\u001b[49m\u001b[43m)\u001b[49m\n",
      "File \u001b[0;32m~/Documents/GitHub/ragstack-ai/.venv/lib/python3.11/site-packages/llama_index/indices/vector_store/base.py:53\u001b[0m, in \u001b[0;36mVectorStoreIndex.__init__\u001b[0;34m(self, nodes, objects, index_struct, service_context, storage_context, use_async, store_nodes_override, insert_batch_size, show_progress, **kwargs)\u001b[0m\n\u001b[1;32m     51\u001b[0m \u001b[38;5;28mself\u001b[39m\u001b[38;5;241m.\u001b[39m_store_nodes_override \u001b[38;5;241m=\u001b[39m store_nodes_override\n\u001b[1;32m     52\u001b[0m \u001b[38;5;28mself\u001b[39m\u001b[38;5;241m.\u001b[39m_insert_batch_size \u001b[38;5;241m=\u001b[39m insert_batch_size\n\u001b[0;32m---> 53\u001b[0m \u001b[38;5;28;43msuper\u001b[39;49m\u001b[43m(\u001b[49m\u001b[43m)\u001b[49m\u001b[38;5;241;43m.\u001b[39;49m\u001b[38;5;21;43m__init__\u001b[39;49m\u001b[43m(\u001b[49m\n\u001b[1;32m     54\u001b[0m \u001b[43m    \u001b[49m\u001b[43mnodes\u001b[49m\u001b[38;5;241;43m=\u001b[39;49m\u001b[43mnodes\u001b[49m\u001b[43m,\u001b[49m\n\u001b[1;32m     55\u001b[0m \u001b[43m    \u001b[49m\u001b[43mindex_struct\u001b[49m\u001b[38;5;241;43m=\u001b[39;49m\u001b[43mindex_struct\u001b[49m\u001b[43m,\u001b[49m\n\u001b[1;32m     56\u001b[0m \u001b[43m    \u001b[49m\u001b[43mservice_context\u001b[49m\u001b[38;5;241;43m=\u001b[39;49m\u001b[43mservice_context\u001b[49m\u001b[43m,\u001b[49m\n\u001b[1;32m     57\u001b[0m \u001b[43m    \u001b[49m\u001b[43mstorage_context\u001b[49m\u001b[38;5;241;43m=\u001b[39;49m\u001b[43mstorage_context\u001b[49m\u001b[43m,\u001b[49m\n\u001b[1;32m     58\u001b[0m \u001b[43m    \u001b[49m\u001b[43mshow_progress\u001b[49m\u001b[38;5;241;43m=\u001b[39;49m\u001b[43mshow_progress\u001b[49m\u001b[43m,\u001b[49m\n\u001b[1;32m     59\u001b[0m \u001b[43m    \u001b[49m\u001b[43mobjects\u001b[49m\u001b[38;5;241;43m=\u001b[39;49m\u001b[43mobjects\u001b[49m\u001b[43m,\u001b[49m\n\u001b[1;32m     60\u001b[0m \u001b[43m    \u001b[49m\u001b[38;5;241;43m*\u001b[39;49m\u001b[38;5;241;43m*\u001b[39;49m\u001b[43mkwargs\u001b[49m\u001b[43m,\u001b[49m\n\u001b[1;32m     61\u001b[0m \u001b[43m\u001b[49m\u001b[43m)\u001b[49m\n",
      "File \u001b[0;32m~/Documents/GitHub/ragstack-ai/.venv/lib/python3.11/site-packages/llama_index/indices/base.py:75\u001b[0m, in \u001b[0;36mBaseIndex.__init__\u001b[0;34m(self, nodes, objects, index_struct, storage_context, service_context, show_progress, **kwargs)\u001b[0m\n\u001b[1;32m     73\u001b[0m \u001b[38;5;28;01mif\u001b[39;00m index_struct \u001b[38;5;129;01mis\u001b[39;00m \u001b[38;5;28;01mNone\u001b[39;00m:\n\u001b[1;32m     74\u001b[0m     nodes \u001b[38;5;241m=\u001b[39m nodes \u001b[38;5;129;01mor\u001b[39;00m []\n\u001b[0;32m---> 75\u001b[0m     index_struct \u001b[38;5;241m=\u001b[39m \u001b[38;5;28;43mself\u001b[39;49m\u001b[38;5;241;43m.\u001b[39;49m\u001b[43mbuild_index_from_nodes\u001b[49m\u001b[43m(\u001b[49m\n\u001b[1;32m     76\u001b[0m \u001b[43m        \u001b[49m\u001b[43mnodes\u001b[49m\u001b[43m \u001b[49m\u001b[38;5;241;43m+\u001b[39;49m\u001b[43m \u001b[49m\u001b[43mobjects\u001b[49m\u001b[43m  \u001b[49m\u001b[38;5;66;43;03m# type: ignore\u001b[39;49;00m\n\u001b[1;32m     77\u001b[0m \u001b[43m    \u001b[49m\u001b[43m)\u001b[49m\n\u001b[1;32m     78\u001b[0m \u001b[38;5;28mself\u001b[39m\u001b[38;5;241m.\u001b[39m_index_struct \u001b[38;5;241m=\u001b[39m index_struct\n\u001b[1;32m     79\u001b[0m \u001b[38;5;28mself\u001b[39m\u001b[38;5;241m.\u001b[39m_storage_context\u001b[38;5;241m.\u001b[39mindex_store\u001b[38;5;241m.\u001b[39madd_index_struct(\u001b[38;5;28mself\u001b[39m\u001b[38;5;241m.\u001b[39m_index_struct)\n",
      "File \u001b[0;32m~/Documents/GitHub/ragstack-ai/.venv/lib/python3.11/site-packages/llama_index/indices/vector_store/base.py:274\u001b[0m, in \u001b[0;36mVectorStoreIndex.build_index_from_nodes\u001b[0;34m(self, nodes, **insert_kwargs)\u001b[0m\n\u001b[1;32m    266\u001b[0m \u001b[38;5;28;01mif\u001b[39;00m \u001b[38;5;28many\u001b[39m(\n\u001b[1;32m    267\u001b[0m     node\u001b[38;5;241m.\u001b[39mget_content(metadata_mode\u001b[38;5;241m=\u001b[39mMetadataMode\u001b[38;5;241m.\u001b[39mEMBED) \u001b[38;5;241m==\u001b[39m \u001b[38;5;124m\"\u001b[39m\u001b[38;5;124m\"\u001b[39m \u001b[38;5;28;01mfor\u001b[39;00m node \u001b[38;5;129;01min\u001b[39;00m nodes\n\u001b[1;32m    268\u001b[0m ):\n\u001b[1;32m    269\u001b[0m     \u001b[38;5;28;01mraise\u001b[39;00m \u001b[38;5;167;01mValueError\u001b[39;00m(\n\u001b[1;32m    270\u001b[0m         \u001b[38;5;124m\"\u001b[39m\u001b[38;5;124mCannot build index from nodes with no content. \u001b[39m\u001b[38;5;124m\"\u001b[39m\n\u001b[1;32m    271\u001b[0m         \u001b[38;5;124m\"\u001b[39m\u001b[38;5;124mPlease ensure all nodes have content.\u001b[39m\u001b[38;5;124m\"\u001b[39m\n\u001b[1;32m    272\u001b[0m     )\n\u001b[0;32m--> 274\u001b[0m \u001b[38;5;28;01mreturn\u001b[39;00m \u001b[38;5;28;43mself\u001b[39;49m\u001b[38;5;241;43m.\u001b[39;49m\u001b[43m_build_index_from_nodes\u001b[49m\u001b[43m(\u001b[49m\u001b[43mnodes\u001b[49m\u001b[43m,\u001b[49m\u001b[43m \u001b[49m\u001b[38;5;241;43m*\u001b[39;49m\u001b[38;5;241;43m*\u001b[39;49m\u001b[43minsert_kwargs\u001b[49m\u001b[43m)\u001b[49m\n",
      "File \u001b[0;32m~/Documents/GitHub/ragstack-ai/.venv/lib/python3.11/site-packages/llama_index/indices/vector_store/base.py:246\u001b[0m, in \u001b[0;36mVectorStoreIndex._build_index_from_nodes\u001b[0;34m(self, nodes, **insert_kwargs)\u001b[0m\n\u001b[1;32m    244\u001b[0m     run_async_tasks(tasks)\n\u001b[1;32m    245\u001b[0m \u001b[38;5;28;01melse\u001b[39;00m:\n\u001b[0;32m--> 246\u001b[0m     \u001b[38;5;28;43mself\u001b[39;49m\u001b[38;5;241;43m.\u001b[39;49m\u001b[43m_add_nodes_to_index\u001b[49m\u001b[43m(\u001b[49m\n\u001b[1;32m    247\u001b[0m \u001b[43m        \u001b[49m\u001b[43mindex_struct\u001b[49m\u001b[43m,\u001b[49m\n\u001b[1;32m    248\u001b[0m \u001b[43m        \u001b[49m\u001b[43mnodes\u001b[49m\u001b[43m,\u001b[49m\n\u001b[1;32m    249\u001b[0m \u001b[43m        \u001b[49m\u001b[43mshow_progress\u001b[49m\u001b[38;5;241;43m=\u001b[39;49m\u001b[38;5;28;43mself\u001b[39;49m\u001b[38;5;241;43m.\u001b[39;49m\u001b[43m_show_progress\u001b[49m\u001b[43m,\u001b[49m\n\u001b[1;32m    250\u001b[0m \u001b[43m        \u001b[49m\u001b[38;5;241;43m*\u001b[39;49m\u001b[38;5;241;43m*\u001b[39;49m\u001b[43minsert_kwargs\u001b[49m\u001b[43m,\u001b[49m\n\u001b[1;32m    251\u001b[0m \u001b[43m    \u001b[49m\u001b[43m)\u001b[49m\n\u001b[1;32m    252\u001b[0m \u001b[38;5;28;01mreturn\u001b[39;00m index_struct\n",
      "File \u001b[0;32m~/Documents/GitHub/ragstack-ai/.venv/lib/python3.11/site-packages/llama_index/indices/vector_store/base.py:200\u001b[0m, in \u001b[0;36mVectorStoreIndex._add_nodes_to_index\u001b[0;34m(self, index_struct, nodes, show_progress, **insert_kwargs)\u001b[0m\n\u001b[1;32m    198\u001b[0m \u001b[38;5;28;01mfor\u001b[39;00m nodes_batch \u001b[38;5;129;01min\u001b[39;00m iter_batch(nodes, \u001b[38;5;28mself\u001b[39m\u001b[38;5;241m.\u001b[39m_insert_batch_size):\n\u001b[1;32m    199\u001b[0m     nodes_batch \u001b[38;5;241m=\u001b[39m \u001b[38;5;28mself\u001b[39m\u001b[38;5;241m.\u001b[39m_get_node_with_embedding(nodes_batch, show_progress)\n\u001b[0;32m--> 200\u001b[0m     new_ids \u001b[38;5;241m=\u001b[39m \u001b[38;5;28;43mself\u001b[39;49m\u001b[38;5;241;43m.\u001b[39;49m\u001b[43m_vector_store\u001b[49m\u001b[38;5;241;43m.\u001b[39;49m\u001b[43madd\u001b[49m\u001b[43m(\u001b[49m\u001b[43mnodes_batch\u001b[49m\u001b[43m,\u001b[49m\u001b[43m \u001b[49m\u001b[38;5;241;43m*\u001b[39;49m\u001b[38;5;241;43m*\u001b[39;49m\u001b[43minsert_kwargs\u001b[49m\u001b[43m)\u001b[49m\n\u001b[1;32m    202\u001b[0m     \u001b[38;5;28;01mif\u001b[39;00m \u001b[38;5;129;01mnot\u001b[39;00m \u001b[38;5;28mself\u001b[39m\u001b[38;5;241m.\u001b[39m_vector_store\u001b[38;5;241m.\u001b[39mstores_text \u001b[38;5;129;01mor\u001b[39;00m \u001b[38;5;28mself\u001b[39m\u001b[38;5;241m.\u001b[39m_store_nodes_override:\n\u001b[1;32m    203\u001b[0m         \u001b[38;5;66;03m# NOTE: if the vector store doesn't store text,\u001b[39;00m\n\u001b[1;32m    204\u001b[0m         \u001b[38;5;66;03m# we need to add the nodes to the index struct and document store\u001b[39;00m\n\u001b[1;32m    205\u001b[0m         \u001b[38;5;28;01mfor\u001b[39;00m node, new_id \u001b[38;5;129;01min\u001b[39;00m \u001b[38;5;28mzip\u001b[39m(nodes_batch, new_ids):\n\u001b[1;32m    206\u001b[0m             \u001b[38;5;66;03m# NOTE: remove embedding from node to avoid duplication\u001b[39;00m\n",
      "File \u001b[0;32m~/Documents/GitHub/ragstack-ai/.venv/lib/python3.11/site-packages/llama_index/vector_stores/astra.py:147\u001b[0m, in \u001b[0;36mAstraDBVectorStore.add\u001b[0;34m(self, nodes, **add_kwargs)\u001b[0m\n\u001b[1;32m    144\u001b[0m     _logger\u001b[38;5;241m.\u001b[39mdebug(\u001b[38;5;124mf\u001b[39m\u001b[38;5;124m\"\u001b[39m\u001b[38;5;124mProcessing batch #\u001b[39m\u001b[38;5;132;01m{\u001b[39;00mi\u001b[38;5;250m \u001b[39m\u001b[38;5;241m+\u001b[39m\u001b[38;5;250m \u001b[39m\u001b[38;5;241m1\u001b[39m\u001b[38;5;132;01m}\u001b[39;00m\u001b[38;5;124m of size \u001b[39m\u001b[38;5;132;01m{\u001b[39;00m\u001b[38;5;28mlen\u001b[39m(batch)\u001b[38;5;132;01m}\u001b[39;00m\u001b[38;5;124m\"\u001b[39m)\n\u001b[1;32m    146\u001b[0m     \u001b[38;5;66;03m# Go to astrapy to perform the bulk insert\u001b[39;00m\n\u001b[0;32m--> 147\u001b[0m     \u001b[38;5;28;43mself\u001b[39;49m\u001b[38;5;241;43m.\u001b[39;49m\u001b[43m_astra_db_collection\u001b[49m\u001b[38;5;241;43m.\u001b[39;49m\u001b[43minsert_many\u001b[49m\u001b[43m(\u001b[49m\u001b[43mbatch\u001b[49m\u001b[43m)\u001b[49m\n\u001b[1;32m    149\u001b[0m \u001b[38;5;66;03m# Return the list of ids\u001b[39;00m\n\u001b[1;32m    150\u001b[0m \u001b[38;5;28;01mreturn\u001b[39;00m [\u001b[38;5;28mstr\u001b[39m(n[\u001b[38;5;124m\"\u001b[39m\u001b[38;5;124m_id\u001b[39m\u001b[38;5;124m\"\u001b[39m]) \u001b[38;5;28;01mfor\u001b[39;00m n \u001b[38;5;129;01min\u001b[39;00m nodes_list]\n",
      "File \u001b[0;32m~/Documents/GitHub/ragstack-ai/.venv/lib/python3.11/site-packages/astrapy/db.py:689\u001b[0m, in \u001b[0;36mAstraDBCollection.insert_many\u001b[0;34m(self, documents, options, partial_failures_allowed)\u001b[0m\n\u001b[1;32m    684\u001b[0m json_query \u001b[38;5;241m=\u001b[39m make_payload(\n\u001b[1;32m    685\u001b[0m     top_level\u001b[38;5;241m=\u001b[39m\u001b[38;5;124m\"\u001b[39m\u001b[38;5;124minsertMany\u001b[39m\u001b[38;5;124m\"\u001b[39m, documents\u001b[38;5;241m=\u001b[39mdocuments, options\u001b[38;5;241m=\u001b[39moptions\n\u001b[1;32m    686\u001b[0m )\n\u001b[1;32m    688\u001b[0m \u001b[38;5;66;03m# Send the data\u001b[39;00m\n\u001b[0;32m--> 689\u001b[0m response \u001b[38;5;241m=\u001b[39m \u001b[38;5;28;43mself\u001b[39;49m\u001b[38;5;241;43m.\u001b[39;49m\u001b[43m_request\u001b[49m\u001b[43m(\u001b[49m\n\u001b[1;32m    690\u001b[0m \u001b[43m    \u001b[49m\u001b[43mmethod\u001b[49m\u001b[38;5;241;43m=\u001b[39;49m\u001b[43mhttp_methods\u001b[49m\u001b[38;5;241;43m.\u001b[39;49m\u001b[43mPOST\u001b[49m\u001b[43m,\u001b[49m\n\u001b[1;32m    691\u001b[0m \u001b[43m    \u001b[49m\u001b[43mpath\u001b[49m\u001b[38;5;241;43m=\u001b[39;49m\u001b[38;5;124;43mf\u001b[39;49m\u001b[38;5;124;43m\"\u001b[39;49m\u001b[38;5;132;43;01m{\u001b[39;49;00m\u001b[38;5;28;43mself\u001b[39;49m\u001b[38;5;241;43m.\u001b[39;49m\u001b[43mbase_path\u001b[49m\u001b[38;5;132;43;01m}\u001b[39;49;00m\u001b[38;5;124;43m\"\u001b[39;49m\u001b[43m,\u001b[49m\n\u001b[1;32m    692\u001b[0m \u001b[43m    \u001b[49m\u001b[43mjson_data\u001b[49m\u001b[38;5;241;43m=\u001b[39;49m\u001b[43mjson_query\u001b[49m\u001b[43m,\u001b[49m\n\u001b[1;32m    693\u001b[0m \u001b[43m    \u001b[49m\u001b[43mskip_error_check\u001b[49m\u001b[38;5;241;43m=\u001b[39;49m\u001b[43mpartial_failures_allowed\u001b[49m\u001b[43m,\u001b[49m\n\u001b[1;32m    694\u001b[0m \u001b[43m\u001b[49m\u001b[43m)\u001b[49m\n\u001b[1;32m    696\u001b[0m \u001b[38;5;28;01mreturn\u001b[39;00m response\n",
      "File \u001b[0;32m~/Documents/GitHub/ragstack-ai/.venv/lib/python3.11/site-packages/astrapy/db.py:130\u001b[0m, in \u001b[0;36mAstraDBCollection._request\u001b[0;34m(self, method, path, json_data, url_params, skip_error_check, **kwargs)\u001b[0m\n\u001b[1;32m    108\u001b[0m \u001b[38;5;28;01mdef\u001b[39;00m \u001b[38;5;21m_request\u001b[39m(\n\u001b[1;32m    109\u001b[0m     \u001b[38;5;28mself\u001b[39m,\n\u001b[1;32m    110\u001b[0m     method: \u001b[38;5;28mstr\u001b[39m \u001b[38;5;241m=\u001b[39m http_methods\u001b[38;5;241m.\u001b[39mPOST,\n\u001b[0;32m   (...)\u001b[0m\n\u001b[1;32m    115\u001b[0m     \u001b[38;5;241m*\u001b[39m\u001b[38;5;241m*\u001b[39mkwargs: Any,\n\u001b[1;32m    116\u001b[0m ) \u001b[38;5;241m-\u001b[39m\u001b[38;5;241m>\u001b[39m API_RESPONSE:\n\u001b[1;32m    117\u001b[0m     request_handler \u001b[38;5;241m=\u001b[39m APIRequestHandler(\n\u001b[1;32m    118\u001b[0m         client\u001b[38;5;241m=\u001b[39m\u001b[38;5;28mself\u001b[39m\u001b[38;5;241m.\u001b[39mclient,\n\u001b[1;32m    119\u001b[0m         base_url\u001b[38;5;241m=\u001b[39m\u001b[38;5;28mself\u001b[39m\u001b[38;5;241m.\u001b[39mastra_db\u001b[38;5;241m.\u001b[39mbase_url,\n\u001b[0;32m   (...)\u001b[0m\n\u001b[1;32m    127\u001b[0m         \u001b[38;5;241m*\u001b[39m\u001b[38;5;241m*\u001b[39mkwargs,\n\u001b[1;32m    128\u001b[0m     )\n\u001b[0;32m--> 130\u001b[0m     direct_response \u001b[38;5;241m=\u001b[39m \u001b[43mrequest_handler\u001b[49m\u001b[38;5;241;43m.\u001b[39;49m\u001b[43mrequest\u001b[49m\u001b[43m(\u001b[49m\u001b[43m)\u001b[49m\n\u001b[1;32m    131\u001b[0m     response \u001b[38;5;241m=\u001b[39m restore_from_api(direct_response)\n\u001b[1;32m    133\u001b[0m     \u001b[38;5;28;01mreturn\u001b[39;00m response\n",
      "File \u001b[0;32m~/Documents/GitHub/ragstack-ai/.venv/lib/python3.11/site-packages/astrapy/api.py:65\u001b[0m, in \u001b[0;36mAPIRequestHandler.request\u001b[0;34m(self)\u001b[0m\n\u001b[1;32m     62\u001b[0m \u001b[38;5;28mself\u001b[39m\u001b[38;5;241m.\u001b[39mresponse \u001b[38;5;241m=\u001b[39m \u001b[38;5;28mself\u001b[39m\u001b[38;5;241m.\u001b[39mraw_request()\n\u001b[1;32m     64\u001b[0m \u001b[38;5;66;03m# If the response was not successful (non-success error code) raise an error directly\u001b[39;00m\n\u001b[0;32m---> 65\u001b[0m \u001b[38;5;28;43mself\u001b[39;49m\u001b[38;5;241;43m.\u001b[39;49m\u001b[43mresponse\u001b[49m\u001b[38;5;241;43m.\u001b[39;49m\u001b[43mraise_for_status\u001b[49m\u001b[43m(\u001b[49m\u001b[43m)\u001b[49m\n\u001b[1;32m     67\u001b[0m \u001b[38;5;66;03m# Otherwise, process the successful response\u001b[39;00m\n\u001b[1;32m     68\u001b[0m \u001b[38;5;28;01mreturn\u001b[39;00m \u001b[38;5;28mself\u001b[39m\u001b[38;5;241m.\u001b[39m_process_response()\n",
      "File \u001b[0;32m~/Documents/GitHub/ragstack-ai/.venv/lib/python3.11/site-packages/httpx/_models.py:758\u001b[0m, in \u001b[0;36mResponse.raise_for_status\u001b[0;34m(self)\u001b[0m\n\u001b[1;32m    756\u001b[0m error_type \u001b[38;5;241m=\u001b[39m error_types\u001b[38;5;241m.\u001b[39mget(status_class, \u001b[38;5;124m\"\u001b[39m\u001b[38;5;124mInvalid status code\u001b[39m\u001b[38;5;124m\"\u001b[39m)\n\u001b[1;32m    757\u001b[0m message \u001b[38;5;241m=\u001b[39m message\u001b[38;5;241m.\u001b[39mformat(\u001b[38;5;28mself\u001b[39m, error_type\u001b[38;5;241m=\u001b[39merror_type)\n\u001b[0;32m--> 758\u001b[0m \u001b[38;5;28;01mraise\u001b[39;00m HTTPStatusError(message, request\u001b[38;5;241m=\u001b[39mrequest, response\u001b[38;5;241m=\u001b[39m\u001b[38;5;28mself\u001b[39m)\n",
      "\u001b[0;31mHTTPStatusError\u001b[0m: Server error '504 Gateway Timeout' for url 'https://2d6b7600-886e-4852-8f9a-1b59508df039-us-east-2.apps.astra.datastax.com/api/json/v1/default_keyspace/test'\nFor more information check: https://developer.mozilla.org/en-US/docs/Web/HTTP/Status/504"
     ]
    }
   ],
   "source": [
    "from llama_index.vector_stores import AstraDBVectorStore\n",
    "\n",
    "astra_db_store = AstraDBVectorStore(\n",
    "    token=os.getenv(\"ASTRA_DB_APPLICATION_TOKEN\"),\n",
    "    api_endpoint=os.getenv(\"ASTRA_DB_API_ENDPOINT\"),\n",
    "    collection_name=\"test\",\n",
    "    embedding_dimension=1536,\n",
    ")\n",
    "\n",
    "storage_context = StorageContext.from_defaults(vector_store=astra_db_store)\n",
    "\n",
    "index = VectorStoreIndex.from_documents(\n",
    "    documents, storage_context=storage_context\n",
    ")"
   ]
  },
  {
   "cell_type": "markdown",
   "metadata": {},
   "source": [
    "### Query\n",
    "\n",
    "Query the index for the most relevant answer to your prompt, \"Why did the author choose to work on AI?\""
   ]
  },
  {
   "cell_type": "code",
   "execution_count": null,
   "metadata": {},
   "outputs": [],
   "source": [
    "query_engine = index.as_query_engine()\n",
    "query_string_1 = \"Why did the author choose to work on AI?\"\n",
    "response = query_engine.query(query_string_1)\n",
    "\n",
    "print(query_string_1)\n",
    "print(response.response)"
   ]
  },
  {
   "cell_type": "markdown",
   "metadata": {},
   "source": [
    "Use a retriever to retrieve results from your vector store index based on your prompt.\n",
    "\n",
    "This will retrieve three nodes based on your prompt, and return the nodes with their relevance scores."
   ]
  },
  {
   "cell_type": "code",
   "execution_count": null,
   "metadata": {},
   "outputs": [],
   "source": [
    "retriever = index.as_retriever(\n",
    "    vector_store_query_mode=\"default\",\n",
    "    similarity_top_k=3,\n",
    ")\n",
    "\n",
    "nodes_with_scores = retriever.retrieve(query_string_1)\n",
    "\n",
    "print(query_string_1)\n",
    "print(f\"Found {len(nodes_with_scores)} nodes.\")\n",
    "for idx, node_with_score in enumerate(nodes_with_scores):\n",
    "    print(f\"    [{idx}] score = {node_with_score.score}\")\n",
    "    print(f\"        id    = {node_with_score.node.node_id}\")\n",
    "    print(f\"        text  = {node_with_score.node.text[:90]} ...\")"
   ]
  },
  {
   "cell_type": "markdown",
   "metadata": {},
   "source": [
    "### MMR\n",
    "\n",
    "Set the retriever to sort results by Maximal Marginal Relevance, or MMR, instead of the default similarity search.\n",
    "\n",
    "Send the prompt again. The top result is the most relevant (positive number), while the other results are the least relevant (negative numbers)."
   ]
  },
  {
   "cell_type": "code",
   "execution_count": null,
   "metadata": {},
   "outputs": [],
   "source": [
    "retriever = index.as_retriever(\n",
    "    vector_store_query_mode=\"mmr\",\n",
    "    similarity_top_k=3,\n",
    "    vector_store_kwargs={\"mmr_prefetch_factor\": 4},\n",
    ")\n",
    "\n",
    "nodes_with_scores = retriever.retrieve(query_string_1)\n",
    "\n",
    "print(query_string_1)\n",
    "print(f\"Found {len(nodes_with_scores)} nodes.\")\n",
    "for idx, node_with_score in enumerate(nodes_with_scores):\n",
    "    print(f\"    [{idx}] score = {node_with_score.score}\")\n",
    "    print(f\"        id    = {node_with_score.node.node_id}\")\n",
    "    print(f\"        text  = {node_with_score.node.text[:90]} ...\")"
   ]
  }
 ],
 "metadata": {
  "kernelspec": {
   "display_name": "Python 3",
   "language": "python",
   "name": "python3"
  },
  "language_info": {
   "codemirror_mode": {
    "name": "ipython",
    "version": 3
   },
   "file_extension": ".py",
   "mimetype": "text/x-python",
   "name": "python",
   "nbconvert_exporter": "python",
   "pygments_lexer": "ipython3",
   "version": "3.11.6"
  }
 },
 "nbformat": 4,
 "nbformat_minor": 2
}
