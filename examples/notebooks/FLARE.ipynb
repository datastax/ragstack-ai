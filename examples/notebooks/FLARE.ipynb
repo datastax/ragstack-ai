{
 "cells": [
  {
   "cell_type": "markdown",
   "metadata": {},
   "source": [
    "<a href=\"https://colab.research.google.com/github/datastax/ragstack-ai/blob/main/examples/notebooks/FLARE.ipynb\" target=\"_parent\"><img src=\"https://colab.research.google.com/assets/colab-badge.svg\" alt=\"Open In Colab\"/></a>"
   ]
  },
  {
   "cell_type": "markdown",
   "metadata": {},
   "source": [
    "# Forward-Looking Augmented REtrieval (FLARE)\n",
    "\n",
    "FLARE is an advanced retrieval technique that combines retrieval and generation in LLMs. It enhances the accuracy of responses by iteratively predicting the upcoming sentence to anticipate future content when the model encounters a token it is uncertain about. See the [original repository](https://github.com/jzbjyb/FLARE/tree/main) for more detail. \n",
    "\n",
    "The basic workflow is: \n",
    "1. Send a query\n",
    "2. The model generates tokens while iteratively predicting the upcoming sentence\n",
    "3. If the model sees a token with a low confidence level, it uses the predicted sentence as a query to retrieve new, relevant documents\n",
    "4. The upcoming sentence is regenerated using the retrieved documents\n",
    "5. Repeat 2-4 until the response is complete\n",
    "\n",
    "In this tutorial, you will use an Astra DB vector store, an OpenAI embedding model, an OpenAI LLM, and LangChain to orchestrate FLARE in a RAG pipeline. "
   ]
  },
  {
   "cell_type": "markdown",
   "metadata": {},
   "source": [
    "## Prerequisites\n",
    "\n",
    "You will need a vector-enabled Astra database and an OpenAI Account.\n",
    "\n",
    "* Create an [Astra vector database](https://docs.datastax.com/en/astra-serverless/docs/getting-started/create-db-choices.html).\n",
    "* Create an [OpenAI account](https://openai.com/)\n",
    "* Within your database, create an [Astra DB Access Token](https://docs.datastax.com/en/astra-serverless/docs/manage/org/manage-tokens.html) with Database Administrator permissions.\n",
    "* Get your Astra DB Endpoint: \n",
    "  * `https://<ASTRA_DB_ID>-<ASTRA_DB_REGION>.apps.astra.datastax.com`\n",
    "\n",
    "See the [Prerequisites](https://docs.datastax.com/en/ragstack/docs/prerequisites.html) page for more details."
   ]
  },
  {
   "cell_type": "markdown",
   "metadata": {},
   "source": [
    "## Setup\n",
    "`ragstack-ai` includes all the packages you need to build a RAG pipeline. "
   ]
  },
  {
   "cell_type": "code",
   "execution_count": null,
   "metadata": {},
   "outputs": [],
   "source": [
    "! pip install ragstack-ai"
   ]
  },
  {
   "cell_type": "code",
   "execution_count": 3,
   "metadata": {
    "editable": true,
    "nbmake": {
     "post_cell_execute": [
      "import string\n",
      "import random\n",
      "collection = ''.join(random.choice(string.ascii_lowercase) for _ in range(8))\n"
     ]
    },
    "slideshow": {
     "slide_type": ""
    },
    "tags": [
     "skip-execution"
    ]
   },
   "outputs": [],
   "source": [
    "import os\n",
    "from getpass import getpass\n",
    "\n",
    "# Enter your settings for Astra DB and OpenAI:\n",
    "os.environ[\"ASTRA_DB_ENDPOINT\"] = input(\"Enter your Astra DB API Endpoint: \")\n",
    "os.environ[\"ASTRA_DB_TOKEN\"] = getpass(\"Enter your Astra DB Token: \")\n",
    "os.environ[\"OPEN_AI_KEY\"] = getpass(\"Enter your OpenAI API Key: \")"
   ]
  },
  {
   "cell_type": "code",
   "execution_count": 4,
   "metadata": {
    "editable": true,
    "slideshow": {
     "slide_type": ""
    },
    "tags": []
   },
   "outputs": [],
   "source": [
    "# The Collection is where documents are stored. ex: test\n",
    "collection = \"flare\""
   ]
  },
  {
   "cell_type": "markdown",
   "metadata": {},
   "source": [
    "## Create RAG Pipeline"
   ]
  },
  {
   "cell_type": "markdown",
   "metadata": {},
   "source": [
    "### Embedding Model and Vector Store"
   ]
  },
  {
   "cell_type": "code",
   "execution_count": 5,
   "metadata": {
    "editable": true,
    "slideshow": {
     "slide_type": ""
    },
    "tags": []
   },
   "outputs": [
    {
     "name": "stdout",
     "output_type": "stream",
     "text": [
      "Astra vector store configured\n"
     ]
    }
   ],
   "source": [
    "from langchain.vectorstores.astradb import AstraDB\n",
    "from langchain.embeddings import OpenAIEmbeddings\n",
    "import os\n",
    "\n",
    "# Configure your embedding model and vector store\n",
    "embedding = OpenAIEmbeddings()\n",
    "vstore = AstraDB(\n",
    "    collection_name=collection,\n",
    "    embedding=embedding,\n",
    "    token=os.environ[\"ASTRA_DB_TOKEN\"],\n",
    "    api_endpoint=os.environ[\"ASTRA_DB_ENDPOINT\"],\n",
    ")\n",
    "print(\"Astra vector store configured\")"
   ]
  },
  {
   "cell_type": "code",
   "execution_count": 6,
   "metadata": {},
   "outputs": [
    {
     "name": "stdout",
     "output_type": "stream",
     "text": [
      "  % Total    % Received % Xferd  Average Speed   Time    Time     Time  Current\n",
      "                                 Dload  Upload   Total   Spent    Left  Speed\n",
      "100 13022  100 13022    0     0  54469      0 --:--:-- --:--:-- --:--:-- 63213\n"
     ]
    }
   ],
   "source": [
    "# Retrieve the text of a short story that will be indexed in the vector store\n",
    "! curl https://raw.githubusercontent.com/CassioML/cassio-website/main/docs/frameworks/langchain/texts/amontillado.txt --output amontillado.txt\n",
    "input = \"amontillado.txt\""
   ]
  },
  {
   "cell_type": "code",
   "execution_count": 7,
   "metadata": {},
   "outputs": [],
   "source": [
    "from langchain.document_loaders import TextLoader\n",
    "\n",
    "# Load your input and split it into documents\n",
    "loader = TextLoader(input)\n",
    "documents = loader.load_and_split()"
   ]
  },
  {
   "cell_type": "code",
   "execution_count": 8,
   "metadata": {},
   "outputs": [
    {
     "name": "stdout",
     "output_type": "stream",
     "text": [
      "\n",
      "Inserted 4 documents.\n"
     ]
    }
   ],
   "source": [
    "# Create embeddings by inserting your documents into the vector store.\n",
    "inserted_ids = vstore.add_documents(documents)\n",
    "print(f\"\\nInserted {len(inserted_ids)} documents.\")"
   ]
  },
  {
   "cell_type": "code",
   "execution_count": null,
   "metadata": {},
   "outputs": [],
   "source": [
    "# Checks your collection to verify the documents are embedded.\n",
    "print(vstore.astra_db.collection(collection).find())"
   ]
  },
  {
   "cell_type": "markdown",
   "metadata": {},
   "source": [
    "### FLARE Chain\n",
    "\n",
    "Using LangChain's FLARE chain with verbose on, we can see exactly what is happening under the hood."
   ]
  },
  {
   "cell_type": "code",
   "execution_count": 9,
   "metadata": {},
   "outputs": [],
   "source": [
    "from langchain.globals import set_verbose\n",
    "\n",
    "set_verbose(True)"
   ]
  },
  {
   "cell_type": "code",
   "execution_count": 10,
   "metadata": {},
   "outputs": [],
   "source": [
    "from langchain.chat_models import ChatOpenAI\n",
    "from langchain.chains import FlareChain\n",
    "\n",
    "retriever = vstore.as_retriever()\n",
    "\n",
    "flare = FlareChain.from_llm(\n",
    "    # Note that FlareChain currently uses an internal gpt-3.5-turbo model that cannot be changed, so token limits are 4097.\n",
    "    # https://github.com/langchain-ai/langchain/issues/10493\n",
    "    llm=ChatOpenAI(temperature=0),\n",
    "    retriever=retriever,\n",
    "    max_generation_len=128,\n",
    "    min_prob=0.2,\n",
    ")"
   ]
  },
  {
   "cell_type": "code",
   "execution_count": 11,
   "metadata": {},
   "outputs": [
    {
     "name": "stdout",
     "output_type": "stream",
     "text": [
      "\n",
      "\n",
      "\u001b[1m> Entering new FlareChain chain...\u001b[0m\n",
      "\u001b[36;1m\u001b[1;3mCurrent Response: \u001b[0m\n",
      "Prompt after formatting:\n",
      "\u001b[32;1m\u001b[1;3mRespond to the user message using any relevant context. If context is provided, you should ground your answer in that context. Once you're done responding return FINISHED.\n",
      "\n",
      ">>> CONTEXT: \n",
      ">>> USER INPUT: Who is Luchesi in relation to Antonio?\n",
      ">>> RESPONSE: \u001b[0m\n",
      "\n",
      "\n",
      "\u001b[1m> Entering new QuestionGeneratorChain chain...\u001b[0m\n",
      "Prompt after formatting:\n",
      "\u001b[32;1m\u001b[1;3mGiven a user input and an existing partial response as context, ask a question to which the answer is the given term/entity/phrase:\n",
      "\n",
      ">>> USER INPUT: Who is Luchesi in relation to Antonio?\n",
      ">>> EXISTING PARTIAL RESPONSE:  \n",
      "Luchesi is a rival of Antonio's. He is a wealthy merchant who is jealous of Antonio's success. FINISHED\n",
      "\n",
      "The question to which the answer is the term/entity/phrase \" jealous of Antonio\" is:\u001b[0m\n",
      "\n",
      "\u001b[1m> Finished chain.\u001b[0m\n",
      "\u001b[33;1m\u001b[1;3mGenerated Questions: ['Why is Luchesi considered a rival of Antonio?']\u001b[0m\n",
      "\n",
      "\n",
      "\u001b[1m> Entering new _OpenAIResponseChain chain...\u001b[0m\n",
      "Prompt after formatting:\n",
      "\u001b[32;1m\u001b[1;3mRespond to the user message using any relevant context. If context is provided, you should ground your answer in that context. Once you're done responding return FINISHED.\n",
      "\n",
      ">>> CONTEXT: The thousand injuries of Fortunato I had borne as I best could, but\n",
      "when he ventured upon insult, I vowed revenge.  You, who so well know\n",
      "the nature of my soul, will not suppose, however, that I gave utterance\n",
      "to a threat.  _At length_ I would be avenged; this was a point definitely\n",
      "settled--but the very definitiveness with which it was resolved,\n",
      "precluded the idea of risk.  I must not only punish, but punish with\n",
      "impunity.  A wrong is unredressed when retribution overtakes its\n",
      "redresser.  It is equally unredressed when the avenger fails to make\n",
      "himself felt as such to him who has done the wrong.\n",
      "\n",
      "It must be understood that neither by word nor deed had I given\n",
      "Fortunato cause to doubt my good will.  I continued, as was my wont, to\n",
      "smile in his face, and he did not perceive that my smile _now_ was at\n",
      "the thought of his immolation.\n",
      "\n",
      "He had a weak point--this Fortunato--although in other regards he was a\n",
      "man to be respected and even feared.  He prided himself on his\n",
      "connoisseurship in wine.  Few Italians have the true virtuoso spirit.\n",
      "For the most part their enthusiasm is adopted to suit the time and\n",
      "opportunity--to practise imposture upon the British and Austrian\n",
      "_millionaires_.  In painting and gemmary, Fortunato, like his countrymen,\n",
      "was a quack--but in the matter of old wines he was sincere.  In this\n",
      "respect I did not differ from him materially: I was skillful in the\n",
      "Italian vintages myself, and bought largely whenever I could.\n",
      "\n",
      "It was about dusk, one evening during the supreme madness of the\n",
      "carnival season, that I encountered my friend.  He accosted me with\n",
      "excessive warmth, for he had been drinking much.  The man wore motley.\n",
      "He had on a tight-fitting parti-striped dress, and his head was\n",
      "surmounted by the conical cap and bells.  I was so pleased to see him,\n",
      "that I thought I should never have done wringing his hand.\n",
      "\n",
      "I said to him--\"My dear Fortunato, you are luckily met.  How remarkably\n",
      "well you are looking to-day!  But I have received a pipe of what passes\n",
      "for Amontillado, and I have my doubts.\"\n",
      "\n",
      "\"How?\" said he.  \"Amontillado?  A pipe?  Impossible!  And in the middle\n",
      "of the carnival!\"\n",
      "\n",
      "\"I have my doubts,\" I replied; \"and I was silly enough to pay the full\n",
      "Amontillado price without consulting you in the matter. You were not to\n",
      "be found, and I was fearful of losing a bargain.\"\n",
      "\n",
      "\"Amontillado!\"\n",
      "\n",
      "\"I have my doubts.\"\n",
      "\n",
      "\"Amontillado!\"\n",
      "\n",
      "\"And I must satisfy them.\"\n",
      "\n",
      "\"Amontillado!\"\n",
      "\n",
      "\"As you are engaged, I am on my way to Luchesi.  If any one has a\n",
      "critical turn, it is he.  He will tell me--\"\n",
      "\n",
      "\"Luchesi cannot tell Amontillado from Sherry.\"\n",
      "\n",
      "\"And yet some fools will have it that his taste is a match for your\n",
      "own.\"\n",
      "\n",
      "\"Come, let us go.\"\n",
      "\n",
      "\"Whither?\"\n",
      "\n",
      "\"To your vaults.\"\n",
      "\n",
      "\"My friend, no; I will not impose upon your good nature.  I perceive\n",
      "you have an engagement.  Luchesi--\"\n",
      "\n",
      "\"I have no engagement;--come.\"\n",
      "\n",
      "\"My friend, no.  It is not the engagement, but the severe cold with\n",
      "which I perceive you are afflicted.  The vaults are insufferably damp.\n",
      "They are encrusted with nitre.\"\n",
      "\n",
      "\"Let us go, nevertheless.  The cold is merely nothing. Amontillado!\n",
      "You have been imposed upon.  And as for Luchesi, he cannot distinguish\n",
      "Sherry from Amontillado.\"\n",
      "\n",
      "Thus speaking, Fortunato possessed himself of my arm. Putting on a mask\n",
      "of black silk, and drawing a _roquelaire_ closely about my person, I\n",
      "suffered him to hurry me to my palazzo.\n",
      "\n",
      "There were no attendants at home; they had absconded to make merry in\n",
      "honour of the time.  I had told them that I should not return until the\n",
      "morning, and had given them explicit orders not to stir from the house.\n",
      "These orders were sufficient, I well knew, to insure their immediate\n",
      "disappearance, one and all, as soon as my back was turned.\n",
      "\n",
      "It was now midnight, and my task was drawing to a close.  I had\n",
      "completed the eighth, the ninth, and the tenth tier.  I had finished a\n",
      "portion of the last and the eleventh; there remained but a single stone\n",
      "to be fitted and plastered in.  I struggled with its weight; I placed\n",
      "it partially in its destined position.  But now there came from out the\n",
      "niche a low laugh that erected the hairs upon my head.  It was\n",
      "succeeded by a sad voice, which I had difficulty in recognizing as that\n",
      "of the noble Fortunato.  The voice said--\n",
      "\n",
      "\"Ha! ha! ha!--he! he! he!--a very good joke indeed--an excellent jest.\n",
      "We shall have many a rich laugh about it at the palazzo--he! he!\n",
      "he!--over our wine--he! he! he!\"\n",
      "\n",
      "\"The Amontillado!\" I said.\n",
      "\n",
      "\"He! he! he!--he! he! he!--yes, the Amontillado.  But is it not getting\n",
      "late?  Will not they be awaiting us at the palazzo, the Lady Fortunato\n",
      "and the rest?  Let us be gone.\"\n",
      "\n",
      "\"Yes,\" I said, \"let us be gone.\"\n",
      "\n",
      "\"_For the love of God, Montresor!_\"\n",
      "\n",
      "\"Yes,\" I said, \"for the love of God!\"\n",
      "\n",
      "But to these words I hearkened in vain for a reply.  I grew impatient.\n",
      "I called aloud--\n",
      "\n",
      "\"Fortunato!\"\n",
      "\n",
      "No answer.  I called again--\n",
      "\n",
      "\"Fortunato--\"\n",
      "\n",
      "No answer still.  I thrust a torch through the remaining aperture and\n",
      "let it fall within.  There came forth in reply only a jingling of the\n",
      "bells.  My heart grew sick on account of the dampness of the catacombs.\n",
      "I hastened to make an end of my labour.  I forced the last stone into\n",
      "its position; I plastered it up.  Against the new masonry I re-erected\n",
      "the old rampart of bones.  For the half of a century no mortal has\n",
      "disturbed them.  _In pace requiescat!_\n",
      "\n",
      "I took from their sconces two flambeaux, and giving one to Fortunato,\n",
      "bowed him through several suites of rooms to the archway that led into\n",
      "the vaults.  I passed down a long and winding staircase, requesting him\n",
      "to be cautious as he followed. We came at length to the foot of the\n",
      "descent, and stood together on the damp ground of the catacombs of the\n",
      "Montresors.\n",
      "\n",
      "The gait of my friend was unsteady, and the bells upon his cap jingled\n",
      "as he strode.\n",
      "\n",
      "\"The pipe,\" said he.\n",
      "\n",
      "\"It is farther on,\" said I; \"but observe the white web-work which\n",
      "gleams from these cavern walls.\"\n",
      "\n",
      "He turned towards me, and looked into my eyes with two filmy orbs that\n",
      "distilled the rheum of intoxication.\n",
      "\n",
      "\"Nitre?\" he asked, at length.\n",
      "\n",
      "\"Nitre,\" I replied.  \"How long have you had that cough?\"\n",
      "\n",
      "\"Ugh! ugh! ugh!--ugh! ugh! ugh!--ugh! ugh! ugh!--ugh! ugh! ugh!--ugh!\n",
      "ugh! ugh!\"\n",
      "\n",
      "My poor friend found it impossible to reply for many minutes.\n",
      "\n",
      "\"It is nothing,\" he said, at last.\n",
      "\n",
      "\"Come,\" I said, with decision, \"we will go back; your health is\n",
      "precious.  You are rich, respected, admired, beloved; you are happy, as\n",
      "once I was.  You are a man to be missed.  For me it is no matter.  We\n",
      "will go back; you will be ill, and I cannot be responsible.  Besides,\n",
      "there is Luchesi--\"\n",
      "\n",
      "\"Enough,\" he said; \"the cough is a mere nothing; it will not kill me.\n",
      "I shall not die of a cough.\"\n",
      "\n",
      "\"True--true,\" I replied; \"and, indeed, I had no intention of alarming\n",
      "you unnecessarily--but you should use all proper caution. A draught of\n",
      "this Medoc will defend us from the damps.\"\n",
      "\n",
      "Here I knocked off the neck of a bottle which I drew from a long row of\n",
      "its fellows that lay upon the mould.\n",
      "\n",
      "\"Drink,\" I said, presenting him the wine.\n",
      "\n",
      "He raised it to his lips with a leer.  He paused and nodded to me\n",
      "familiarly, while his bells jingled.\n",
      "\n",
      "\"I drink,\" he said, \"to the buried that repose around us.\"\n",
      "\n",
      "\"And I to your long life.\"\n",
      "\n",
      "He again took my arm, and we proceeded.\n",
      "\n",
      "\"These vaults,\" he said, \"are extensive.\"\n",
      "\n",
      "\"The Montresors,\" I replied, \"were a great and numerous family.\"\n",
      "\n",
      "\"I forget your arms.\"\n",
      "\n",
      "\"A huge human foot d'or, in a field azure; the foot crushes a serpent\n",
      "rampant whose fangs are imbedded in the heel.\"\n",
      "\n",
      "\"And the motto?\"\n",
      "\n",
      "\"_Nemo me impune lacessit_.\"\n",
      "\n",
      "\"Good!\" he said.\n",
      "\n",
      "The wine sparkled in his eyes and the bells jingled.  My own fancy grew\n",
      "warm with the Medoc.  We had passed through walls of piled bones, with\n",
      "casks and puncheons intermingling, into the inmost recesses of\n",
      "catacombs.  I paused again, and this time I made bold to seize\n",
      "Fortunato by an arm above the elbow.\n",
      "\n",
      "\"The nitre!\" I said; \"see, it increases.  It hangs like moss upon the\n",
      "vaults.  We are below the river's bed.  The drops of moisture trickle\n",
      "among the bones.  Come, we will go back ere it is too late.  Your\n",
      "cough--\"\n",
      "\n",
      "\"It is nothing,\" he said; \"let us go on.  But first, another draught of\n",
      "the Medoc.\"\n",
      "\n",
      "I broke and reached him a flagon of De Grave.  He emptied it at a\n",
      "breath.  His eyes flashed with a fierce light.  He laughed and threw\n",
      "the bottle upwards with a gesticulation I did not understand.\n",
      "\n",
      "I looked at him in surprise.  He repeated the movement--a grotesque one.\n",
      "\n",
      "\"You do not comprehend?\" he said.\n",
      "\n",
      "\"Not I,\" I replied.\n",
      "\n",
      "\"Then you are not of the brotherhood.\"\n",
      "\n",
      "\"How?\"\n",
      "\n",
      "\"You are not of the masons.\"\n",
      "\n",
      "\"Yes, yes,\" I said; \"yes, yes.\"\n",
      "\n",
      "\"You?  Impossible!  A mason?\"\n",
      "\n",
      "\"A mason,\" I replied.\n",
      "\n",
      "\"A sign,\" he said, \"a sign.\"\n",
      "\n",
      "\"It is this,\" I answered, producing a trowel from beneath the folds of\n",
      "my _roquelaire_.\n",
      "\n",
      "\"You jest,\" he exclaimed, recoiling a few paces.  \"But let us proceed\n",
      "to the Amontillado.\"\n",
      "\n",
      "\"Be it so,\" I said, replacing the tool beneath the cloak and again\n",
      "offering him my arm.  He leaned upon it heavily.  We continued our\n",
      "route in search of the Amontillado.  We passed through a range of low\n",
      "arches, descended, passed on, and descending again, arrived at a deep\n",
      "crypt, in which the foulness of the air caused our flambeaux rather to\n",
      "glow than flame.\n",
      "\n",
      "At the most remote end of the crypt there appeared another less\n",
      "spacious.  Its walls had been lined with human remains, piled to the\n",
      "vault overhead, in the fashion of the great catacombs of Paris.  Three\n",
      "sides of this interior crypt were still ornamented in this manner.\n",
      "From the fourth side the bones had been thrown down, and lay\n",
      "promiscuously upon the earth, forming at one point a mound of some\n",
      "size.  Within the wall thus exposed by the displacing of the bones, we\n",
      "perceived a still interior recess, in depth about four feet in width\n",
      "three, in height six or seven.  It seemed to have been constructed for\n",
      "no especial use within itself, but formed merely the interval between\n",
      "two of the colossal supports of the roof of the catacombs, and was\n",
      "backed by one of their circumscribing walls of solid granite.\n",
      "\n",
      "It was in vain that Fortunato, uplifting his dull torch, endeavoured to\n",
      "pry into the depth of the recess.  Its termination the feeble light did\n",
      "not enable us to see.\n",
      "\n",
      "\"Proceed,\" I said; \"herein is the Amontillado.  As for Luchesi--\"\n",
      "\n",
      "\"He is an ignoramus,\" interrupted my friend, as he stepped unsteadily\n",
      "forward, while I followed immediately at his heels.  In an instant he\n",
      "had reached the extremity of the niche, and finding his progress\n",
      "arrested by the rock, stood stupidly bewildered.  A moment more and I\n",
      "had fettered him to the granite.  In its surface were two iron staples,\n",
      "distant from each other about two feet, horizontally.  From one of\n",
      "these depended a short chain, from the other a padlock.  Throwing the\n",
      "links about his waist, it was but the work of a few seconds to secure\n",
      "it.  He was too much astounded to resist.  Withdrawing the key I\n",
      "stepped back from the recess.\n",
      "\n",
      "\"Pass your hand,\" I said, \"over the wall; you cannot help feeling the\n",
      "nitre.  Indeed, it is _very_ damp.  Once more let me _implore_ you to\n",
      "return.  No?  Then I must positively leave you.  But I must first\n",
      "render you all the little attentions in my power.\"\n",
      "\n",
      "\"The Amontillado!\" ejaculated my friend, not yet recovered from his\n",
      "astonishment.\n",
      "\n",
      "\"True,\" I replied; \"the Amontillado.\"\n",
      "\n",
      "As I said these words I busied myself among the pile of bones of which\n",
      "I have before spoken.  Throwing them aside, I soon uncovered a quantity\n",
      "of building stone and mortar.  With these materials and with the aid of\n",
      "my trowel, I began vigorously to wall up the entrance of the niche.\n",
      "\n",
      "I had scarcely laid the first tier of the masonry when I discovered\n",
      "that the intoxication of Fortunato had in a great measure worn off. The\n",
      "earliest indication I had of this was a low moaning cry from the depth\n",
      "of the recess.  It was _not_ the cry of a drunken man. There was then a\n",
      "long and obstinate silence.  I laid the second tier, and the third, and\n",
      "the fourth; and then I heard the furious vibrations of the chain.  The\n",
      "noise lasted for several minutes, during which, that I might hearken to\n",
      "it with the more satisfaction, I ceased my labours and sat down upon\n",
      "the bones. When at last the clanking subsided, I resumed the trowel,\n",
      "and finished without interruption the fifth, the sixth, and the seventh\n",
      "tier.  The wall was now nearly upon a level with my breast.  I again\n",
      "paused, and holding the flambeaux over the mason-work, threw a few\n",
      "feeble rays upon the figure within.\n",
      "\n",
      "A succession of loud and shrill screams, bursting suddenly from the\n",
      "throat of the chained form, seemed to thrust me violently back.  For a\n",
      "brief moment I hesitated--I trembled.  Unsheathing my rapier, I began\n",
      "to grope with it about the recess; but the thought of an instant\n",
      "reassured me.  I placed my hand upon the solid fabric of the catacombs,\n",
      "and felt satisfied.  I reapproached the wall; I replied to the yells of\n",
      "him who clamoured.  I re-echoed--I aided--I surpassed them in volume\n",
      "and in strength.  I did this, and the clamourer grew still.\n",
      ">>> USER INPUT: Who is Luchesi in relation to Antonio?\n",
      ">>> RESPONSE: \u001b[0m\n",
      "\n",
      "\u001b[1m> Finished chain.\u001b[0m\n",
      "\n",
      "\u001b[1m> Finished chain.\u001b[0m\n"
     ]
    },
    {
     "data": {
      "text/plain": [
       "' Luchesi is a rival connoisseur of wine to Fortunato. He is mentioned by Montresor as someone who could distinguish Amontillado from Sherry, but not as well as Fortunato.\\n\\n'"
      ]
     },
     "execution_count": 11,
     "metadata": {},
     "output_type": "execute_result"
    }
   ],
   "source": [
    "# Note that FLARE uses a larger prompt, so more complex questions that this may cause the token limit to be exceeded.\n",
    "query = \"Who is Luchesi in relation to Antonio?\"\n",
    "flare.run(query)"
   ]
  },
  {
   "cell_type": "markdown",
   "metadata": {},
   "source": [
    "### Cleanup"
   ]
  },
  {
   "cell_type": "code",
   "execution_count": 2,
   "metadata": {
    "nbmake": {
     "post_cell_execute": [
      "# Deletes collection for test suite to allow each test to run with a fresh collection",
      "vstore.delete_collection()"
     ]
    }
   },
   "outputs": [],
   "source": [
    "# WARNING: This will delete the collection and all documents in the collection\n",
    "# vstore.delete_collection()"
   ]
  },
  {
   "cell_type": "markdown",
   "metadata": {},
   "source": [
    "## What's Next\n",
    "\n",
    "You now have a fully functioning RAG pipeline using the FLARE technique! FLARE is one of many ways to improve RAG. See our other [examples](https://docs.datastax.com/en/ragstack/docs/examples/index.html) for advanced RAG techniques, as well as evaluation examples that compare results using multiple RAG techniques. "
   ]
  }
 ],
 "metadata": {
  "kernelspec": {
   "display_name": "Python 3 (ipykernel)",
   "language": "python",
   "name": "python3"
  },
  "language_info": {
   "codemirror_mode": {
    "name": "ipython",
    "version": 3
   },
   "file_extension": ".py",
   "mimetype": "text/x-python",
   "name": "python",
   "nbconvert_exporter": "python",
   "pygments_lexer": "ipython3",
   "version": "3.11.7"
  }
 },
 "nbformat": 4,
 "nbformat_minor": 4
}
