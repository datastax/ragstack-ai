{
 "cells": [
  {
   "cell_type": "markdown",
   "metadata": {},
   "source": [
    "# Introduction\n",
    "\n",
    "This notebook demonstrates the use of a _Hybrid Knowledge Store_.\n",
    "This combines the benefits of a traditional vector store (locating nodes by vector similarity) with the benefits of a knowledge graph (connecting relevant but not necessarily similar information).\n",
    "\n",
    "It demonstrates loading a PDF, chunking it and writing it to the Knowledge Store using the standard LangChain patterns.\n",
    "The only addition is the extraction of \"keywords\" using [keybert](https://maartengr.github.io/KeyBERT/index.html).\n",
    "This demonstrates how chunks may be linked.\n",
    "\n",
    "Other ways that chunks could be linked:\n",
    "\n",
    "- Using TF-IDF to compute keywords from chunks, rather than keybert.\n",
    "- Using links (`<a href=\"...\">`) in the content and associated URLs to connect explicit links. This would even work with anchors within a page!\n",
    "- Connecting images and tables on a page to the other content on the page."
   ]
  },
  {
   "cell_type": "code",
   "execution_count": 1,
   "metadata": {},
   "outputs": [],
   "source": [
    "# (Optional) When developing locally, this reloads the module code when changes are made,\n",
    "# making it easier to iterate.\n",
    "%load_ext autoreload\n",
    "%autoreload 2"
   ]
  },
  {
   "cell_type": "markdown",
   "metadata": {},
   "source": [
    "## Environment"
   ]
  },
  {
   "cell_type": "code",
   "execution_count": 2,
   "metadata": {},
   "outputs": [
    {
     "name": "stdout",
     "output_type": "stream",
     "text": [
      "Collecting https://github.com/datastax-labs/knowledge-store/archive/main.zip\n",
      "  Downloading https://github.com/datastax-labs/knowledge-store/archive/main.zip (4.6 MB)\n",
      "\u001b[2K     \u001b[90m━━━━━━━━━━━━━━━━━━━━━━━━━━━━━━━━━━━━━━━━\u001b[0m \u001b[32m4.6/4.6 MB\u001b[0m \u001b[31m10.3 MB/s\u001b[0m eta \u001b[36m0:00:00\u001b[0ma \u001b[36m0:00:01\u001b[0m\n",
      "\u001b[?25h  Installing build dependencies ... \u001b[?25ldone\n",
      "\u001b[?25h  Getting requirements to build wheel ... \u001b[?25ldone\n",
      "\u001b[?25h  Preparing metadata (pyproject.toml) ... \u001b[?25ldone\n",
      "\u001b[?25hRequirement already satisfied: cassio<0.2.0,>=0.1.7 in /Users/benjamin.chambers/Library/Caches/pypoetry/virtualenvs/knowledge-store-L8e7UibK-py3.11/lib/python3.11/site-packages (from knowledge-store==0.1.0) (0.1.7)\n",
      "Collecting langchain-core<0.2.0,>=0.1.50 (from knowledge-store==0.1.0)\n",
      "  Using cached langchain_core-0.1.52-py3-none-any.whl.metadata (5.9 kB)\n",
      "Requirement already satisfied: cassandra-driver<4.0.0,>=3.28.0 in /Users/benjamin.chambers/Library/Caches/pypoetry/virtualenvs/knowledge-store-L8e7UibK-py3.11/lib/python3.11/site-packages (from cassio<0.2.0,>=0.1.7->knowledge-store==0.1.0) (3.29.1)\n",
      "Requirement already satisfied: numpy>=1.0 in /Users/benjamin.chambers/Library/Caches/pypoetry/virtualenvs/knowledge-store-L8e7UibK-py3.11/lib/python3.11/site-packages (from cassio<0.2.0,>=0.1.7->knowledge-store==0.1.0) (1.26.4)\n",
      "Requirement already satisfied: requests<3.0.0,>=2.31.0 in /Users/benjamin.chambers/Library/Caches/pypoetry/virtualenvs/knowledge-store-L8e7UibK-py3.11/lib/python3.11/site-packages (from cassio<0.2.0,>=0.1.7->knowledge-store==0.1.0) (2.32.2)\n",
      "Requirement already satisfied: PyYAML>=5.3 in /Users/benjamin.chambers/Library/Caches/pypoetry/virtualenvs/knowledge-store-L8e7UibK-py3.11/lib/python3.11/site-packages (from langchain-core<0.2.0,>=0.1.50->knowledge-store==0.1.0) (6.0.1)\n",
      "Requirement already satisfied: jsonpatch<2.0,>=1.33 in /Users/benjamin.chambers/Library/Caches/pypoetry/virtualenvs/knowledge-store-L8e7UibK-py3.11/lib/python3.11/site-packages (from langchain-core<0.2.0,>=0.1.50->knowledge-store==0.1.0) (1.33)\n",
      "Requirement already satisfied: langsmith<0.2.0,>=0.1.0 in /Users/benjamin.chambers/Library/Caches/pypoetry/virtualenvs/knowledge-store-L8e7UibK-py3.11/lib/python3.11/site-packages (from langchain-core<0.2.0,>=0.1.50->knowledge-store==0.1.0) (0.1.60)\n",
      "Requirement already satisfied: packaging<24.0,>=23.2 in /Users/benjamin.chambers/Library/Caches/pypoetry/virtualenvs/knowledge-store-L8e7UibK-py3.11/lib/python3.11/site-packages (from langchain-core<0.2.0,>=0.1.50->knowledge-store==0.1.0) (23.2)\n",
      "Requirement already satisfied: pydantic<3,>=1 in /Users/benjamin.chambers/Library/Caches/pypoetry/virtualenvs/knowledge-store-L8e7UibK-py3.11/lib/python3.11/site-packages (from langchain-core<0.2.0,>=0.1.50->knowledge-store==0.1.0) (2.7.1)\n",
      "Requirement already satisfied: tenacity<9.0.0,>=8.1.0 in /Users/benjamin.chambers/Library/Caches/pypoetry/virtualenvs/knowledge-store-L8e7UibK-py3.11/lib/python3.11/site-packages (from langchain-core<0.2.0,>=0.1.50->knowledge-store==0.1.0) (8.3.0)\n",
      "Requirement already satisfied: geomet<0.3,>=0.1 in /Users/benjamin.chambers/Library/Caches/pypoetry/virtualenvs/knowledge-store-L8e7UibK-py3.11/lib/python3.11/site-packages (from cassandra-driver<4.0.0,>=3.28.0->cassio<0.2.0,>=0.1.7->knowledge-store==0.1.0) (0.2.1.post1)\n",
      "Requirement already satisfied: jsonpointer>=1.9 in /Users/benjamin.chambers/Library/Caches/pypoetry/virtualenvs/knowledge-store-L8e7UibK-py3.11/lib/python3.11/site-packages (from jsonpatch<2.0,>=1.33->langchain-core<0.2.0,>=0.1.50->knowledge-store==0.1.0) (2.4)\n",
      "Requirement already satisfied: orjson<4.0.0,>=3.9.14 in /Users/benjamin.chambers/Library/Caches/pypoetry/virtualenvs/knowledge-store-L8e7UibK-py3.11/lib/python3.11/site-packages (from langsmith<0.2.0,>=0.1.0->langchain-core<0.2.0,>=0.1.50->knowledge-store==0.1.0) (3.10.3)\n",
      "Requirement already satisfied: annotated-types>=0.4.0 in /Users/benjamin.chambers/Library/Caches/pypoetry/virtualenvs/knowledge-store-L8e7UibK-py3.11/lib/python3.11/site-packages (from pydantic<3,>=1->langchain-core<0.2.0,>=0.1.50->knowledge-store==0.1.0) (0.7.0)\n",
      "Requirement already satisfied: pydantic-core==2.18.2 in /Users/benjamin.chambers/Library/Caches/pypoetry/virtualenvs/knowledge-store-L8e7UibK-py3.11/lib/python3.11/site-packages (from pydantic<3,>=1->langchain-core<0.2.0,>=0.1.50->knowledge-store==0.1.0) (2.18.2)\n",
      "Requirement already satisfied: typing-extensions>=4.6.1 in /Users/benjamin.chambers/Library/Caches/pypoetry/virtualenvs/knowledge-store-L8e7UibK-py3.11/lib/python3.11/site-packages (from pydantic<3,>=1->langchain-core<0.2.0,>=0.1.50->knowledge-store==0.1.0) (4.11.0)\n",
      "Requirement already satisfied: charset-normalizer<4,>=2 in /Users/benjamin.chambers/Library/Caches/pypoetry/virtualenvs/knowledge-store-L8e7UibK-py3.11/lib/python3.11/site-packages (from requests<3.0.0,>=2.31.0->cassio<0.2.0,>=0.1.7->knowledge-store==0.1.0) (3.3.2)\n",
      "Requirement already satisfied: idna<4,>=2.5 in /Users/benjamin.chambers/Library/Caches/pypoetry/virtualenvs/knowledge-store-L8e7UibK-py3.11/lib/python3.11/site-packages (from requests<3.0.0,>=2.31.0->cassio<0.2.0,>=0.1.7->knowledge-store==0.1.0) (3.7)\n",
      "Requirement already satisfied: urllib3<3,>=1.21.1 in /Users/benjamin.chambers/Library/Caches/pypoetry/virtualenvs/knowledge-store-L8e7UibK-py3.11/lib/python3.11/site-packages (from requests<3.0.0,>=2.31.0->cassio<0.2.0,>=0.1.7->knowledge-store==0.1.0) (2.2.1)\n",
      "Requirement already satisfied: certifi>=2017.4.17 in /Users/benjamin.chambers/Library/Caches/pypoetry/virtualenvs/knowledge-store-L8e7UibK-py3.11/lib/python3.11/site-packages (from requests<3.0.0,>=2.31.0->cassio<0.2.0,>=0.1.7->knowledge-store==0.1.0) (2024.2.2)\n",
      "Requirement already satisfied: click in /Users/benjamin.chambers/Library/Caches/pypoetry/virtualenvs/knowledge-store-L8e7UibK-py3.11/lib/python3.11/site-packages (from geomet<0.3,>=0.1->cassandra-driver<4.0.0,>=3.28.0->cassio<0.2.0,>=0.1.7->knowledge-store==0.1.0) (8.1.7)\n",
      "Requirement already satisfied: six in /Users/benjamin.chambers/Library/Caches/pypoetry/virtualenvs/knowledge-store-L8e7UibK-py3.11/lib/python3.11/site-packages (from geomet<0.3,>=0.1->cassandra-driver<4.0.0,>=3.28.0->cassio<0.2.0,>=0.1.7->knowledge-store==0.1.0) (1.16.0)\n",
      "Using cached langchain_core-0.1.52-py3-none-any.whl (302 kB)\n",
      "Building wheels for collected packages: knowledge-store\n",
      "  Building wheel for knowledge-store (pyproject.toml) ... \u001b[?25ldone\n",
      "\u001b[?25h  Created wheel for knowledge-store: filename=knowledge_store-0.1.0-py3-none-any.whl size=7045 sha256=0a9f5a520be62850280fa141254311c81145b0a23970d39673599f486116ee7f\n",
      "  Stored in directory: /private/var/folders/c4/dcr0mh3d183d5kh9gf89wsc00000gn/T/pip-ephem-wheel-cache-tsg2gm5g/wheels/1b/df/98/d3c82bd955d1c08b77c6b2cc6e3718b0c9164d955d6f04b914\n",
      "Successfully built knowledge-store\n",
      "Installing collected packages: langchain-core, knowledge-store\n",
      "  Attempting uninstall: langchain-core\n",
      "    Found existing installation: langchain-core 0.2.0\n",
      "    Uninstalling langchain-core-0.2.0:\n",
      "      Successfully uninstalled langchain-core-0.2.0\n",
      "  Attempting uninstall: knowledge-store\n",
      "    Found existing installation: knowledge-store 0.1.0\n",
      "    Uninstalling knowledge-store-0.1.0:\n",
      "      Successfully uninstalled knowledge-store-0.1.0\n",
      "\u001b[31mERROR: pip's dependency resolver does not currently take into account all the packages that are installed. This behaviour is the source of the following dependency conflicts.\n",
      "langchain-text-splitters 0.2.0 requires langchain-core<0.3.0,>=0.2.0, but you have langchain-core 0.1.52 which is incompatible.\n",
      "langchain 0.2.0 requires langchain-core<0.3.0,>=0.2.0, but you have langchain-core 0.1.52 which is incompatible.\n",
      "langchain-community 0.2.0 requires langchain-core<0.3.0,>=0.2.0, but you have langchain-core 0.1.52 which is incompatible.\u001b[0m\u001b[31m\n",
      "\u001b[0mSuccessfully installed knowledge-store-0.1.0 langchain-core-0.1.52\n",
      "\n",
      "\u001b[1m[\u001b[0m\u001b[34;49mnotice\u001b[0m\u001b[1;39;49m]\u001b[0m\u001b[39;49m A new release of pip is available: \u001b[0m\u001b[31;49m23.3.1\u001b[0m\u001b[39;49m -> \u001b[0m\u001b[32;49m24.0\u001b[0m\n",
      "\u001b[1m[\u001b[0m\u001b[34;49mnotice\u001b[0m\u001b[1;39;49m]\u001b[0m\u001b[39;49m To update, run: \u001b[0m\u001b[32;49mpip install --upgrade pip\u001b[0m\n",
      "Note: you may need to restart the kernel to use updated packages.\n"
     ]
    }
   ],
   "source": [
    "# (Required in Colab) Install the knowledge graph library from the repository.\n",
    "# This will also install the dependencies.\n",
    "%pip install https://github.com/datastax-labs/knowledge-store/archive/main.zip"
   ]
  },
  {
   "cell_type": "markdown",
   "metadata": {},
   "source": [
    "Pick one of the following.\n",
    "1. If you're just running the notebook, it's probably best to run the cell using `getpass` to set the necessary\n",
    "   environment variables.\n",
    "1. If you're developing, it's likely easiest to create a `.env` file and store the necessary credentials."
   ]
  },
  {
   "cell_type": "code",
   "execution_count": null,
   "metadata": {},
   "outputs": [],
   "source": [
    "# (Option 1) - Set the environment variables from getpass.\n",
    "import getpass\n",
    "import os\n",
    "\n",
    "os.environ[\"OPENAI_API_KEY\"] = getpass.getpass(\"Enter OpenAI API Key: \")\n",
    "os.environ[\"ASTRA_DB_DATABASE_ID\"] = input(\"Enter Astra DB Database ID: \")\n",
    "os.environ[\"ASTRA_DB_APPLICATION_TOKEN\"] = getpass.getpass(\"Enter Astra DB Application Token: \")\n",
    "\n",
    "keyspace = input(\"Enter Astra DB Keyspace (Empty for default): \")\n",
    "if keyspace:\n",
    "    os.environ[\"ASTRA_DB_KEYSPACE\"] = keyspace\n",
    "else:\n",
    "    os.environ.pop(\"ASTRA_DB_KEYSPACE\", None)"
   ]
  },
  {
   "cell_type": "code",
   "execution_count": 3,
   "metadata": {},
   "outputs": [
    {
     "name": "stdout",
     "output_type": "stream",
     "text": [
      "Requirement already satisfied: python-dotenv in /Users/benjamin.chambers/Library/Caches/pypoetry/virtualenvs/knowledge-store-L8e7UibK-py3.11/lib/python3.11/site-packages (1.0.1)\n",
      "\n",
      "\u001b[1m[\u001b[0m\u001b[34;49mnotice\u001b[0m\u001b[1;39;49m]\u001b[0m\u001b[39;49m A new release of pip is available: \u001b[0m\u001b[31;49m23.3.1\u001b[0m\u001b[39;49m -> \u001b[0m\u001b[32;49m24.0\u001b[0m\n",
      "\u001b[1m[\u001b[0m\u001b[34;49mnotice\u001b[0m\u001b[1;39;49m]\u001b[0m\u001b[39;49m To update, run: \u001b[0m\u001b[32;49mpip install --upgrade pip\u001b[0m\n",
      "Note: you may need to restart the kernel to use updated packages.\n"
     ]
    },
    {
     "data": {
      "text/plain": [
       "True"
      ]
     },
     "execution_count": 3,
     "metadata": {},
     "output_type": "execute_result"
    }
   ],
   "source": [
    "# (Option 2) - Load the `.env` file.\n",
    "# See `env.template` for an example of what you should have there.\n",
    "%pip install python-dotenv\n",
    "import dotenv\n",
    "dotenv.load_dotenv()"
   ]
  },
  {
   "cell_type": "code",
   "execution_count": 4,
   "metadata": {},
   "outputs": [
    {
     "name": "stdout",
     "output_type": "stream",
     "text": [
      "Requirement already satisfied: langchain_openai in /Users/benjamin.chambers/Library/Caches/pypoetry/virtualenvs/knowledge-store-L8e7UibK-py3.11/lib/python3.11/site-packages (0.1.7)\n",
      "Requirement already satisfied: langchain-core<0.3,>=0.1.46 in /Users/benjamin.chambers/Library/Caches/pypoetry/virtualenvs/knowledge-store-L8e7UibK-py3.11/lib/python3.11/site-packages (from langchain_openai) (0.1.52)\n",
      "Requirement already satisfied: openai<2.0.0,>=1.24.0 in /Users/benjamin.chambers/Library/Caches/pypoetry/virtualenvs/knowledge-store-L8e7UibK-py3.11/lib/python3.11/site-packages (from langchain_openai) (1.30.1)\n",
      "Requirement already satisfied: tiktoken<1,>=0.7 in /Users/benjamin.chambers/Library/Caches/pypoetry/virtualenvs/knowledge-store-L8e7UibK-py3.11/lib/python3.11/site-packages (from langchain_openai) (0.7.0)\n",
      "Requirement already satisfied: PyYAML>=5.3 in /Users/benjamin.chambers/Library/Caches/pypoetry/virtualenvs/knowledge-store-L8e7UibK-py3.11/lib/python3.11/site-packages (from langchain-core<0.3,>=0.1.46->langchain_openai) (6.0.1)\n",
      "Requirement already satisfied: jsonpatch<2.0,>=1.33 in /Users/benjamin.chambers/Library/Caches/pypoetry/virtualenvs/knowledge-store-L8e7UibK-py3.11/lib/python3.11/site-packages (from langchain-core<0.3,>=0.1.46->langchain_openai) (1.33)\n",
      "Requirement already satisfied: langsmith<0.2.0,>=0.1.0 in /Users/benjamin.chambers/Library/Caches/pypoetry/virtualenvs/knowledge-store-L8e7UibK-py3.11/lib/python3.11/site-packages (from langchain-core<0.3,>=0.1.46->langchain_openai) (0.1.60)\n",
      "Requirement already satisfied: packaging<24.0,>=23.2 in /Users/benjamin.chambers/Library/Caches/pypoetry/virtualenvs/knowledge-store-L8e7UibK-py3.11/lib/python3.11/site-packages (from langchain-core<0.3,>=0.1.46->langchain_openai) (23.2)\n",
      "Requirement already satisfied: pydantic<3,>=1 in /Users/benjamin.chambers/Library/Caches/pypoetry/virtualenvs/knowledge-store-L8e7UibK-py3.11/lib/python3.11/site-packages (from langchain-core<0.3,>=0.1.46->langchain_openai) (2.7.1)\n",
      "Requirement already satisfied: tenacity<9.0.0,>=8.1.0 in /Users/benjamin.chambers/Library/Caches/pypoetry/virtualenvs/knowledge-store-L8e7UibK-py3.11/lib/python3.11/site-packages (from langchain-core<0.3,>=0.1.46->langchain_openai) (8.3.0)\n",
      "Requirement already satisfied: anyio<5,>=3.5.0 in /Users/benjamin.chambers/Library/Caches/pypoetry/virtualenvs/knowledge-store-L8e7UibK-py3.11/lib/python3.11/site-packages (from openai<2.0.0,>=1.24.0->langchain_openai) (4.3.0)\n",
      "Requirement already satisfied: distro<2,>=1.7.0 in /Users/benjamin.chambers/Library/Caches/pypoetry/virtualenvs/knowledge-store-L8e7UibK-py3.11/lib/python3.11/site-packages (from openai<2.0.0,>=1.24.0->langchain_openai) (1.9.0)\n",
      "Requirement already satisfied: httpx<1,>=0.23.0 in /Users/benjamin.chambers/Library/Caches/pypoetry/virtualenvs/knowledge-store-L8e7UibK-py3.11/lib/python3.11/site-packages (from openai<2.0.0,>=1.24.0->langchain_openai) (0.27.0)\n",
      "Requirement already satisfied: sniffio in /Users/benjamin.chambers/Library/Caches/pypoetry/virtualenvs/knowledge-store-L8e7UibK-py3.11/lib/python3.11/site-packages (from openai<2.0.0,>=1.24.0->langchain_openai) (1.3.1)\n",
      "Requirement already satisfied: tqdm>4 in /Users/benjamin.chambers/Library/Caches/pypoetry/virtualenvs/knowledge-store-L8e7UibK-py3.11/lib/python3.11/site-packages (from openai<2.0.0,>=1.24.0->langchain_openai) (4.66.4)\n",
      "Requirement already satisfied: typing-extensions<5,>=4.7 in /Users/benjamin.chambers/Library/Caches/pypoetry/virtualenvs/knowledge-store-L8e7UibK-py3.11/lib/python3.11/site-packages (from openai<2.0.0,>=1.24.0->langchain_openai) (4.11.0)\n",
      "Requirement already satisfied: regex>=2022.1.18 in /Users/benjamin.chambers/Library/Caches/pypoetry/virtualenvs/knowledge-store-L8e7UibK-py3.11/lib/python3.11/site-packages (from tiktoken<1,>=0.7->langchain_openai) (2024.5.15)\n",
      "Requirement already satisfied: requests>=2.26.0 in /Users/benjamin.chambers/Library/Caches/pypoetry/virtualenvs/knowledge-store-L8e7UibK-py3.11/lib/python3.11/site-packages (from tiktoken<1,>=0.7->langchain_openai) (2.32.2)\n",
      "Requirement already satisfied: idna>=2.8 in /Users/benjamin.chambers/Library/Caches/pypoetry/virtualenvs/knowledge-store-L8e7UibK-py3.11/lib/python3.11/site-packages (from anyio<5,>=3.5.0->openai<2.0.0,>=1.24.0->langchain_openai) (3.7)\n",
      "Requirement already satisfied: certifi in /Users/benjamin.chambers/Library/Caches/pypoetry/virtualenvs/knowledge-store-L8e7UibK-py3.11/lib/python3.11/site-packages (from httpx<1,>=0.23.0->openai<2.0.0,>=1.24.0->langchain_openai) (2024.2.2)\n",
      "Requirement already satisfied: httpcore==1.* in /Users/benjamin.chambers/Library/Caches/pypoetry/virtualenvs/knowledge-store-L8e7UibK-py3.11/lib/python3.11/site-packages (from httpx<1,>=0.23.0->openai<2.0.0,>=1.24.0->langchain_openai) (1.0.5)\n",
      "Requirement already satisfied: h11<0.15,>=0.13 in /Users/benjamin.chambers/Library/Caches/pypoetry/virtualenvs/knowledge-store-L8e7UibK-py3.11/lib/python3.11/site-packages (from httpcore==1.*->httpx<1,>=0.23.0->openai<2.0.0,>=1.24.0->langchain_openai) (0.14.0)\n",
      "Requirement already satisfied: jsonpointer>=1.9 in /Users/benjamin.chambers/Library/Caches/pypoetry/virtualenvs/knowledge-store-L8e7UibK-py3.11/lib/python3.11/site-packages (from jsonpatch<2.0,>=1.33->langchain-core<0.3,>=0.1.46->langchain_openai) (2.4)\n",
      "Requirement already satisfied: orjson<4.0.0,>=3.9.14 in /Users/benjamin.chambers/Library/Caches/pypoetry/virtualenvs/knowledge-store-L8e7UibK-py3.11/lib/python3.11/site-packages (from langsmith<0.2.0,>=0.1.0->langchain-core<0.3,>=0.1.46->langchain_openai) (3.10.3)\n",
      "Requirement already satisfied: annotated-types>=0.4.0 in /Users/benjamin.chambers/Library/Caches/pypoetry/virtualenvs/knowledge-store-L8e7UibK-py3.11/lib/python3.11/site-packages (from pydantic<3,>=1->langchain-core<0.3,>=0.1.46->langchain_openai) (0.7.0)\n",
      "Requirement already satisfied: pydantic-core==2.18.2 in /Users/benjamin.chambers/Library/Caches/pypoetry/virtualenvs/knowledge-store-L8e7UibK-py3.11/lib/python3.11/site-packages (from pydantic<3,>=1->langchain-core<0.3,>=0.1.46->langchain_openai) (2.18.2)\n",
      "Requirement already satisfied: charset-normalizer<4,>=2 in /Users/benjamin.chambers/Library/Caches/pypoetry/virtualenvs/knowledge-store-L8e7UibK-py3.11/lib/python3.11/site-packages (from requests>=2.26.0->tiktoken<1,>=0.7->langchain_openai) (3.3.2)\n",
      "Requirement already satisfied: urllib3<3,>=1.21.1 in /Users/benjamin.chambers/Library/Caches/pypoetry/virtualenvs/knowledge-store-L8e7UibK-py3.11/lib/python3.11/site-packages (from requests>=2.26.0->tiktoken<1,>=0.7->langchain_openai) (2.2.1)\n",
      "\n",
      "\u001b[1m[\u001b[0m\u001b[34;49mnotice\u001b[0m\u001b[1;39;49m]\u001b[0m\u001b[39;49m A new release of pip is available: \u001b[0m\u001b[31;49m23.3.1\u001b[0m\u001b[39;49m -> \u001b[0m\u001b[32;49m24.0\u001b[0m\n",
      "\u001b[1m[\u001b[0m\u001b[34;49mnotice\u001b[0m\u001b[1;39;49m]\u001b[0m\u001b[39;49m To update, run: \u001b[0m\u001b[32;49mpip install --upgrade pip\u001b[0m\n",
      "Note: you may need to restart the kernel to use updated packages.\n"
     ]
    }
   ],
   "source": [
    "%pip install langchain_openai"
   ]
  },
  {
   "cell_type": "code",
   "execution_count": 5,
   "metadata": {},
   "outputs": [],
   "source": [
    "from langchain_openai import OpenAIEmbeddings\n",
    "\n",
    "embeddings = OpenAIEmbeddings()"
   ]
  },
  {
   "cell_type": "markdown",
   "metadata": {},
   "source": [
    "## Initialize Astra DB Knowledge Store"
   ]
  },
  {
   "cell_type": "code",
   "execution_count": 6,
   "metadata": {},
   "outputs": [],
   "source": [
    "# Initialize cassandra connection from environment variables).\n",
    "import cassio\n",
    "cassio.init(auto=True)"
   ]
  },
  {
   "cell_type": "code",
   "execution_count": 7,
   "metadata": {},
   "outputs": [],
   "source": [
    "# Create graph store.\n",
    "from knowledge_store import KnowledgeStore\n",
    "knowledge_store = KnowledgeStore(embeddings)"
   ]
  },
  {
   "cell_type": "markdown",
   "metadata": {},
   "source": [
    "# Ingest Documents\n",
    "In this section we ingest documents to the hybrid knowledge store.\n",
    "We'll use `keybert` for extracting keywords which will automatically link between chunks with common keywords."
   ]
  },
  {
   "cell_type": "code",
   "execution_count": 8,
   "metadata": {},
   "outputs": [
    {
     "name": "stdout",
     "output_type": "stream",
     "text": [
      "Requirement already satisfied: pypdf in /Users/benjamin.chambers/Library/Caches/pypoetry/virtualenvs/knowledge-store-L8e7UibK-py3.11/lib/python3.11/site-packages (4.2.0)\n",
      "Requirement already satisfied: langchain-text-splitters in /Users/benjamin.chambers/Library/Caches/pypoetry/virtualenvs/knowledge-store-L8e7UibK-py3.11/lib/python3.11/site-packages (0.2.0)\n",
      "Requirement already satisfied: keybert in /Users/benjamin.chambers/Library/Caches/pypoetry/virtualenvs/knowledge-store-L8e7UibK-py3.11/lib/python3.11/site-packages (0.8.4)\n",
      "Collecting langchain-core<0.3.0,>=0.2.0 (from langchain-text-splitters)\n",
      "  Using cached langchain_core-0.2.0-py3-none-any.whl.metadata (5.9 kB)\n",
      "Collecting sentence-transformers>=0.3.8 (from keybert)\n",
      "  Downloading sentence_transformers-2.7.0-py3-none-any.whl.metadata (11 kB)\n",
      "Collecting scikit-learn>=0.22.2 (from keybert)\n",
      "  Downloading scikit_learn-1.5.0-cp311-cp311-macosx_12_0_arm64.whl.metadata (11 kB)\n",
      "Requirement already satisfied: numpy>=1.18.5 in /Users/benjamin.chambers/Library/Caches/pypoetry/virtualenvs/knowledge-store-L8e7UibK-py3.11/lib/python3.11/site-packages (from keybert) (1.26.4)\n",
      "Requirement already satisfied: rich>=10.4.0 in /Users/benjamin.chambers/Library/Caches/pypoetry/virtualenvs/knowledge-store-L8e7UibK-py3.11/lib/python3.11/site-packages (from keybert) (13.7.1)\n",
      "Requirement already satisfied: PyYAML>=5.3 in /Users/benjamin.chambers/Library/Caches/pypoetry/virtualenvs/knowledge-store-L8e7UibK-py3.11/lib/python3.11/site-packages (from langchain-core<0.3.0,>=0.2.0->langchain-text-splitters) (6.0.1)\n",
      "Requirement already satisfied: jsonpatch<2.0,>=1.33 in /Users/benjamin.chambers/Library/Caches/pypoetry/virtualenvs/knowledge-store-L8e7UibK-py3.11/lib/python3.11/site-packages (from langchain-core<0.3.0,>=0.2.0->langchain-text-splitters) (1.33)\n",
      "Requirement already satisfied: langsmith<0.2.0,>=0.1.0 in /Users/benjamin.chambers/Library/Caches/pypoetry/virtualenvs/knowledge-store-L8e7UibK-py3.11/lib/python3.11/site-packages (from langchain-core<0.3.0,>=0.2.0->langchain-text-splitters) (0.1.60)\n",
      "Requirement already satisfied: packaging<24.0,>=23.2 in /Users/benjamin.chambers/Library/Caches/pypoetry/virtualenvs/knowledge-store-L8e7UibK-py3.11/lib/python3.11/site-packages (from langchain-core<0.3.0,>=0.2.0->langchain-text-splitters) (23.2)\n",
      "Requirement already satisfied: pydantic<3,>=1 in /Users/benjamin.chambers/Library/Caches/pypoetry/virtualenvs/knowledge-store-L8e7UibK-py3.11/lib/python3.11/site-packages (from langchain-core<0.3.0,>=0.2.0->langchain-text-splitters) (2.7.1)\n",
      "Requirement already satisfied: tenacity<9.0.0,>=8.1.0 in /Users/benjamin.chambers/Library/Caches/pypoetry/virtualenvs/knowledge-store-L8e7UibK-py3.11/lib/python3.11/site-packages (from langchain-core<0.3.0,>=0.2.0->langchain-text-splitters) (8.3.0)\n",
      "Requirement already satisfied: markdown-it-py>=2.2.0 in /Users/benjamin.chambers/Library/Caches/pypoetry/virtualenvs/knowledge-store-L8e7UibK-py3.11/lib/python3.11/site-packages (from rich>=10.4.0->keybert) (3.0.0)\n",
      "Requirement already satisfied: pygments<3.0.0,>=2.13.0 in /Users/benjamin.chambers/Library/Caches/pypoetry/virtualenvs/knowledge-store-L8e7UibK-py3.11/lib/python3.11/site-packages (from rich>=10.4.0->keybert) (2.18.0)\n",
      "Collecting scipy>=1.6.0 (from scikit-learn>=0.22.2->keybert)\n",
      "  Using cached scipy-1.13.0-cp311-cp311-macosx_12_0_arm64.whl.metadata (60 kB)\n",
      "Collecting joblib>=1.2.0 (from scikit-learn>=0.22.2->keybert)\n",
      "  Downloading joblib-1.4.2-py3-none-any.whl.metadata (5.4 kB)\n",
      "Collecting threadpoolctl>=3.1.0 (from scikit-learn>=0.22.2->keybert)\n",
      "  Downloading threadpoolctl-3.5.0-py3-none-any.whl.metadata (13 kB)\n",
      "Collecting transformers<5.0.0,>=4.34.0 (from sentence-transformers>=0.3.8->keybert)\n",
      "  Downloading transformers-4.41.0-py3-none-any.whl.metadata (43 kB)\n",
      "\u001b[2K     \u001b[90m━━━━━━━━━━━━━━━━━━━━━━━━━━━━━━━━━━━━━━━━\u001b[0m \u001b[32m43.8/43.8 kB\u001b[0m \u001b[31m1.7 MB/s\u001b[0m eta \u001b[36m0:00:00\u001b[0m\n",
      "\u001b[?25hRequirement already satisfied: tqdm in /Users/benjamin.chambers/Library/Caches/pypoetry/virtualenvs/knowledge-store-L8e7UibK-py3.11/lib/python3.11/site-packages (from sentence-transformers>=0.3.8->keybert) (4.66.4)\n",
      "Collecting torch>=1.11.0 (from sentence-transformers>=0.3.8->keybert)\n",
      "  Using cached torch-2.3.0-cp311-none-macosx_11_0_arm64.whl.metadata (26 kB)\n",
      "Collecting huggingface-hub>=0.15.1 (from sentence-transformers>=0.3.8->keybert)\n",
      "  Downloading huggingface_hub-0.23.1-py3-none-any.whl.metadata (12 kB)\n",
      "Collecting Pillow (from sentence-transformers>=0.3.8->keybert)\n",
      "  Using cached pillow-10.3.0-cp311-cp311-macosx_11_0_arm64.whl.metadata (9.2 kB)\n",
      "Collecting filelock (from huggingface-hub>=0.15.1->sentence-transformers>=0.3.8->keybert)\n",
      "  Using cached filelock-3.14.0-py3-none-any.whl.metadata (2.8 kB)\n",
      "Collecting fsspec>=2023.5.0 (from huggingface-hub>=0.15.1->sentence-transformers>=0.3.8->keybert)\n",
      "  Downloading fsspec-2024.5.0-py3-none-any.whl.metadata (11 kB)\n",
      "Requirement already satisfied: requests in /Users/benjamin.chambers/Library/Caches/pypoetry/virtualenvs/knowledge-store-L8e7UibK-py3.11/lib/python3.11/site-packages (from huggingface-hub>=0.15.1->sentence-transformers>=0.3.8->keybert) (2.32.2)\n",
      "Requirement already satisfied: typing-extensions>=3.7.4.3 in /Users/benjamin.chambers/Library/Caches/pypoetry/virtualenvs/knowledge-store-L8e7UibK-py3.11/lib/python3.11/site-packages (from huggingface-hub>=0.15.1->sentence-transformers>=0.3.8->keybert) (4.11.0)\n",
      "Requirement already satisfied: jsonpointer>=1.9 in /Users/benjamin.chambers/Library/Caches/pypoetry/virtualenvs/knowledge-store-L8e7UibK-py3.11/lib/python3.11/site-packages (from jsonpatch<2.0,>=1.33->langchain-core<0.3.0,>=0.2.0->langchain-text-splitters) (2.4)\n",
      "Requirement already satisfied: orjson<4.0.0,>=3.9.14 in /Users/benjamin.chambers/Library/Caches/pypoetry/virtualenvs/knowledge-store-L8e7UibK-py3.11/lib/python3.11/site-packages (from langsmith<0.2.0,>=0.1.0->langchain-core<0.3.0,>=0.2.0->langchain-text-splitters) (3.10.3)\n",
      "Requirement already satisfied: mdurl~=0.1 in /Users/benjamin.chambers/Library/Caches/pypoetry/virtualenvs/knowledge-store-L8e7UibK-py3.11/lib/python3.11/site-packages (from markdown-it-py>=2.2.0->rich>=10.4.0->keybert) (0.1.2)\n",
      "Requirement already satisfied: annotated-types>=0.4.0 in /Users/benjamin.chambers/Library/Caches/pypoetry/virtualenvs/knowledge-store-L8e7UibK-py3.11/lib/python3.11/site-packages (from pydantic<3,>=1->langchain-core<0.3.0,>=0.2.0->langchain-text-splitters) (0.7.0)\n",
      "Requirement already satisfied: pydantic-core==2.18.2 in /Users/benjamin.chambers/Library/Caches/pypoetry/virtualenvs/knowledge-store-L8e7UibK-py3.11/lib/python3.11/site-packages (from pydantic<3,>=1->langchain-core<0.3.0,>=0.2.0->langchain-text-splitters) (2.18.2)\n",
      "Collecting sympy (from torch>=1.11.0->sentence-transformers>=0.3.8->keybert)\n",
      "  Using cached sympy-1.12-py3-none-any.whl.metadata (12 kB)\n",
      "Collecting networkx (from torch>=1.11.0->sentence-transformers>=0.3.8->keybert)\n",
      "  Using cached networkx-3.3-py3-none-any.whl.metadata (5.1 kB)\n",
      "Collecting jinja2 (from torch>=1.11.0->sentence-transformers>=0.3.8->keybert)\n",
      "  Downloading jinja2-3.1.4-py3-none-any.whl.metadata (2.6 kB)\n",
      "Requirement already satisfied: regex!=2019.12.17 in /Users/benjamin.chambers/Library/Caches/pypoetry/virtualenvs/knowledge-store-L8e7UibK-py3.11/lib/python3.11/site-packages (from transformers<5.0.0,>=4.34.0->sentence-transformers>=0.3.8->keybert) (2024.5.15)\n",
      "Collecting tokenizers<0.20,>=0.19 (from transformers<5.0.0,>=4.34.0->sentence-transformers>=0.3.8->keybert)\n",
      "  Using cached tokenizers-0.19.1-cp311-cp311-macosx_11_0_arm64.whl.metadata (6.7 kB)\n",
      "Collecting safetensors>=0.4.1 (from transformers<5.0.0,>=4.34.0->sentence-transformers>=0.3.8->keybert)\n",
      "  Using cached safetensors-0.4.3-cp311-cp311-macosx_11_0_arm64.whl.metadata (3.8 kB)\n",
      "Requirement already satisfied: charset-normalizer<4,>=2 in /Users/benjamin.chambers/Library/Caches/pypoetry/virtualenvs/knowledge-store-L8e7UibK-py3.11/lib/python3.11/site-packages (from requests->huggingface-hub>=0.15.1->sentence-transformers>=0.3.8->keybert) (3.3.2)\n",
      "Requirement already satisfied: idna<4,>=2.5 in /Users/benjamin.chambers/Library/Caches/pypoetry/virtualenvs/knowledge-store-L8e7UibK-py3.11/lib/python3.11/site-packages (from requests->huggingface-hub>=0.15.1->sentence-transformers>=0.3.8->keybert) (3.7)\n",
      "Requirement already satisfied: urllib3<3,>=1.21.1 in /Users/benjamin.chambers/Library/Caches/pypoetry/virtualenvs/knowledge-store-L8e7UibK-py3.11/lib/python3.11/site-packages (from requests->huggingface-hub>=0.15.1->sentence-transformers>=0.3.8->keybert) (2.2.1)\n",
      "Requirement already satisfied: certifi>=2017.4.17 in /Users/benjamin.chambers/Library/Caches/pypoetry/virtualenvs/knowledge-store-L8e7UibK-py3.11/lib/python3.11/site-packages (from requests->huggingface-hub>=0.15.1->sentence-transformers>=0.3.8->keybert) (2024.2.2)\n",
      "Collecting MarkupSafe>=2.0 (from jinja2->torch>=1.11.0->sentence-transformers>=0.3.8->keybert)\n",
      "  Using cached MarkupSafe-2.1.5-cp311-cp311-macosx_10_9_universal2.whl.metadata (3.0 kB)\n",
      "Collecting mpmath>=0.19 (from sympy->torch>=1.11.0->sentence-transformers>=0.3.8->keybert)\n",
      "  Using cached mpmath-1.3.0-py3-none-any.whl.metadata (8.6 kB)\n",
      "Using cached langchain_core-0.2.0-py3-none-any.whl (307 kB)\n",
      "Downloading scikit_learn-1.5.0-cp311-cp311-macosx_12_0_arm64.whl (11.0 MB)\n",
      "\u001b[2K   \u001b[90m━━━━━━━━━━━━━━━━━━━━━━━━━━━━━━━━━━━━━━━━\u001b[0m \u001b[32m11.0/11.0 MB\u001b[0m \u001b[31m42.6 MB/s\u001b[0m eta \u001b[36m0:00:00\u001b[0m \u001b[36m0:00:01\u001b[0m\n",
      "\u001b[?25hDownloading sentence_transformers-2.7.0-py3-none-any.whl (171 kB)\n",
      "\u001b[2K   \u001b[90m━━━━━━━━━━━━━━━━━━━━━━━━━━━━━━━━━━━━━━━━\u001b[0m \u001b[32m171.5/171.5 kB\u001b[0m \u001b[31m14.3 MB/s\u001b[0m eta \u001b[36m0:00:00\u001b[0m\n",
      "\u001b[?25hDownloading huggingface_hub-0.23.1-py3-none-any.whl (401 kB)\n",
      "\u001b[2K   \u001b[90m━━━━━━━━━━━━━━━━━━━━━━━━━━━━━━━━━━━━━━━━\u001b[0m \u001b[32m401.3/401.3 kB\u001b[0m \u001b[31m24.0 MB/s\u001b[0m eta \u001b[36m0:00:00\u001b[0m\n",
      "\u001b[?25hDownloading joblib-1.4.2-py3-none-any.whl (301 kB)\n",
      "\u001b[2K   \u001b[90m━━━━━━━━━━━━━━━━━━━━━━━━━━━━━━━━━━━━━━━━\u001b[0m \u001b[32m301.8/301.8 kB\u001b[0m \u001b[31m23.1 MB/s\u001b[0m eta \u001b[36m0:00:00\u001b[0m\n",
      "\u001b[?25hUsing cached scipy-1.13.0-cp311-cp311-macosx_12_0_arm64.whl (30.3 MB)\n",
      "Downloading threadpoolctl-3.5.0-py3-none-any.whl (18 kB)\n",
      "Using cached torch-2.3.0-cp311-none-macosx_11_0_arm64.whl (61.0 MB)\n",
      "Downloading transformers-4.41.0-py3-none-any.whl (9.1 MB)\n",
      "\u001b[2K   \u001b[90m━━━━━━━━━━━━━━━━━━━━━━━━━━━━━━━━━━━━━━━━\u001b[0m \u001b[32m9.1/9.1 MB\u001b[0m \u001b[31m42.2 MB/s\u001b[0m eta \u001b[36m0:00:00\u001b[0ma \u001b[36m0:00:01\u001b[0m\n",
      "\u001b[?25hUsing cached pillow-10.3.0-cp311-cp311-macosx_11_0_arm64.whl (3.4 MB)\n",
      "Downloading fsspec-2024.5.0-py3-none-any.whl (316 kB)\n",
      "\u001b[2K   \u001b[90m━━━━━━━━━━━━━━━━━━━━━━━━━━━━━━━━━━━━━━━━\u001b[0m \u001b[32m316.1/316.1 kB\u001b[0m \u001b[31m24.7 MB/s\u001b[0m eta \u001b[36m0:00:00\u001b[0m\n",
      "\u001b[?25hUsing cached safetensors-0.4.3-cp311-cp311-macosx_11_0_arm64.whl (410 kB)\n",
      "Using cached tokenizers-0.19.1-cp311-cp311-macosx_11_0_arm64.whl (2.4 MB)\n",
      "Using cached filelock-3.14.0-py3-none-any.whl (12 kB)\n",
      "Downloading jinja2-3.1.4-py3-none-any.whl (133 kB)\n",
      "\u001b[2K   \u001b[90m━━━━━━━━━━━━━━━━━━━━━━━━━━━━━━━━━━━━━━━━\u001b[0m \u001b[32m133.3/133.3 kB\u001b[0m \u001b[31m10.2 MB/s\u001b[0m eta \u001b[36m0:00:00\u001b[0m\n",
      "\u001b[?25hUsing cached networkx-3.3-py3-none-any.whl (1.7 MB)\n",
      "Using cached sympy-1.12-py3-none-any.whl (5.7 MB)\n",
      "Using cached MarkupSafe-2.1.5-cp311-cp311-macosx_10_9_universal2.whl (18 kB)\n",
      "Using cached mpmath-1.3.0-py3-none-any.whl (536 kB)\n",
      "Installing collected packages: mpmath, threadpoolctl, sympy, scipy, safetensors, Pillow, networkx, MarkupSafe, joblib, fsspec, filelock, scikit-learn, jinja2, huggingface-hub, torch, tokenizers, transformers, langchain-core, sentence-transformers\n",
      "  Attempting uninstall: langchain-core\n",
      "    Found existing installation: langchain-core 0.1.52\n",
      "    Uninstalling langchain-core-0.1.52:\n",
      "      Successfully uninstalled langchain-core-0.1.52\n",
      "\u001b[31mERROR: pip's dependency resolver does not currently take into account all the packages that are installed. This behaviour is the source of the following dependency conflicts.\n",
      "knowledge-store 0.1.0 requires langchain-core<0.2.0,>=0.1.50, but you have langchain-core 0.2.0 which is incompatible.\u001b[0m\u001b[31m\n",
      "\u001b[0mSuccessfully installed MarkupSafe-2.1.5 Pillow-10.3.0 filelock-3.14.0 fsspec-2024.5.0 huggingface-hub-0.23.1 jinja2-3.1.4 joblib-1.4.2 langchain-core-0.2.0 mpmath-1.3.0 networkx-3.3 safetensors-0.4.3 scikit-learn-1.5.0 scipy-1.13.0 sentence-transformers-2.7.0 sympy-1.12 threadpoolctl-3.5.0 tokenizers-0.19.1 torch-2.3.0 transformers-4.41.0\n",
      "\n",
      "\u001b[1m[\u001b[0m\u001b[34;49mnotice\u001b[0m\u001b[1;39;49m]\u001b[0m\u001b[39;49m A new release of pip is available: \u001b[0m\u001b[31;49m23.3.1\u001b[0m\u001b[39;49m -> \u001b[0m\u001b[32;49m24.0\u001b[0m\n",
      "\u001b[1m[\u001b[0m\u001b[34;49mnotice\u001b[0m\u001b[1;39;49m]\u001b[0m\u001b[39;49m To update, run: \u001b[0m\u001b[32;49mpip install --upgrade pip\u001b[0m\n",
      "Note: you may need to restart the kernel to use updated packages.\n"
     ]
    }
   ],
   "source": [
    "%pip install pypdf langchain-text-splitters keybert langchain-community"
   ]
  },
  {
   "cell_type": "code",
   "execution_count": 9,
   "metadata": {},
   "outputs": [
    {
     "name": "stderr",
     "output_type": "stream",
     "text": [
      "[autoreload of langchain_core.runnables.passthrough failed: Traceback (most recent call last):\n",
      "  File \"/Users/benjamin.chambers/Library/Caches/pypoetry/virtualenvs/knowledge-store-L8e7UibK-py3.11/lib/python3.11/site-packages/IPython/extensions/autoreload.py\", line 276, in check\n",
      "    superreload(m, reload, self.old_objects)\n",
      "  File \"/Users/benjamin.chambers/Library/Caches/pypoetry/virtualenvs/knowledge-store-L8e7UibK-py3.11/lib/python3.11/site-packages/IPython/extensions/autoreload.py\", line 500, in superreload\n",
      "    update_generic(old_obj, new_obj)\n",
      "  File \"/Users/benjamin.chambers/Library/Caches/pypoetry/virtualenvs/knowledge-store-L8e7UibK-py3.11/lib/python3.11/site-packages/IPython/extensions/autoreload.py\", line 397, in update_generic\n",
      "    update(a, b)\n",
      "  File \"/Users/benjamin.chambers/Library/Caches/pypoetry/virtualenvs/knowledge-store-L8e7UibK-py3.11/lib/python3.11/site-packages/IPython/extensions/autoreload.py\", line 365, in update_class\n",
      "    update_instances(old, new)\n",
      "  File \"/Users/benjamin.chambers/Library/Caches/pypoetry/virtualenvs/knowledge-store-L8e7UibK-py3.11/lib/python3.11/site-packages/IPython/extensions/autoreload.py\", line 323, in update_instances\n",
      "    object.__setattr__(ref, \"__class__\", new)\n",
      "TypeError: __class__ assignment: 'RunnablePassthrough' object layout differs from 'RunnablePassthrough'\n",
      "]\n"
     ]
    },
    {
     "data": {
      "text/plain": [
       "[Document(page_content='LayoutParser : A Uniﬁed Toolkit for Deep\\nLearning Based Document Image Analysis\\nZejiang Shen1( \\x00), Ruochen Zhang2, Melissa Dell3, Benjamin Charles Germain\\nLee4, Jacob Carlson3, and Weining Li5\\n1Allen Institute for AI\\nshannons@allenai.org\\n2Brown University\\nruochen zhang@brown.edu\\n3Harvard University\\n{melissadell,jacob carlson }@fas.harvard.edu\\n4University of Washington\\nbcgl@cs.washington.edu\\n5University of Waterloo\\nw422li@uwaterloo.ca\\nAbstract. Recent advances in document image analysis (DIA) have been\\nprimarily driven by the application of neural networks. Ideally, research\\noutcomes could be easily deployed in production and extended for further\\ninvestigation. However, various factors like loosely organized codebases\\nand sophisticated model conﬁgurations complicate the easy reuse of im-\\nportant innovations by a wide audience. Though there have been on-going\\neﬀorts to improve reusability and simplify deep learning (DL) model\\ndevelopment in disciplines like natural language processing and computer', metadata={'source': 'example_data/layout-parser-paper.pdf', 'page': 0}),\n",
       " Document(page_content='vision, none of them are optimized for challenges in the domain of DIA.\\nThis represents a major gap in the existing toolkit, as DIA is central to\\nacademic research across a wide range of disciplines in the social sciences\\nand humanities. This paper introduces LayoutParser , an open-source\\nlibrary for streamlining the usage of DL in DIA research and applica-\\ntions. The core LayoutParser library comes with a set of simple and\\nintuitive interfaces for applying and customizing DL models for layout de-\\ntection, character recognition, and many other document processing tasks.\\nTo promote extensibility, LayoutParser also incorporates a community\\nplatform for sharing both pre-trained models and full document digiti-\\nzation pipelines. We demonstrate that LayoutParser is helpful for both\\nlightweight and large-scale digitization pipelines in real-word use cases.\\nThe library is publicly available at https://layout-parser.github.io .\\nKeywords: Document Image Analysis ·Deep Learning ·Layout Analysis', metadata={'source': 'example_data/layout-parser-paper.pdf', 'page': 0}),\n",
       " Document(page_content='·Character Recognition ·Open Source library ·Toolkit.\\n1 Introduction\\nDeep Learning(DL)-based approaches are the state-of-the-art for a wide range of\\ndocument image analysis (DIA) tasks including document image classiﬁcation [ 11,arXiv:2103.15348v2  [cs.CV]  21 Jun 2021', metadata={'source': 'example_data/layout-parser-paper.pdf', 'page': 0}),\n",
       " Document(page_content='2 Z. Shen et al.\\n37], layout detection [ 38,22], table detection [ 26], and scene text detection [ 4].\\nA generalized learning-based framework dramatically reduces the need for the\\nmanual speciﬁcation of complicated rules, which is the status quo with traditional\\nmethods. DL has the potential to transform DIA pipelines and beneﬁt a broad\\nspectrum of large-scale document digitization projects.\\nHowever, there are several practical diﬃculties for taking advantages of re-\\ncent advances in DL-based methods: 1) DL models are notoriously convoluted\\nfor reuse and extension. Existing models are developed using distinct frame-\\nworks like TensorFlow [ 1] or PyTorch [ 24], and the high-level parameters can\\nbe obfuscated by implementation details [ 8]. It can be a time-consuming and\\nfrustrating experience to debug, reproduce, and adapt existing models for DIA,\\nand many researchers who would beneﬁt the most from using these methods lack\\nthe technical background to implement them from scratch. 2) Document images', metadata={'source': 'example_data/layout-parser-paper.pdf', 'page': 1}),\n",
       " Document(page_content='contain diverse and disparate patterns across domains, and customized training\\nis often required to achieve a desirable detection accuracy. Currently there is no\\nfull-ﬂedged infrastructure for easily curating the target document image datasets\\nand ﬁne-tuning or re-training the models. 3) DIA usually requires a sequence of\\nmodels and other processing to obtain the ﬁnal outputs. Often research teams use\\nDL models and then perform further document analyses in separate processes,\\nand these pipelines are not documented in any central location (and often not\\ndocumented at all). This makes it diﬃcult for research teams to learn about how\\nfull pipelines are implemented and leads them to invest signiﬁcant resources in\\nreinventing the DIA wheel .\\nLayoutParser provides a uniﬁed toolkit to support DL-based document image\\nanalysis and processing. To address the aforementioned challenges, LayoutParser\\nis built with the following components:\\n1.An oﬀ-the-shelf toolkit for applying DL models for layout detection, character', metadata={'source': 'example_data/layout-parser-paper.pdf', 'page': 1}),\n",
       " Document(page_content='recognition, and other DIA tasks (Section 3)\\n2.A rich repository of pre-trained neural network models (Model Zoo) that\\nunderlies the oﬀ-the-shelf usage\\n3.Comprehensive tools for eﬃcient document image data annotation and model\\ntuning to support diﬀerent levels of customization\\n4.A DL model hub and community platform for the easy sharing, distribu-\\ntion, and discussion of DIA models and pipelines, to promote reusability,\\nreproducibility, and extensibility (Section 4)\\nThe library implements simple and intuitive Python APIs without sacriﬁcing\\ngeneralizability and versatility, and can be easily installed via pip. Its convenient\\nfunctions for handling document image data can be seamlessly integrated with\\nexisting DIA pipelines. With detailed documentations and carefully curated\\ntutorials, we hope this tool will beneﬁt a variety of end-users, and will lead to\\nadvances in applications in both industry and academic research.\\nLayoutParser is well aligned with recent eﬀorts for improving DL model', metadata={'source': 'example_data/layout-parser-paper.pdf', 'page': 1}),\n",
       " Document(page_content='reusability in other disciplines like natural language processing [ 8,34] and com-\\nputer vision [ 35], but with a focus on unique challenges in DIA. We show\\nLayoutParser can be applied in sophisticated and large-scale digitization projects', metadata={'source': 'example_data/layout-parser-paper.pdf', 'page': 1}),\n",
       " Document(page_content='LayoutParser : A Uniﬁed Toolkit for DL-Based DIA 3\\nthat require precision, eﬃciency, and robustness, as well as simple and light-\\nweight document processing tasks focusing on eﬃcacy and ﬂexibility (Section 5).\\nLayoutParser is being actively maintained, and support for more deep learning\\nmodels and novel methods in text-based layout analysis methods [ 37,34] is\\nplanned.\\nThe rest of the paper is organized as follows. Section 2 provides an overview\\nof related work. The core LayoutParser library, DL Model Zoo, and customized\\nmodel training are described in Section 3, and the DL model hub and commu-\\nnity platform are detailed in Section 4. Section 5 shows two examples of how\\nLayoutParser can be used in practical DIA projects, and Section 6 concludes.\\n2 Related Work\\nRecently, various DL models and datasets have been developed for layout analysis\\ntasks. The dhSegment [ 22] utilizes fully convolutional networks [ 20] for segmen-\\ntation tasks on historical documents. Object detection-based methods like Faster', metadata={'source': 'example_data/layout-parser-paper.pdf', 'page': 2}),\n",
       " Document(page_content='R-CNN [ 28] and Mask R-CNN [ 12] are used for identifying document elements [ 38]\\nand detecting tables [ 30,26]. Most recently, Graph Neural Networks [ 29] have also\\nbeen used in table detection [ 27]. However, these models are usually implemented\\nindividually and there is no uniﬁed framework to load and use such models.\\nThere has been a surge of interest in creating open-source tools for document\\nimage processing: a search of document image analysis in Github leads to 5M\\nrelevant code pieces6; yet most of them rely on traditional rule-based methods\\nor provide limited functionalities. The closest prior research to our work is the\\nOCR-D project7, which also tries to build a complete toolkit for DIA. However,\\nsimilar to the platform developed by Neudecker et al. [ 21], it is designed for\\nanalyzing historical documents, and provides no supports for recent DL models.\\nThe DocumentLayoutAnalysis project8focuses on processing born-digital PDF', metadata={'source': 'example_data/layout-parser-paper.pdf', 'page': 2}),\n",
       " Document(page_content='documents via analyzing the stored PDF data. Repositories like DeepLayout9\\nand Detectron2-PubLayNet10are individual deep learning models trained on\\nlayout analysis datasets without support for the full DIA pipeline. The Document\\nAnalysis and Exploitation (DAE) platform [ 15] and the DeepDIVA project [ 2]\\naim to improve the reproducibility of DIA methods (or DL models), yet they\\nare not actively maintained. OCR engines like Tesseract [14],easyOCR11and\\npaddleOCR12usually do not come with comprehensive functionalities for other\\nDIA tasks like layout analysis.\\nRecent years have also seen numerous eﬀorts to create libraries for promoting\\nreproducibility and reusability in the ﬁeld of DL. Libraries like Dectectron2 [ 35],\\n6The number shown is obtained by specifying the search type as ‘code’.\\n7https://ocr-d.de/en/about\\n8https://github.com/BobLd/DocumentLayoutAnalysis\\n9https://github.com/leonlulu/DeepLayout\\n10https://github.com/hpanwar08/detectron2\\n11https://github.com/JaidedAI/EasyOCR', metadata={'source': 'example_data/layout-parser-paper.pdf', 'page': 2}),\n",
       " Document(page_content='11https://github.com/JaidedAI/EasyOCR\\n12https://github.com/PaddlePaddle/PaddleOCR', metadata={'source': 'example_data/layout-parser-paper.pdf', 'page': 2}),\n",
       " Document(page_content='4 Z. Shen et al.\\nEfficient Data AnnotationC u s t o m i z e d  M o d e l  T r a i n i n gModel Cust omizationDI A Model HubDI A Pipeline SharingCommunity PlatformLa y out Detection ModelsDocument Images \\nT h e  C o r e  L a y o u t P a r s e r  L i b r a r yOCR ModuleSt or age & VisualizationLa y out Data Structur e\\nFig. 1: The overall architecture of LayoutParser . For an input document image,\\nthe core LayoutParser library provides a set of oﬀ-the-shelf tools for layout\\ndetection, OCR, visualization, and storage, backed by a carefully designed layout\\ndata structure. LayoutParser also supports high level customization via eﬃcient\\nlayout annotation and model training functions. These improve model accuracy\\non the target samples. The community platform enables the easy sharing of DIA\\nmodels and whole digitization pipelines to promote reusability and reproducibility.\\nA collection of detailed documentation, tutorials and exemplar projects make\\nLayoutParser easy to learn and use.', metadata={'source': 'example_data/layout-parser-paper.pdf', 'page': 3}),\n",
       " Document(page_content='LayoutParser easy to learn and use.\\nAllenNLP [ 8] and transformers [ 34] have provided the community with complete\\nDL-based support for developing and deploying models for general computer\\nvision and natural language processing problems. LayoutParser , on the other\\nhand, specializes speciﬁcally in DIA tasks. LayoutParser is also equipped with a\\ncommunity platform inspired by established model hubs such as Torch Hub [23]\\nandTensorFlow Hub [1]. It enables the sharing of pretrained models as well as\\nfull document processing pipelines that are unique to DIA tasks.\\nThere have been a variety of document data collections to facilitate the\\ndevelopment of DL models. Some examples include PRImA [ 3](magazine layouts),\\nPubLayNet [ 38](academic paper layouts), Table Bank [ 18](tables in academic\\npapers), Newspaper Navigator Dataset [ 16,17](newspaper ﬁgure layouts) and\\nHJDataset [31](historical Japanese document layouts). A spectrum of models', metadata={'source': 'example_data/layout-parser-paper.pdf', 'page': 3}),\n",
       " Document(page_content='trained on these datasets are currently available in the LayoutParser model zoo\\nto support diﬀerent use cases.\\n3 The Core LayoutParser Library\\nAt the core of LayoutParser is an oﬀ-the-shelf toolkit that streamlines DL-\\nbased document image analysis. Five components support a simple interface\\nwith comprehensive functionalities: 1) The layout detection models enable using\\npre-trained or self-trained DL models for layout detection with just four lines\\nof code. 2) The detected layout information is stored in carefully engineered', metadata={'source': 'example_data/layout-parser-paper.pdf', 'page': 3}),\n",
       " Document(page_content='LayoutParser : A Uniﬁed Toolkit for DL-Based DIA 5\\nTable 1: Current layout detection models in the LayoutParser model zoo\\nDataset Base Model1Large Model Notes\\nPubLayNet [38] F / M M Layouts of modern scientiﬁc documents\\nPRImA [3] M - Layouts of scanned modern magazines and scientiﬁc reports\\nNewspaper [17] F - Layouts of scanned US newspapers from the 20th century\\nTableBank [18] F F Table region on modern scientiﬁc and business document\\nHJDataset [31] F / M - Layouts of history Japanese documents\\n1For each dataset, we train several models of diﬀerent sizes for diﬀerent needs (the trade-oﬀ between accuracy\\nvs. computational cost). For “base model” and “large model”, we refer to using the ResNet 50 or ResNet 101\\nbackbones [ 13], respectively. One can train models of diﬀerent architectures, like Faster R-CNN [ 28] (F) and Mask\\nR-CNN [ 12] (M). For example, an F in the Large Model column indicates it has a Faster R-CNN model trained', metadata={'source': 'example_data/layout-parser-paper.pdf', 'page': 4}),\n",
       " Document(page_content='using the ResNet 101 backbone. The platform is maintained and a number of additions will be made to the model\\nzoo in coming months.\\nlayout data structures , which are optimized for eﬃciency and versatility. 3) When\\nnecessary, users can employ existing or customized OCR models via the uniﬁed\\nAPI provided in the OCR module . 4)LayoutParser comes with a set of utility\\nfunctions for the visualization and storage of the layout data. 5) LayoutParser\\nis also highly customizable, via its integration with functions for layout data\\nannotation and model training . We now provide detailed descriptions for each\\ncomponent.\\n3.1 Layout Detection Models\\nInLayoutParser , a layout model takes a document image as an input and\\ngenerates a list of rectangular boxes for the target content regions. Diﬀerent\\nfrom traditional methods, it relies on deep convolutional neural networks rather\\nthan manually curated rules to identify content regions. It is formulated as an', metadata={'source': 'example_data/layout-parser-paper.pdf', 'page': 4}),\n",
       " Document(page_content='object detection problem and state-of-the-art models like Faster R-CNN [ 28] and\\nMask R-CNN [ 12] are used. This yields prediction results of high accuracy and\\nmakes it possible to build a concise, generalized interface for layout detection.\\nLayoutParser , built upon Detectron2 [ 35], provides a minimal API that can\\nperform layout detection with only four lines of code in Python:\\n1import layoutparser as lp\\n2image = cv2. imread (\" image_file \") # load images\\n3model = lp. Detectron2LayoutModel (\\n4 \"lp :// PubLayNet / faster_rcnn_R_50_FPN_3x / config \")\\n5layout = model . detect ( image )\\nLayoutParser provides a wealth of pre-trained model weights using various\\ndatasets covering diﬀerent languages, time periods, and document types. Due to\\ndomain shift [ 7], the prediction performance can notably drop when models are ap-\\nplied to target samples that are signiﬁcantly diﬀerent from the training dataset. As\\ndocument structures and layouts vary greatly in diﬀerent domains, it is important', metadata={'source': 'example_data/layout-parser-paper.pdf', 'page': 4}),\n",
       " Document(page_content='to select models trained on a dataset similar to the test samples. A semantic syntax\\nis used for initializing the model weights in LayoutParser , using both the dataset\\nname and model name lp://<dataset-name>/<model-architecture-name> .', metadata={'source': 'example_data/layout-parser-paper.pdf', 'page': 4}),\n",
       " Document(page_content='6 Z. Shen et al.\\nFig. 2: The relationship between the three types of layout data structures.\\nCoordinate supports three kinds of variation; TextBlock consists of the co-\\nordinate information and extra features like block text, types, and reading orders;\\naLayout object is a list of all possible layout elements, including other Layout\\nobjects. They all support the same set of transformation and operation APIs for\\nmaximum ﬂexibility.\\nShown in Table 1, LayoutParser currently hosts 9 pre-trained models trained\\non 5 diﬀerent datasets. Description of the training dataset is provided alongside\\nwith the trained models such that users can quickly identify the most suitable\\nmodels for their tasks. Additionally, when such a model is not readily available,\\nLayoutParser also supports training customized layout models and community\\nsharing of the models (detailed in Section 3.5).\\n3.2 Layout Data Structures\\nA critical feature of LayoutParser is the implementation of a series of data', metadata={'source': 'example_data/layout-parser-paper.pdf', 'page': 5}),\n",
       " Document(page_content='structures and operations that can be used to eﬃciently process and manipulate\\nthe layout elements. In document image analysis pipelines, various post-processing\\non the layout analysis model outputs is usually required to obtain the ﬁnal\\noutputs. Traditionally, this requires exporting DL model outputs and then loading\\nthe results into other pipelines. All model outputs from LayoutParser will be\\nstored in carefully engineered data types optimized for further processing, which\\nmakes it possible to build an end-to-end document digitization pipeline within\\nLayoutParser . There are three key components in the data structure, namely\\ntheCoordinate system, the TextBlock , and the Layout . They provide diﬀerent\\nlevels of abstraction for the layout data, and a set of APIs are supported for\\ntransformations or operations on these classes.', metadata={'source': 'example_data/layout-parser-paper.pdf', 'page': 5}),\n",
       " Document(page_content='LayoutParser : A Uniﬁed Toolkit for DL-Based DIA 7\\nCoordinates are the cornerstones for storing layout information. Currently,\\nthree types of Coordinate data structures are provided in LayoutParser , shown\\nin Figure 2. Interval and Rectangle are the most common data types and\\nsupport specifying 1D or 2D regions within a document. They are parameterized\\nwith 2 and 4 parameters. A Quadrilateral class is also implemented to support\\na more generalized representation of rectangular regions when the document\\nis skewed or distorted, where the 4 corner points can be speciﬁed and a total\\nof 8 degrees of freedom are supported. A wide collection of transformations\\nlikeshift ,pad, and scale , and operations like intersect ,union , and is_in ,\\nare supported for these classes. Notably, it is common to separate a segment\\nof the image and analyze it individually. LayoutParser provides full support\\nfor this scenario via image cropping operations crop_image and coordinate', metadata={'source': 'example_data/layout-parser-paper.pdf', 'page': 6}),\n",
       " Document(page_content='transformations like relative_to andcondition_on that transform coordinates\\nto and from their relative representations. We refer readers to Table 2 for a more\\ndetailed description of these operations13.\\nBased on Coordinate s, we implement the TextBlock class that stores both\\nthe positional and extra features of individual layout elements. It also supports\\nspecifying the reading orders via setting the parent ﬁeld to the index of the parent\\nobject. A Layout class is built that takes in a list of TextBlock s and supports\\nprocessing the elements in batch. Layout can also be nested to support hierarchical\\nlayout structures. They support the same operations and transformations as the\\nCoordinate classes, minimizing both learning and deployment eﬀort.\\n3.3 OCR\\nLayoutParser provides a uniﬁed interface for existing OCR tools. Though there\\nare many OCR tools available, they are usually conﬁgured diﬀerently with distinct\\nAPIs or protocols for using them. It can be ineﬃcient to add new OCR tools into', metadata={'source': 'example_data/layout-parser-paper.pdf', 'page': 6}),\n",
       " Document(page_content='an existing pipeline, and diﬃcult to make direct comparisons among the available\\ntools to ﬁnd the best option for a particular project. To this end, LayoutParser\\nbuilds a series of wrappers among existing OCR engines, and provides nearly\\nthe same syntax for using them. It supports a plug-and-play style of using OCR\\nengines, making it eﬀortless to switch, evaluate, and compare diﬀerent OCR\\nmodules:\\n1ocr_agent = lp. TesseractAgent ()\\n2# Can be easily switched to other OCR software\\n3tokens = ocr_agent . detect ( image )\\nThe OCR outputs will also be stored in the aforementioned layout data\\nstructures and can be seamlessly incorporated into the digitization pipeline.\\nCurrently LayoutParser supports the Tesseract and Google Cloud Vision OCR\\nengines.\\nLayoutParser also comes with a DL-based CNN-RNN OCR model [ 6] trained\\nwith the Connectionist Temporal Classiﬁcation (CTC) loss [ 10]. It can be used\\nlike the other OCR modules, and can be easily trained on customized datasets.', metadata={'source': 'example_data/layout-parser-paper.pdf', 'page': 6}),\n",
       " Document(page_content='13This is also available in the LayoutParser documentation pages.', metadata={'source': 'example_data/layout-parser-paper.pdf', 'page': 6}),\n",
       " Document(page_content='8 Z. Shen et al.\\nTable 2: All operations supported by the layout elements. The same APIs are\\nsupported across diﬀerent layout element classes including Coordinate types,\\nTextBlock andLayout .\\nOperation Name Description\\nblock.pad(top, bottom, right, left) Enlarge the current block according to the input\\nblock.scale(fx, fy)Scale the current block given the ratio\\nin x and y direction\\nblock.shift(dx, dy)Move the current block with the shift\\ndistances in x and y direction\\nblock1.is in(block2) Whether block1 is inside of block2\\nblock1.intersect(block2)Return the intersection region of block1 and block2.\\nCoordinate type to be determined based on the inputs.\\nblock1.union(block2)Return the union region of block1 and block2.\\nCoordinate type to be determined based on the inputs.\\nblock1.relative to(block2)Convert the absolute coordinates of block1 to\\nrelative coordinates to block2\\nblock1.condition on(block2)Calculate the absolute coordinates of block1 given\\nthe canvas block2’s absolute coordinates', metadata={'source': 'example_data/layout-parser-paper.pdf', 'page': 7}),\n",
       " Document(page_content='the canvas block2’s absolute coordinates\\nblock.crop image(image) Obtain the image segments in the block region\\n3.4 Storage and visualization\\nThe end goal of DIA is to transform the image-based document data into a\\nstructured database. LayoutParser supports exporting layout data into diﬀerent\\nformats like JSON,csv, and will add the support for the METS/ALTO XML\\nformat14. It can also load datasets from layout analysis-speciﬁc formats like\\nCOCO [38] and the Page Format [25] for training layout models (Section 3.5).\\nVisualization of the layout detection results is critical for both presentation\\nand debugging. LayoutParser is built with an integrated API for displaying the\\nlayout information along with the original document image. Shown in Figure 3, it\\nenables presenting layout data with rich meta information and features in diﬀerent\\nmodes. More detailed information can be found in the online LayoutParser\\ndocumentation page.\\n3.5 Customized Model Training', metadata={'source': 'example_data/layout-parser-paper.pdf', 'page': 7}),\n",
       " Document(page_content='documentation page.\\n3.5 Customized Model Training\\nBesides the oﬀ-the-shelf library, LayoutParser is also highly customizable with\\nsupports for highly unique and challenging document analysis tasks. Target\\ndocument images can be vastly diﬀerent from the existing datasets for train-\\ning layout models, which leads to low layout detection accuracy. Training data\\n14https://altoxml.github.io', metadata={'source': 'example_data/layout-parser-paper.pdf', 'page': 7}),\n",
       " Document(page_content='LayoutParser : A Uniﬁed Toolkit for DL-Based DIA 9\\nFig. 3: Layout detection and OCR results visualization generated by the\\nLayoutParser APIs. Mode I directly overlays the layout region bounding boxes\\nand categories over the original image. Mode II recreates the original document\\nvia drawing the OCR’d texts at their corresponding positions on the image\\ncanvas. In this ﬁgure, tokens in textual regions are ﬁltered using the API and\\nthen displayed.\\ncan also be highly sensitive and not sharable publicly. To overcome these chal-\\nlenges, LayoutParser is built with rich features for eﬃcient data annotation and\\ncustomized model training.\\nLayoutParser incorporates a toolkit optimized for annotating document lay-\\nouts using object-level active learning [ 32]. With the help from a layout detection\\nmodel trained along with labeling, only the most important layout objects within\\neach image, rather than the whole image, are required for labeling. The rest of', metadata={'source': 'example_data/layout-parser-paper.pdf', 'page': 8}),\n",
       " Document(page_content='the regions are automatically annotated with high conﬁdence predictions from\\nthe layout detection model. This allows a layout dataset to be created more\\neﬃciently with only around 60% of the labeling budget.\\nAfter the training dataset is curated, LayoutParser supports diﬀerent modes\\nfor training the layout models. Fine-tuning can be used for training models on a\\nsmall newly-labeled dataset by initializing the model with existing pre-trained\\nweights. Training from scratch can be helpful when the source dataset and\\ntarget are signiﬁcantly diﬀerent and a large training set is available. However, as\\nsuggested in Studer et al.’s work[ 33], loading pre-trained weights on large-scale\\ndatasets like ImageNet [ 5], even from totally diﬀerent domains, can still boost\\nmodel performance. Through the integrated API provided by LayoutParser ,\\nusers can easily compare model performances on the benchmark datasets.', metadata={'source': 'example_data/layout-parser-paper.pdf', 'page': 8}),\n",
       " Document(page_content='10 Z. Shen et al.\\nFig. 4: Illustration of (a) the original historical Japanese document with layout\\ndetection results and (b) a recreated version of the document image that achieves\\nmuch better character recognition recall. The reorganization algorithm rearranges\\nthe tokens based on the their detected bounding boxes given a maximum allowed\\nheight.\\n4LayoutParser Community Platform\\nAnother focus of LayoutParser is promoting the reusability of layout detection\\nmodels and full digitization pipelines. Similar to many existing deep learning\\nlibraries, LayoutParser comes with a community model hub for distributing\\nlayout models. End-users can upload their self-trained models to the model hub,\\nand these models can be loaded into a similar interface as the currently available\\nLayoutParser pre-trained models. For example, the model trained on the News\\nNavigator dataset [17] has been incorporated in the model hub.\\nBeyond DL models, LayoutParser also promotes the sharing of entire doc-', metadata={'source': 'example_data/layout-parser-paper.pdf', 'page': 9}),\n",
       " Document(page_content='ument digitization pipelines. For example, sometimes the pipeline requires the\\ncombination of multiple DL models to achieve better accuracy. Currently, pipelines\\nare mainly described in academic papers and implementations are often not pub-\\nlicly available. To this end, the LayoutParser community platform also enables\\nthe sharing of layout pipelines to promote the discussion and reuse of techniques.\\nFor each shared pipeline, it has a dedicated project page, with links to the source\\ncode, documentation, and an outline of the approaches. A discussion panel is\\nprovided for exchanging ideas. Combined with the core LayoutParser library,\\nusers can easily build reusable components based on the shared pipelines and\\napply them to solve their unique problems.\\n5 Use Cases\\nThe core objective of LayoutParser is to make it easier to create both large-scale\\nand light-weight document digitization pipelines. Large-scale document processing', metadata={'source': 'example_data/layout-parser-paper.pdf', 'page': 9}),\n",
       " Document(page_content='LayoutParser : A Uniﬁed Toolkit for DL-Based DIA 11\\nfocuses on precision, eﬃciency, and robustness. The target documents may have\\ncomplicated structures, and may require training multiple layout detection models\\nto achieve the optimal accuracy. Light-weight pipelines are built for relatively\\nsimple documents, with an emphasis on development ease, speed and ﬂexibility.\\nIdeally one only needs to use existing resources, and model training should be\\navoided. Through two exemplar projects, we show how practitioners in both\\nacademia and industry can easily build such pipelines using LayoutParser and\\nextract high-quality structured document data for their downstream tasks. The\\nsource code for these projects will be publicly available in the LayoutParser\\ncommunity hub.\\n5.1 A Comprehensive Historical Document Digitization Pipeline\\nThe digitization of historical documents can unlock valuable data that can shed\\nlight on many important social, economic, and historical questions. Yet due to', metadata={'source': 'example_data/layout-parser-paper.pdf', 'page': 10}),\n",
       " Document(page_content='scan noises, page wearing, and the prevalence of complicated layout structures, ob-\\ntaining a structured representation of historical document scans is often extremely\\ncomplicated.\\nFig. 5: Illustration of how LayoutParser\\nhelps with the historical document digi-\\ntization pipeline.In this example, LayoutParser was\\nused to develop a comprehensive\\npipeline, shown in Figure 5, to gener-\\nate high-quality structured data from\\nhistorical Japanese ﬁrm ﬁnancial ta-\\nbles with complicated layouts. The\\npipeline applies two layout models to\\nidentify diﬀerent levels of document\\nstructures and two customized OCR\\nengines for optimized character recog-\\nnition accuracy.\\nAs shown in Figure 4 (a), the\\ndocument contains columns of text\\nwritten vertically15, a common style\\nin Japanese. Due to scanning noise\\nand archaic printing technology, the\\ncolumns can be skewed or have vari-\\nable widths, and hence cannot be eas-\\nily identiﬁed via rule-based methods.\\nWithin each column, words are sepa-\\nrated by white spaces of variable size,', metadata={'source': 'example_data/layout-parser-paper.pdf', 'page': 10}),\n",
       " Document(page_content='rated by white spaces of variable size,\\nand the vertical positions of objects\\ncan be an indicator of their layout\\ntype.\\n15A document page consists of eight rows like this. For simplicity we skip the row\\nsegmentation discussion and refer readers to the source code when available.', metadata={'source': 'example_data/layout-parser-paper.pdf', 'page': 10}),\n",
       " Document(page_content='12 Z. Shen et al.\\nTo decipher the complicated layout\\nstructure, two object detection models have been trained to recognize individual\\ncolumns and tokens, respectively. A small training set (400 images with approxi-\\nmately 100 annotations each) is curated via the active learning based annotation\\ntool [ 32] inLayoutParser . The models learn to identify both the categories and\\nregions for each token or column via their distinct visual features. The layout\\ndata structure enables easy grouping of the tokens within each column, and\\nrearranging columns to achieve the correct reading orders based on the horizontal\\nposition. Errors are identiﬁed and rectiﬁed via checking the consistency of the\\nmodel predictions. Therefore, though trained on a small dataset, the pipeline\\nachieves a high level of layout detection accuracy: it achieves a 96.97 AP [ 19]\\nscore across 5 categories for the column detection model, and a 89.23 AP across\\n4 categories for the token detection model.', metadata={'source': 'example_data/layout-parser-paper.pdf', 'page': 11}),\n",
       " Document(page_content='4 categories for the token detection model.\\nA combination of character recognition methods is developed to tackle the\\nunique challenges in this document. In our experiments, we found that irregular\\nspacing between the tokens led to a low character recognition recall rate, whereas\\nexisting OCR models tend to perform better on densely-arranged texts. To\\novercome this challenge, we create a document reorganization algorithm that\\nrearranges the text based on the token bounding boxes detected in the layout\\nanalysis step. Figure 4 (b) illustrates the generated image of dense text, which is\\nsent to the OCR APIs as a whole to reduce the transaction costs. The ﬂexible\\ncoordinate system in LayoutParser is used to transform the OCR results relative\\nto their original positions on the page.\\nAdditionally, it is common for historical documents to use unique fonts\\nwith diﬀerent glyphs, which signiﬁcantly degrades the accuracy of OCR models\\ntrained on modern texts. In this document, a special ﬂat font is used for printing', metadata={'source': 'example_data/layout-parser-paper.pdf', 'page': 11}),\n",
       " Document(page_content='numbers and could not be detected by oﬀ-the-shelf OCR engines. Using the highly\\nﬂexible functionalities from LayoutParser , a pipeline approach is constructed\\nthat achieves a high recognition accuracy with minimal eﬀort. As the characters\\nhave unique visual structures and are usually clustered together, we train the\\nlayout model to identify number regions with a dedicated category. Subsequently,\\nLayoutParser crops images within these regions, and identiﬁes characters within\\nthem using a self-trained OCR model based on a CNN-RNN [ 6]. The model\\ndetects a total of 15 possible categories, and achieves a 0.98 Jaccard score16and\\na 0.17 average Levinstein distances17for token prediction on the test set.\\nOverall, it is possible to create an intricate and highly accurate digitization\\npipeline for large-scale digitization using LayoutParser . The pipeline avoids\\nspecifying the complicated rules used in traditional methods, is straightforward', metadata={'source': 'example_data/layout-parser-paper.pdf', 'page': 11}),\n",
       " Document(page_content='to develop, and is robust to outliers. The DL models also generate ﬁne-grained\\nresults that enable creative approaches like page reorganization for OCR.\\n16This measures the overlap between the detected and ground-truth characters, and\\nthe maximum is 1.\\n17This measures the number of edits from the ground-truth text to the predicted text,\\nand lower is better.', metadata={'source': 'example_data/layout-parser-paper.pdf', 'page': 11}),\n",
       " Document(page_content='LayoutParser : A Uniﬁed Toolkit for DL-Based DIA 13\\nFig. 6: This lightweight table detector can identify tables (outlined in red) and\\ncells (shaded in blue) in diﬀerent locations on a page. In very few cases (d), it\\nmight generate minor error predictions, e.g, failing to capture the top text line of\\na table.\\n5.2 A light-weight Visual Table Extractor\\nDetecting tables and parsing their structures (table extraction) are of central im-\\nportance for many document digitization tasks. Many previous works [ 26,30,27]\\nand tools18have been developed to identify and parse table structures. Yet they\\nmight require training complicated models from scratch, or are only applicable\\nfor born-digital PDF documents. In this section, we show how LayoutParser can\\nhelp build a light-weight accurate visual table extractor for legal docket tables\\nusing the existing resources with minimal eﬀort.\\nThe extractor uses a pre-trained layout detection model for identifying the', metadata={'source': 'example_data/layout-parser-paper.pdf', 'page': 12}),\n",
       " Document(page_content='table regions and some simple rules for pairing the rows and the columns in the\\nPDF image. Mask R-CNN [ 12] trained on the PubLayNet dataset [ 38] from the\\nLayoutParser Model Zoo can be used for detecting table regions. By ﬁltering\\nout model predictions of low conﬁdence and removing overlapping predictions,\\nLayoutParser can identify the tabular regions on each page, which signiﬁcantly\\nsimpliﬁes the subsequent steps. By applying the line detection functions within\\nthe tabular segments, provided in the utility module from LayoutParser , the\\npipeline can identify the three distinct columns in the tables. A row clustering\\nmethod is then applied via analyzing the y coordinates of token bounding boxes in\\nthe left-most column, which are obtained from the OCR engines. A non-maximal\\nsuppression algorithm is used to remove duplicated rows with extremely small\\ngaps. Shown in Figure 6, the built pipeline can detect tables at diﬀerent positions\\non a page accurately. Continued tables from diﬀerent pages are concatenated,', metadata={'source': 'example_data/layout-parser-paper.pdf', 'page': 12}),\n",
       " Document(page_content='and a structured table representation has been easily created.\\n18https://github.com/atlanhq/camelot, https://github.com/tabulapdf/tabula', metadata={'source': 'example_data/layout-parser-paper.pdf', 'page': 12}),\n",
       " Document(page_content='14 Z. Shen et al.\\n6 Conclusion\\nLayoutParser provides a comprehensive toolkit for deep learning-based document\\nimage analysis. The oﬀ-the-shelf library is easy to install, and can be used to\\nbuild ﬂexible and accurate pipelines for processing documents with complicated\\nstructures. It also supports high-level customization and enables easy labeling and\\ntraining of DL models on unique document image datasets. The LayoutParser\\ncommunity platform facilitates sharing DL models and DIA pipelines, inviting\\ndiscussion and promoting code reproducibility and reusability. The LayoutParser\\nteam is committed to keeping the library updated continuously and bringing\\nthe most recent advances in DL-based DIA, such as multi-modal document\\nmodeling [37, 36, 9] (an upcoming priority), to a diverse audience of end-users.\\nAcknowledgements We thank the anonymous reviewers for their comments\\nand suggestions. This project is supported in part by NSF Grant OIA-2033558', metadata={'source': 'example_data/layout-parser-paper.pdf', 'page': 13}),\n",
       " Document(page_content='and funding from the Harvard Data Science Initiative and Harvard Catalyst.\\nZejiang Shen thanks Doug Downey for suggestions.\\nReferences\\n[1]Abadi, M., Agarwal, A., Barham, P., Brevdo, E., Chen, Z., Citro, C., Corrado,\\nG.S., Davis, A., Dean, J., Devin, M., Ghemawat, S., Goodfellow, I., Harp, A.,\\nIrving, G., Isard, M., Jia, Y., Jozefowicz, R., Kaiser, L., Kudlur, M., Levenberg,\\nJ., Man´ e, D., Monga, R., Moore, S., Murray, D., Olah, C., Schuster, M., Shlens, J.,\\nSteiner, B., Sutskever, I., Talwar, K., Tucker, P., Vanhoucke, V., Vasudevan, V.,\\nVi´ egas, F., Vinyals, O., Warden, P., Wattenberg, M., Wicke, M., Yu, Y., Zheng,\\nX.: TensorFlow: Large-scale machine learning on heterogeneous systems (2015),\\nhttps://www.tensorflow.org/ , software available from tensorﬂow.org\\n[2]Alberti, M., Pondenkandath, V., W¨ ursch, M., Ingold, R., Liwicki, M.: Deepdiva: a\\nhighly-functional python framework for reproducible experiments. In: 2018 16th\\nInternational Conference on Frontiers in Handwriting Recognition (ICFHR). pp.', metadata={'source': 'example_data/layout-parser-paper.pdf', 'page': 13}),\n",
       " Document(page_content='423–428. IEEE (2018)\\n[3]Antonacopoulos, A., Bridson, D., Papadopoulos, C., Pletschacher, S.: A realistic\\ndataset for performance evaluation of document layout analysis. In: 2009 10th\\nInternational Conference on Document Analysis and Recognition. pp. 296–300.\\nIEEE (2009)\\n[4]Baek, Y., Lee, B., Han, D., Yun, S., Lee, H.: Character region awareness for text\\ndetection. In: Proceedings of the IEEE/CVF Conference on Computer Vision and\\nPattern Recognition. pp. 9365–9374 (2019)\\n[5]Deng, J., Dong, W., Socher, R., Li, L.J., Li, K., Fei-Fei, L.: ImageNet: A Large-Scale\\nHierarchical Image Database. In: CVPR09 (2009)\\n[6]Deng, Y., Kanervisto, A., Ling, J., Rush, A.M.: Image-to-markup generation with\\ncoarse-to-ﬁne attention. In: International Conference on Machine Learning. pp.\\n980–989. PMLR (2017)\\n[7]Ganin, Y., Lempitsky, V.: Unsupervised domain adaptation by backpropagation.\\nIn: International conference on machine learning. pp. 1180–1189. PMLR (2015)', metadata={'source': 'example_data/layout-parser-paper.pdf', 'page': 13}),\n",
       " Document(page_content='LayoutParser : A Uniﬁed Toolkit for DL-Based DIA 15\\n[8]Gardner, M., Grus, J., Neumann, M., Tafjord, O., Dasigi, P., Liu, N., Peters,\\nM., Schmitz, M., Zettlemoyer, L.: Allennlp: A deep semantic natural language\\nprocessing platform. arXiv preprint arXiv:1803.07640 (2018)\\n[9]  L ukasz Garncarek, Powalski, R., Stanis lawek, T., Topolski, B., Halama, P.,\\nGrali´ nski, F.: Lambert: Layout-aware (language) modeling using bert for in-\\nformation extraction (2020)\\n[10]Graves, A., Fern´ andez, S., Gomez, F., Schmidhuber, J.: Connectionist temporal\\nclassiﬁcation: labelling unsegmented sequence data with recurrent neural networks.\\nIn: Proceedings of the 23rd international conference on Machine learning. pp.\\n369–376 (2006)\\n[11] Harley, A.W., Ufkes, A., Derpanis, K.G.: Evaluation of deep convolutional nets for\\ndocument image classiﬁcation and retrieval. In: 2015 13th International Conference\\non Document Analysis and Recognition (ICDAR). pp. 991–995. IEEE (2015)', metadata={'source': 'example_data/layout-parser-paper.pdf', 'page': 14}),\n",
       " Document(page_content='[12] He, K., Gkioxari, G., Doll´ ar, P., Girshick, R.: Mask r-cnn. In: Proceedings of the\\nIEEE international conference on computer vision. pp. 2961–2969 (2017)\\n[13] He, K., Zhang, X., Ren, S., Sun, J.: Deep residual learning for image recognition.\\nIn: Proceedings of the IEEE conference on computer vision and pattern recognition.\\npp. 770–778 (2016)\\n[14] Kay, A.: Tesseract: An open-source optical character recognition engine. Linux J.\\n2007 (159), 2 (Jul 2007)\\n[15] Lamiroy, B., Lopresti, D.: An open architecture for end-to-end document analysis\\nbenchmarking. In: 2011 International Conference on Document Analysis and\\nRecognition. pp. 42–47. IEEE (2011)\\n[16]Lee, B.C., Weld, D.S.: Newspaper navigator: Open faceted search for 1.5\\nmillion images. In: Adjunct Publication of the 33rd Annual ACM Sym-\\nposium on User Interface Software and Technology. p. 120–122. UIST\\n’20 Adjunct, Association for Computing Machinery, New York, NY, USA\\n(2020). https://doi.org/10.1145/3379350.3416143, https://doi-org.offcampus.', metadata={'source': 'example_data/layout-parser-paper.pdf', 'page': 14}),\n",
       " Document(page_content='lib.washington.edu/10.1145/3379350.3416143\\n[17]Lee, B.C.G., Mears, J., Jakeway, E., Ferriter, M., Adams, C., Yarasavage, N.,\\nThomas, D., Zwaard, K., Weld, D.S.: The Newspaper Navigator Dataset: Extracting\\nHeadlines and Visual Content from 16 Million Historic Newspaper Pages in\\nChronicling America, p. 3055–3062. Association for Computing Machinery, New\\nYork, NY, USA (2020), https://doi.org/10.1145/3340531.3412767\\n[18] Li, M., Cui, L., Huang, S., Wei, F., Zhou, M., Li, Z.: Tablebank: Table benchmark\\nfor image-based table detection and recognition. arXiv preprint arXiv:1903.01949\\n(2019)\\n[19] Lin, T.Y., Maire, M., Belongie, S., Hays, J., Perona, P., Ramanan, D., Doll´ ar, P.,\\nZitnick, C.L.: Microsoft coco: Common objects in context. In: European conference\\non computer vision. pp. 740–755. Springer (2014)\\n[20]Long, J., Shelhamer, E., Darrell, T.: Fully convolutional networks for semantic\\nsegmentation. In: Proceedings of the IEEE conference on computer vision and\\npattern recognition. pp. 3431–3440 (2015)', metadata={'source': 'example_data/layout-parser-paper.pdf', 'page': 14}),\n",
       " Document(page_content='pattern recognition. pp. 3431–3440 (2015)\\n[21] Neudecker, C., Schlarb, S., Dogan, Z.M., Missier, P., Suﬁ, S., Williams, A., Wolsten-\\ncroft, K.: An experimental workﬂow development platform for historical document\\ndigitisation and analysis. In: Proceedings of the 2011 workshop on historical\\ndocument imaging and processing. pp. 161–168 (2011)\\n[22] Oliveira, S.A., Seguin, B., Kaplan, F.: dhsegment: A generic deep-learning approach\\nfor document segmentation. In: 2018 16th International Conference on Frontiers\\nin Handwriting Recognition (ICFHR). pp. 7–12. IEEE (2018)', metadata={'source': 'example_data/layout-parser-paper.pdf', 'page': 14}),\n",
       " Document(page_content='16 Z. Shen et al.\\n[23]Paszke, A., Gross, S., Chintala, S., Chanan, G., Yang, E., DeVito, Z., Lin, Z.,\\nDesmaison, A., Antiga, L., Lerer, A.: Automatic diﬀerentiation in pytorch (2017)\\n[24]Paszke, A., Gross, S., Massa, F., Lerer, A., Bradbury, J., Chanan, G., Killeen,\\nT., Lin, Z., Gimelshein, N., Antiga, L., et al.: Pytorch: An imperative style,\\nhigh-performance deep learning library. arXiv preprint arXiv:1912.01703 (2019)\\n[25] Pletschacher, S., Antonacopoulos, A.: The page (page analysis and ground-truth\\nelements) format framework. In: 2010 20th International Conference on Pattern\\nRecognition. pp. 257–260. IEEE (2010)\\n[26] Prasad, D., Gadpal, A., Kapadni, K., Visave, M., Sultanpure, K.: Cascadetabnet:\\nAn approach for end to end table detection and structure recognition from image-\\nbased documents. In: Proceedings of the IEEE/CVF Conference on Computer\\nVision and Pattern Recognition Workshops. pp. 572–573 (2020)\\n[27] Qasim, S.R., Mahmood, H., Shafait, F.: Rethinking table recognition using graph', metadata={'source': 'example_data/layout-parser-paper.pdf', 'page': 15}),\n",
       " Document(page_content='neural networks. In: 2019 International Conference on Document Analysis and\\nRecognition (ICDAR). pp. 142–147. IEEE (2019)\\n[28]Ren, S., He, K., Girshick, R., Sun, J.: Faster r-cnn: Towards real-time object\\ndetection with region proposal networks. In: Advances in neural information\\nprocessing systems. pp. 91–99 (2015)\\n[29] Scarselli, F., Gori, M., Tsoi, A.C., Hagenbuchner, M., Monfardini, G.: The graph\\nneural network model. IEEE transactions on neural networks 20(1), 61–80 (2008)\\n[30] Schreiber, S., Agne, S., Wolf, I., Dengel, A., Ahmed, S.: Deepdesrt: Deep learning\\nfor detection and structure recognition of tables in document images. In: 2017 14th\\nIAPR international conference on document analysis and recognition (ICDAR).\\nvol. 1, pp. 1162–1167. IEEE (2017)\\n[31]Shen, Z., Zhang, K., Dell, M.: A large dataset of historical japanese documents\\nwith complex layouts. In: Proceedings of the IEEE/CVF Conference on Computer\\nVision and Pattern Recognition Workshops. pp. 548–549 (2020)', metadata={'source': 'example_data/layout-parser-paper.pdf', 'page': 15}),\n",
       " Document(page_content='Vision and Pattern Recognition Workshops. pp. 548–549 (2020)\\n[32]Shen, Z., Zhao, J., Dell, M., Yu, Y., Li, W.: Olala: Object-level active learning\\nbased layout annotation. arXiv preprint arXiv:2010.01762 (2020)\\n[33]Studer, L., Alberti, M., Pondenkandath, V., Goktepe, P., Kolonko, T., Fischer,\\nA., Liwicki, M., Ingold, R.: A comprehensive study of imagenet pre-training for\\nhistorical document image analysis. In: 2019 International Conference on Document\\nAnalysis and Recognition (ICDAR). pp. 720–725. IEEE (2019)\\n[34]Wolf, T., Debut, L., Sanh, V., Chaumond, J., Delangue, C., Moi, A., Cistac, P.,\\nRault, T., Louf, R., Funtowicz, M., et al.: Huggingface’s transformers: State-of-\\nthe-art natural language processing. arXiv preprint arXiv:1910.03771 (2019)\\n[35]Wu, Y., Kirillov, A., Massa, F., Lo, W.Y., Girshick, R.: Detectron2. https://\\ngithub.com/facebookresearch/detectron2 (2019)\\n[36] Xu, Y., Xu, Y., Lv, T., Cui, L., Wei, F., Wang, G., Lu, Y., Florencio, D., Zhang, C.,', metadata={'source': 'example_data/layout-parser-paper.pdf', 'page': 15}),\n",
       " Document(page_content='Che, W., et al.: Layoutlmv2: Multi-modal pre-training for visually-rich document\\nunderstanding. arXiv preprint arXiv:2012.14740 (2020)\\n[37] Xu, Y., Li, M., Cui, L., Huang, S., Wei, F., Zhou, M.: Layoutlm: Pre-training of\\ntext and layout for document image understanding (2019)\\n[38]Zhong, X., Tang, J., Yepes, A.J.: Publaynet: largest dataset ever for doc-\\nument layout analysis. In: 2019 International Conference on Document\\nAnalysis and Recognition (ICDAR). pp. 1015–1022. IEEE (Sep 2019).\\nhttps://doi.org/10.1109/ICDAR.2019.00166', metadata={'source': 'example_data/layout-parser-paper.pdf', 'page': 15})]"
      ]
     },
     "execution_count": 9,
     "metadata": {},
     "output_type": "execute_result"
    }
   ],
   "source": [
    "from langchain_community.document_loaders import PyPDFLoader\n",
    "from langchain_text_splitters import RecursiveCharacterTextSplitter\n",
    "\n",
    "text_splitter = RecursiveCharacterTextSplitter(\n",
    "    chunk_size=1024,\n",
    "    chunk_overlap=64,\n",
    "    length_function=len,\n",
    "    is_separator_regex=False,\n",
    ")\n",
    "\n",
    "loader = PyPDFLoader(\"example_data/layout-parser-paper.pdf\")\n",
    "pages = loader.load_and_split(text_splitter)\n",
    "pages"
   ]
  },
  {
   "cell_type": "code",
   "execution_count": 10,
   "metadata": {},
   "outputs": [
    {
     "name": "stderr",
     "output_type": "stream",
     "text": [
      "/Users/benjamin.chambers/Library/Caches/pypoetry/virtualenvs/knowledge-store-L8e7UibK-py3.11/lib/python3.11/site-packages/tqdm/auto.py:21: TqdmWarning: IProgress not found. Please update jupyter and ipywidgets. See https://ipywidgets.readthedocs.io/en/stable/user_install.html\n",
      "  from .autonotebook import tqdm as notebook_tqdm\n"
     ]
    },
    {
     "data": {
      "text/plain": [
       "Document(page_content='LayoutParser : A Uniﬁed Toolkit for Deep\\nLearning Based Document Image Analysis\\nZejiang Shen1( \\x00), Ruochen Zhang2, Melissa Dell3, Benjamin Charles Germain\\nLee4, Jacob Carlson3, and Weining Li5\\n1Allen Institute for AI\\nshannons@allenai.org\\n2Brown University\\nruochen zhang@brown.edu\\n3Harvard University\\n{melissadell,jacob carlson }@fas.harvard.edu\\n4University of Washington\\nbcgl@cs.washington.edu\\n5University of Waterloo\\nw422li@uwaterloo.ca\\nAbstract. Recent advances in document image analysis (DIA) have been\\nprimarily driven by the application of neural networks. Ideally, research\\noutcomes could be easily deployed in production and extended for further\\ninvestigation. However, various factors like loosely organized codebases\\nand sophisticated model conﬁgurations complicate the easy reuse of im-\\nportant innovations by a wide audience. Though there have been on-going\\neﬀorts to improve reusability and simplify deep learning (DL) model\\ndevelopment in disciplines like natural language processing and computer', metadata={'source': 'example_data/layout-parser-paper.pdf', 'page': 0, 'keywords': ['document', 'neural', 'layoutparser', 'networks', 'learning']})"
      ]
     },
     "execution_count": 10,
     "metadata": {},
     "output_type": "execute_result"
    }
   ],
   "source": [
    "from keybert import KeyBERT\n",
    "\n",
    "kw_model = KeyBERT()\n",
    "keywords = kw_model.extract_keywords([doc.page_content for doc in pages],\n",
    "                                     stop_words='english')\n",
    "\n",
    "for (doc, kws) in zip(pages, keywords):\n",
    "    # Consider only taking keywords within a certain distance?\n",
    "    doc.metadata[\"keywords\"] = [kw for (kw, _) in kws]\n",
    "pages[0]"
   ]
  },
  {
   "cell_type": "code",
   "execution_count": 11,
   "metadata": {},
   "outputs": [],
   "source": [
    "knowledge_store.add_documents(pages)"
   ]
  },
  {
   "cell_type": "markdown",
   "metadata": {},
   "source": [
    "# Retrieval\n",
    "In this section, we'll set up a retrieval chain using the knowledge store.\n",
    "\n",
    "We can configure how many chunks are retrieved by the vector search as well as how deep to traverse the keyword edges.\n",
    "If we traverse to depth 0, the hybrid knowledge store is equivalent to a vector store.\n",
    "Using a depth of 1 or 2 we are able to retrieve related, but dissimilar chunks."
   ]
  },
  {
   "cell_type": "code",
   "execution_count": 12,
   "metadata": {},
   "outputs": [],
   "source": [
    "from langchain_openai import ChatOpenAI\n",
    "\n",
    "llm = ChatOpenAI(model=\"gpt-4o\")"
   ]
  },
  {
   "cell_type": "code",
   "execution_count": 14,
   "metadata": {},
   "outputs": [
    {
     "ename": "ValidationError",
     "evalue": "1 validation error for RunnableBinding\nbound\n  instance of Runnable expected (type=type_error.arbitrary_type; expected_arbitrary_type=Runnable)",
     "output_type": "error",
     "traceback": [
      "\u001b[0;31m---------------------------------------------------------------------------\u001b[0m",
      "\u001b[0;31mValidationError\u001b[0m                           Traceback (most recent call last)",
      "Cell \u001b[0;32mIn[14], line 6\u001b[0m\n\u001b[1;32m      3\u001b[0m \u001b[38;5;28;01mfrom\u001b[39;00m \u001b[38;5;21;01mlangchain_core\u001b[39;00m\u001b[38;5;21;01m.\u001b[39;00m\u001b[38;5;21;01moutput_parsers\u001b[39;00m \u001b[38;5;28;01mimport\u001b[39;00m StrOutputParser\n\u001b[1;32m      4\u001b[0m \u001b[38;5;28;01mfrom\u001b[39;00m \u001b[38;5;21;01mlangchain_core\u001b[39;00m\u001b[38;5;21;01m.\u001b[39;00m\u001b[38;5;21;01mprompts\u001b[39;00m \u001b[38;5;28;01mimport\u001b[39;00m ChatPromptTemplate\n\u001b[0;32m----> 6\u001b[0m retriever0 \u001b[38;5;241m=\u001b[39m \u001b[43mknowledge_store\u001b[49m\u001b[38;5;241;43m.\u001b[39;49m\u001b[43mas_retriever\u001b[49m\u001b[43m(\u001b[49m\u001b[43mdepth\u001b[49m\u001b[38;5;241;43m=\u001b[39;49m\u001b[38;5;241;43m0\u001b[39;49m\u001b[43m)\u001b[49m\n\u001b[1;32m      7\u001b[0m retriever1 \u001b[38;5;241m=\u001b[39m knowledge_store\u001b[38;5;241m.\u001b[39mas_retriever(depth\u001b[38;5;241m=\u001b[39m\u001b[38;5;241m1\u001b[39m)\n\u001b[1;32m      9\u001b[0m template \u001b[38;5;241m=\u001b[39m \u001b[38;5;124m\"\"\"\u001b[39m\u001b[38;5;124mAnswer the question based only on the following context:\u001b[39m\n\u001b[1;32m     10\u001b[0m \u001b[38;5;132;01m{context}\u001b[39;00m\n\u001b[1;32m     11\u001b[0m \n\u001b[1;32m     12\u001b[0m \u001b[38;5;124mQuestion: \u001b[39m\u001b[38;5;132;01m{question}\u001b[39;00m\n\u001b[1;32m     13\u001b[0m \u001b[38;5;124m\"\"\"\u001b[39m\n",
      "File \u001b[0;32m~/Library/Caches/pypoetry/virtualenvs/knowledge-store-L8e7UibK-py3.11/lib/python3.11/site-packages/knowledge_store/knowledge_store.py:413\u001b[0m, in \u001b[0;36mKnowledgeStore.as_retriever\u001b[0;34m(self, k, depth)\u001b[0m\n\u001b[1;32m    411\u001b[0m \u001b[38;5;66;03m# TODO: Async version\u001b[39;00m\n\u001b[1;32m    412\u001b[0m retriever \u001b[38;5;241m=\u001b[39m RunnableLambda(func\u001b[38;5;241m=\u001b[39m\u001b[38;5;28mself\u001b[39m\u001b[38;5;241m.\u001b[39mretrieve, name\u001b[38;5;241m=\u001b[39m\u001b[38;5;124m\"\u001b[39m\u001b[38;5;124mKnowledge Store Retriever\u001b[39m\u001b[38;5;124m\"\u001b[39m)\n\u001b[0;32m--> 413\u001b[0m \u001b[38;5;28;01mreturn\u001b[39;00m \u001b[43mretriever\u001b[49m\u001b[38;5;241;43m.\u001b[39;49m\u001b[43mbind\u001b[49m\u001b[43m(\u001b[49m\u001b[43mk\u001b[49m\u001b[38;5;241;43m=\u001b[39;49m\u001b[43mk\u001b[49m\u001b[43m,\u001b[49m\u001b[43m \u001b[49m\u001b[43mdepth\u001b[49m\u001b[38;5;241;43m=\u001b[39;49m\u001b[43mdepth\u001b[49m\u001b[43m)\u001b[49m\n",
      "File \u001b[0;32m~/Library/Caches/pypoetry/virtualenvs/knowledge-store-L8e7UibK-py3.11/lib/python3.11/site-packages/langchain_core/runnables/base.py:1238\u001b[0m, in \u001b[0;36mRunnable.bind\u001b[0;34m(self, **kwargs)\u001b[0m\n\u001b[1;32m   1203\u001b[0m \u001b[38;5;28;01mdef\u001b[39;00m \u001b[38;5;21mbind\u001b[39m(\u001b[38;5;28mself\u001b[39m, \u001b[38;5;241m*\u001b[39m\u001b[38;5;241m*\u001b[39mkwargs: Any) \u001b[38;5;241m-\u001b[39m\u001b[38;5;241m>\u001b[39m Runnable[Input, Output]:\n\u001b[1;32m   1204\u001b[0m \u001b[38;5;250m    \u001b[39m\u001b[38;5;124;03m\"\"\"\u001b[39;00m\n\u001b[1;32m   1205\u001b[0m \u001b[38;5;124;03m    Bind arguments to a Runnable, returning a new Runnable.\u001b[39;00m\n\u001b[1;32m   1206\u001b[0m \n\u001b[0;32m   (...)\u001b[0m\n\u001b[1;32m   1236\u001b[0m \n\u001b[1;32m   1237\u001b[0m \u001b[38;5;124;03m    \"\"\"\u001b[39;00m\n\u001b[0;32m-> 1238\u001b[0m     \u001b[38;5;28;01mreturn\u001b[39;00m \u001b[43mRunnableBinding\u001b[49m\u001b[43m(\u001b[49m\u001b[43mbound\u001b[49m\u001b[38;5;241;43m=\u001b[39;49m\u001b[38;5;28;43mself\u001b[39;49m\u001b[43m,\u001b[49m\u001b[43m \u001b[49m\u001b[43mkwargs\u001b[49m\u001b[38;5;241;43m=\u001b[39;49m\u001b[43mkwargs\u001b[49m\u001b[43m,\u001b[49m\u001b[43m \u001b[49m\u001b[43mconfig\u001b[49m\u001b[38;5;241;43m=\u001b[39;49m\u001b[43m{\u001b[49m\u001b[43m}\u001b[49m\u001b[43m)\u001b[49m\n",
      "File \u001b[0;32m~/Library/Caches/pypoetry/virtualenvs/knowledge-store-L8e7UibK-py3.11/lib/python3.11/site-packages/langchain_core/runnables/base.py:4321\u001b[0m, in \u001b[0;36mRunnableBindingBase.__init__\u001b[0;34m(self, bound, kwargs, config, config_factories, custom_input_type, custom_output_type, **other_kwargs)\u001b[0m\n\u001b[1;32m   4293\u001b[0m \u001b[38;5;28;01mdef\u001b[39;00m \u001b[38;5;21m__init__\u001b[39m(\n\u001b[1;32m   4294\u001b[0m     \u001b[38;5;28mself\u001b[39m,\n\u001b[1;32m   4295\u001b[0m     \u001b[38;5;241m*\u001b[39m,\n\u001b[0;32m   (...)\u001b[0m\n\u001b[1;32m   4304\u001b[0m     \u001b[38;5;241m*\u001b[39m\u001b[38;5;241m*\u001b[39mother_kwargs: Any,\n\u001b[1;32m   4305\u001b[0m ) \u001b[38;5;241m-\u001b[39m\u001b[38;5;241m>\u001b[39m \u001b[38;5;28;01mNone\u001b[39;00m:\n\u001b[1;32m   4306\u001b[0m \u001b[38;5;250m    \u001b[39m\u001b[38;5;124;03m\"\"\"Create a RunnableBinding from a runnable and kwargs.\u001b[39;00m\n\u001b[1;32m   4307\u001b[0m \n\u001b[1;32m   4308\u001b[0m \u001b[38;5;124;03m    Args:\u001b[39;00m\n\u001b[0;32m   (...)\u001b[0m\n\u001b[1;32m   4319\u001b[0m \u001b[38;5;124;03m        **other_kwargs: Unpacked into the base class.\u001b[39;00m\n\u001b[1;32m   4320\u001b[0m \u001b[38;5;124;03m    \"\"\"\u001b[39;00m\n\u001b[0;32m-> 4321\u001b[0m     \u001b[38;5;28;43msuper\u001b[39;49m\u001b[43m(\u001b[49m\u001b[43m)\u001b[49m\u001b[38;5;241;43m.\u001b[39;49m\u001b[38;5;21;43m__init__\u001b[39;49m\u001b[43m(\u001b[49m\u001b[43m  \u001b[49m\u001b[38;5;66;43;03m# type: ignore[call-arg]\u001b[39;49;00m\n\u001b[1;32m   4322\u001b[0m \u001b[43m        \u001b[49m\u001b[43mbound\u001b[49m\u001b[38;5;241;43m=\u001b[39;49m\u001b[43mbound\u001b[49m\u001b[43m,\u001b[49m\n\u001b[1;32m   4323\u001b[0m \u001b[43m        \u001b[49m\u001b[43mkwargs\u001b[49m\u001b[38;5;241;43m=\u001b[39;49m\u001b[43mkwargs\u001b[49m\u001b[43m \u001b[49m\u001b[38;5;129;43;01mor\u001b[39;49;00m\u001b[43m \u001b[49m\u001b[43m{\u001b[49m\u001b[43m}\u001b[49m\u001b[43m,\u001b[49m\n\u001b[1;32m   4324\u001b[0m \u001b[43m        \u001b[49m\u001b[43mconfig\u001b[49m\u001b[38;5;241;43m=\u001b[39;49m\u001b[43mconfig\u001b[49m\u001b[43m \u001b[49m\u001b[38;5;129;43;01mor\u001b[39;49;00m\u001b[43m \u001b[49m\u001b[43m{\u001b[49m\u001b[43m}\u001b[49m\u001b[43m,\u001b[49m\n\u001b[1;32m   4325\u001b[0m \u001b[43m        \u001b[49m\u001b[43mconfig_factories\u001b[49m\u001b[38;5;241;43m=\u001b[39;49m\u001b[43mconfig_factories\u001b[49m\u001b[43m \u001b[49m\u001b[38;5;129;43;01mor\u001b[39;49;00m\u001b[43m \u001b[49m\u001b[43m[\u001b[49m\u001b[43m]\u001b[49m\u001b[43m,\u001b[49m\n\u001b[1;32m   4326\u001b[0m \u001b[43m        \u001b[49m\u001b[43mcustom_input_type\u001b[49m\u001b[38;5;241;43m=\u001b[39;49m\u001b[43mcustom_input_type\u001b[49m\u001b[43m,\u001b[49m\n\u001b[1;32m   4327\u001b[0m \u001b[43m        \u001b[49m\u001b[43mcustom_output_type\u001b[49m\u001b[38;5;241;43m=\u001b[39;49m\u001b[43mcustom_output_type\u001b[49m\u001b[43m,\u001b[49m\n\u001b[1;32m   4328\u001b[0m \u001b[43m        \u001b[49m\u001b[38;5;241;43m*\u001b[39;49m\u001b[38;5;241;43m*\u001b[39;49m\u001b[43mother_kwargs\u001b[49m\u001b[43m,\u001b[49m\n\u001b[1;32m   4329\u001b[0m \u001b[43m    \u001b[49m\u001b[43m)\u001b[49m\n\u001b[1;32m   4330\u001b[0m     \u001b[38;5;66;03m# if we don't explicitly set config to the TypedDict here,\u001b[39;00m\n\u001b[1;32m   4331\u001b[0m     \u001b[38;5;66;03m# the pydantic init above will strip out any of the \"extra\"\u001b[39;00m\n\u001b[1;32m   4332\u001b[0m     \u001b[38;5;66;03m# fields even though total=False on the typed dict.\u001b[39;00m\n\u001b[1;32m   4333\u001b[0m     \u001b[38;5;28mself\u001b[39m\u001b[38;5;241m.\u001b[39mconfig \u001b[38;5;241m=\u001b[39m config \u001b[38;5;129;01mor\u001b[39;00m {}\n",
      "File \u001b[0;32m~/Library/Caches/pypoetry/virtualenvs/knowledge-store-L8e7UibK-py3.11/lib/python3.11/site-packages/pydantic/v1/main.py:341\u001b[0m, in \u001b[0;36mBaseModel.__init__\u001b[0;34m(__pydantic_self__, **data)\u001b[0m\n\u001b[1;32m    339\u001b[0m values, fields_set, validation_error \u001b[38;5;241m=\u001b[39m validate_model(__pydantic_self__\u001b[38;5;241m.\u001b[39m\u001b[38;5;18m__class__\u001b[39m, data)\n\u001b[1;32m    340\u001b[0m \u001b[38;5;28;01mif\u001b[39;00m validation_error:\n\u001b[0;32m--> 341\u001b[0m     \u001b[38;5;28;01mraise\u001b[39;00m validation_error\n\u001b[1;32m    342\u001b[0m \u001b[38;5;28;01mtry\u001b[39;00m:\n\u001b[1;32m    343\u001b[0m     object_setattr(__pydantic_self__, \u001b[38;5;124m'\u001b[39m\u001b[38;5;124m__dict__\u001b[39m\u001b[38;5;124m'\u001b[39m, values)\n",
      "\u001b[0;31mValidationError\u001b[0m: 1 validation error for RunnableBinding\nbound\n  instance of Runnable expected (type=type_error.arbitrary_type; expected_arbitrary_type=Runnable)"
     ]
    }
   ],
   "source": [
    "# Retrieve and generate using the relevant snippets of the blog.\n",
    "from langchain_core.runnables import RunnablePassthrough\n",
    "from langchain_core.output_parsers import StrOutputParser\n",
    "from langchain_core.prompts import ChatPromptTemplate\n",
    "\n",
    "retriever0 = knowledge_store.as_retriever(depth=0)\n",
    "retriever1 = knowledge_store.as_retriever(depth=1)\n",
    "\n",
    "template = \"\"\"Answer the question based only on the following context:\n",
    "{context}\n",
    "\n",
    "Question: {question}\n",
    "\"\"\"\n",
    "prompt = ChatPromptTemplate.from_template(template)\n",
    "\n",
    "def format_docs(docs):\n",
    "    return \"\\n\\n\".join(doc.page_content for doc in docs)\n",
    "\n",
    "\n",
    "rag_chain0 = (\n",
    "    {\"context\": retriever0 | format_docs, \"question\": RunnablePassthrough()}\n",
    "    | prompt\n",
    "    | llm\n",
    "    | StrOutputParser()\n",
    ")\n",
    "\n",
    "rag_chain1 = (\n",
    "    {\"context\": retriever1 | format_docs, \"question\": RunnablePassthrough()}\n",
    "    | prompt\n",
    "    | llm\n",
    "    | StrOutputParser()\n",
    ")"
   ]
  },
  {
   "cell_type": "code",
   "execution_count": null,
   "metadata": {},
   "outputs": [],
   "source": [
    "rag_chain0.invoke(\"How does LayoutParser work?\")"
   ]
  },
  {
   "cell_type": "code",
   "execution_count": null,
   "metadata": {},
   "outputs": [],
   "source": [
    "rag_chain1.invoke(\"How does LayoutParser work?\")"
   ]
  }
 ],
 "metadata": {
  "kernelspec": {
   "display_name": "agent-framework-aiP65pJh-py3.11",
   "language": "python",
   "name": "python3"
  },
  "language_info": {
   "codemirror_mode": {
    "name": "ipython",
    "version": 3
   },
   "file_extension": ".py",
   "mimetype": "text/x-python",
   "name": "python",
   "nbconvert_exporter": "python",
   "pygments_lexer": "ipython3",
   "version": "3.11.4"
  }
 },
 "nbformat": 4,
 "nbformat_minor": 2
}
