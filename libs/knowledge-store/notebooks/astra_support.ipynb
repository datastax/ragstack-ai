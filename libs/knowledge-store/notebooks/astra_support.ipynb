{
 "cells": [
  {
   "cell_type": "markdown",
   "metadata": {},
   "source": [
    "# Preliminaries"
   ]
  },
  {
   "cell_type": "code",
   "execution_count": 1,
   "metadata": {},
   "outputs": [
    {
     "name": "stdout",
     "output_type": "stream",
     "text": [
      "Requirement already satisfied: langchain-core in /Users/benjamin.chambers/Library/Caches/pypoetry/virtualenvs/agent-framework-aiP65pJh-py3.11/lib/python3.11/site-packages (0.2.1)\n",
      "Requirement already satisfied: langchain-community in /Users/benjamin.chambers/Library/Caches/pypoetry/virtualenvs/agent-framework-aiP65pJh-py3.11/lib/python3.11/site-packages (0.2.1)\n",
      "Requirement already satisfied: langchain-openai in /Users/benjamin.chambers/Library/Caches/pypoetry/virtualenvs/agent-framework-aiP65pJh-py3.11/lib/python3.11/site-packages (0.1.7)\n",
      "Requirement already satisfied: beautifulsoup4 in /Users/benjamin.chambers/Library/Caches/pypoetry/virtualenvs/agent-framework-aiP65pJh-py3.11/lib/python3.11/site-packages (4.12.2)\n",
      "Requirement already satisfied: markdownify in /Users/benjamin.chambers/Library/Caches/pypoetry/virtualenvs/agent-framework-aiP65pJh-py3.11/lib/python3.11/site-packages (0.12.1)\n",
      "Requirement already satisfied: python-dotenv in /Users/benjamin.chambers/Library/Caches/pypoetry/virtualenvs/agent-framework-aiP65pJh-py3.11/lib/python3.11/site-packages (1.0.1)\n",
      "Requirement already satisfied: ragstack-ai-knowledge-store in /Users/benjamin.chambers/Library/Caches/pypoetry/virtualenvs/agent-framework-aiP65pJh-py3.11/lib/python3.11/site-packages (0.0.2)\n",
      "Collecting ragstack-ai-langchain\n",
      "  Using cached ragstack_ai_langchain-1.1.1-py3-none-any.whl.metadata (1.7 kB)\n",
      "Requirement already satisfied: PyYAML>=5.3 in /Users/benjamin.chambers/Library/Caches/pypoetry/virtualenvs/agent-framework-aiP65pJh-py3.11/lib/python3.11/site-packages (from langchain-core) (6.0.1)\n",
      "Requirement already satisfied: jsonpatch<2.0,>=1.33 in /Users/benjamin.chambers/Library/Caches/pypoetry/virtualenvs/agent-framework-aiP65pJh-py3.11/lib/python3.11/site-packages (from langchain-core) (1.33)\n",
      "Requirement already satisfied: langsmith<0.2.0,>=0.1.0 in /Users/benjamin.chambers/Library/Caches/pypoetry/virtualenvs/agent-framework-aiP65pJh-py3.11/lib/python3.11/site-packages (from langchain-core) (0.1.63)\n",
      "Requirement already satisfied: packaging<24.0,>=23.2 in /Users/benjamin.chambers/Library/Caches/pypoetry/virtualenvs/agent-framework-aiP65pJh-py3.11/lib/python3.11/site-packages (from langchain-core) (23.2)\n",
      "Requirement already satisfied: pydantic<3,>=1 in /Users/benjamin.chambers/Library/Caches/pypoetry/virtualenvs/agent-framework-aiP65pJh-py3.11/lib/python3.11/site-packages (from langchain-core) (2.7.1)\n",
      "Requirement already satisfied: tenacity<9.0.0,>=8.1.0 in /Users/benjamin.chambers/Library/Caches/pypoetry/virtualenvs/agent-framework-aiP65pJh-py3.11/lib/python3.11/site-packages (from langchain-core) (8.3.0)\n",
      "Requirement already satisfied: SQLAlchemy<3,>=1.4 in /Users/benjamin.chambers/Library/Caches/pypoetry/virtualenvs/agent-framework-aiP65pJh-py3.11/lib/python3.11/site-packages (from langchain-community) (2.0.30)\n",
      "Requirement already satisfied: aiohttp<4.0.0,>=3.8.3 in /Users/benjamin.chambers/Library/Caches/pypoetry/virtualenvs/agent-framework-aiP65pJh-py3.11/lib/python3.11/site-packages (from langchain-community) (3.9.5)\n",
      "Requirement already satisfied: dataclasses-json<0.7,>=0.5.7 in /Users/benjamin.chambers/Library/Caches/pypoetry/virtualenvs/agent-framework-aiP65pJh-py3.11/lib/python3.11/site-packages (from langchain-community) (0.6.6)\n",
      "Requirement already satisfied: langchain<0.3.0,>=0.2.0 in /Users/benjamin.chambers/Library/Caches/pypoetry/virtualenvs/agent-framework-aiP65pJh-py3.11/lib/python3.11/site-packages (from langchain-community) (0.2.1)\n",
      "Requirement already satisfied: numpy<2,>=1 in /Users/benjamin.chambers/Library/Caches/pypoetry/virtualenvs/agent-framework-aiP65pJh-py3.11/lib/python3.11/site-packages (from langchain-community) (1.26.4)\n",
      "Requirement already satisfied: requests<3,>=2 in /Users/benjamin.chambers/Library/Caches/pypoetry/virtualenvs/agent-framework-aiP65pJh-py3.11/lib/python3.11/site-packages (from langchain-community) (2.32.2)\n",
      "Requirement already satisfied: openai<2.0.0,>=1.24.0 in /Users/benjamin.chambers/Library/Caches/pypoetry/virtualenvs/agent-framework-aiP65pJh-py3.11/lib/python3.11/site-packages (from langchain-openai) (1.30.3)\n",
      "Requirement already satisfied: tiktoken<1,>=0.7 in /Users/benjamin.chambers/Library/Caches/pypoetry/virtualenvs/agent-framework-aiP65pJh-py3.11/lib/python3.11/site-packages (from langchain-openai) (0.7.0)\n",
      "Requirement already satisfied: soupsieve>1.2 in /Users/benjamin.chambers/Library/Caches/pypoetry/virtualenvs/agent-framework-aiP65pJh-py3.11/lib/python3.11/site-packages (from beautifulsoup4) (2.5)\n",
      "Requirement already satisfied: six<2,>=1.15 in /Users/benjamin.chambers/Library/Caches/pypoetry/virtualenvs/agent-framework-aiP65pJh-py3.11/lib/python3.11/site-packages (from markdownify) (1.16.0)\n",
      "Requirement already satisfied: cassio<0.2.0,>=0.1.7 in /Users/benjamin.chambers/Library/Caches/pypoetry/virtualenvs/agent-framework-aiP65pJh-py3.11/lib/python3.11/site-packages (from ragstack-ai-knowledge-store) (0.1.7)\n",
      "Collecting astrapy<2,>=1 (from ragstack-ai-langchain)\n",
      "  Using cached astrapy-1.2.1-py3-none-any.whl.metadata (13 kB)\n",
      "Collecting langchain<0.3.0,>=0.2.0 (from langchain-community)\n",
      "  Using cached langchain-0.2.3-py3-none-any.whl.metadata (6.9 kB)\n",
      "Collecting langchain-astradb==0.3.3 (from ragstack-ai-langchain)\n",
      "  Using cached langchain_astradb-0.3.3-py3-none-any.whl.metadata (2.9 kB)\n",
      "Collecting langchain-community\n",
      "  Using cached langchain_community-0.2.4-py3-none-any.whl.metadata (2.4 kB)\n",
      "Collecting langchain-core\n",
      "  Using cached langchain_core-0.2.5-py3-none-any.whl.metadata (5.8 kB)\n",
      "Collecting langchain-openai\n",
      "  Using cached langchain_openai-0.1.8-py3-none-any.whl.metadata (2.5 kB)\n",
      "Collecting unstructured==0.14.5 (from ragstack-ai-langchain)\n",
      "  Using cached unstructured-0.14.5-py3-none-any.whl.metadata (28 kB)\n",
      "Collecting langsmith<0.2.0,>=0.1.66 (from langchain-core)\n",
      "  Using cached langsmith-0.1.77-py3-none-any.whl.metadata (13 kB)\n",
      "Requirement already satisfied: langchain-text-splitters<0.3.0,>=0.2.0 in /Users/benjamin.chambers/Library/Caches/pypoetry/virtualenvs/agent-framework-aiP65pJh-py3.11/lib/python3.11/site-packages (from langchain<0.3.0,>=0.2.0->langchain-community) (0.2.0)\n",
      "Requirement already satisfied: chardet in /Users/benjamin.chambers/Library/Caches/pypoetry/virtualenvs/agent-framework-aiP65pJh-py3.11/lib/python3.11/site-packages (from unstructured==0.14.5->ragstack-ai-langchain) (5.2.0)\n",
      "Requirement already satisfied: filetype in /Users/benjamin.chambers/Library/Caches/pypoetry/virtualenvs/agent-framework-aiP65pJh-py3.11/lib/python3.11/site-packages (from unstructured==0.14.5->ragstack-ai-langchain) (1.2.0)\n",
      "Requirement already satisfied: python-magic in /Users/benjamin.chambers/Library/Caches/pypoetry/virtualenvs/agent-framework-aiP65pJh-py3.11/lib/python3.11/site-packages (from unstructured==0.14.5->ragstack-ai-langchain) (0.4.27)\n",
      "Requirement already satisfied: lxml in /Users/benjamin.chambers/Library/Caches/pypoetry/virtualenvs/agent-framework-aiP65pJh-py3.11/lib/python3.11/site-packages (from unstructured==0.14.5->ragstack-ai-langchain) (4.9.4)\n",
      "Requirement already satisfied: nltk in /Users/benjamin.chambers/Library/Caches/pypoetry/virtualenvs/agent-framework-aiP65pJh-py3.11/lib/python3.11/site-packages (from unstructured==0.14.5->ragstack-ai-langchain) (3.8.1)\n",
      "Requirement already satisfied: tabulate in /Users/benjamin.chambers/Library/Caches/pypoetry/virtualenvs/agent-framework-aiP65pJh-py3.11/lib/python3.11/site-packages (from unstructured==0.14.5->ragstack-ai-langchain) (0.9.0)\n",
      "Requirement already satisfied: emoji in /Users/benjamin.chambers/Library/Caches/pypoetry/virtualenvs/agent-framework-aiP65pJh-py3.11/lib/python3.11/site-packages (from unstructured==0.14.5->ragstack-ai-langchain) (2.12.1)\n",
      "Requirement already satisfied: python-iso639 in /Users/benjamin.chambers/Library/Caches/pypoetry/virtualenvs/agent-framework-aiP65pJh-py3.11/lib/python3.11/site-packages (from unstructured==0.14.5->ragstack-ai-langchain) (2024.4.27)\n",
      "Requirement already satisfied: langdetect in /Users/benjamin.chambers/Library/Caches/pypoetry/virtualenvs/agent-framework-aiP65pJh-py3.11/lib/python3.11/site-packages (from unstructured==0.14.5->ragstack-ai-langchain) (1.0.9)\n",
      "Requirement already satisfied: rapidfuzz in /Users/benjamin.chambers/Library/Caches/pypoetry/virtualenvs/agent-framework-aiP65pJh-py3.11/lib/python3.11/site-packages (from unstructured==0.14.5->ragstack-ai-langchain) (3.9.1)\n",
      "Requirement already satisfied: backoff in /Users/benjamin.chambers/Library/Caches/pypoetry/virtualenvs/agent-framework-aiP65pJh-py3.11/lib/python3.11/site-packages (from unstructured==0.14.5->ragstack-ai-langchain) (2.2.1)\n",
      "Requirement already satisfied: typing-extensions in /Users/benjamin.chambers/Library/Caches/pypoetry/virtualenvs/agent-framework-aiP65pJh-py3.11/lib/python3.11/site-packages (from unstructured==0.14.5->ragstack-ai-langchain) (4.12.0)\n",
      "Requirement already satisfied: unstructured-client in /Users/benjamin.chambers/Library/Caches/pypoetry/virtualenvs/agent-framework-aiP65pJh-py3.11/lib/python3.11/site-packages (from unstructured==0.14.5->ragstack-ai-langchain) (0.22.0)\n",
      "Requirement already satisfied: wrapt in /Users/benjamin.chambers/Library/Caches/pypoetry/virtualenvs/agent-framework-aiP65pJh-py3.11/lib/python3.11/site-packages (from unstructured==0.14.5->ragstack-ai-langchain) (1.16.0)\n",
      "Requirement already satisfied: aiosignal>=1.1.2 in /Users/benjamin.chambers/Library/Caches/pypoetry/virtualenvs/agent-framework-aiP65pJh-py3.11/lib/python3.11/site-packages (from aiohttp<4.0.0,>=3.8.3->langchain-community) (1.3.1)\n",
      "Requirement already satisfied: attrs>=17.3.0 in /Users/benjamin.chambers/Library/Caches/pypoetry/virtualenvs/agent-framework-aiP65pJh-py3.11/lib/python3.11/site-packages (from aiohttp<4.0.0,>=3.8.3->langchain-community) (23.2.0)\n",
      "Requirement already satisfied: frozenlist>=1.1.1 in /Users/benjamin.chambers/Library/Caches/pypoetry/virtualenvs/agent-framework-aiP65pJh-py3.11/lib/python3.11/site-packages (from aiohttp<4.0.0,>=3.8.3->langchain-community) (1.4.1)\n",
      "Requirement already satisfied: multidict<7.0,>=4.5 in /Users/benjamin.chambers/Library/Caches/pypoetry/virtualenvs/agent-framework-aiP65pJh-py3.11/lib/python3.11/site-packages (from aiohttp<4.0.0,>=3.8.3->langchain-community) (6.0.5)\n",
      "Requirement already satisfied: yarl<2.0,>=1.0 in /Users/benjamin.chambers/Library/Caches/pypoetry/virtualenvs/agent-framework-aiP65pJh-py3.11/lib/python3.11/site-packages (from aiohttp<4.0.0,>=3.8.3->langchain-community) (1.9.4)\n",
      "Collecting bson<0.6.0,>=0.5.10 (from astrapy<2,>=1->ragstack-ai-langchain)\n",
      "  Using cached bson-0.5.10.tar.gz (10 kB)\n",
      "  Preparing metadata (setup.py) ... \u001b[?25ldone\n",
      "\u001b[?25hRequirement already satisfied: deprecation<2.2.0,>=2.1.0 in /Users/benjamin.chambers/Library/Caches/pypoetry/virtualenvs/agent-framework-aiP65pJh-py3.11/lib/python3.11/site-packages (from astrapy<2,>=1->ragstack-ai-langchain) (2.1.0)\n",
      "Requirement already satisfied: httpx<1,>=0.25.2 in /Users/benjamin.chambers/Library/Caches/pypoetry/virtualenvs/agent-framework-aiP65pJh-py3.11/lib/python3.11/site-packages (from httpx[http2]<1,>=0.25.2->astrapy<2,>=1->ragstack-ai-langchain) (0.27.0)\n",
      "Collecting toml<0.11.0,>=0.10.2 (from astrapy<2,>=1->ragstack-ai-langchain)\n",
      "  Using cached toml-0.10.2-py2.py3-none-any.whl.metadata (7.1 kB)\n",
      "Collecting uuid6<2024.2.0,>=2024.1.12 (from astrapy<2,>=1->ragstack-ai-langchain)\n",
      "  Using cached uuid6-2024.1.12-py3-none-any.whl.metadata (8.6 kB)\n",
      "Requirement already satisfied: cassandra-driver<4.0.0,>=3.28.0 in /Users/benjamin.chambers/Library/Caches/pypoetry/virtualenvs/agent-framework-aiP65pJh-py3.11/lib/python3.11/site-packages (from cassio<0.2.0,>=0.1.7->ragstack-ai-knowledge-store) (3.29.1)\n",
      "Requirement already satisfied: marshmallow<4.0.0,>=3.18.0 in /Users/benjamin.chambers/Library/Caches/pypoetry/virtualenvs/agent-framework-aiP65pJh-py3.11/lib/python3.11/site-packages (from dataclasses-json<0.7,>=0.5.7->langchain-community) (3.21.2)\n",
      "Requirement already satisfied: typing-inspect<1,>=0.4.0 in /Users/benjamin.chambers/Library/Caches/pypoetry/virtualenvs/agent-framework-aiP65pJh-py3.11/lib/python3.11/site-packages (from dataclasses-json<0.7,>=0.5.7->langchain-community) (0.9.0)\n",
      "Requirement already satisfied: jsonpointer>=1.9 in /Users/benjamin.chambers/Library/Caches/pypoetry/virtualenvs/agent-framework-aiP65pJh-py3.11/lib/python3.11/site-packages (from jsonpatch<2.0,>=1.33->langchain-core) (2.4)\n",
      "Requirement already satisfied: orjson<4.0.0,>=3.9.14 in /Users/benjamin.chambers/Library/Caches/pypoetry/virtualenvs/agent-framework-aiP65pJh-py3.11/lib/python3.11/site-packages (from langsmith<0.2.0,>=0.1.66->langchain-core) (3.10.3)\n",
      "Requirement already satisfied: anyio<5,>=3.5.0 in /Users/benjamin.chambers/Library/Caches/pypoetry/virtualenvs/agent-framework-aiP65pJh-py3.11/lib/python3.11/site-packages (from openai<2.0.0,>=1.24.0->langchain-openai) (4.3.0)\n",
      "Requirement already satisfied: distro<2,>=1.7.0 in /Users/benjamin.chambers/Library/Caches/pypoetry/virtualenvs/agent-framework-aiP65pJh-py3.11/lib/python3.11/site-packages (from openai<2.0.0,>=1.24.0->langchain-openai) (1.9.0)\n",
      "Requirement already satisfied: sniffio in /Users/benjamin.chambers/Library/Caches/pypoetry/virtualenvs/agent-framework-aiP65pJh-py3.11/lib/python3.11/site-packages (from openai<2.0.0,>=1.24.0->langchain-openai) (1.3.1)\n",
      "Requirement already satisfied: tqdm>4 in /Users/benjamin.chambers/Library/Caches/pypoetry/virtualenvs/agent-framework-aiP65pJh-py3.11/lib/python3.11/site-packages (from openai<2.0.0,>=1.24.0->langchain-openai) (4.66.4)\n",
      "Requirement already satisfied: annotated-types>=0.4.0 in /Users/benjamin.chambers/Library/Caches/pypoetry/virtualenvs/agent-framework-aiP65pJh-py3.11/lib/python3.11/site-packages (from pydantic<3,>=1->langchain-core) (0.7.0)\n",
      "Requirement already satisfied: pydantic-core==2.18.2 in /Users/benjamin.chambers/Library/Caches/pypoetry/virtualenvs/agent-framework-aiP65pJh-py3.11/lib/python3.11/site-packages (from pydantic<3,>=1->langchain-core) (2.18.2)\n",
      "Requirement already satisfied: charset-normalizer<4,>=2 in /Users/benjamin.chambers/Library/Caches/pypoetry/virtualenvs/agent-framework-aiP65pJh-py3.11/lib/python3.11/site-packages (from requests<3,>=2->langchain-community) (3.3.2)\n",
      "Requirement already satisfied: idna<4,>=2.5 in /Users/benjamin.chambers/Library/Caches/pypoetry/virtualenvs/agent-framework-aiP65pJh-py3.11/lib/python3.11/site-packages (from requests<3,>=2->langchain-community) (3.7)\n",
      "Requirement already satisfied: urllib3<3,>=1.21.1 in /Users/benjamin.chambers/Library/Caches/pypoetry/virtualenvs/agent-framework-aiP65pJh-py3.11/lib/python3.11/site-packages (from requests<3,>=2->langchain-community) (2.2.1)\n",
      "Requirement already satisfied: certifi>=2017.4.17 in /Users/benjamin.chambers/Library/Caches/pypoetry/virtualenvs/agent-framework-aiP65pJh-py3.11/lib/python3.11/site-packages (from requests<3,>=2->langchain-community) (2024.2.2)\n",
      "Requirement already satisfied: regex>=2022.1.18 in /Users/benjamin.chambers/Library/Caches/pypoetry/virtualenvs/agent-framework-aiP65pJh-py3.11/lib/python3.11/site-packages (from tiktoken<1,>=0.7->langchain-openai) (2024.5.15)\n",
      "Requirement already satisfied: python-dateutil>=2.4.0 in /Users/benjamin.chambers/Library/Caches/pypoetry/virtualenvs/agent-framework-aiP65pJh-py3.11/lib/python3.11/site-packages (from bson<0.6.0,>=0.5.10->astrapy<2,>=1->ragstack-ai-langchain) (2.9.0.post0)\n",
      "Requirement already satisfied: geomet<0.3,>=0.1 in /Users/benjamin.chambers/Library/Caches/pypoetry/virtualenvs/agent-framework-aiP65pJh-py3.11/lib/python3.11/site-packages (from cassandra-driver<4.0.0,>=3.28.0->cassio<0.2.0,>=0.1.7->ragstack-ai-knowledge-store) (0.2.1.post1)\n",
      "Requirement already satisfied: httpcore==1.* in /Users/benjamin.chambers/Library/Caches/pypoetry/virtualenvs/agent-framework-aiP65pJh-py3.11/lib/python3.11/site-packages (from httpx<1,>=0.25.2->httpx[http2]<1,>=0.25.2->astrapy<2,>=1->ragstack-ai-langchain) (1.0.5)\n",
      "Requirement already satisfied: h11<0.15,>=0.13 in /Users/benjamin.chambers/Library/Caches/pypoetry/virtualenvs/agent-framework-aiP65pJh-py3.11/lib/python3.11/site-packages (from httpcore==1.*->httpx<1,>=0.25.2->httpx[http2]<1,>=0.25.2->astrapy<2,>=1->ragstack-ai-langchain) (0.14.0)\n",
      "Collecting h2<5,>=3 (from httpx[http2]<1,>=0.25.2->astrapy<2,>=1->ragstack-ai-langchain)\n",
      "  Downloading h2-4.1.0-py3-none-any.whl.metadata (3.6 kB)\n",
      "Requirement already satisfied: mypy-extensions>=0.3.0 in /Users/benjamin.chambers/Library/Caches/pypoetry/virtualenvs/agent-framework-aiP65pJh-py3.11/lib/python3.11/site-packages (from typing-inspect<1,>=0.4.0->dataclasses-json<0.7,>=0.5.7->langchain-community) (1.0.0)\n",
      "Requirement already satisfied: click in /Users/benjamin.chambers/Library/Caches/pypoetry/virtualenvs/agent-framework-aiP65pJh-py3.11/lib/python3.11/site-packages (from nltk->unstructured==0.14.5->ragstack-ai-langchain) (8.1.7)\n",
      "Requirement already satisfied: joblib in /Users/benjamin.chambers/Library/Caches/pypoetry/virtualenvs/agent-framework-aiP65pJh-py3.11/lib/python3.11/site-packages (from nltk->unstructured==0.14.5->ragstack-ai-langchain) (1.4.2)\n",
      "Requirement already satisfied: deepdiff>=6.0 in /Users/benjamin.chambers/Library/Caches/pypoetry/virtualenvs/agent-framework-aiP65pJh-py3.11/lib/python3.11/site-packages (from unstructured-client->unstructured==0.14.5->ragstack-ai-langchain) (7.0.1)\n",
      "Requirement already satisfied: jsonpath-python>=1.0.6 in /Users/benjamin.chambers/Library/Caches/pypoetry/virtualenvs/agent-framework-aiP65pJh-py3.11/lib/python3.11/site-packages (from unstructured-client->unstructured==0.14.5->ragstack-ai-langchain) (1.0.6)\n",
      "Requirement already satisfied: pypdf>=4.0 in /Users/benjamin.chambers/Library/Caches/pypoetry/virtualenvs/agent-framework-aiP65pJh-py3.11/lib/python3.11/site-packages (from unstructured-client->unstructured==0.14.5->ragstack-ai-langchain) (4.2.0)\n",
      "Requirement already satisfied: ordered-set<4.2.0,>=4.1.0 in /Users/benjamin.chambers/Library/Caches/pypoetry/virtualenvs/agent-framework-aiP65pJh-py3.11/lib/python3.11/site-packages (from deepdiff>=6.0->unstructured-client->unstructured==0.14.5->ragstack-ai-langchain) (4.1.0)\n",
      "Collecting hyperframe<7,>=6.0 (from h2<5,>=3->httpx[http2]<1,>=0.25.2->astrapy<2,>=1->ragstack-ai-langchain)\n",
      "  Downloading hyperframe-6.0.1-py3-none-any.whl.metadata (2.7 kB)\n",
      "Collecting hpack<5,>=4.0 (from h2<5,>=3->httpx[http2]<1,>=0.25.2->astrapy<2,>=1->ragstack-ai-langchain)\n",
      "  Downloading hpack-4.0.0-py3-none-any.whl.metadata (2.5 kB)\n",
      "Downloading ragstack_ai_langchain-1.1.1-py3-none-any.whl (4.9 kB)\n",
      "Using cached langchain_core-0.2.5-py3-none-any.whl (314 kB)\n",
      "Using cached langchain_community-0.2.4-py3-none-any.whl (2.2 MB)\n",
      "Downloading langchain_openai-0.1.8-py3-none-any.whl (38 kB)\n",
      "Using cached langchain-0.2.3-py3-none-any.whl (974 kB)\n",
      "Downloading langchain_astradb-0.3.3-py3-none-any.whl (27 kB)\n",
      "Downloading unstructured-0.14.5-py3-none-any.whl (2.0 MB)\n",
      "\u001b[2K   \u001b[90m━━━━━━━━━━━━━━━━━━━━━━━━━━━━━━━━━━━━━━━━\u001b[0m \u001b[32m2.0/2.0 MB\u001b[0m \u001b[31m10.0 MB/s\u001b[0m eta \u001b[36m0:00:00\u001b[0ma \u001b[36m0:00:01\u001b[0m\n",
      "\u001b[?25hDownloading astrapy-1.2.1-py3-none-any.whl (139 kB)\n",
      "\u001b[2K   \u001b[90m━━━━━━━━━━━━━━━━━━━━━━━━━━━━━━━━━━━━━━━━\u001b[0m \u001b[32m139.8/139.8 kB\u001b[0m \u001b[31m12.9 MB/s\u001b[0m eta \u001b[36m0:00:00\u001b[0m\n",
      "\u001b[?25hUsing cached langsmith-0.1.77-py3-none-any.whl (125 kB)\n",
      "Using cached toml-0.10.2-py2.py3-none-any.whl (16 kB)\n",
      "Downloading uuid6-2024.1.12-py3-none-any.whl (6.4 kB)\n",
      "Downloading h2-4.1.0-py3-none-any.whl (57 kB)\n",
      "\u001b[2K   \u001b[90m━━━━━━━━━━━━━━━━━━━━━━━━━━━━━━━━━━━━━━━━\u001b[0m \u001b[32m57.5/57.5 kB\u001b[0m \u001b[31m6.5 MB/s\u001b[0m eta \u001b[36m0:00:00\u001b[0m\n",
      "\u001b[?25hDownloading hpack-4.0.0-py3-none-any.whl (32 kB)\n",
      "Downloading hyperframe-6.0.1-py3-none-any.whl (12 kB)\n",
      "Building wheels for collected packages: bson\n",
      "  Building wheel for bson (setup.py) ... \u001b[?25ldone\n",
      "\u001b[?25h  Created wheel for bson: filename=bson-0.5.10-py3-none-any.whl size=11977 sha256=9117e63e8e9b02e5a528db8418b97b68e963efd7ec9d2cb6ac7173ae76aaa2d8\n",
      "  Stored in directory: /Users/benjamin.chambers/Library/Caches/pip/wheels/cb/f3/45/c859e83339943dfe2f43e1c9aaebdc00db321191a6fe120947\n",
      "Successfully built bson\n",
      "Installing collected packages: uuid6, toml, hyperframe, hpack, h2, bson, langsmith, unstructured, langchain-core, astrapy, langchain-openai, langchain-astradb, langchain, langchain-community, ragstack-ai-langchain\n",
      "  Attempting uninstall: langsmith\n",
      "    Found existing installation: langsmith 0.1.63\n",
      "    Uninstalling langsmith-0.1.63:\n",
      "      Successfully uninstalled langsmith-0.1.63\n",
      "  Attempting uninstall: unstructured\n",
      "    Found existing installation: unstructured 0.14.2\n",
      "    Uninstalling unstructured-0.14.2:\n",
      "      Successfully uninstalled unstructured-0.14.2\n",
      "  Attempting uninstall: langchain-core\n",
      "    Found existing installation: langchain-core 0.2.1\n",
      "    Uninstalling langchain-core-0.2.1:\n",
      "      Successfully uninstalled langchain-core-0.2.1\n",
      "  Attempting uninstall: langchain-openai\n",
      "    Found existing installation: langchain-openai 0.1.7\n",
      "    Uninstalling langchain-openai-0.1.7:\n",
      "      Successfully uninstalled langchain-openai-0.1.7\n",
      "  Attempting uninstall: langchain\n",
      "    Found existing installation: langchain 0.2.1\n",
      "    Uninstalling langchain-0.2.1:\n",
      "      Successfully uninstalled langchain-0.2.1\n",
      "  Attempting uninstall: langchain-community\n",
      "    Found existing installation: langchain-community 0.2.1\n",
      "    Uninstalling langchain-community-0.2.1:\n",
      "      Successfully uninstalled langchain-community-0.2.1\n",
      "\u001b[31mERROR: pip's dependency resolver does not currently take into account all the packages that are installed. This behaviour is the source of the following dependency conflicts.\n",
      "knowledge-store 0.1.0 requires langchain-core<0.2.0,>=0.1.50, but you have langchain-core 0.2.5 which is incompatible.\u001b[0m\u001b[31m\n",
      "\u001b[0mSuccessfully installed astrapy-1.2.1 bson-0.5.10 h2-4.1.0 hpack-4.0.0 hyperframe-6.0.1 langchain-0.2.3 langchain-astradb-0.3.3 langchain-community-0.2.4 langchain-core-0.2.5 langchain-openai-0.1.8 langsmith-0.1.77 ragstack-ai-langchain-1.1.1 toml-0.10.2 unstructured-0.14.5 uuid6-2024.1.12\n",
      "\n",
      "\u001b[1m[\u001b[0m\u001b[34;49mnotice\u001b[0m\u001b[1;39;49m]\u001b[0m\u001b[39;49m A new release of pip is available: \u001b[0m\u001b[31;49m23.3.1\u001b[0m\u001b[39;49m -> \u001b[0m\u001b[32;49m24.0\u001b[0m\n",
      "\u001b[1m[\u001b[0m\u001b[34;49mnotice\u001b[0m\u001b[1;39;49m]\u001b[0m\u001b[39;49m To update, run: \u001b[0m\u001b[32;49mpip install --upgrade pip\u001b[0m\n",
      "Note: you may need to restart the kernel to use updated packages.\n"
     ]
    }
   ],
   "source": [
    "%pip install langchain-core langchain-community langchain-openai beautifulsoup4 markdownify python-dotenv ragstack-ai-knowledge-store ragstack-ai-langchain"
   ]
  },
  {
   "cell_type": "code",
   "execution_count": 2,
   "metadata": {},
   "outputs": [],
   "source": [
    "%load_ext autoreload\n",
    "%autoreload 2"
   ]
  },
  {
   "cell_type": "markdown",
   "metadata": {},
   "source": [
    "# Load the Astra Documentation into Graph Store\n",
    "\n",
    "First, we'll crawl the DataStax documentation. LangChain includes a `SiteMapLoader` but it loads all of the pages into memory simultaneously, which makes it impossible to index larger sites from small environments (such as CoLab). So, we'll scrape the sitemap ourselves and iterate over the URLs, allowing us to process documents in batches and flush them to Astra DB. "
   ]
  },
  {
   "cell_type": "markdown",
   "metadata": {},
   "source": [
    "## Scrape the URLs from the Site Maps\n",
    "First, we use Beautiful Soup to parse the XML content of each sitemap and get the list of URLs.\n",
    "We also add a few extra URLs for external sites that are also useful to include in the index."
   ]
  },
  {
   "cell_type": "code",
   "execution_count": 3,
   "metadata": {},
   "outputs": [
    {
     "data": {
      "text/plain": [
       "1373"
      ]
     },
     "execution_count": 3,
     "metadata": {},
     "output_type": "execute_result"
    }
   ],
   "source": [
    "# Use sitemaps to crawl the content\n",
    "SITEMAPS = [\n",
    "    \"https://docs.datastax.com/en/sitemap-astra-db-vector.xml\",\n",
    "    \"https://docs.datastax.com/en/sitemap-cql.xml\",\n",
    "    \"https://docs.datastax.com/en/sitemap-dev-app-drivers.xml\",\n",
    "    \"https://docs.datastax.com/en/sitemap-glossary.xml\",\n",
    "    \"https://docs.datastax.com/en/sitemap-astra-db-serverless.xml\"\n",
    "]\n",
    "\n",
    "# Additional URLs to crawl for content.\n",
    "EXTRA_URLS = [\n",
    "    \"https://github.com/jbellis/jvector\"\n",
    "]\n",
    "\n",
    "SITE_PREFIX = \"astra\"\n",
    "\n",
    "from bs4 import BeautifulSoup\n",
    "import requests\n",
    "\n",
    "def load_pages(sitemap_url):\n",
    "    r = requests.get(sitemap_url,\n",
    "                     headers={\n",
    "                         # Astra docs only return a sitemap with a user agent set.\n",
    "                         \"User-Agent\": \"Mozilla/5.0 (X11; Linux x86_64; rv:58.0) Gecko/20100101 Firefox/58.0\",\n",
    "                     })\n",
    "    xml = r.text\n",
    "\n",
    "    soup = BeautifulSoup(xml, features=\"xml\")\n",
    "    url_tags = soup.find_all(\"url\")\n",
    "    for url in url_tags:\n",
    "        yield(url.find(\"loc\").text)\n",
    "\n",
    "\n",
    "# For maintenance purposes, we could check only the new articles since a given time.\n",
    "URLS = [\n",
    "    url\n",
    "    for sitemap_url in SITEMAPS\n",
    "    for url in load_pages(sitemap_url)\n",
    "] + EXTRA_URLS\n",
    "len(URLS)"
   ]
  },
  {
   "cell_type": "markdown",
   "metadata": {},
   "source": [
    "## Load the content from each URL\n",
    "Next, we create the code to load each page. This performs the following steps:\n",
    "\n",
    "1. Parses the HTML with BeautifulSoup\n",
    "2. Locates the \"content\" of the HTML using an appropriate selector based on the URL\n",
    "3. Find the link (`<a href=\"...\">`) tags in the content and collect the absolute URLs (for creating edges).\n",
    "\n",
    "Adding the URLs of these references to the metadata allows the graph store to create edges between the document."
   ]
  },
  {
   "cell_type": "code",
   "execution_count": 4,
   "metadata": {},
   "outputs": [
    {
     "name": "stderr",
     "output_type": "stream",
     "text": [
      "WARNING:root:USER_AGENT environment variable not set, consider setting it to identify your requests.\n"
     ]
    },
    {
     "ename": "ImportError",
     "evalue": "cannot import name 'HtmlLinkEdgeExtractor' from 'ragstack_knowledge_store.langchain.extractors' (unknown location)",
     "output_type": "error",
     "traceback": [
      "\u001b[0;31m---------------------------------------------------------------------------\u001b[0m",
      "\u001b[0;31mImportError\u001b[0m                               Traceback (most recent call last)",
      "Cell \u001b[0;32mIn[4], line 7\u001b[0m\n\u001b[1;32m      5\u001b[0m \u001b[38;5;28;01mfrom\u001b[39;00m \u001b[38;5;21;01mragstack_knowledge_store\u001b[39;00m\u001b[38;5;21;01m.\u001b[39;00m\u001b[38;5;21;01mgraph_store\u001b[39;00m \u001b[38;5;28;01mimport\u001b[39;00m CONTENT_ID\n\u001b[1;32m      6\u001b[0m \u001b[38;5;28;01mfrom\u001b[39;00m \u001b[38;5;21;01mmarkdownify\u001b[39;00m \u001b[38;5;28;01mimport\u001b[39;00m MarkdownConverter\n\u001b[0;32m----> 7\u001b[0m \u001b[38;5;28;01mfrom\u001b[39;00m \u001b[38;5;21;01mragstack_knowledge_store\u001b[39;00m\u001b[38;5;21;01m.\u001b[39;00m\u001b[38;5;21;01mlangchain\u001b[39;00m\u001b[38;5;21;01m.\u001b[39;00m\u001b[38;5;21;01mextractors\u001b[39;00m \u001b[38;5;28;01mimport\u001b[39;00m HtmlLinkEdgeExtractor\n\u001b[1;32m      9\u001b[0m markdown_converter \u001b[38;5;241m=\u001b[39m MarkdownConverter(heading_style\u001b[38;5;241m=\u001b[39m\u001b[38;5;124m\"\u001b[39m\u001b[38;5;124mATX\u001b[39m\u001b[38;5;124m\"\u001b[39m)\n\u001b[1;32m     10\u001b[0m html_link_extractor \u001b[38;5;241m=\u001b[39m HtmlLinkEdgeExtractor()\n",
      "\u001b[0;31mImportError\u001b[0m: cannot import name 'HtmlLinkEdgeExtractor' from 'ragstack_knowledge_store.langchain.extractors' (unknown location)"
     ]
    }
   ],
   "source": [
    "from langchain_community.document_loaders import AsyncHtmlLoader\n",
    "from bs4 import BeautifulSoup\n",
    "from langchain_core.documents import Document\n",
    "from typing import AsyncIterator, Iterable\n",
    "from ragstack_knowledge_store.graph_store import CONTENT_ID\n",
    "from markdownify import MarkdownConverter\n",
    "from ragstack_graph_store.extractors import HtmlLinkEdgeExtractor\n",
    "\n",
    "markdown_converter = MarkdownConverter(heading_style=\"ATX\")\n",
    "html_link_extractor = HtmlLinkEdgeExtractor()\n",
    "\n",
    "def select_content(soup: BeautifulSoup, url: str) -> BeautifulSoup:\n",
    "    if url.startswith(\"https://docs.datastax.com/en/\"):\n",
    "        return soup.select_one(\"article.doc\")\n",
    "    elif url.startswith(\"https://github.com\"):\n",
    "        return soup.select_one(\"article.entry-content\")\n",
    "    else:\n",
    "        return soup\n",
    "\n",
    "async def load_pages(urls: Iterable[str]) -> AsyncIterator[Document]:\n",
    "    loader = AsyncHtmlLoader(\n",
    "        urls,\n",
    "        requests_per_second=4,\n",
    "        # Astra docs require a user agent\n",
    "        header_template = {\n",
    "            \"User-Agent\": \"Mozilla/5.0 (X11; Linux x86_64; rv:58.0) Gecko/20100101 Firefox/58.0\"\n",
    "        }\n",
    "    )\n",
    "    async for html in loader.alazy_load():\n",
    "        url = html.metadata[\"source\"]\n",
    "\n",
    "        # Use the URL as the content ID.\n",
    "        html.metadata[CONTENT_ID] = url\n",
    "\n",
    "        # Apply the selectors while loading. This reduces the size of\n",
    "        # the document as early as possible for reduced memory usage.\n",
    "        soup = BeautifulSoup(html.page_content, \"html.parser\")\n",
    "        content = select_content(soup, url)\n",
    "\n",
    "        # Extract HTML links from the content.\n",
    "        html_link_extractor.extract_one(html, content)\n",
    "\n",
    "        # Convert the content to markdown\n",
    "        html.page_content = markdown_converter.convert_soup(content)\n",
    "\n",
    "        yield html"
   ]
  },
  {
   "cell_type": "markdown",
   "metadata": {},
   "source": [
    "## Initialize Environment\n",
    "Before we initialize the Graph Store and write the documents we need to set some environment variables.\n",
    "In colab, this will prompt you for input. When running locally, this will load from `.env`."
   ]
  },
  {
   "cell_type": "code",
   "execution_count": null,
   "metadata": {},
   "outputs": [],
   "source": [
    "import os\n",
    "\n",
    "if os.getenv(\"COLAB_RELEASE_TAG\"):\n",
    "    # (Option 1) - Set the environment variables from getpass.\n",
    "    print(\"In colab. Using getpass/input for environment variables.\")\n",
    "    import getpass\n",
    "    import os\n",
    "\n",
    "    os.environ[\"OPENAI_API_KEY\"] = getpass.getpass(\"Enter OpenAI API Key: \")\n",
    "    os.environ[\"ASTRA_DB_DATABASE_ID\"] = input(\"Enter Astra DB Database ID: \")\n",
    "    os.environ[\"ASTRA_DB_APPLICATION_TOKEN\"] = getpass.getpass(\"Enter Astra DB Application Token: \")\n",
    "\n",
    "    keyspace = input(\"Enter Astra DB Keyspace (Empty for default): \")\n",
    "    if keyspace:\n",
    "        os.environ[\"ASTRA_DB_KEYSPACE\"] = keyspace\n",
    "    else:\n",
    "        os.environ.pop(\"ASTRA_DB_KEYSPACE\", None)\n",
    "else:\n",
    "    print(\"Not in colab. Loading '.env' (see 'env.template' for example)\")\n",
    "    import dotenv\n",
    "    dotenv.load_dotenv()"
   ]
  },
  {
   "cell_type": "markdown",
   "metadata": {},
   "source": [
    "## Initialize Cassio and Graph Store\n",
    "With the environment variables set we initialize the Cassio library for talking to Cassandra / Astra DB.\n",
    "We also create the `GraphStore`."
   ]
  },
  {
   "cell_type": "code",
   "execution_count": null,
   "metadata": {},
   "outputs": [],
   "source": [
    "SITE_PREFIX=\"astra_docs\""
   ]
  },
  {
   "cell_type": "code",
   "execution_count": null,
   "metadata": {},
   "outputs": [],
   "source": [
    "answer = input(\"Drop Tables? [(Y)es/(N)o]\")\n",
    "if answer.lower() in [\"y\",\"yes\"]:\n",
    "    import cassio\n",
    "    cassio.init(auto=True)\n",
    "    from cassio.config import check_resolve_session, check_resolve_keyspace\n",
    "    session = check_resolve_session()\n",
    "    keyspace = check_resolve_keyspace()\n",
    "    session.execute(f\"DROP TABLE IF EXISTS {keyspace}.{SITE_PREFIX}_nodes\")\n",
    "    session.execute(f\"DROP TABLE IF EXISTS {keyspace}.{SITE_PREFIX}_targets\")\n",
    "else:\n",
    "    # Handle no / \"wrong\" input\n",
    "    pass"
   ]
  },
  {
   "cell_type": "code",
   "execution_count": null,
   "metadata": {},
   "outputs": [],
   "source": [
    "import cassio\n",
    "from langchain_openai import OpenAIEmbeddings\n",
    "from ragstack_langchain.graph_store import CassandraGraphStore\n",
    "\n",
    "cassio.init(auto=True)\n",
    "embeddings = OpenAIEmbeddings()\n",
    "graph_store = CassandraGraphStore(\n",
    "    embeddings,\n",
    "    node_table=f\"{SITE_PREFIX}_nodes\",\n",
    "    targets_table=f\"{SITE_PREFIX}_targets\")"
   ]
  },
  {
   "cell_type": "markdown",
   "metadata": {},
   "source": [
    "## Load the Documents\n",
    "Finally, we fetch pages and write them to the graph store in batches of 50."
   ]
  },
  {
   "cell_type": "code",
   "execution_count": null,
   "metadata": {},
   "outputs": [],
   "source": [
    "not_found = 0\n",
    "found = 0\n",
    "\n",
    "docs = []\n",
    "async for doc in load_pages(URLS):\n",
    "    if doc.page_content.startswith(\"\\n# Page Not Found\"):\n",
    "        not_found += 1\n",
    "        continue\n",
    "\n",
    "    docs.append(doc)\n",
    "    found += 1\n",
    "\n",
    "    if len(docs) >= 50:\n",
    "        graph_store.add_documents(docs)\n",
    "        docs.clear()\n",
    "\n",
    "if docs:\n",
    "    graph_store.add_documents(docs)\n",
    "print(f\"{not_found} (of {not_found + found}) URLs were not found\")"
   ]
  },
  {
   "cell_type": "markdown",
   "metadata": {},
   "source": [
    "# Create and execute the RAG Chains"
   ]
  },
  {
   "cell_type": "code",
   "execution_count": null,
   "metadata": {},
   "outputs": [],
   "source": [
    "from langchain_openai import ChatOpenAI\n",
    "from langchain_core.prompts import ChatPromptTemplate\n",
    "from langchain_core.runnables import RunnablePassthrough\n",
    "from langchain_core.output_parsers import StrOutputParser\n",
    "\n",
    "llm = ChatOpenAI(model=\"gpt-4o\")\n",
    "\n",
    "template = \"\"\"You are a helpful technical support bot. You should provide complete answers explaining the options the user has available to address their problem. Answer the question based only on the following context:\n",
    "{context}\n",
    "\n",
    "Question: {question}\n",
    "\"\"\"\n",
    "prompt = ChatPromptTemplate.from_template(template)\n",
    "\n",
    "def format_docs(docs):\n",
    "    formatted = \"\\n\\n\".join(f\"From {doc.metadata['content_id']}: {doc.page_content}\" for doc in docs)\n",
    "    return formatted"
   ]
  },
  {
   "cell_type": "markdown",
   "metadata": {},
   "source": [
    "We'll use the following question. This is an interesting question because the ideal answer should be concise and in-depth, based on how the vector indexing is actually implemented."
   ]
  },
  {
   "cell_type": "code",
   "execution_count": null,
   "metadata": {},
   "outputs": [],
   "source": [
    "QUESTION=\"What vector indexing algorithms does Astra use?\""
   ]
  },
  {
   "cell_type": "code",
   "execution_count": null,
   "metadata": {},
   "outputs": [],
   "source": [
    "from IPython.display import display, Markdown\n",
    "\n",
    "# Helper method to render markdown in responses to a chain.\n",
    "def run_and_render(chain, question):\n",
    "    result = chain.invoke(question)\n",
    "    display(Markdown(result))"
   ]
  },
  {
   "cell_type": "markdown",
   "metadata": {},
   "source": [
    "## Vector-Only Retrieval"
   ]
  },
  {
   "cell_type": "code",
   "execution_count": null,
   "metadata": {},
   "outputs": [],
   "source": [
    "# Depth 0 doesn't traverses edges and is equivalent to vector similarity only.\n",
    "vector_retriever = graph_store.as_retriever(search_kwargs={\"depth\": 0})\n",
    "\n",
    "vector_rag_chain = (\n",
    "    {\"context\": vector_retriever | format_docs, \"question\": RunnablePassthrough()}\n",
    "    | prompt\n",
    "    | llm\n",
    "    | StrOutputParser()\n",
    ")"
   ]
  },
  {
   "cell_type": "code",
   "execution_count": null,
   "metadata": {},
   "outputs": [],
   "source": [
    "run_and_render(vector_rag_chain, QUESTION)"
   ]
  },
  {
   "cell_type": "markdown",
   "metadata": {},
   "source": [
    "## Graph Traversal Retrieval"
   ]
  },
  {
   "cell_type": "code",
   "execution_count": null,
   "metadata": {},
   "outputs": [],
   "source": [
    "# Depth 1 does vector similarity and then traverses 1 level of edges.\n",
    "graph_retriever = graph_store.as_retriever(search_kwargs={\"depth\": 1})\n",
    "\n",
    "graph_rag_chain = (\n",
    "    {\"context\": graph_retriever | format_docs, \"question\": RunnablePassthrough()}\n",
    "    | prompt\n",
    "    | llm\n",
    "    | StrOutputParser()\n",
    ")"
   ]
  },
  {
   "cell_type": "code",
   "execution_count": null,
   "metadata": {},
   "outputs": [],
   "source": [
    "run_and_render(graph_rag_chain, QUESTION)"
   ]
  },
  {
   "cell_type": "markdown",
   "metadata": {},
   "source": [
    "## MMR Graph Traversal"
   ]
  },
  {
   "cell_type": "code",
   "execution_count": null,
   "metadata": {},
   "outputs": [],
   "source": [
    "mmr_graph_retriever = graph_store.as_retriever(\n",
    "    search_type = \"mmr_traversal\",\n",
    "    search_kwargs = {\n",
    "        \"k\": 4,\n",
    "        \"fetch_k\": 10,\n",
    "        \"depth\": 2,\n",
    "        # \"score_threshold\": 0.2,\n",
    "    },\n",
    ")\n",
    "\n",
    "mmr_graph_rag_chain = (\n",
    "    {\"context\": mmr_graph_retriever | format_docs, \"question\": RunnablePassthrough()}\n",
    "    | prompt\n",
    "    | llm\n",
    "    | StrOutputParser()\n",
    ")"
   ]
  },
  {
   "cell_type": "code",
   "execution_count": null,
   "metadata": {},
   "outputs": [],
   "source": [
    "run_and_render(mmr_graph_rag_chain, QUESTION)"
   ]
  },
  {
   "cell_type": "markdown",
   "metadata": {},
   "source": [
    "## Check Retrieval Results"
   ]
  },
  {
   "cell_type": "code",
   "execution_count": null,
   "metadata": {},
   "outputs": [],
   "source": [
    "# Set the question and see what documents each technique retrieves.\n",
    "for i, doc in enumerate(vector_retriever.invoke(QUESTION)):\n",
    "  print(f\"Vector [{i}]:    {doc.metadata['content_id']}\")\n",
    "\n",
    "for i, doc in enumerate(graph_retriever.invoke(QUESTION)):\n",
    "  print(f\"Graph [{i}]:     {doc.metadata['content_id']}\")\n",
    "\n",
    "for i, doc in enumerate(mmr_graph_retriever.invoke(QUESTION)):\n",
    "  print(f\"MMR Graph [{i}]: {doc.metadata['content_id']}\")"
   ]
  },
  {
   "cell_type": "markdown",
   "metadata": {},
   "source": [
    "# Conclusion\n",
    "With vector only we retrieved chunks from the Astra documentation explaining that it used JVector.\n",
    "Since it didn't follow the link to [JVector on GitHub](https://github.com/jbellis/jvector) it didn't actually answer the question.\n",
    "\n",
    "The graph retrieval started with the same set of chunks, but it followed the edge to the documents we loaded from GitHub.\n",
    "This allowed the LLM to read in more depth how JVector is implemented, which allowed it to answer the question more clearly and with more detail."
   ]
  }
 ],
 "metadata": {
  "kernelspec": {
   "display_name": "agent-framework-aiP65pJh-py3.11",
   "language": "python",
   "name": "python3"
  },
  "language_info": {
   "codemirror_mode": {
    "name": "ipython",
    "version": 3
   },
   "file_extension": ".py",
   "mimetype": "text/x-python",
   "name": "python",
   "nbconvert_exporter": "python",
   "pygments_lexer": "ipython3",
   "version": "3.11.4"
  }
 },
 "nbformat": 4,
 "nbformat_minor": 2
}
