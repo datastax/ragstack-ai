{
 "cells": [
  {
   "cell_type": "markdown",
   "metadata": {},
   "source": [
    "# Introduction / Setup\n",
    "\n",
    "This notebook shows how to use LangChain's [`LLMGraphTransformer`](https://python.langchain.com/docs/use_cases/graph/constructing/#llm-graph-transformer) to extract knowledge triples and store them in [DataStax AstraDB](https://www.datastax.com/products/datastax-astra)."
   ]
  },
  {
   "cell_type": "code",
   "execution_count": null,
   "metadata": {},
   "outputs": [],
   "source": [
    "# (Optional) When developing locally, this reloads the module code\n",
    "# when changes are made, making it easier to iterate.\n",
    "%load_ext autoreload\n",
    "%autoreload 2"
   ]
  },
  {
   "cell_type": "code",
   "execution_count": null,
   "metadata": {},
   "outputs": [],
   "source": [
    "# (Required in Colab) Install the knowledge graph library from the repository.\n",
    "# This will also install the dependencies.\n",
    "%pip install ragstack-ai-knowledge-graph"
   ]
  },
  {
   "cell_type": "markdown",
   "metadata": {},
   "source": [
    "## Environment\n",
    "Pick one of the following.\n",
    "1. If you're just running the notebook, it's probably best to run the cell using `getpass` to set the necessary\n",
    "   environment variables.\n",
    "1. If you're developing, it's likely easiest to create a `.env` file and store the necessary credentials."
   ]
  },
  {
   "cell_type": "code",
   "execution_count": null,
   "metadata": {},
   "outputs": [],
   "source": [
    "# (Option 1) - Set the environment variables from getpass.\n",
    "import getpass\n",
    "import os\n",
    "\n",
    "os.environ[\"OPENAI_API_KEY\"] = getpass.getpass(\"Enter OpenAI API Key: \")\n",
    "os.environ[\"ASTRA_DB_DATABASE_ID\"] = input(\"Enter Astra DB Database ID: \")\n",
    "os.environ[\"ASTRA_DB_APPLICATION_TOKEN\"] = getpass.getpass(\n",
    "    \"Enter Astra DB Application Token: \"\n",
    ")\n",
    "\n",
    "keyspace = input(\"Enter Astra DB Keyspace (Empty for default): \")\n",
    "if keyspace:\n",
    "    os.environ[\"ASTRA_DB_KEYSPACE\"] = keyspace\n",
    "else:\n",
    "    os.environ.pop(\"ASTRA_DB_KEYSPACE\", None)"
   ]
  },
  {
   "cell_type": "code",
   "execution_count": 1,
   "metadata": {},
   "outputs": [
    {
     "name": "stdout",
     "output_type": "stream",
     "text": [
      "Requirement already satisfied: python-dotenv in /Users/benjamin.chambers/Library/Caches/pypoetry/virtualenvs/knowledge-graph-bxUBmW8M-py3.11/lib/python3.11/site-packages (1.0.1)\n",
      "\n",
      "\u001b[1m[\u001b[0m\u001b[34;49mnotice\u001b[0m\u001b[1;39;49m]\u001b[0m\u001b[39;49m A new release of pip is available: \u001b[0m\u001b[31;49m23.3.1\u001b[0m\u001b[39;49m -> \u001b[0m\u001b[32;49m24.0\u001b[0m\n",
      "\u001b[1m[\u001b[0m\u001b[34;49mnotice\u001b[0m\u001b[1;39;49m]\u001b[0m\u001b[39;49m To update, run: \u001b[0m\u001b[32;49mpip install --upgrade pip\u001b[0m\n",
      "Note: you may need to restart the kernel to use updated packages.\n"
     ]
    },
    {
     "data": {
      "text/plain": [
       "True"
      ]
     },
     "execution_count": 1,
     "metadata": {},
     "output_type": "execute_result"
    }
   ],
   "source": [
    "# (Option 2) - Load the `.env` file.\n",
    "# See `env.template` for an example of what you should have there.\n",
    "%pip install python-dotenv\n",
    "import dotenv\n",
    "\n",
    "dotenv.load_dotenv()"
   ]
  },
  {
   "cell_type": "markdown",
   "metadata": {},
   "source": [
    "## Initialize Astra DB / Cassandra"
   ]
  },
  {
   "cell_type": "code",
   "execution_count": 2,
   "metadata": {},
   "outputs": [],
   "source": [
    "# Initialize cassandra connection from environment variables).\n",
    "import cassio\n",
    "\n",
    "cassio.init(auto=True)"
   ]
  },
  {
   "cell_type": "markdown",
   "metadata": {},
   "source": [
    "## Create Graph Store"
   ]
  },
  {
   "cell_type": "code",
   "execution_count": 3,
   "metadata": {},
   "outputs": [],
   "source": [
    "# Create graph store.\n",
    "from ragstack_knowledge_graph.cassandra_graph_store import CassandraGraphStore\n",
    "\n",
    "graph_store = CassandraGraphStore()"
   ]
  },
  {
   "cell_type": "markdown",
   "metadata": {},
   "source": [
    "# Extracting Knowledge Graph"
   ]
  },
  {
   "cell_type": "code",
   "execution_count": 4,
   "metadata": {},
   "outputs": [],
   "source": [
    "from langchain_experimental.graph_transformers import LLMGraphTransformer\n",
    "from langchain_openai import ChatOpenAI\n",
    "\n",
    "# Prompt used by LLMGraphTransformer is tuned for Gpt4.\n",
    "llm = ChatOpenAI(temperature=0, model_name=\"gpt-4\")\n",
    "\n",
    "llm_transformer = LLMGraphTransformer(llm=llm)"
   ]
  },
  {
   "cell_type": "code",
   "execution_count": 5,
   "metadata": {},
   "outputs": [
    {
     "name": "stdout",
     "output_type": "stream",
     "text": [
      "Nodes:[Node(id='Marie Curie', type='Person'), Node(id='Pierre Curie', type='Person'), Node(id='Nobel Prize', type='Award'), Node(id='University Of Paris', type='Organization'), Node(id='Polish', type='Nationality'), Node(id='French', type='Nationality'), Node(id='Physicist', type='Profession'), Node(id='Chemist', type='Profession'), Node(id='Radioactivity', type='Scientific field'), Node(id='Professor', type='Profession')]\n",
      "Relationships:[Relationship(source=Node(id='Marie Curie', type='Person'), target=Node(id='Polish', type='Nationality'), type='HAS_NATIONALITY'), Relationship(source=Node(id='Marie Curie', type='Person'), target=Node(id='French', type='Nationality'), type='HAS_NATIONALITY'), Relationship(source=Node(id='Marie Curie', type='Person'), target=Node(id='Physicist', type='Profession'), type='HAS_PROFESSION'), Relationship(source=Node(id='Marie Curie', type='Person'), target=Node(id='Chemist', type='Profession'), type='HAS_PROFESSION'), Relationship(source=Node(id='Marie Curie', type='Person'), target=Node(id='Radioactivity', type='Scientific field'), type='RESEARCHED_IN'), Relationship(source=Node(id='Marie Curie', type='Person'), target=Node(id='Nobel Prize', type='Award'), type='WON'), Relationship(source=Node(id='Pierre Curie', type='Person'), target=Node(id='Nobel Prize', type='Award'), type='WON'), Relationship(source=Node(id='Marie Curie', type='Person'), target=Node(id='University Of Paris', type='Organization'), type='WORKED_AT'), Relationship(source=Node(id='Marie Curie', type='Person'), target=Node(id='Professor', type='Profession'), type='HAS_PROFESSION')]\n"
     ]
    }
   ],
   "source": [
    "from langchain_core.documents import Document\n",
    "\n",
    "text = \"\"\"\n",
    "Marie Curie, was a Polish and naturalised-French physicist and chemist who conducted pioneering research on radioactivity.\n",
    "She was the first woman to win a Nobel Prize, the first person to win a Nobel Prize twice, and the only person to win a Nobel Prize in two scientific fields.\n",
    "Her husband, Pierre Curie, was a co-winner of her first Nobel Prize, making them the first-ever married couple to win the Nobel Prize and launching the Curie family legacy of five Nobel Prizes.\n",
    "She was, in 1906, the first woman to become a professor at the University of Paris.\n",
    "\"\"\"  # noqa: E501\n",
    "documents = [Document(page_content=text)]\n",
    "graph_documents = llm_transformer.convert_to_graph_documents(documents)\n",
    "print(f\"Nodes:{graph_documents[0].nodes}\")\n",
    "print(f\"Relationships:{graph_documents[0].relationships}\")"
   ]
  },
  {
   "cell_type": "code",
   "execution_count": 6,
   "metadata": {},
   "outputs": [
    {
     "data": {
      "image/svg+xml": [
       "<?xml version=\"1.0\" encoding=\"UTF-8\" standalone=\"no\"?>\n",
       "<!DOCTYPE svg PUBLIC \"-//W3C//DTD SVG 1.1//EN\"\n",
       " \"http://www.w3.org/Graphics/SVG/1.1/DTD/svg11.dtd\">\n",
       "<!-- Generated by graphviz version 10.0.1 (20240210.2158)\n",
       " -->\n",
       "<!-- Pages: 1 -->\n",
       "<svg width=\"1732pt\" height=\"133pt\"\n",
       " viewBox=\"0.00 0.00 1731.63 132.50\" xmlns=\"http://www.w3.org/2000/svg\" xmlns:xlink=\"http://www.w3.org/1999/xlink\">\n",
       "<g id=\"graph0\" class=\"graph\" transform=\"scale(1 1) rotate(0) translate(4 128.5)\">\n",
       "<polygon fill=\"white\" stroke=\"none\" points=\"-4,4 -4,-128.5 1727.63,-128.5 1727.63,4 -4,4\"/>\n",
       "<!-- Marie Curie [Person] -->\n",
       "<g id=\"node1\" class=\"node\">\n",
       "<title>Marie Curie [Person]</title>\n",
       "<ellipse fill=\"none\" stroke=\"black\" cx=\"866.89\" cy=\"-106.5\" rx=\"90.25\" ry=\"18\"/>\n",
       "<text text-anchor=\"middle\" x=\"866.89\" y=\"-101.45\" font-family=\"Times,serif\" font-size=\"14.00\">Marie Curie [Person]</text>\n",
       "</g>\n",
       "<!-- Nobel Prize [Award] -->\n",
       "<g id=\"node3\" class=\"node\">\n",
       "<title>Nobel Prize [Award]</title>\n",
       "<ellipse fill=\"none\" stroke=\"black\" cx=\"1633.89\" cy=\"-18\" rx=\"88.71\" ry=\"18\"/>\n",
       "<text text-anchor=\"middle\" x=\"1633.89\" y=\"-12.95\" font-family=\"Times,serif\" font-size=\"14.00\">Nobel Prize [Award]</text>\n",
       "</g>\n",
       "<!-- Marie Curie [Person]&#45;&gt;Nobel Prize [Award] -->\n",
       "<g id=\"edge6\" class=\"edge\">\n",
       "<title>Marie Curie [Person]&#45;&gt;Nobel Prize [Award]</title>\n",
       "<path fill=\"none\" stroke=\"black\" d=\"M956.82,-104.8C1067.54,-102.8 1261.07,-95.62 1424.89,-70.5 1476.16,-62.64 1533.26,-48.17 1574.81,-36.56\"/>\n",
       "<polygon fill=\"black\" stroke=\"black\" points=\"1575.7,-39.95 1584.37,-33.86 1573.79,-33.21 1575.7,-39.95\"/>\n",
       "<text text-anchor=\"middle\" x=\"1522.39\" y=\"-57.2\" font-family=\"Times,serif\" font-size=\"14.00\">WON</text>\n",
       "</g>\n",
       "<!-- University Of Paris [Organization] -->\n",
       "<g id=\"node4\" class=\"node\">\n",
       "<title>University Of Paris [Organization]</title>\n",
       "<ellipse fill=\"none\" stroke=\"black\" cx=\"139.89\" cy=\"-18\" rx=\"139.89\" ry=\"18\"/>\n",
       "<text text-anchor=\"middle\" x=\"139.89\" y=\"-12.95\" font-family=\"Times,serif\" font-size=\"14.00\">University Of Paris [Organization]</text>\n",
       "</g>\n",
       "<!-- Marie Curie [Person]&#45;&gt;University Of Paris [Organization] -->\n",
       "<g id=\"edge8\" class=\"edge\">\n",
       "<title>Marie Curie [Person]&#45;&gt;University Of Paris [Organization]</title>\n",
       "<path fill=\"none\" stroke=\"black\" d=\"M778,-103.06C679.1,-99.44 514.77,-90.74 374.64,-70.5 319.14,-62.48 257.2,-48.68 210.89,-37.39\"/>\n",
       "<polygon fill=\"black\" stroke=\"black\" points=\"211.78,-34 201.23,-35.01 210.11,-40.8 211.78,-34\"/>\n",
       "<text text-anchor=\"middle\" x=\"416.52\" y=\"-57.2\" font-family=\"Times,serif\" font-size=\"14.00\">WORKED_AT</text>\n",
       "</g>\n",
       "<!-- Polish [Nationality] -->\n",
       "<g id=\"node5\" class=\"node\">\n",
       "<title>Polish [Nationality]</title>\n",
       "<ellipse fill=\"none\" stroke=\"black\" cx=\"381.89\" cy=\"-18\" rx=\"84.11\" ry=\"18\"/>\n",
       "<text text-anchor=\"middle\" x=\"381.89\" y=\"-12.95\" font-family=\"Times,serif\" font-size=\"14.00\">Polish [Nationality]</text>\n",
       "</g>\n",
       "<!-- Marie Curie [Person]&#45;&gt;Polish [Nationality] -->\n",
       "<g id=\"edge1\" class=\"edge\">\n",
       "<title>Marie Curie [Person]&#45;&gt;Polish [Nationality]</title>\n",
       "<path fill=\"none\" stroke=\"black\" d=\"M777.62,-103.52C705.24,-100.28 601.06,-91.93 512.39,-70.5 482.36,-63.24 450.04,-50.53 425.08,-39.55\"/>\n",
       "<polygon fill=\"black\" stroke=\"black\" points=\"426.8,-36.48 416.24,-35.59 423.94,-42.87 426.8,-36.48\"/>\n",
       "<text text-anchor=\"middle\" x=\"575.14\" y=\"-57.2\" font-family=\"Times,serif\" font-size=\"14.00\">HAS_NATIONALITY</text>\n",
       "</g>\n",
       "<!-- French [Nationality] -->\n",
       "<g id=\"node6\" class=\"node\">\n",
       "<title>French [Nationality]</title>\n",
       "<ellipse fill=\"none\" stroke=\"black\" cx=\"570.89\" cy=\"-18\" rx=\"86.67\" ry=\"18\"/>\n",
       "<text text-anchor=\"middle\" x=\"570.89\" y=\"-12.95\" font-family=\"Times,serif\" font-size=\"14.00\">French [Nationality]</text>\n",
       "</g>\n",
       "<!-- Marie Curie [Person]&#45;&gt;French [Nationality] -->\n",
       "<g id=\"edge2\" class=\"edge\">\n",
       "<title>Marie Curie [Person]&#45;&gt;French [Nationality]</title>\n",
       "<path fill=\"none\" stroke=\"black\" d=\"M792.75,-96.02C758.1,-90.47 716.6,-82.2 680.39,-70.5 656.39,-62.74 630.82,-50.93 610.42,-40.58\"/>\n",
       "<polygon fill=\"black\" stroke=\"black\" points=\"612.1,-37.51 601.61,-36.02 608.89,-43.72 612.1,-37.51\"/>\n",
       "<text text-anchor=\"middle\" x=\"743.14\" y=\"-57.2\" font-family=\"Times,serif\" font-size=\"14.00\">HAS_NATIONALITY</text>\n",
       "</g>\n",
       "<!-- Physicist [Profession] -->\n",
       "<g id=\"node7\" class=\"node\">\n",
       "<title>Physicist [Profession]</title>\n",
       "<ellipse fill=\"none\" stroke=\"black\" cx=\"766.89\" cy=\"-18\" rx=\"91.78\" ry=\"18\"/>\n",
       "<text text-anchor=\"middle\" x=\"766.89\" y=\"-12.95\" font-family=\"Times,serif\" font-size=\"14.00\">Physicist [Profession]</text>\n",
       "</g>\n",
       "<!-- Marie Curie [Person]&#45;&gt;Physicist [Profession] -->\n",
       "<g id=\"edge3\" class=\"edge\">\n",
       "<title>Marie Curie [Person]&#45;&gt;Physicist [Profession]</title>\n",
       "<path fill=\"none\" stroke=\"black\" d=\"M847.61,-88.82C832.63,-75.86 811.64,-57.7 794.82,-43.16\"/>\n",
       "<polygon fill=\"black\" stroke=\"black\" points=\"797.45,-40.81 787.6,-36.91 792.88,-46.1 797.45,-40.81\"/>\n",
       "<text text-anchor=\"middle\" x=\"883.27\" y=\"-57.2\" font-family=\"Times,serif\" font-size=\"14.00\">HAS_PROFESSION</text>\n",
       "</g>\n",
       "<!-- Chemist [Profession] -->\n",
       "<g id=\"node8\" class=\"node\">\n",
       "<title>Chemist [Profession]</title>\n",
       "<ellipse fill=\"none\" stroke=\"black\" cx=\"966.89\" cy=\"-18\" rx=\"89.74\" ry=\"18\"/>\n",
       "<text text-anchor=\"middle\" x=\"966.89\" y=\"-12.95\" font-family=\"Times,serif\" font-size=\"14.00\">Chemist [Profession]</text>\n",
       "</g>\n",
       "<!-- Marie Curie [Person]&#45;&gt;Chemist [Profession] -->\n",
       "<g id=\"edge4\" class=\"edge\">\n",
       "<title>Marie Curie [Person]&#45;&gt;Chemist [Profession]</title>\n",
       "<path fill=\"none\" stroke=\"black\" d=\"M914.6,-90.82C925.57,-85.73 936.47,-79.08 944.89,-70.5 951.34,-63.94 956.02,-55.2 959.37,-46.78\"/>\n",
       "<polygon fill=\"black\" stroke=\"black\" points=\"962.6,-48.15 962.54,-37.55 955.98,-45.87 962.6,-48.15\"/>\n",
       "<text text-anchor=\"middle\" x=\"1014.27\" y=\"-57.2\" font-family=\"Times,serif\" font-size=\"14.00\">HAS_PROFESSION</text>\n",
       "</g>\n",
       "<!-- Radioactivity [Scientific field] -->\n",
       "<g id=\"node9\" class=\"node\">\n",
       "<title>Radioactivity [Scientific field]</title>\n",
       "<ellipse fill=\"none\" stroke=\"black\" cx=\"1198.89\" cy=\"-18\" rx=\"124.03\" ry=\"18\"/>\n",
       "<text text-anchor=\"middle\" x=\"1198.89\" y=\"-12.95\" font-family=\"Times,serif\" font-size=\"14.00\">Radioactivity [Scientific field]</text>\n",
       "</g>\n",
       "<!-- Marie Curie [Person]&#45;&gt;Radioactivity [Scientific field] -->\n",
       "<g id=\"edge5\" class=\"edge\">\n",
       "<title>Marie Curie [Person]&#45;&gt;Radioactivity [Scientific field]</title>\n",
       "<path fill=\"none\" stroke=\"black\" d=\"M944.28,-96.87C984.1,-91.35 1033.13,-82.85 1075.89,-70.5 1102.68,-62.76 1131.48,-50.91 1154.48,-40.52\"/>\n",
       "<polygon fill=\"black\" stroke=\"black\" points=\"1155.93,-43.71 1163.56,-36.35 1153.01,-37.34 1155.93,-43.71\"/>\n",
       "<text text-anchor=\"middle\" x=\"1175.64\" y=\"-57.2\" font-family=\"Times,serif\" font-size=\"14.00\">RESEARCHED_IN</text>\n",
       "</g>\n",
       "<!-- Professor [Profession] -->\n",
       "<g id=\"node10\" class=\"node\">\n",
       "<title>Professor [Profession]</title>\n",
       "<ellipse fill=\"none\" stroke=\"black\" cx=\"1433.89\" cy=\"-18\" rx=\"93.32\" ry=\"18\"/>\n",
       "<text text-anchor=\"middle\" x=\"1433.89\" y=\"-12.95\" font-family=\"Times,serif\" font-size=\"14.00\">Professor [Profession]</text>\n",
       "</g>\n",
       "<!-- Marie Curie [Person]&#45;&gt;Professor [Profession] -->\n",
       "<g id=\"edge9\" class=\"edge\">\n",
       "<title>Marie Curie [Person]&#45;&gt;Professor [Profession]</title>\n",
       "<path fill=\"none\" stroke=\"black\" d=\"M953.42,-101.09C1028.12,-96.37 1138.7,-87.19 1233.89,-70.5 1281.73,-62.11 1334.93,-48.18 1374.44,-36.93\"/>\n",
       "<polygon fill=\"black\" stroke=\"black\" points=\"1375.36,-40.3 1384,-34.17 1373.42,-33.58 1375.36,-40.3\"/>\n",
       "<text text-anchor=\"middle\" x=\"1363.27\" y=\"-57.2\" font-family=\"Times,serif\" font-size=\"14.00\">HAS_PROFESSION</text>\n",
       "</g>\n",
       "<!-- Pierre Curie [Person] -->\n",
       "<g id=\"node2\" class=\"node\">\n",
       "<title>Pierre Curie [Person]</title>\n",
       "<ellipse fill=\"none\" stroke=\"black\" cx=\"1633.89\" cy=\"-106.5\" rx=\"89.74\" ry=\"18\"/>\n",
       "<text text-anchor=\"middle\" x=\"1633.89\" y=\"-101.45\" font-family=\"Times,serif\" font-size=\"14.00\">Pierre Curie [Person]</text>\n",
       "</g>\n",
       "<!-- Pierre Curie [Person]&#45;&gt;Nobel Prize [Award] -->\n",
       "<g id=\"edge7\" class=\"edge\">\n",
       "<title>Pierre Curie [Person]&#45;&gt;Nobel Prize [Award]</title>\n",
       "<path fill=\"none\" stroke=\"black\" d=\"M1633.89,-88.41C1633.89,-76.76 1633.89,-61.05 1633.89,-47.52\"/>\n",
       "<polygon fill=\"black\" stroke=\"black\" points=\"1637.39,-47.86 1633.89,-37.86 1630.39,-47.86 1637.39,-47.86\"/>\n",
       "<text text-anchor=\"middle\" x=\"1650.39\" y=\"-57.2\" font-family=\"Times,serif\" font-size=\"14.00\">WON</text>\n",
       "</g>\n",
       "</g>\n",
       "</svg>\n"
      ],
      "text/plain": [
       "<graphviz.graphs.Digraph at 0x109c23290>"
      ]
     },
     "execution_count": 6,
     "metadata": {},
     "output_type": "execute_result"
    }
   ],
   "source": [
    "# Render the extracted graph to GraphViz.\n",
    "from ragstack_knowledge_graph.render import render_graph_documents\n",
    "\n",
    "render_graph_documents(graph_documents)"
   ]
  },
  {
   "cell_type": "code",
   "execution_count": 7,
   "metadata": {},
   "outputs": [],
   "source": [
    "# Save the extracted graph documents to the AstraDB / Cassandra Graph Store.\n",
    "graph_store.add_graph_documents(graph_documents)"
   ]
  },
  {
   "cell_type": "markdown",
   "metadata": {},
   "source": [
    "### Optional: Predefine entities / relationships\n",
    "\n",
    "The below shows how to configure the `LLMGraphTransformer` with specific kinds of nodes and relationships it is allowed to extract.\n",
    "This is useful for constraining what will be extracted.\n",
    "\n",
    "```python\n",
    "llm_transformer_filtered = LLMGraphTransformer(\n",
    "    llm=llm,\n",
    "    allowed_nodes=[\"Person\", \"Country\", \"Organization\"],\n",
    "    allowed_relationships=[\"NATIONALITY\", \"LOCATED_IN\", \"WORKED_AT\", \"SPOUSE\"],\n",
    ")\n",
    "graph_documents_filtered = llm_transformer_filtered.convert_to_graph_documents(\n",
    "    documents\n",
    ")\n",
    "print(f\"Nodes:{graph_documents_filtered[0].nodes}\")\n",
    "print(f\"Relationships:{graph_documents_filtered[0].relationships}\")\n",
    "```"
   ]
  },
  {
   "cell_type": "markdown",
   "metadata": {},
   "source": [
    "# Querying"
   ]
  },
  {
   "cell_type": "markdown",
   "metadata": {},
   "source": [
    "We can query the `GraphStore` directly. The `as_runnable` method takes some configuration for how to extract the subgraph and returns a LangChain `Runnable` which can be invoked on a node or sequence of nodes to traverse from those starting points."
   ]
  },
  {
   "cell_type": "code",
   "execution_count": 8,
   "metadata": {},
   "outputs": [
    {
     "data": {
      "text/plain": [
       "{Marie Curie(Person) -> Chemist(Profession): HAS_PROFESSION,\n",
       " Marie Curie(Person) -> French(Nationality): HAS_NATIONALITY,\n",
       " Marie Curie(Person) -> Nobel Prize(Award): WON,\n",
       " Marie Curie(Person) -> Physicist(Profession): HAS_PROFESSION,\n",
       " Marie Curie(Person) -> Pierre Curie(Person): MARRIED_TO,\n",
       " Marie Curie(Person) -> Polish(Nationality): HAS_NATIONALITY,\n",
       " Marie Curie(Person) -> Professor(Profession): HAS_PROFESSION,\n",
       " Marie Curie(Person) -> Radioactivity(Scientific concept): RESEARCHED,\n",
       " Marie Curie(Person) -> Radioactivity(Scientific field): RESEARCHED_IN,\n",
       " Marie Curie(Person) -> University Of Paris(Organization): WORKED_AT,\n",
       " Pierre Curie(Person) -> Nobel Prize(Award): WON}"
      ]
     },
     "execution_count": 8,
     "metadata": {},
     "output_type": "execute_result"
    }
   ],
   "source": [
    "from ragstack_knowledge_graph.traverse import Node\n",
    "\n",
    "graph_store.as_runnable(steps=2).invoke(Node(\"Marie Curie\", \"Person\"))"
   ]
  },
  {
   "cell_type": "markdown",
   "metadata": {},
   "source": [
    "For getting started, the library also provides a `Runnable` for extracting the starting entities from a question."
   ]
  },
  {
   "cell_type": "code",
   "execution_count": 9,
   "metadata": {},
   "outputs": [
    {
     "data": {
      "text/plain": [
       "[Marie Curie(Person)]"
      ]
     },
     "execution_count": 9,
     "metadata": {},
     "output_type": "execute_result"
    }
   ],
   "source": [
    "# Example showing extracted entities (nodes)\n",
    "from ragstack_knowledge_graph import extract_entities\n",
    "\n",
    "extract_entities(llm).invoke({\"question\": \"Who is Marie Curie?\"})"
   ]
  },
  {
   "cell_type": "markdown",
   "metadata": {},
   "source": [
    "## Query Chain\n",
    "\n",
    "We'll create a chain which does the following:\n",
    "\n",
    "1. Use the entity extraction `Runnable` from the library in order to determine the starting points.\n",
    "2. Retrieve the sub-knowledge graphs starting from those nodes.\n",
    "3. Create a context containing those knowledge triples.\n",
    "4. Apply the LLM to answer the question given the context. "
   ]
  },
  {
   "cell_type": "code",
   "execution_count": 10,
   "metadata": {},
   "outputs": [],
   "source": [
    "from operator import itemgetter\n",
    "\n",
    "from langchain_core.prompts import ChatPromptTemplate\n",
    "from langchain_core.runnables import RunnableLambda, RunnablePassthrough\n",
    "from langchain_openai import ChatOpenAI\n",
    "from ragstack_knowledge_graph import extract_entities\n",
    "\n",
    "llm = ChatOpenAI(model_name=\"gpt-4\")\n",
    "\n",
    "\n",
    "def _combine_relations(relations):\n",
    "    return \"\\n\".join(map(repr, relations))\n",
    "\n",
    "\n",
    "ANSWER_PROMPT = (\n",
    "    \"The original question is given below.\"\n",
    "    \"This question has been used to retrieve information from a knowledge graph.\"\n",
    "    \"The matching triples are shown below.\"\n",
    "    \"Use the information in the triples to answer the original question.\\n\\n\"\n",
    "    \"Original Question: {question}\\n\\n\"\n",
    "    \"Knowledge Graph Triples:\\n{context}\\n\\n\"\n",
    "    \"Response:\"\n",
    ")\n",
    "\n",
    "chain = (\n",
    "    {\"question\": RunnablePassthrough()}\n",
    "    | RunnablePassthrough.assign(entities=extract_entities(llm))\n",
    "    | RunnablePassthrough.assign(\n",
    "        triples=itemgetter(\"entities\") | graph_store.as_runnable()\n",
    "    )\n",
    "    | RunnablePassthrough.assign(\n",
    "        context=itemgetter(\"triples\") | RunnableLambda(_combine_relations)\n",
    "    )\n",
    "    | ChatPromptTemplate.from_messages([ANSWER_PROMPT])\n",
    "    | llm\n",
    ")"
   ]
  },
  {
   "cell_type": "markdown",
   "metadata": {},
   "source": [
    "## Example\n",
    "And finally, we can run the chain end to end to answer a question using the retrieved knowledge."
   ]
  },
  {
   "cell_type": "code",
   "execution_count": 12,
   "metadata": {},
   "outputs": [
    {
     "data": {
      "text/plain": [
       "AIMessage(content='Marie Curie is a Polish and French chemist, professor, and physicist who researched radioactivity and worked at the University of Paris. She was married to Pierre Curie and both of them have won the Nobel Prize.', response_metadata={'token_usage': {'completion_tokens': 45, 'prompt_tokens': 246, 'total_tokens': 291}, 'model_name': 'gpt-4', 'system_fingerprint': None, 'finish_reason': 'stop', 'logprobs': None}, id='run-85a75d94-705a-4c49-9bcf-f16ae77b1c7d-0')"
      ]
     },
     "execution_count": 12,
     "metadata": {},
     "output_type": "execute_result"
    }
   ],
   "source": [
    "chain.invoke(\"Who is Marie Curie?\")"
   ]
  }
 ],
 "metadata": {
  "kernelspec": {
   "display_name": "knowledge-graph-bxUBmW8M-py3.11",
   "language": "python",
   "name": "python3"
  },
  "language_info": {
   "codemirror_mode": {
    "name": "ipython",
    "version": 3
   },
   "file_extension": ".py",
   "mimetype": "text/x-python",
   "name": "python",
   "nbconvert_exporter": "python",
   "pygments_lexer": "ipython3",
   "version": "3.11.4"
  }
 },
 "nbformat": 4,
 "nbformat_minor": 2
}
